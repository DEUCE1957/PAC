{
 "cells": [
  {
   "cell_type": "markdown",
   "metadata": {},
   "source": [
    "# Intermediate\n",
    "## Processing numeric data in Python\n",
    "\n",
    "In the previous section we learned how to use standard Python data structures. They are powerful and allow you to do a great deal, but are not sufficient for high performance scientific computation. Let's consider a common scenario:\n",
    "\n",
    "You have taken performed an experiment multiple times and stored the results in an array (in this case a list of lists), each inner list representing a separate attempt. You want to take the average of each attempt, and perhaps the average of the entire array.. A simple implementation might be as below.\n"
   ]
  },
  {
   "cell_type": "code",
   "execution_count": null,
   "metadata": {},
   "outputs": [],
   "source": [
    "#The list representing experimental measurements.\n",
    "#4 runs were done, each with 5 data points.\n",
    "exp_data = [[5.63, 7.12, 5.0, 5.56, 6.11], [5.22, 6.51, 5.99, 4.73, 5.01]\n",
    "           ,[4.55, 6.4, 4.81, 2.67, 6.43], [5.22, 5.51, 4.78, 5.21, 1.6]]\n",
    "\n",
    "def average(exp_data):\n",
    "    #Initialize container structures\n",
    "    num_points = 0\n",
    "    averages = []\n",
    "    total_average = 0\n",
    "\n",
    "    #Find each run's average and compute the average of averages.\n",
    "    total_rolling_sum = 0\n",
    "    for run in exp_data:\n",
    "        run_rolling_sum = 0\n",
    "\n",
    "        for point in run:\n",
    "            num_points+=1\n",
    "            run_rolling_sum+=point\n",
    "\n",
    "        averages.append(run_rolling_sum/len(run))\n",
    "        total_rolling_sum += run_rolling_sum\n",
    "\n",
    "    total_average = total_rolling_sum/num_points\n",
    "    \n",
    "\n",
    "    print(\"The averages of each run: \", averages)\n",
    "    print(\"The total average: \",  total_average)\n",
    "    \n",
    "average(exp_data)"
   ]
  },
  {
   "cell_type": "markdown",
   "metadata": {},
   "source": [
    "This works fine for an array of 20 elements, but what if we were looping over 20 thousand elements? 200 thousand? The time to complete a full loop scales with the input data size Optimized inbuilt functions like statistics.mean will be faster but still fairly sluggish. Luckily for us there are external libraries to help. \n",
    "\n",
    "NumPy is the primary package used for numeric operations in Python. It provides a data class (np.array) and a large collection of accelerated operations on it. \n",
    "\n",
    "For reference, let's rewrite the above code using NumPy."
   ]
  },
  {
   "cell_type": "code",
   "execution_count": null,
   "metadata": {},
   "outputs": [],
   "source": [
    "import numpy as np\n",
    "\n",
    "print(\"The average of each attempt: \", np.mean(exp_data, axis=1))\n",
    "print(\"The total average :\", np.mean(exp_data))\n",
    "      "
   ]
  },
  {
   "cell_type": "markdown",
   "metadata": {},
   "source": [
    "If you were to time the two different solutions on a sufficiently large array you would find that NumPy performs around an order of magnitude better. \n",
    "\n",
    "The lesson to take away is **DO NOT USE FOR LOOPS** unless you absolutely must. "
   ]
  },
  {
   "cell_type": "markdown",
   "metadata": {},
   "source": [
    "Before you start completing the exercises below, take a note of these resources -- they are very useful!\n",
    "\n",
    "* [NumPy user guide](https://docs.scipy.org/doc/numpy/user/index.html#user)\n",
    "* [NumPy API reference](https://docs.scipy.org/doc/numpy/reference/)\n",
    "* [Introduction to Matplotlib](https://jakevdp.github.io/PythonDataScienceHandbook/04.00-introduction-to-matplotlib.html)\n",
    "* [Matplotlib command summary](https://matplotlib.org/api/pyplot_summary.html)"
   ]
  },
  {
   "cell_type": "markdown",
   "metadata": {},
   "source": [
    "## Manipulating NumPy arrays\n",
    "\n",
    "NumPy uses **NumPy arrays** as its base building block. All np.arrays are static, meaning their size cannot be changed after creation. Array dimensions are specified as int tuples (or a single int if you're creating a 1D vector). All numbers in the array must be **of the same type**.\n",
    "\n",
    "Arrays can be created in several ways: from a Python list (and nD arrays from nested lists), as a \"blank\" matrix of zeros or ones or random data, by copying existing arrays, loaded from disk or from certain special functions.\n",
    "\n",
    "**You can always make a copy of an array using np.array() on an existing array** (e.g. `x = np.array(y)` makes a new **copy** of y). `np.array()` will also convert any iterable object (lists, tuples) into an array if it can. Note that a few operations will *change arrays in place*, and most will *return new copies*.\n",
    "\n",
    "Some nomenclature to keep in mind:\n",
    "1D arrays are often called vectors.\n",
    "2D arrays are often called matrices.\n",
    "3 or higher dimensional arrays are often called tensors."
   ]
  },
  {
   "cell_type": "code",
   "execution_count": null,
   "metadata": {},
   "outputs": [],
   "source": [
    "#A couple examples for making arays.\n",
    "zero_array = np.zeros((6,7))\n",
    "exp_array = np.array(exp_data)\n",
    "\n",
    "#Check out out how an array looks\n",
    "print(zero_array)\n",
    "\n",
    "#You can check the size and data type of an array by its attributes.\n",
    "print(zero_array.shape, zero_array.dtype)"
   ]
  },
  {
   "cell_type": "markdown",
   "metadata": {},
   "source": [
    "# 1. Create some arrays\n",
    "\n",
    "Practice creating arrays. Use inbuilt NumPy functions to create the following:\n",
    "\n",
    "* A 4x4 matrix with every element being equal to pi.\n",
    "* A 1x2x5 tensor of all ones.\n",
    "* A 1D array with 10 elements, from 0-18 (inclusive), stepping by 2. \n",
    "* A 300 element long array filled with normally distributed random numbers.\n",
    "\n",
    "If you're not sure how to do it, check the documentation online. \n"
   ]
  },
  {
   "cell_type": "code",
   "execution_count": null,
   "metadata": {},
   "outputs": [],
   "source": [
    "#YOUR CODE HERE"
   ]
  },
  {
   "cell_type": "markdown",
   "metadata": {},
   "source": [
    "# 2. Indexing and slicing\n",
    "\n",
    "Scientists at the Zoology Department, The University of Adelaide have studied the best conditions to keep snails alive. They have recorded a dataset of observations of snail mortality under controlled conditions. This data set is in the file `data/snails.txt`.\n",
    "\n",
    "#### An excerpt from the data set description\n",
    ">Groups of 20 snails were held for periods of 1, 2, 3 or 4 weeks in carefully\n",
    "controlled conditions of temperature and relative humidity. There were two\n",
    "species of snail, 0 and 1. At the end of the exposure time the snails\n",
    "were tested to see if they had survived. \n",
    "\n",
    ">The data are unusual in that in most cases fatalities during the experiment\n",
    "were fairly small. [lucky snails!]\n",
    "\n",
    "### The task\n",
    "The data is a 2D array, and has six columns, with these definitions:\n",
    "\n",
    "     species(binary) exposure(weeks) humidity(%) temperature(deg. C) n_deaths n_snails\n",
    "    \n",
    "Each row represents one set of observations (i.e. one group of snails). You are to compute some basic properties of this data. Use NumPy operations to do the computations."
   ]
  },
  {
   "cell_type": "markdown",
   "metadata": {},
   "source": [
    "A. **Loading arrays** \n",
    "* Load this data as a NumPy array called `snails`. Note: use np,loadtxt to do this.\n",
    "* Print it out. Use this format to print out the results:\n",
    "    \n",
    "      print(\"snails\\n\", snails)"
   ]
  },
  {
   "cell_type": "code",
   "execution_count": null,
   "metadata": {},
   "outputs": [],
   "source": [
    "#YOUR CODE HERE"
   ]
  },
  {
   "cell_type": "markdown",
   "metadata": {},
   "source": [
    "B. **Indexing and slicing**\n",
    "\n",
    "A reminder: NumPy arrays support the same sort of slicing and indexing operations that Python lists do:\n",
    "\n",
    "* Use square brackets to indicate an index or a slice. \n",
    "* Indexing starts from 0 as elsewhere in Python.\n",
    "* Separate the indexes for different axes with commas. For example, array[\n",
    "\n",
    "Compute the following results using the above techniques, storing the results in the variable specified and printing them out. Use the same printing format as A.\n",
    "\n",
    "* `hum_last` the humidity in the last entry in the table.\n",
    "* `temp_last` the temperature in the first entry in the table. \n",
    "* `weeks` the whole column of \"weeks exposure\".\n",
    "* `row_third` the third row of observations. (remember 0 indexing)\n"
   ]
  },
  {
   "cell_type": "code",
   "execution_count": null,
   "metadata": {},
   "outputs": [],
   "source": [
    "#YOUR CODE HERE"
   ]
  },
  {
   "cell_type": "markdown",
   "metadata": {},
   "source": [
    "C. **Aggregate functions** \n",
    "Compute the following results, storing the results in the variable specified and printing them out:\n",
    "\n",
    "* `total_deaths` total number of snails that died\n",
    "* `total_still_alive` total number of snails that survived the whole study\n",
    "* `mean_temp` mean temperature in the whole study\n",
    "* `max_humidity` highest humidity in the study\n",
    "* `average_death_rate` mean of the ratio of snail deaths to snails in the study\n",
    "* `snail_weeks` the total amount of snail effort that went into this study (number of snails times number of weeks)\n",
    "\n",
    "Check the documentation for appropriate functions. Each computation should be **a single line of code**."
   ]
  },
  {
   "cell_type": "code",
   "execution_count": null,
   "metadata": {
    "scrolled": true
   },
   "outputs": [],
   "source": [
    "#YOUR CODE HERE"
   ]
  },
  {
   "cell_type": "markdown",
   "metadata": {},
   "source": [
    "D. **Boolean indexing**\n",
    "In addition to normal list-style indexing, NumPy arrays support boolean indexing. Instead of using numbers, you can index using logical expressions. For example, `vector[x>5]` will pick out all the vector elements higher than 5. For further info consult the documentation.\n",
    "\n",
    "Compute the following results, storing the results in the variable specified and printing them out:\n",
    "\n",
    "* `species_0` and `species_1`: split the dataset into two arrays, one with the entries for species 0 and one with the entries for species 1.\n",
    "\n",
    "* `weakest_snail` the snail species (0 or 1) that had the highest average death rate"
   ]
  },
  {
   "cell_type": "code",
   "execution_count": null,
   "metadata": {},
   "outputs": [],
   "source": [
    "#YOUR CODE HERE"
   ]
  },
  {
   "cell_type": "markdown",
   "metadata": {},
   "source": [
    "E. **Arithmetic and ordering**\n",
    "Compute the following results, storing the results in the variable specified and printing them out:\n",
    "\n",
    "* `deg_f` each temperature in the study, but in degrees Fahrenheit. Use the knowledge that `0C = 32F, 100C = 212F`\n",
    "* `mean_cols` the mean of all the columns, as a 1D vector\n",
    "* `death_rate` the death rates, in sorted order, smallest first\n",
    "* `exposure_death_order` the exposure durations (in weeks), but in sorted in the order of death rates, smallest death rate first.\n",
    "\n",
    "* `best_temp`, `best_hum` the best temperature and humidity to keep a snail for four weeks without it dying. *Look only at the four week exposures, ignoring snails kept for less than this time.* \n",
    "\n",
    "Hint: For exposure_death_order, look at np.argsort."
   ]
  },
  {
   "cell_type": "code",
   "execution_count": null,
   "metadata": {},
   "outputs": [],
   "source": [
    "#YOUR CODE HERE"
   ]
  },
  {
   "cell_type": "markdown",
   "metadata": {},
   "source": [
    "# Visualizing data with Matplotlib\n",
    "\n",
    "Matplotlib is one of the main visualization packages you will be working with in Python. We will first go through a short tutorial to help you get used to the interface.\n",
    "\n",
    "In this example, the plotting commands are split up among notebook cells so that each step can be explained. In your code, just have all of the commands in one cell, to avoid having to scroll up and down as you make changes.\n",
    "\n",
    "## Some data\n",
    "This data is synthetic. It's a simple trigonometric function; the details don't particularly matter."
   ]
  },
  {
   "cell_type": "code",
   "execution_count": null,
   "metadata": {},
   "outputs": [],
   "source": [
    "#Import Matplotlib\n",
    "# make the plots look good inline\n",
    "%matplotlib notebook\n",
    "# Set up Matplotlib\n",
    "import matplotlib as mpl   \n",
    "import matplotlib.pyplot as plt"
   ]
  },
  {
   "cell_type": "code",
   "execution_count": null,
   "metadata": {},
   "outputs": [],
   "source": [
    "# a simple function, returns pulses with a shape determined by k\n",
    "def pulse(x, k):\n",
    "    return np.cos(x) * np.exp(np.cos(x) * k - k)\n",
    "\n",
    "## generate an x value to be transformed\n",
    "x = np.linspace(-3*np.pi, 3 * np.pi, 500)"
   ]
  },
  {
   "cell_type": "markdown",
   "metadata": {},
   "source": [
    "## Figures\n",
    "To begin any plotting we must create a **figure**, which is a \"blank canvas\" onto which we can add visualisations. **Important: the visualisation will always appear in the output of whichever cell has the `plt.figure()` call.** As a consequence, all of the commands below will affect in the output of the cell below.\n",
    "\n",
    "When you go through the various steps below, scroll back up to this cell to see their effect. Note that usually all plotting commands go in *one* cell, so we don't end up scrolling about."
   ]
  },
  {
   "cell_type": "code",
   "execution_count": null,
   "metadata": {},
   "outputs": [],
   "source": [
    "fig = plt.figure()  # create a new figure. It will be blank.\n",
    "\n",
    "## If you want a different size of figure, you can use:\n",
    "# fig = plt.figure(figsize=(3,3)) # quite small\n",
    "# the default size set here is good for this exercise"
   ]
  },
  {
   "cell_type": "markdown",
   "metadata": {},
   "source": [
    "## Axes\n",
    "To draw anything, we must define **axes**. Each axes is a facet of a plot. It has a coordinate system which can be used to draw data. \n",
    "\n",
    "The call to create a new axis is formatted `fig.add_subplot(rows, columns, index)` which will create a subplot in a matrix of axes indexed by the index. The index increases column-wise, then row-wise, and starts from *1* (not 0!)\n",
    "\n",
    "For example, we could create a 3x2 array of plots, and select the middle-left plot\n",
    "using `plt.add_subplot(3, 2, 3)`\n",
    "\n",
    "        --------\n",
    "       | 1 | 2 |\n",
    "       | 3 | 4 |\n",
    "       | 5 | 6 |\n",
    "       ---------\n",
    "\n",
    "Most of the time, though, we just want one axes that fills the figure and `fig.add_subplot(1,1,1)` does that. The object it returns is what we use for all subsequent plotting."
   ]
  },
  {
   "cell_type": "code",
   "execution_count": null,
   "metadata": {},
   "outputs": [],
   "source": [
    "ax = fig.add_subplot(1, 1, 1)  \n",
    "# create a new subplot, returning a set of axes\n",
    "# look above ^ ^ at the figure. You should see the axes appear"
   ]
  },
  {
   "cell_type": "markdown",
   "metadata": {},
   "source": [
    "We make a line plot of `x` against `f(x, k)` for a few fixed values of `k`.\n",
    "Each subsequent plot will be a new color, and all of the plots will be overlaid on the axes\n",
    "\n",
    "`ax.plot(x,y)` is the basic line plotting command. It is called on an axes object.\n",
    "\n",
    "Note that the `label=` gives a label that the `legend` command will use to label the graph afterwards. Always label plots if you want readers to be able to distinguish them."
   ]
  },
  {
   "cell_type": "code",
   "execution_count": null,
   "metadata": {},
   "outputs": [],
   "source": [
    "ax.cla()  # cla means to CLear Axes. \n",
    "# it does nothing the first time we run it, but it will clear the plot and redraw if\n",
    "# you run this cell multiple times. Try commenting it out and running this cell twice!\n",
    "\n",
    "\n",
    "ax.plot(x, pulse(x,1), label='k=1')\n",
    "ax.plot(x, pulse(x, 5), label='k=5')\n",
    "ax.plot(x, pulse(x, 100), label='k=100')\n",
    "\n",
    "# you can adjust the styling of the plot manually: \n",
    "#   here the color is black (\"k\") \n",
    "#   and the linestyle is dotted (\":\")\n",
    "ax.plot(x, pulse(x, 500), label='k=500', color='C', linestyle=':')\n",
    "\n",
    "## note that there are several built-in colors called\n",
    "# C0, C1, C2, C3, C4, C5, and C6\n",
    "# they will generally look good\n",
    "# try changing the 'k' above to 'C6'"
   ]
  },
  {
   "cell_type": "markdown",
   "metadata": {},
   "source": [
    "Now we can add **labels** to the plot. There should always be a label for the x-axis, y-axis and a title for the axes. We should also have a **legend** if multiple layers are used. `ax.legend()` will draw one. It can be configured in many ways, but the defaults are fine here."
   ]
  },
  {
   "cell_type": "code",
   "execution_count": null,
   "metadata": {},
   "outputs": [],
   "source": [
    "# label the plot \n",
    "ax.set_xlabel(\"Phase (radians)\")  # x-axis label\n",
    "ax.set_ylabel(\"Amplitude\")        # y-axis label\n",
    "ax.set_title(\"Pulse wave function for various $k$\")  # title of plot (appears above plot)\n",
    "\n",
    "# create a legend (key) for the plot, using the labels specified\n",
    "# in the ax.plot() calls, like ax.plot(x,y, label=\"xy\")\n",
    "ax.legend()"
   ]
  },
  {
   "cell_type": "markdown",
   "metadata": {},
   "source": [
    "By default, the scaling of the axis will be adjusted to fit the data. This isn't always a good idea, so you can adjust it manually. The axis limits are set by `ax.set_xlim(min,max)` and `ax.set_ylim(min,max)` and these adjust the scaling of the axes. This configures the **coords** used to draw data.\n",
    "\n",
    "You can try changing these to see different parts of the curve.\n",
    "\n",
    "**Note that you don't need to call the plot commands again when you update the axis limits.**"
   ]
  },
  {
   "cell_type": "markdown",
   "metadata": {},
   "source": [
    "### Tweaking\n",
    "\n",
    "We can tweak the plot in many ways. Try some of the below.\n"
   ]
  },
  {
   "cell_type": "code",
   "execution_count": null,
   "metadata": {},
   "outputs": [],
   "source": [
    "## set the limits of the plot\n",
    "# (if this is omitted, sensible autoscaling will be applied)\n",
    "ax.set_xlim(np.min(x), np.max(x))\n",
    "ax.set_ylim(-0.25, 1.2)"
   ]
  },
  {
   "cell_type": "code",
   "execution_count": null,
   "metadata": {},
   "outputs": [],
   "source": [
    "# grid \n",
    "ax.grid(True) # or False to turn it off"
   ]
  },
  {
   "cell_type": "code",
   "execution_count": null,
   "metadata": {},
   "outputs": [],
   "source": [
    "# frame\n",
    "ax.set_frame_on(False) # or True to turn it back on"
   ]
  },
  {
   "cell_type": "code",
   "execution_count": null,
   "metadata": {},
   "outputs": [],
   "source": [
    "ax.set_xticks([-10, -5, 0, 5, 10]) # Tick positions on the x axis\n",
    "ax.set_yticks([0,0.5,1.0]) # and on the y-axis"
   ]
  },
  {
   "cell_type": "code",
   "execution_count": null,
   "metadata": {},
   "outputs": [],
   "source": [
    "# this is a fancier tick adjustment\n",
    "# Tick positions on the x axis\n",
    "ax.set_xticks([-2*np.pi, -np.pi, 0, np.pi, 2*np.pi]) \n",
    "\n",
    "# we can relabel the ticks using the same order. \n",
    "# LaTeX formulae work if inside $ symbols\n",
    "ax.set_xticklabels([\"$-2\\pi$\", \"$-\\pi$\", \"0\", \"$\\pi$\", \"$2\\pi$\"])"
   ]
  },
  {
   "cell_type": "markdown",
   "metadata": {},
   "source": [
    "The standard colours in matplotlib are shown below (you can also specify custom colours)"
   ]
  },
  {
   "cell_type": "code",
   "execution_count": null,
   "metadata": {},
   "outputs": [],
   "source": [
    "## Standard colours\n",
    "fig = plt.figure(figsize=(10,2))\n",
    "ax = fig.add_subplot(1,1,1)\n",
    "fig.set_facecolor(\"#f0f0f0\")  # can always use Hex colors, or floating point arrays\n",
    "for i,col in enumerate([\"C0\", \"C1\", \"C2\", \"C3\", \"C4\", \"C5\", \"C6\", \"C7\", \n",
    "                        \"r\", \"g\", \"b\", \"c\", \"m\", \"y\", \"k\", \"w\"]):\n",
    "    \n",
    "    # plot, and add some simple text\n",
    "    ax.plot(i, 0.5, c=col, marker='s', markersize=20)\n",
    "    # alpha sets opacity of rendering\n",
    "    ax.text(i, 0.5+0.15, col, ha='center', color=col, alpha=0.5)\n",
    "    \n",
    "ax.set_ylim(0,1) # set axis limits    \n",
    "ax.axis(\"off\") # remove axis; there are no units to show"
   ]
  },
  {
   "cell_type": "markdown",
   "metadata": {},
   "source": [
    "# 1. Simple plots \n",
    "\n",
    "Let's try out Mastplotlib and take a look at some of the mathematical functions in NumPy.\n",
    "\n",
    "* Plot sine, cosine, and tangent functions for a chosen range of values.\n",
    "* Plot a normal distribution. Play around with the stdev parameter and see how it changes."
   ]
  },
  {
   "cell_type": "code",
   "execution_count": null,
   "metadata": {},
   "outputs": [],
   "source": [
    "#YOUR CODE HERE"
   ]
  },
  {
   "cell_type": "markdown",
   "metadata": {},
   "source": [
    "For these exercises, you need to plot graphs showing the data which is provided to you. \n",
    "    \n",
    "* choose the right kind of plot (line, scatter, bar, histogram). There may be more than one right choice.\n",
    "* plot the data correctly\n",
    "* make sure all the details are sensible (axes, labelling, etc.)\n",
    "* **write a short caption for the data in the cell provided.**\n",
    "\n",
    "You will get the name of the file with the data, along with a comment that explains the format of the data. You can use `np.loadtxt()` to load the datasets."
   ]
  },
  {
   "cell_type": "markdown",
   "metadata": {},
   "source": [
    "A)\n",
    "* Data file: `data/cherry_trees.txt`\n",
    "* Description: Height and volume of black cherry trees  measured in an orchard.\n",
    "* Columns:\n",
    "  \n",
    "       Height (ft)  Volume (ft^3)\n",
    "\n",
    "Note: plot your graph in **metric units**. 1 ft = 0.3048m"
   ]
  },
  {
   "cell_type": "code",
   "execution_count": null,
   "metadata": {
    "scrolled": true
   },
   "outputs": [],
   "source": [
    "#YOUR CODE HERE"
   ]
  },
  {
   "cell_type": "markdown",
   "metadata": {},
   "source": [
    "B)\n",
    "* Data file: `data/air_passengers.txt`\n",
    "* Description: The number of international air passengers, each month, 1949 to 1960.\n",
    "* Columns:\n",
    "\n",
    "      year   passenger_count"
   ]
  },
  {
   "cell_type": "code",
   "execution_count": null,
   "metadata": {},
   "outputs": [],
   "source": [
    "#YOUR CODE HERE"
   ]
  },
  {
   "cell_type": "markdown",
   "metadata": {},
   "source": [
    "C) \n",
    "* Data file: `data/rivers.txt`\n",
    "* Description: Length of major rivers in the United States (miles)\n",
    "* Columns:\n",
    "   \n",
    "       river_length"
   ]
  },
  {
   "cell_type": "code",
   "execution_count": null,
   "metadata": {},
   "outputs": [],
   "source": [
    "#YOUR CODE HERE"
   ]
  },
  {
   "cell_type": "markdown",
   "metadata": {},
   "source": [
    "# 2. Layered and faceted plots \n",
    "\n",
    "A **layered** plot has more than one set of markers overlaid on the same coordinate system. A **faceted** plot uses multiple coordinate systems to show different views of the data.\n",
    "\n",
    "For the dataset, appropriately use layering, faceting and reduction operations to show the dataset. "
   ]
  },
  {
   "cell_type": "markdown",
   "metadata": {},
   "source": [
    "* Data file `data/cake.txt`\n",
    "* Description: \n",
    ">Data on the breakage angle of chocolate cakes made with three different\n",
    "recipes and baked at six different temperatures. The angle of breakage is affected by the recipe and temperature. The experiment was repeated 15 times (replicates).\n",
    "\n",
    "* Columns:\n",
    "\n",
    "        replicate(1-15)    recipe(0-2)    temp(deg F)    angle(deg)\n",
    "\n",
    "Use this model:\n",
    "* Facet `recipes`\n",
    "* Layer `replicates`\n",
    "\n",
    "* Colour each replicate identically, and use lowered opacity.\n",
    "\n",
    "* As well as the layered replicates, clearly show the mean and standard deviation of the breakage angle in each facet as a line and a ribbon.\n",
    "\n",
    "* Convert Fahrenheit to Celsius before plotting. \n",
    "\n",
    "* `plt.tight_layout()` will fix layout of facets. Set a super-title across all facets using `fig.suptitle()`. \n",
    "\n",
    "* You will need one or more `for` loops (probably) to solve this problem.\n",
    "* Use Boolean arrays to perform `group by` like operations."
   ]
  },
  {
   "cell_type": "code",
   "execution_count": null,
   "metadata": {},
   "outputs": [],
   "source": [
    "#YOUR CODE HERE"
   ]
  },
  {
   "cell_type": "markdown",
   "metadata": {},
   "source": [
    "* Data file: `data/insects.txt`\n",
    "* Description: The counts of insects on each leaf of a plant in agricultural experimental units treated with different insecticides.\n",
    "* Columns:\n",
    "\n",
    "            insect_count spray_id (0-5)\n",
    "\n",
    "\n",
    "* Plot the data, on three separate figures, using:\n",
    "    * A simple bar chart of the mean insect counts (grouped by spray).\n",
    "    * A barchart showing the mean counts (grouped), and half a standard deviation above and below the mean. Find a way to show this interval (hint: look at the [`plt.bar` documentation](https://matplotlib.org/devdocs/api/_as_gen/matplotlib.pyplot.bar.html)). The standard deviation of an array can be computed by `np.std(x, axis)`, just like `np.mean()`.\n",
    "    * A Box plot of the insect counts.\n",
    "\n",
    "* Mark the ticks on the x axis using the names of the sprays.\n",
    "\n",
    "        0 = Insecticator\n",
    "        1 = Placebo\n",
    "        2 = BuzzNoMore\n",
    "        3 = Aprotex\n",
    "        4 = DieOff"
   ]
  },
  {
   "cell_type": "code",
   "execution_count": null,
   "metadata": {},
   "outputs": [],
   "source": [
    "#YOUR CODE HERE"
   ]
  },
  {
   "cell_type": "markdown",
   "metadata": {},
   "source": [
    "# References \n",
    "\n",
    "Huge thanks to Dr John H. Williamson for allowing us to use his teaching materials in this workshop, including most of the practical examples."
   ]
  }
 ],
 "metadata": {
  "kernelspec": {
   "display_name": "Python 3",
   "language": "python",
   "name": "python3"
  },
  "language_info": {
   "codemirror_mode": {
    "name": "ipython",
    "version": 3
   },
   "file_extension": ".py",
   "mimetype": "text/x-python",
   "name": "python",
   "nbconvert_exporter": "python",
   "pygments_lexer": "ipython3",
   "version": "3.6.7"
  }
 },
 "nbformat": 4,
 "nbformat_minor": 2
}
