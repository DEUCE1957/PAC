{
 "cells": [
  {
   "cell_type": "markdown",
   "metadata": {},
   "source": [
    "![Functional Programming Cover](https://i.imgur.com/nYuiLYj.png)"
   ]
  },
  {
   "cell_type": "markdown",
   "metadata": {},
   "source": [
    "## Contents\n",
    "* What is a Function?\n",
    "    * Use Cases\n",
    "        * Breaking up problems: Seperation of Concerns\n",
    "        * Do Not Repeat Yourself\n",
    "    * Function Signatures\n",
    "    * Arguments vs Parameters\n",
    "        * Optional/Default Values\n",
    "    * Return Statements\n",
    "    * Scope\n",
    "    * First Class\n",
    "    * \\*args and \\*\\*kwargs\n",
    "    * Lambda Functions\n",
    "* What is a Package?\n",
    "    * Package Installation\n",
    "    * Import\n",
    "    * Random Number Generator"
   ]
  },
  {
   "cell_type": "markdown",
   "metadata": {},
   "source": [
    "## What is a Function?\n",
    "\n",
    "Functions are bundled-up bits of code that you can reuse anywhere.\n",
    "![Reusable Package](https://www.supplypro.ca/wp-content/uploads/2017/08/boxes.jpg)\n",
    "\n",
    "\n",
    "\n",
    "#### Avoiding Repetition\n",
    "\n",
    "Consider this code, which generates a bunch of Fibonacci Sequences:"
   ]
  },
  {
   "cell_type": "code",
   "execution_count": null,
   "metadata": {},
   "outputs": [],
   "source": [
    "fib_5 = [1,1]\n",
    "\n",
    "for i in range(0,3): \n",
    "    fib_5.append(fib_5[i]+fib_5[i+1])\n",
    "    \n",
    "print(fib_5)\n",
    "\n",
    "fib_8 = [1,1]\n",
    "for i in range(0,6): \n",
    "    fib_8.append(fib_8[i]+fib_8[i+1])\n",
    "\n",
    "print(fib_8)\n",
    "\n",
    "fib_12 = [1,1]\n",
    "for i in range(0,10): \n",
    "    fib_12.append(fib_12[i]+fib_12[i+1])\n",
    "\n",
    "print(fib_12)"
   ]
  },
  {
   "cell_type": "markdown",
   "metadata": {},
   "source": [
    "How can we **abstract** what we are doing here to generate ANY fibonnaci sequence?"
   ]
  },
  {
   "cell_type": "markdown",
   "metadata": {},
   "source": [
    "#### Solution: Define A Function\n",
    "\n",
    "We can define a function, don't worry about the implementation details just yet."
   ]
  },
  {
   "cell_type": "code",
   "execution_count": null,
   "metadata": {},
   "outputs": [],
   "source": [
    "def fibonnaci(n): # Function Signature\n",
    "    if n <= 2: # Handle Edge Case\n",
    "        return [1]*n # Give back a response\n",
    "    else:\n",
    "        seq = [1,1]\n",
    "        for i in range(0,n-2):\n",
    "            seq.append(seq[i]+seq[i+1]) # Add element to END of sequence\n",
    "        return seq\n",
    "    \n",
    "# Now we do not have to repeat ourselves (:\n",
    "print(fibonnaci(5)) # Call The Function\n",
    "print(fibonnaci(8)) # Pass the argument '8'\n",
    "print(fibonnaci(12))\n",
    "print(fibonnaci(15))"
   ]
  },
  {
   "cell_type": "markdown",
   "metadata": {},
   "source": [
    "#### Managing Complexity\n",
    "The other use case is when we are dealing with complicated problems and large amounts of code. In these cases it can help to break our problem into more manageable chunks. Functions prove to be a good way of seperating our concerns, since we can deal with one part of the problem with one function. If we give it a sensible name, it will then be obvious what it does.\n",
    "\n",
    "A good example of this is in statistics. Let's start by getting the mean of some numbers:"
   ]
  },
  {
   "cell_type": "code",
   "execution_count": null,
   "metadata": {},
   "outputs": [],
   "source": [
    "numbers = [10,19,14,3,12,13,15,16,14,29]\n",
    "\n",
    "summation = 0\n",
    "for num in numbers:\n",
    "    summation = summation + num\n",
    "\n",
    "mean = summation/len(numbers)\n",
    "print(\"Mean of Numbers: {:.2f}\".format(mean))"
   ]
  },
  {
   "cell_type": "code",
   "execution_count": null,
   "metadata": {},
   "outputs": [],
   "source": [
    "difs_from_mean = 0\n",
    "for num in numbers:\n",
    "    # Sum the Distance from the Mean Squared\n",
    "    difs_from_mean += (num - mean)**2\n",
    "\n",
    "# How much does the Data Vary\n",
    "variance = difs_from_mean / len(numbers) \n",
    "print(\"Variance: {:.2f}\".format(variance))\n",
    "# What is the Standard Deviation from the Mean (68% of data will fall within 1 std dev of the mean)\n",
    "std_dev = variance**(0.5)\n",
    "print(\"Standard Deviation: {:.2f}\".format(std_dev))"
   ]
  },
  {
   "cell_type": "markdown",
   "metadata": {},
   "source": [
    "Rather than deal with the mean, variance and standard deviation in one go we can handle each of them seperately as functions.\n",
    "\n",
    "Here implement a generalised function to compute the mean. Since we're making using of functions, we might as well simplify our code by employing 2 standard in-built Python functions:\n",
    "* <span style=\"color:green\">sum</span>() \n",
    "    * Iterates over a data structure and returns the sum of all values in that data structure\n",
    "* <span style=\"color:green\">len</span>()\n",
    "    * Counts the number of elements in a data structure and return its length\n",
    "    \n",
    "You have already been using one built-in function for Python: the  <span style=\"color:green\">print</span>() function!"
   ]
  },
  {
   "cell_type": "code",
   "execution_count": null,
   "metadata": {},
   "outputs": [],
   "source": [
    "def get_mean(li):\n",
    "    mean = sum(li)/len(li)\n",
    "    return mean\n",
    "\n",
    "numbers = [10,19,14,3,12,13,15,16,14,29]\n",
    "print(\"Mean of Numbers:\")\n",
    "print(get_mean(numbers))"
   ]
  },
  {
   "cell_type": "code",
   "execution_count": null,
   "metadata": {},
   "outputs": [],
   "source": [
    "all_ones = [1,1,1,1,1,1,1]\n",
    "print(\"Mean of Ones\")\n",
    "print(get_mean(all_ones))"
   ]
  },
  {
   "cell_type": "code",
   "execution_count": null,
   "metadata": {},
   "outputs": [],
   "source": [
    "arpeggio = [1,2,3,4,5,6,7]\n",
    "print(\"Mean of Arpeggio/Staircase\")\n",
    "print(get_mean(arpeggio))"
   ]
  },
  {
   "cell_type": "code",
   "execution_count": null,
   "metadata": {},
   "outputs": [],
   "source": [
    "salaries = [27000,60000,28000,30000,40000,32000,31000]\n",
    "print(\"Mean of some Salaries\")\n",
    "print(get_mean(salaries))"
   ]
  },
  {
   "cell_type": "markdown",
   "metadata": {},
   "source": [
    "Similary we can implement functions to calculate the variance and standard deviation seperately. Here we make exploit of the fact that functions are **reusable** so we don't have to repeat ourselves. \n",
    "\n",
    "We also use a new built-in function <span style=\"color:green\">pow</span>() which is another way of calculating the exponent. It takes as arguments a number (0th argument) and an exponent (1st argument).\n",
    "\n",
    "So <pre> pow(2,4) </pre> will raise $2^4$ and return 16."
   ]
  },
  {
   "cell_type": "code",
   "execution_count": null,
   "metadata": {},
   "outputs": [],
   "source": [
    "def get_variance(li):\n",
    "    mean = get_mean(li) # Use our earlier function\n",
    "    difs_from_mean = 0\n",
    "    for num in li:\n",
    "        # Sum the distance from the mean, squared\n",
    "        difs_from_mean += pow(num - mean,2) \n",
    "    return difs_from_mean/len(li)\n",
    "    \n",
    "def get_std_dev(li):\n",
    "    variance = get_variance(li)  \n",
    "    #  Standard deviation is the Square Root of the Variance\n",
    "    return pow(variance,0.5)\n",
    "\n",
    "print(\"Variance is: {:.2f}\".format(get_variance(numbers)))\n",
    "      \n",
    "print(\"Standard Deviation is: {:.2f}\".format(get_std_dev(numbers)))"
   ]
  },
  {
   "cell_type": "markdown",
   "metadata": {},
   "source": [
    "## Function Signatures\n",
    "\n",
    "The signature of a function defines its input and output."
   ]
  },
  {
   "cell_type": "code",
   "execution_count": null,
   "metadata": {},
   "outputs": [],
   "source": [
    "def my_function(var):\n",
    "    # Do Something\n",
    "    return 0"
   ]
  },
  {
   "cell_type": "markdown",
   "metadata": {},
   "source": [
    "### Breakdown\n",
    "\n",
    "#### Def\n",
    "<b style=\"color:green\">def</b>\n",
    "\n",
    "Stands for **define**, it is the keyword used to specify to the computer that we are creating a function."
   ]
  },
  {
   "cell_type": "markdown",
   "metadata": {},
   "source": [
    "#### Function Name\n",
    "<pre style=\"color:blue\">my_function</pre>\n",
    "\n",
    "Is the function **name** , this must start with either a letter \\[a-z\\] or underscore '_' and ideally should reflect what the function does."
   ]
  },
  {
   "cell_type": "markdown",
   "metadata": {},
   "source": [
    "#### Input Specification\n",
    "<pre>      ()</pre>\n",
    "\n",
    "Is the call signature of the function, this defines what INPUT it expects to receive. This can be no input (like the example shown here) or any amount of parameters. More on this in the next section."
   ]
  },
  {
   "cell_type": "markdown",
   "metadata": {},
   "source": [
    "#### Output Specification\n",
    "<pre>             <b style=\"color:green\">return</b></pre>\n",
    "\n",
    "Another keyword that specifies the OUTPUT of the function. This can be one or more values seperated by a comma."
   ]
  },
  {
   "cell_type": "markdown",
   "metadata": {},
   "source": [
    "We can therefore think of a function as a **blackbox** that takes in a certain input (defined inside the round brackets '()' ) and returns a certain output (defined after the <b style=\"color:green\">return</b> keyword).\n",
    "\n",
    "![Black Box Illustration](https://www.guru99.com/images/stories/blackbox.png)"
   ]
  },
  {
   "cell_type": "code",
   "execution_count": null,
   "metadata": {},
   "outputs": [],
   "source": [
    "def black_box(inp):\n",
    "    # In reality we can inspect the contents\n",
    "    out = inp * 3 \n",
    "    return out\n",
    "\n",
    "print(\"Black Box. In: {}, Out: {}\".format(5,black_box(5)))\n",
    "\n",
    "def mul_by_3(num):\n",
    "    return num * 3\n",
    "\n",
    "# In practise, we use good function names so we don't NEED to look at the contents\n",
    "print(\"Multiply {} by 3 to get {}\".format(5,mul_by_3(5)))"
   ]
  },
  {
   "cell_type": "markdown",
   "metadata": {},
   "source": [
    "## Arguments vs Parameters\n",
    "The input specification, i.e. everything inside the round brackets '()' that we saw earlier, defines the input of a function. \n",
    "\n",
    "A parameter is the name we give to any variables specified inside the call signature. For example:"
   ]
  },
  {
   "cell_type": "code",
   "execution_count": null,
   "metadata": {},
   "outputs": [],
   "source": [
    "def say_hello(name): \n",
    "    return \"Hello \" + name\n",
    "# Name is a parameter of the function 'say_hello'"
   ]
  },
  {
   "cell_type": "markdown",
   "metadata": {},
   "source": [
    "This means we can use that variable directly inside of our function, as we did above to append the word \"Hello\" to the name.\n",
    "\n",
    "However, defining a function without using it seems rather pointless. We can instead supply an **argument** which is the value or variable we pass to the function. "
   ]
  },
  {
   "cell_type": "code",
   "execution_count": null,
   "metadata": {},
   "outputs": [],
   "source": [
    "say_hello(\"George\")\n",
    "# \"George\" is the argument we are passing to the 'say_hello' function."
   ]
  },
  {
   "cell_type": "markdown",
   "metadata": {},
   "source": [
    "Note that you HAVE TO pass the expected argument to use the function:\n"
   ]
  },
  {
   "cell_type": "code",
   "execution_count": null,
   "metadata": {},
   "outputs": [],
   "source": [
    "say_hello() # Should throw an Error!"
   ]
  },
  {
   "cell_type": "markdown",
   "metadata": {},
   "source": [
    "A function can have 0 or more parameters defined in its call signature:"
   ]
  },
  {
   "cell_type": "code",
   "execution_count": null,
   "metadata": {},
   "outputs": [],
   "source": [
    "def dot_product(vector_a,vector_b): # 2 Parameters\n",
    "    # Returns the dot product of 2 vectors\n",
    "    \n",
    "    # Since Python is Dynamically Typed\n",
    "    # We have to check whether the passed arguments are what we expect them to be\n",
    "    if len(vector_a) != len(vector_b):\n",
    "        return None # Dimension mismatch!\n",
    "    \n",
    "    result = 0\n",
    "    for i in range(0,len(vector_a)):\n",
    "        result += vector_a[i] * vector_b[i]\n",
    "    return result\n",
    "\n",
    "a = [2,4,8]\n",
    "b = [9,6,3]\n",
    "print(dot_product(a,b)) # So we need to pass 2 Arguments"
   ]
  },
  {
   "cell_type": "markdown",
   "metadata": {},
   "source": [
    "### Optional/Default Parameters\n",
    "In the previous section we saw that if we don't pass the required amount of arguments we get an ERROR. While this is useful if we want to gaurantee we have the correct amount of information to act on, it can cause trouble. \n",
    "\n",
    "Thankfully we have optional parameters, which are set to default values if whoever is calling the function does not pass it. This has several use cases:\n",
    "* Defining 'flexible' functions, rather than lots of seperate functions\n",
    "* Toggling 'extra' features inside a function"
   ]
  },
  {
   "cell_type": "code",
   "execution_count": null,
   "metadata": {},
   "outputs": [],
   "source": [
    "def get_speed_from_distances(distances,time_gap=1,verbose=False):\n",
    "    total_dist = distances[0]\n",
    "    for i in range(1,len(distances)):\n",
    "        total_dist += distances[i] - distances[i-1]\n",
    "    if verbose == True:\n",
    "        print(\"Total Distance covered: {}\".format(total_dist))\n",
    "    total_time = len(distances) * time_gap\n",
    "    if verbose == True:\n",
    "        print(\"Total time taken: {}\".format(total_time))\n",
    "    speed = total_dist / total_time\n",
    "    if verbose == True:\n",
    "        print(\"Average Speed: {:.2f}\".format(speed))\n",
    "    return total_dist/total_time\n",
    "\n",
    "# Use default values\n",
    "speed0 = get_speed_from_distances([10,20,30]) \n",
    "print(\"Travelled {}m/s\".format(speed0))\n",
    "print(\"\")\n",
    "\n",
    "# Pass an optional argument INORDER\n",
    "speed1 = get_speed_from_distances([100,200,300,400],60) \n",
    "print(\"Travelled {:.2f}km/min\".format(speed1))\n",
    "print(\"\")\n",
    "\n",
    "# Pass optional arguments OUT OF ORDER using their names\n",
    "speed2 = get_speed_from_distances([100,200,300,400],verbose=True,time_gap=3600)\n",
    "print(\"Travelled {:.2f}km/s\".format(speed2))\n",
    "print(\"\")"
   ]
  },
  {
   "cell_type": "markdown",
   "metadata": {},
   "source": [
    "## Scope\n",
    "<img src=\"https://cdn.pixabay.com/photo/2019/10/27/15/16/spotting-scope-4582026_960_720.jpg\" alt=\"Scope Illustration\" align=\"left\" width=\"30%\">\n",
    "\n",
    "Whenever you define a variable, it exists inside a certain **scope**. A scope is defined by a **Code Block** that is a chunk of code with a beginning and an end. When you reach the end of this block, you leave its scope and all variables defined inside of it cease to exist. \n",
    "\n",
    "Why do they cease to exist? Well, the labelled box you put a variable in when you assign it (i.e. the space inside the computer's memory) needs to be freed up when you are done so that the computer can put something else there. If this didn't happen with every program you ran on your computer, then you'd quickly run out of memory!\n",
    "\n",
    "<pre>\n",
    "\n",
    "\n",
    "</pre>\n",
    "\n",
    "\n",
    "The idea of scope is that you can only access certain variables in certain parts of your code. If you start bashing away at your Python shell directly, all variables exist in the **global** scope:"
   ]
  },
  {
   "cell_type": "code",
   "execution_count": null,
   "metadata": {},
   "outputs": [],
   "source": [
    "print('x before creation') \n",
    "print('x' in globals())\n",
    "x = 64\n",
    "y = 24\n",
    "z = 3\n",
    "for var_name in ['x','y','z']:\n",
    "    print(var_name + \" after creation\")\n",
    "    print(var_name in globals())\n"
   ]
  },
  {
   "cell_type": "markdown",
   "metadata": {},
   "source": [
    "When you finish running your program, the global scope is exited and the variables are cleared from memory.\n",
    "\n",
    "**Note**: On Jupyter global variables from ALL code cells exist until you close the notebook."
   ]
  },
  {
   "cell_type": "markdown",
   "metadata": {},
   "source": [
    "#### Local Scope\n",
    "Inside certain special code blocks like Functions or Classes (not covered here), things get more interesting as we enter a **local** scope.\n",
    "\n",
    "A function will have access to:\n",
    "* All global variables\n",
    "* All locally-defined variables (like the parameters)"
   ]
  },
  {
   "cell_type": "code",
   "execution_count": null,
   "metadata": {},
   "outputs": [],
   "source": [
    "x = 3 # Variable defined in Global Scope\n",
    "def global_inside_function():\n",
    "    print(x) # Global variable can be accessed anywhere!\n",
    "    \n",
    "global_inside_function()"
   ]
  },
  {
   "cell_type": "code",
   "execution_count": null,
   "metadata": {},
   "outputs": [],
   "source": [
    "def create_local():\n",
    "    local = 3 # Local variable only exists inside the function\n",
    "    \n",
    "create_local()\n",
    "print(local) # Should throw an Error!"
   ]
  },
  {
   "cell_type": "markdown",
   "metadata": {},
   "source": [
    "#### Why not use Global Variables all the time?\n",
    "If we can access and manipulate globals from inside functions, you might wonder why we pass arguments to functions at all. In general using global variables inside functions is considered poor practise and should be avoided at all costs. There are 3 main reasons for sticking to passing arguments:\n",
    "\n",
    "* <b style=\"color:red\">Readability</b> - The parameter name can be different from the argument name, so you can make the operations inside a function easier to understand."
   ]
  },
  {
   "cell_type": "code",
   "execution_count": null,
   "metadata": {},
   "outputs": [],
   "source": [
    "def raise_to_power(number,exponent)\n",
    "    return number**exponent\n",
    "\n",
    "a = 2\n",
    "b = 3\n",
    "raise_to_power(2,3)"
   ]
  },
  {
   "cell_type": "markdown",
   "metadata": {},
   "source": [
    "* <b style=\"color:red\">Communication</b> - Sometimes we pass parameters between functions rather than from outside of them"
   ]
  },
  {
   "cell_type": "code",
   "execution_count": null,
   "metadata": {},
   "outputs": [],
   "source": [
    "def get_norm(num,minimum,maximum):\n",
    "    # Must pass minimum and maximum\n",
    "    # Since they only exist inside Normalise\n",
    "    lower = num - minimum\n",
    "    compress = maximum - minimum\n",
    "    return lower/compress\n",
    "\n",
    "def normalise(numbers):\n",
    "    minimum = min(numbers)\n",
    "    maximum = max(numbers)\n",
    "    norm_numbers = []\n",
    "    for num in numbers:\n",
    "        norm_num = get_norm(num,minimum,maximum)\n",
    "        norm_numbers.append(norm_num)\n",
    "    return norm_numbers"
   ]
  },
  {
   "cell_type": "markdown",
   "metadata": {},
   "source": [
    "* <b style=\"color:red\">Safety</b> - If we pass an argument to a function, we pass a **copy** of that value at the time we called the function"
   ]
  },
  {
   "cell_type": "code",
   "execution_count": null,
   "metadata": {},
   "outputs": [],
   "source": [
    "def dramatic_change():\n",
    "    global x # Using the global keyword allows us to override a global variable\n",
    "    x = x**20\n",
    "    \n",
    "x = 5\n",
    "\n",
    "dramatic_change() # We don't pass x here, so you wouldn't expect it to change x\n",
    "print(x) # Yet it does! What happened?!"
   ]
  },
  {
   "cell_type": "code",
   "execution_count": null,
   "metadata": {},
   "outputs": [],
   "source": [
    "def isolated_change(x): # Has x as a parameter\n",
    "    return x**20 # Returns the value rather than setting it\n",
    "\n",
    "x = 5\n",
    "isolated_change(x) # Returned value is seperate from our globally-defined x=5\n",
    "print(x) # So x in the global scope does not change unexpectedly"
   ]
  },
  {
   "cell_type": "markdown",
   "metadata": {},
   "source": [
    "## First Class\n",
    "In Python we can treat functions as variables. While most operations won't be defined for them (what would it mean to 'add' 2 functions together?!), we can pass them around. This allows us to create function **factories**.\n",
    "\n",
    "<img src=\"https://atendesigngroup.com/sites/default/files/styles/very_large/public/function-factories.png?itok=U2rkm3U_\" alt=\"Function Factory\" width=30% align=\"center\">"
   ]
  },
  {
   "cell_type": "code",
   "execution_count": null,
   "metadata": {},
   "outputs": [],
   "source": [
    "def multiplier_factory(n): # Input what number the multiplier should multiply by\n",
    "    def multiplier(x): # Yes, you can define functions inside of functions (:\n",
    "        return x * n\n",
    "    return multiplier # Output a Function :O\n",
    "\n",
    "multiply_by_2 = multiplier_factory(2) # Creates a function called 'multiply_by_2'\n",
    "multiply_by_4 = multiplier_factory(4)\n",
    "multiply_by_8 = multiplier_factory(8)\n",
    "print(multiply_by_2(4)) # Calls the generated function with the argument 4\n",
    "print(multiply_by_4(4))\n",
    "print(multiply_by_8(4))"
   ]
  },
  {
   "cell_type": "markdown",
   "metadata": {},
   "source": [
    "## \\*Args and \\*\\*Kwargs\n",
    "We typically use While loops when we do not know how long something will be. For example, when handling user input.\n",
    "\n",
    "It is similarly possible that we don't know in advance how many arguments someone wants to pass to our function. For these situations we have:\n",
    "\n",
    "**\\*args** & **\\*\\*kwargs**"
   ]
  },
  {
   "cell_type": "markdown",
   "metadata": {},
   "source": [
    "#### Args\n",
    "If we specify \\*args at the end of our input signature '(...,\\*args)' then we can pass 0 or more additional arguments to our function when we call it.\n",
    "\n",
    "Inside the function we can treat args as a tuple, where each element in that tuple represents the additional arguments we included at the end of our call. \n",
    "\n",
    "<pre>\n",
    "func_name(<REQUIRED and OPTIONAL ARGUMENTS\\>,10,20,30,40)\n",
    "</pre>\n",
    "\n",
    "Since 10, 20, 30 and 40 were additional values that weren't expected, the function treats them as part of the \\*args tuple. \n",
    "\n",
    "So the \\*args tuple is:\n",
    "<pre>\n",
    "(10,20,30,40)\n",
    "</pre>\n",
    "\n",
    "**Reminder**: A tuple is a immutable, ordered set of values. It is like an unchangeable list, i.e. you cannot add, remove or change the values of a tuple after it has been created."
   ]
  },
  {
   "cell_type": "code",
   "execution_count": null,
   "metadata": {},
   "outputs": [],
   "source": [
    "def unwrap_my_args(fixed_arg,*args):\n",
    "    print(\"Required Arg: {}\".format(fixed_arg))\n",
    "    print(\"*Args:{}\".format(args))\n",
    "     \n",
    "unwrap_my_args(10)\n",
    "unwrap_my_args(1,10,20,30,40)"
   ]
  },
  {
   "cell_type": "markdown",
   "metadata": {},
   "source": [
    "**Aside**: What does the \\* operator do?\n",
    "It unpacks a composite variable (tuple, list, dictionary) into its components. This is a useful shorthand if we want to get the values rather than the data structure around it, for instance if we want to print it out:"
   ]
  },
  {
   "cell_type": "code",
   "execution_count": null,
   "metadata": {},
   "outputs": [],
   "source": [
    "value_list = [2,4,6,8]\n",
    "print(value_list) # Packed \n",
    "print(*value_list) # Unpacked\n",
    "print(type(value_list),\"\\n\")\n",
    "\n",
    "value_tuple = (2,4,6,8)\n",
    "print(value_tuple) # Packed\n",
    "print(*value_tuple)\n",
    "print(type(value_tuple),\"\\n\")\n",
    "\n",
    "value_dict = {2:\"B\",4:\"D\",6:\"F\",8:\"H\"}\n",
    "print(value_dict) # Packed\n",
    "print(*value_dict) # For dictionaries, unpacking gets all the keys\n",
    "print(type(value_dict))"
   ]
  },
  {
   "cell_type": "markdown",
   "metadata": {},
   "source": [
    "#### Kwargs\n",
    "The ordered tuple of additional variables provided by \\*args can be quite hard to work with, since we need to either advise someone on which order additional arguments should be passed in or check through every single one.\n",
    "\n",
    "Kwargs is the natural solution for wanting an unknown amount of additional arguments that also have variable names. Kwargs is essentially a dictionary, where we map variable names to their values. We can therefore use all the associated dictionary methods to check if they exist."
   ]
  },
  {
   "cell_type": "code",
   "execution_count": null,
   "metadata": {
    "scrolled": true
   },
   "outputs": [],
   "source": [
    "def get_my_kwargs(required_arg,**kwargs):\n",
    "    print(\"Required Arg: {}\".format(required_arg),\"\\n\\n>>Optional **kwargs<<\")\n",
    "    for key in kwargs.keys(): # Keys returns a list of keys in the dictionary\n",
    "        print(\"{} : {}\".format(key,kwargs.get(key))) # Get tries to retrieve a value based on a key\n",
    "        \n",
    "get_my_kwargs(42,John=22,Samantha=67,Gimmly=43)"
   ]
  },
  {
   "cell_type": "markdown",
   "metadata": {},
   "source": [
    "You can combine \\*args with \\*\\*kwargs"
   ]
  },
  {
   "cell_type": "code",
   "execution_count": null,
   "metadata": {},
   "outputs": [],
   "source": [
    "def args_and_kwargs(fixed_arg,*args,**kwargs):\n",
    "    print(\"Unwarp my **args\")\n",
    "    unwrap_my_args(fixed_arg,*args) # Reuse our functions (:\n",
    "    print(\"\\nGet my **kwargs\")\n",
    "    get_my_kwargs(fixed_arg,**kwargs)\n",
    "    \n",
    "args_and_kwargs(10,20,30,40,50,John=22,Samantha=67,Gimmly=43)"
   ]
  },
  {
   "cell_type": "markdown",
   "metadata": {},
   "source": [
    "### Lambda Functions\n",
    "Writing good code usually comes down to finding a good tradeoff between Readability and Succintness. \n",
    "\n",
    "When it comes to sucintness, lambdas are a super compact way of defining a function in-line. They are **anonymous**, that is the function you create doesn't need to have a name.\n",
    "\n",
    "Since functions are First Class, meaning we can treat them as variables, we can assign the result of our lamda expression (a function) to a variable name to reuse it.\n",
    "\n",
    "Format:\n",
    "1. <b style=\"color:green\">lambda</b>\n",
    "    * lambda keyword, tells computer that we are defining an anonymous function in-line\n",
    "2. parameter_name(,parameter_name)* \n",
    "    * 0 or more parameters\n",
    "3. ':' Colon \n",
    "    * Think of this as meaning: 'map input parameters on the left to the output on the right'.\n",
    "4. Expression\n",
    "    * The **return** keyword is implicit, you can return multiple values by putting the expression inside round brackets '()'"
   ]
  },
  {
   "cell_type": "code",
   "execution_count": null,
   "metadata": {},
   "outputs": [],
   "source": [
    "x = lambda a,b : a + b\n",
    "x(3,4)"
   ]
  },
  {
   "cell_type": "markdown",
   "metadata": {},
   "source": [
    "We can use this to rewrite our Function Factory from earlier much more concisely!"
   ]
  },
  {
   "cell_type": "code",
   "execution_count": null,
   "metadata": {},
   "outputs": [],
   "source": [
    "def multiplier_factory(n):\n",
    "    # Return a function that multiplies the parameter 'x' by a pre-defined number 'n'\n",
    "    return lambda x: x*n \n",
    "\n",
    "multiply_by_2 = multiplier_factory(2) # Generate a function that multiplies any number by 2\n",
    "multiply_by_4 = multiplier_factory(4)\n",
    "multiply_by_8 = multiplier_factory(8)\n",
    "print(multiply_by_2(4)) # Call a function\n",
    "print(multiply_by_4(4))\n",
    "print(multiply_by_8(4))"
   ]
  },
  {
   "cell_type": "markdown",
   "metadata": {},
   "source": [
    "## What is a package\n",
    "A package is a convenient way for programmers to share specialized functionality they developed. It consists of a collection of functions and classes, which you can then use to avoid having to implement them yourselves.\n",
    "\n",
    "Python's extensive amount of packages is one of the main reasons for its success, there are packages available for doing just about anything:\n",
    "* MatPlotLib for creating graphs\n",
    "* Numpy for handling matrices\n",
    "* PyTorch for machine learning\n",
    "* Pandas for data wrangling\n",
    "* Time for dates, durations and time conversions\n",
    "* Random for random number generation \n",
    "* And many many more...\n",
    "\n",
    "When working in Python its often worth Googling your intended functionality, as its very much possible someone has already implemented something similar and published it as a package.\n",
    "\n"
   ]
  },
  {
   "cell_type": "markdown",
   "metadata": {},
   "source": [
    "To install packages use python's package installer called pip ('Pip Installs Packages') inside your terminal.\n"
   ]
  },
  {
   "cell_type": "code",
   "execution_count": null,
   "metadata": {},
   "outputs": [],
   "source": [
    "%%bash\n",
    "pip install get-random"
   ]
  },
  {
   "cell_type": "markdown",
   "metadata": {},
   "source": [
    "Then to get access to the suite of functions and classes made available inside the package use the **import** statement:"
   ]
  },
  {
   "cell_type": "code",
   "execution_count": null,
   "metadata": {},
   "outputs": [],
   "source": [
    "import random"
   ]
  },
  {
   "cell_type": "markdown",
   "metadata": {},
   "source": [
    "This will make all the function names and class names visible inside your local namespace, that is you can use those functions just like you can ones you've defined yourself. You have been doing this already to some extent with Python's built-in functions, like print()."
   ]
  },
  {
   "cell_type": "markdown",
   "metadata": {},
   "source": [
    "### Random Number Generator\n",
    "Let's see this in Action!\n"
   ]
  },
  {
   "cell_type": "code",
   "execution_count": null,
   "metadata": {},
   "outputs": [],
   "source": [
    "\n",
    "while True:\n",
    "    low_limit = input(\"Please select a lower limit (integer)\")\n",
    "    try:\n",
    "        int(low_limit)\n",
    "    except:\n",
    "        print(\"Please provide an integer\")\n",
    "        continue\n",
    "    break\n",
    "    \n",
    "while True:\n",
    "    upper_limit = input(\"Please select a upper limit\")\n",
    "    try:\n",
    "        int(upper_limit)\n",
    "    except:\n",
    "        print(\"Please provide an integer\")\n",
    "        continue\n",
    "    break\n",
    "\n",
    "    \n",
    "print(\"Random number between {} and {}:\\n{}\".format(low_limit,upper_limit,random.randint\n",
    "                                                    (int(low_limit),int(upper_limit))))"
   ]
  },
  {
   "cell_type": "code",
   "execution_count": null,
   "metadata": {},
   "outputs": [],
   "source": []
  }
 ],
 "metadata": {
  "kernelspec": {
   "display_name": "Python 3",
   "language": "python",
   "name": "python3"
  },
  "language_info": {
   "codemirror_mode": {
    "name": "ipython",
    "version": 3
   },
   "file_extension": ".py",
   "mimetype": "text/x-python",
   "name": "python",
   "nbconvert_exporter": "python",
   "pygments_lexer": "ipython3",
   "version": "3.8.1"
  }
 },
 "nbformat": 4,
 "nbformat_minor": 2
}
