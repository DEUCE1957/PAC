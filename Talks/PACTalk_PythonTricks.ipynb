{
 "cells": [
  {
   "cell_type": "markdown",
   "metadata": {},
   "source": [
    "# Python Tricks\n",
    "\n",
    "\n",
    "## Contents\n",
    "\n",
    "- Multiple assigment and tuple unpacking\n",
    "- Ternary operator\n",
    "- String Interpolation (f-strings)\n",
    "- List comprehensions\n",
    "- Function decorators"
   ]
  },
  {
   "cell_type": "markdown",
   "metadata": {},
   "source": [
    "## Multiple assignment and tuple unpacking\n",
    "\n",
    "We can assign to multiple variables in one statement in python, e.g.:"
   ]
  },
  {
   "cell_type": "code",
   "execution_count": null,
   "metadata": {},
   "outputs": [],
   "source": [
    "a, b = 2, 4\n",
    "\n",
    "print(a)\n",
    "print(b)\n",
    "\n",
    "a = 2\n",
    "b = 4"
   ]
  },
  {
   "cell_type": "markdown",
   "metadata": {},
   "source": [
    "This is often used with lists/tuples to make extracting values from them easier. For instance, imagine we represent a point in 3D space with a list of three values:"
   ]
  },
  {
   "cell_type": "code",
   "execution_count": null,
   "metadata": {},
   "outputs": [],
   "source": [
    "point = (1, 1.5, 3)\n"
   ]
  },
  {
   "cell_type": "markdown",
   "metadata": {},
   "source": [
    "We can *unpack* this point and extract the individual coordinates like so:"
   ]
  },
  {
   "cell_type": "code",
   "execution_count": null,
   "metadata": {},
   "outputs": [],
   "source": [
    "x, y, z = point\n",
    "\n",
    "print(x)\n",
    "print(y)\n",
    "print(z)"
   ]
  },
  {
   "cell_type": "markdown",
   "metadata": {},
   "source": [
    "This is commonly used to, for example, access the keys and values of a dictionary in a for loop:"
   ]
  },
  {
   "cell_type": "code",
   "execution_count": null,
   "metadata": {},
   "outputs": [],
   "source": [
    "stock = {\"apple\": 10, \"banana\": 20, \"pear\": 15}\n",
    "\n",
    "print(stock.items())\n",
    "for item in stock.items():\n",
    "    key = item[0]\n",
    "    value = item[1]\n",
    "    print(key, value)\n",
    "\n",
    "\n",
    "for fruit, count in stock.items():\n",
    "    print(\"There are \" + str(count) + \" \" + fruit + \".\")"
   ]
  },
  {
   "cell_type": "markdown",
   "metadata": {},
   "source": [
    "We can also use unpacking as an alternative to slicing:"
   ]
  },
  {
   "cell_type": "code",
   "execution_count": null,
   "metadata": {},
   "outputs": [],
   "source": [
    "myList = [\"Alex\", \"John\", \"Tim\", \"Kate\"]\n",
    "\n",
    "first, *rest = myList\n",
    "\n",
    "print(first)\n",
    "print(rest)"
   ]
  },
  {
   "cell_type": "code",
   "execution_count": null,
   "metadata": {},
   "outputs": [],
   "source": [
    "*beginning, last = myList\n",
    "\n",
    "print(beginning)\n",
    "print(last)"
   ]
  },
  {
   "cell_type": "code",
   "execution_count": null,
   "metadata": {},
   "outputs": [],
   "source": [
    "first, *middle, last = myList\n",
    "\n",
    "print(first)\n",
    "print(middle)\n",
    "print(last)"
   ]
  },
  {
   "cell_type": "code",
   "execution_count": null,
   "metadata": {},
   "outputs": [],
   "source": [
    "_, *(second, *last) = myList\n",
    "\n",
    "print(second)"
   ]
  },
  {
   "cell_type": "markdown",
   "metadata": {},
   "source": [
    "## Ternary Operator\n",
    "\n",
    "The ternary operator in python is a shorter way to make a decision between two values without using an `if` statement. The syntax looks like:\n",
    "\n",
    "```\n",
    "<value 1> if <condition> else <value 2>\n",
    "```\n",
    "\n",
    "Note that this gets evaluated just like any other expression.\n",
    "\n",
    "A common example where this might be used is when outputing a report about a number of items, we need to decide whether it's singular or plural. We can go about it like this:"
   ]
  },
  {
   "cell_type": "code",
   "execution_count": null,
   "metadata": {},
   "outputs": [],
   "source": [
    "pythonCount = 1\n",
    "\n",
    "result = \"Alex, the python collector, has collected \" + str(pythonCount)\n",
    "if pythonCount > 1:\n",
    "    result += \" pythons\"\n",
    "else:\n",
    "    result += \" python\"\n",
    "result += \".\"\n",
    "\n",
    "print(result)"
   ]
  },
  {
   "cell_type": "code",
   "execution_count": null,
   "metadata": {},
   "outputs": [],
   "source": [
    "pythonCount = 100\n",
    "\n",
    "result = \"Alex, the python collector, has collected \" + str(pythonCount) + \" python\" + (\"\" if pythonCount == 1 else \"s\") + \".\"\n",
    "print(result)"
   ]
  },
  {
   "cell_type": "markdown",
   "metadata": {},
   "source": [
    "Note that the syntax for the ternary operator in python is different to other languages, mainly in that it sandwiches the condition between the two values, whereas in other languages the condition would usually come first:\n",
    "\n",
    "```\n",
    "<condition> ? <value true> : <value false>\n",
    "```"
   ]
  },
  {
   "cell_type": "markdown",
   "metadata": {},
   "source": [
    "We can also nest (or chain), ternary expressions:"
   ]
  },
  {
   "cell_type": "code",
   "execution_count": null,
   "metadata": {},
   "outputs": [],
   "source": [
    "x = 40\n",
    "y = 30\n",
    "\n",
    "result = \"x is equal to y\" if x == y else \"x is greater than y\" if x > y else \"x is lesser than y\"\n",
    "print(result)"
   ]
  },
  {
   "cell_type": "markdown",
   "metadata": {},
   "source": [
    "## String Interpolation (or f-strings)\n",
    "\n",
    "In the above examples, we constructed our result strings using the string concatenation operator, `+`, which can get quite verbose. We are able to do this more concisely in python using an interpolated string. This lets us insert expressions into a string without ever having to terminate the string.\n",
    "\n",
    "An interpolated string simply starts with an `f` before the leading quote: `f\"This is an interpolated string\"`. Inside this string, we can use curly braces to include expressions:"
   ]
  },
  {
   "cell_type": "code",
   "execution_count": null,
   "metadata": {},
   "outputs": [],
   "source": [
    "m = 10\n",
    "n = 20\n",
    "\n",
    "print(\"m (\" + str(m) + \") multiplied by n (\" + str(n) + \") is \" + str(m*n) + \".\")\n",
    "\n",
    "print(f\"m multiplied by n is {m*n}.\")\n",
    "\n",
    "print(\"m multiplied by n is %s\" % str(m*n))"
   ]
  },
  {
   "cell_type": "markdown",
   "metadata": {},
   "source": [
    "We can of course have multiple expressions:"
   ]
  },
  {
   "cell_type": "code",
   "execution_count": null,
   "metadata": {},
   "outputs": [],
   "source": [
    "print(f\"m ({m}) multiplied by n ({n}) is {m*n}\")"
   ]
  },
  {
   "cell_type": "markdown",
   "metadata": {},
   "source": [
    "This is similar to *%-formatting* but is more concise and easier to read."
   ]
  },
  {
   "cell_type": "code",
   "execution_count": null,
   "metadata": {},
   "outputs": [],
   "source": [
    "point = (1, 2, 3)\n",
    "\n",
    "x, y, z = point\n",
    "\n",
    "print(f\"x = {x}, y = {y}, z = {z}\")"
   ]
  },
  {
   "cell_type": "code",
   "execution_count": null,
   "metadata": {},
   "outputs": [],
   "source": [
    "point = (1, 2, 3)\n",
    "\n",
    "x, y, z = point\n",
    "\n",
    "print(\"x is %.2f, y is %i, z is %i\" % (x, y, z))"
   ]
  },
  {
   "cell_type": "markdown",
   "metadata": {},
   "source": [
    "## List Comprehensions\n",
    "\n",
    "List comprehensions are a more concise way for creating lists. They are similar to set builder notation in mathematics: \n",
    "\n",
    "$$ S = \\{ x^2 | x \\in N, x < 16 \\} $$"
   ]
  },
  {
   "cell_type": "code",
   "execution_count": null,
   "metadata": {},
   "outputs": [],
   "source": [
    "l = []\n",
    "for x in range(16):\n",
    "    l.append(x ** 2)\n",
    "print(l)"
   ]
  },
  {
   "cell_type": "markdown",
   "metadata": {},
   "source": [
    "Or, more concisely:"
   ]
  },
  {
   "cell_type": "code",
   "execution_count": null,
   "metadata": {},
   "outputs": [],
   "source": [
    "l = [x ** 2 for x in range(16)]\n",
    "print(l)"
   ]
  },
  {
   "cell_type": "markdown",
   "metadata": {},
   "source": [
    "Just like set builder notation, list comprehensions have two main parts: your **output expression** and your **filter**, or predicate:\n",
    "\n",
    "```\n",
    "[<output expression> for <predicate/filter>]\n",
    "```\n",
    "\n",
    "We can make list comprehensions more powerful by also utilising an `if` phrase. Say we wanted a list containing the squares of the first 15 **even** natural numbers. In set builder notation, we would write:\n",
    "\n",
    "$$ S = \\{ x^2 | x \\in N, x < 32, x \\text{ is even} \\} $$"
   ]
  },
  {
   "cell_type": "code",
   "execution_count": null,
   "metadata": {},
   "outputs": [],
   "source": [
    "l = [x ** 2 for x in range(32) if x % 2 == 0]\n",
    "print(l)"
   ]
  },
  {
   "cell_type": "code",
   "execution_count": null,
   "metadata": {},
   "outputs": [],
   "source": [
    "l = [(x, 2*x) for x in range(5)]\n",
    "print(l)"
   ]
  },
  {
   "cell_type": "markdown",
   "metadata": {},
   "source": [
    "## Function decorators\n",
    "\n",
    "Function decorators modify the behaviour of functions without altering the original function. For instance, we can write a decorator to run some tasks before and after the original function runs."
   ]
  },
  {
   "cell_type": "code",
   "execution_count": null,
   "metadata": {},
   "outputs": [],
   "source": [
    "def markerDecorator(func):\n",
    "    def inner(*args, **kwargs):\n",
    "        print(\"Running the function...\")\n",
    "\n",
    "        valueToReturn = func(*args, **kwargs)\n",
    "\n",
    "        print(f\"Function finished. Returned {valueToReturn}.\")\n",
    "\n",
    "        return valueToReturn\n",
    "\n",
    "    return inner\n",
    "\n",
    "@markerDecorator\n",
    "def adder(l):\n",
    "    sum  = 0\n",
    "    for v in l: sum += v\n",
    "    return sum\n",
    "\n",
    "@markerDecorator\n",
    "def multiplier(l):\n",
    "    prod = 1\n",
    "    for v in l: prod *= v\n",
    "    return prod\n",
    "\n",
    "multiplier([1,2,3,4])"
   ]
  },
  {
   "cell_type": "code",
   "execution_count": null,
   "metadata": {},
   "outputs": [],
   "source": []
  }
 ],
 "metadata": {
  "file_extension": ".py",
  "kernelspec": {
   "display_name": "Python 3.7.6 64-bit",
   "name": "python37664bit59947ada8257449ab53b6c09da7f61e2"
  },
  "language_info": {
   "codemirror_mode": {
    "name": "ipython",
    "version": 3
   },
   "name": "python",
   "version": "3.7.6-final"
  },
  "mimetype": "text/x-python",
  "name": "python",
  "npconvert_exporter": "python",
  "pygments_lexer": "ipython3",
  "version": 3
 },
 "nbformat": 4,
 "nbformat_minor": 2
}
