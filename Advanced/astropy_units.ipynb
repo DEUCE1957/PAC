{
 "cells": [
  {
   "cell_type": "markdown",
   "metadata": {},
   "source": [
    "# Using AstroPy units and constants\n",
    "Here are a couple of examples showing how to use AstroPy 'quantities' objects to simplify calculations, and get the units right!\n",
    "\n",
    "Let's first estimate the **acceleration due to gravity on Earth**, $g$ using Newton's law of gravitation:\n",
    "$$\n",
    "F = mg = \\frac{GMm}{r^2}\n",
    "$$\n",
    "AstroPy contains a large list of [predefined units](http://docs.astropy.org/en/stable/units/#module-astropy.units) that will help us perform the calculation and it can cast the result into a suitable form for our purposes.  Of course one could simply perform the calculation in Python as you would on a calculator and keep track of the units in another way, but AstroPy lets you do both of these tasks at the same time.\n",
    "\n",
    "We start by importing the AstroPy units and the constant $G$ (we only need the one constant for this demonstration):"
   ]
  },
  {
   "cell_type": "code",
   "execution_count": 1,
   "metadata": {},
   "outputs": [],
   "source": [
    "import astropy.units as u\n",
    "from astropy.constants import G"
   ]
  },
  {
   "cell_type": "markdown",
   "metadata": {},
   "source": [
    "Just to check, let's query the unit  of one earth mass:"
   ]
  },
  {
   "cell_type": "code",
   "execution_count": 2,
   "metadata": {},
   "outputs": [
    {
     "data": {
      "text/latex": [
       "$\\mathrm{M_{\\oplus}}$"
      ],
      "text/plain": [
       "Unit(\"earthMass\")"
      ]
     },
     "execution_count": 2,
     "metadata": {},
     "output_type": "execute_result"
    }
   ],
   "source": [
    "u.Mearth"
   ]
  },
  {
   "cell_type": "markdown",
   "metadata": {},
   "source": [
    "Note that this is not in SI -- it's a unit itself, but one can convert units using the `.to()` method, eg:"
   ]
  },
  {
   "cell_type": "code",
   "execution_count": 3,
   "metadata": {
    "scrolled": true
   },
   "outputs": [
    {
     "data": {
      "text/latex": [
       "$2.1066897 \\times 10^{26} \\; \\mathrm{oz}$"
      ],
      "text/plain": [
       "<Quantity 2.1066896624984312e+26 oz>"
      ]
     },
     "execution_count": 3,
     "metadata": {},
     "output_type": "execute_result"
    }
   ],
   "source": [
    "(1 * u.Mearth).to(u.imperial.ounce)"
   ]
  },
  {
   "cell_type": "markdown",
   "metadata": {},
   "source": [
    "OK, let's get back to the problem and calculate $g$:"
   ]
  },
  {
   "cell_type": "code",
   "execution_count": 4,
   "metadata": {},
   "outputs": [],
   "source": [
    "accel = G * u.Mearth/(u.Rearth)**2"
   ]
  },
  {
   "cell_type": "code",
   "execution_count": 5,
   "metadata": {},
   "outputs": [
    {
     "data": {
      "text/latex": [
       "$6.67408 \\times 10^{-11} \\; \\mathrm{\\frac{m^{3}\\,M_{\\oplus}}{kg\\,R_{\\oplus}^{2}\\,s^{2}}}$"
      ],
      "text/plain": [
       "<Quantity 6.67408e-11 earthMass m3 / (earthRad2 kg s2)>"
      ]
     },
     "execution_count": 5,
     "metadata": {},
     "output_type": "execute_result"
    }
   ],
   "source": [
    "accel"
   ]
  },
  {
   "cell_type": "markdown",
   "metadata": {},
   "source": [
    "We are working in rather awkward units now, but we can decompose the expression into something more recongnisable with the decompose() method:"
   ]
  },
  {
   "cell_type": "code",
   "execution_count": 6,
   "metadata": {},
   "outputs": [
    {
     "data": {
      "text/latex": [
       "$9.7983981 \\; \\mathrm{\\frac{m}{s^{2}}}$"
      ],
      "text/plain": [
       "<Quantity 9.798398133669465 m / s2>"
      ]
     },
     "execution_count": 6,
     "metadata": {},
     "output_type": "execute_result"
    }
   ],
   "source": [
    "accel.decompose()"
   ]
  },
  {
   "cell_type": "markdown",
   "metadata": {},
   "source": [
    " --- that's better, around 9.8 m/s$^2$ as expected.  \n",
    " \n",
    "Now let's compute the **orbital period of a satellite in low Earth orbit**. We start with the basic relation for the centrapetal force supplied by gravity: $$m\\omega^2 r = \\frac{GMm}{r^2}.$$  Rearranging this expression we get the orbital period, $T$, to be\n",
    "$$ T = 2\\pi \\left(\\frac{r^3}{GM}\\right)^{1/2}.$$  Let's compute this period, in hours, using the Earth's radius for $r$ and the Earth's mass for $M$:"
   ]
  },
  {
   "cell_type": "code",
   "execution_count": 7,
   "metadata": {},
   "outputs": [],
   "source": [
    "from numpy import pi\n",
    "T = 2 * pi * ( u.Rearth**3 / (G*u.Mearth) )**(1/2)"
   ]
  },
  {
   "cell_type": "markdown",
   "metadata": {},
   "source": [
    "Again, $T$ will be in composite units, so let's cast it explicitly into hours:"
   ]
  },
  {
   "cell_type": "code",
   "execution_count": 8,
   "metadata": {},
   "outputs": [
    {
     "data": {
      "text/latex": [
       "$1.4081389 \\; \\mathrm{h}$"
      ],
      "text/plain": [
       "<Quantity 1.4081388759284184 h>"
      ]
     },
     "execution_count": 8,
     "metadata": {},
     "output_type": "execute_result"
    }
   ],
   "source": [
    "T.to(u.hour)"
   ]
  },
  {
   "cell_type": "code",
   "execution_count": 9,
   "metadata": {},
   "outputs": [
    {
     "data": {
      "text/latex": [
       "$84.488333 \\; \\mathrm{min}$"
      ],
      "text/plain": [
       "<Quantity 84.4883325557051 min>"
      ]
     },
     "execution_count": 9,
     "metadata": {},
     "output_type": "execute_result"
    }
   ],
   "source": [
    "T.to(u.minute)"
   ]
  },
  {
   "cell_type": "markdown",
   "metadata": {},
   "source": [
    "Real spacecraft are well above the surface, so let's add 275 km to the radius:"
   ]
  },
  {
   "cell_type": "code",
   "execution_count": 10,
   "metadata": {},
   "outputs": [],
   "source": [
    "T = 2 * pi * ( (1*u.Rearth + 275*u.km)**3 / (G*u.Mearth) )**(1/2)"
   ]
  },
  {
   "cell_type": "code",
   "execution_count": 11,
   "metadata": {},
   "outputs": [
    {
     "data": {
      "text/latex": [
       "$90.01105 \\; \\mathrm{min}$"
      ],
      "text/plain": [
       "<Quantity 90.01105037288028 min>"
      ]
     },
     "execution_count": 11,
     "metadata": {},
     "output_type": "execute_result"
    }
   ],
   "source": [
    "T.to(u.minute)"
   ]
  },
  {
   "cell_type": "markdown",
   "metadata": {},
   "source": [
    "Now print that out nicely, using a format statement to restrict us to three significant figures:"
   ]
  },
  {
   "cell_type": "code",
   "execution_count": 12,
   "metadata": {},
   "outputs": [
    {
     "name": "stdout",
     "output_type": "stream",
     "text": [
      "The period of a satellite in low Earth orbit is about 90.0 min\n"
     ]
    }
   ],
   "source": [
    "print(\"The period of a satellite in low Earth orbit is about {:.3}\".format(T.to(u.minute)))"
   ]
  }
 ],
 "metadata": {
  "kernelspec": {
   "display_name": "Python 3",
   "language": "python",
   "name": "python3"
  },
  "language_info": {
   "codemirror_mode": {
    "name": "ipython",
    "version": 3
   },
   "file_extension": ".py",
   "mimetype": "text/x-python",
   "name": "python",
   "nbconvert_exporter": "python",
   "pygments_lexer": "ipython3",
   "version": "3.6.7"
  }
 },
 "nbformat": 4,
 "nbformat_minor": 2
}
