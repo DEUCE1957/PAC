{
 "cells": [
  {
   "cell_type": "code",
   "execution_count": null,
   "metadata": {
    "scrolled": true
   },
   "outputs": [],
   "source": [
    "## three dimensional simulation of the three-body problem\n",
    "## Graham Woan vPython 7 version 2018\n",
    "from vpython import *\n",
    "import numpy as np\n",
    "\n",
    "scene.width = 900\n",
    "scene.height = 700\n",
    "\n",
    "scene.caption = \"\"\"Three bodies interacting under gravity.  \n",
    "Right button drag to rotate \"camera\" to view scene. To zoom, drag with middle button or use scroll wheel. \n",
    "On a two-button mouse, middle is left + right.\n",
    "Gestures: pinch/extend to zoom, swipe or two-fingers to rotate.\"\"\"\n",
    "\n",
    "## set up the masses\n",
    "m1 = sphere(pos=vector( 10,0,0),vel=vector( 0.0, 1.0,0.0),\n",
    "              mass=10.0, color=color.red,\n",
    "              make_trail=True, interval=2, retain=200)\n",
    "m2 = sphere(pos=vector(-10,0,3),vel=vector(-0.3,-1.0,0.5),\n",
    "              mass=10.0, color=color.yellow,\n",
    "              make_trail=True, interval=2, retain=200)\n",
    "m3 = sphere(pos=vector(  0,0,0),vel=vector(   0, 0.1,0.1),\n",
    "              mass=10.0, color=color.white,\n",
    "              make_trail=True, interval=2, retain=200)\n",
    "\n",
    "## move to the centre of mass frame and adjust sizes for constant density\n",
    "vcentre=(m1.mass*m1.vel+m2.mass*m2.vel+m3.mass*m3.vel)/(m1.mass+m2.mass+m3.mass)\n",
    "for a in [m1, m2, m3]:\n",
    "    a.vel -= vcentre\n",
    "    a.radius = 0.5*a.mass**(1.0/3.0)\n",
    "\n",
    "def dydt(y):\n",
    "## determine the derivative of the state vector y\n",
    "    deriv = np.zeros(6, dtype=vector)\n",
    "    r12=y[0]-y[2]; r23=y[2]-y[4]; r31=y[4]-y[0]\n",
    "    r12c=r12/mag(r12)**3; r23c=r23/mag(r23)**3; r31c=r31/mag(r31)**3\n",
    "    deriv[1] = -m2.mass*r12c + m3.mass*r31c\n",
    "    deriv[3] = -m3.mass*r23c + m1.mass*r12c\n",
    "    deriv[5] = -m1.mass*r31c + m2.mass*r23c\n",
    "    deriv[0:5:2] = y[1:6:2] ## just copy the three velocities from y\n",
    "    return deriv\n",
    "\n",
    "dt = 0.1 ## the time step.  Keep this as small as possible.\n",
    "y = np.zeros((6), dtype=vector) # set up the state vector, holding the positions and velovities of the three bodies\n",
    "    \n",
    "while True:\n",
    "    rate(200)\n",
    "## solve using forth-order Runge Kutta.  See CHOPF p62.\n",
    "    y = [m1.pos,m1.vel,m2.pos,m2.vel,m3.pos,m3.vel]\n",
    "    k1 = dt*dydt(y)\n",
    "    k2 = dt*dydt(y+k1/2.0)\n",
    "    k3 = dt*dydt(y+k2/2.0);  k4 = dt*dydt(y+k3)\n",
    "    dy = k1/6.0 + k2/3.0 +k3/3.0 + k4/6.0\n",
    "## update the animation\n",
    "    m1.pos += dy[0]; m1.vel += dy[1]\n",
    "    m2.pos += dy[2]; m2.vel += dy[3]\n",
    "    m3.pos += dy[4]; m3.vel += dy[5]"
   ]
  },
  {
   "cell_type": "code",
   "execution_count": null,
   "metadata": {
    "collapsed": true
   },
   "outputs": [],
   "source": []
  }
 ],
 "metadata": {
  "kernelspec": {
   "display_name": "VPython",
   "language": "python",
   "name": "vpython"
  },
  "language_info": {
   "codemirror_mode": {
    "name": "ipython",
    "version": 3
   },
   "file_extension": ".py",
   "mimetype": "text/x-python",
   "name": "python",
   "nbconvert_exporter": "python",
   "pygments_lexer": "ipython3",
   "version": "3.6.4"
  }
 },
 "nbformat": 4,
 "nbformat_minor": 2
}
