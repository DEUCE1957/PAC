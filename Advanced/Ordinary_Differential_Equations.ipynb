{
 "cells": [
  {
   "cell_type": "markdown",
   "metadata": {},
   "source": [
    "# Advanced:\n",
    "# Solving ODEs with numpy and scipy"
   ]
  },
  {
   "cell_type": "markdown",
   "metadata": {},
   "source": [
    "Many differential equations encountered in Physics are not analytically solvable and hence numerical methods must be employed to obtain solutions. The Scipy library has many integration functions which are designed for solving ODE's."
   ]
  },
  {
   "cell_type": "markdown",
   "metadata": {},
   "source": [
    "# Using odeint:\n"
   ]
  },
  {
   "cell_type": "markdown",
   "metadata": {},
   "source": [
    "Suppose we have the differential equation: \n",
    "$\\frac{dy}{dt} = y^2 + t^2 $ where $y$ is some function of $t$.With the initial condition $y(0) = 1$."
   ]
  },
  {
   "cell_type": "markdown",
   "metadata": {},
   "source": [
    "We can solve this ode by using the following code:"
   ]
  },
  {
   "cell_type": "markdown",
   "metadata": {},
   "source": [
    "    \n",
    "    import scipy.integrate    import numpy as np\n",
    "    \n",
    "    #Takes as input y and t and returns the derivate dy/dt for those values\n",
    "    def diffeq(y,t):\n",
    "        x1 = y\n",
    "        dydt = [x1**2+t**2]\n",
    "        return dydt\n",
    "    dt,tmin,tmax = 0.1,0,200\n",
    "    step = int((tmax-tmin)/dt)\n",
    "    t = np.linspace(tmin,tmax,step) #Start, Finish, No. of Steps\n",
    "    y0 = 1\n",
    "    sol = integrate.odeint(diffeq,y0,t) # diffeq : Model [returns derivs at requests y and t values], \n",
    "                                        # y0 : Initial Condition, t: Times to solve at\n",
    "    "
   ]
  },
  {
   "cell_type": "markdown",
   "metadata": {},
   "source": [
    "We need to define the function diffeq because we need to tell odeint what our differential equation we want to solve is. We also need to specify over what time interval we want the solution and the initial condition for our problem. To do this we pick a max and min time as well as the time step dt. Finally, sol will be a list of the same size as t which will contain the desired solution. Note that dydt in the diffeq funciton is in the format of a list, so one can use it to solve a system of ODEs by specifying x1,x2 and so on."
   ]
  },
  {
   "cell_type": "markdown",
   "metadata": {},
   "source": [
    "Example: say you wanted to solve:\n",
    "$\\frac{dy}{dt} = z+ zy ; \\frac{dz}{dt} = sin(z)*y$"
   ]
  },
  {
   "cell_type": "markdown",
   "metadata": {},
   "source": [
    "Then your diffeq function should look like:\n",
    "    def diffeq(y,t):\n",
    "    x1,x2 = y\n",
    "    dydt =[x2+x2*x1,np.sin(x2)*x1]\n",
    "    return dydt"
   ]
  },
  {
   "cell_type": "markdown",
   "metadata": {},
   "source": [
    "# Exercise 1 Van der Pol Oscillator"
   ]
  },
  {
   "cell_type": "markdown",
   "metadata": {},
   "source": [
    "The Van der Pol equation describes certain non-linear oscillations in an electronic circuit known as \"relaxation-oscillations\".\n",
    "It obeys the following differential equation:\n",
    "$$\n",
    "\\frac{d^2y}{dt^2}-\\mu(1-y^2)\\frac{dy}{dt}+y=0\\, \\text{where} \\,\\mu\\, \\text{is some constant}.\n",
    "$$"
   ]
  },
  {
   "cell_type": "markdown",
   "metadata": {},
   "source": [
    "1) To start off, set $\\mu = 1$ and solve the Van der Pol equation. Make a plot of $y$ vs $t$ as well as $y$ vs $\\frac{dy}{dt}$  (Hint: how can you transform a second order ODE into two first order ODEs ?)"
   ]
  },
  {
   "cell_type": "code",
   "execution_count": null,
   "metadata": {},
   "outputs": [],
   "source": [
    "import scipy.integrate as integrate\n",
    "import numpy as np\n",
    "import matplotlib.pyplot as plt\n",
    "import pprint as pp\n",
    "\n",
    "# So you have y'' - (1-y^2)y'+y=0\n",
    "# Then you have the first equation y'=z\n",
    "# Then\n",
    "# Z'-(1-y^2)z+y=0\n",
    "# So these are the two equations\n",
    "#z'' - (1-y^2)z + y = 0\n",
    "#z = dydt\n",
    "\n",
    "\n",
    "# dy / dt = z\n",
    "# z'' - (1-y^2)z + y = 0\n",
    "def vect(y,t):\n",
    "    x1,x2 = y\n",
    "    dydt = [x2,-x1+mu*(1-x1*x1)*x2]\n",
    "    return dydt\n",
    "mu =1\n",
    "dt,tmin,tmax = 0.1,0,200\n",
    "step = int((tmax-tmin)/dt)\n",
    "t = np.linspace(tmin,tmax,step)\n",
    "\n",
    "y0 = [1,1]\n",
    "sol = integrate.odeint(vect,y0,t)\n",
    "fig = plt.figure(figsize = (5,5))\n",
    "#plt.plot(t,sol[:,0])\n",
    "#plt.plot(t,sol[:,1])\n",
    "plt.plot(sol[:,0],sol[:,1])\n",
    "fig = plt.figure(figsize = (5,5))\n",
    "plt.plot(t,sol[:,0])\n",
    "plt.show()"
   ]
  },
  {
   "cell_type": "markdown",
   "metadata": {},
   "source": [
    "2) Solve the equation for a range of values $ 0 < \\mu < 4$ (pick an appropriate step size) and show each $y$ vs $\\frac{dy}{dt}$ plot on the same figure."
   ]
  },
  {
   "cell_type": "code",
   "execution_count": null,
   "metadata": {},
   "outputs": [],
   "source": [
    "# dy / dt = z\n",
    "# z'' - (1-y^2)z + y = 0\n",
    "def vect(y,t):\n",
    "    x1,x2 = y\n",
    "    dydt = [x2,-x1+mu*(1-x1*x1)*x2]\n",
    "    return dydt\n",
    "\n",
    "dt,tmin,tmax = 0.05,0,100\n",
    "step = int((tmax-tmin)/dt)\n",
    "t = np.linspace(tmin,tmax,step)\n",
    "\n",
    "y0 = [1,1]\n",
    "dmu = 0.5\n",
    "step_mu = int(4/dmu)\n",
    "Mu = np.linspace(0,4,step_mu)\n",
    "fig = plt.figure(figsize=(10,10))\n",
    "for mu in Mu:\n",
    "    sol = integrate.odeint(vect,y0,t)\n",
    "    #ax = fig.add_subplot(2,2,mu)\n",
    "    plt.plot(sol[:,0],sol[:,1])\n"
   ]
  },
  {
   "cell_type": "markdown",
   "metadata": {},
   "source": [
    "# Exercise 2 Wag the Dog"
   ]
  },
  {
   "cell_type": "markdown",
   "metadata": {},
   "source": [
    "In this exercise we explore a way to find the allowed energy values of a quantum mechanical operator.\n",
    "Consider the quantum mechanical harmonic oscillator it satisfies the time-independent Schrodinger equation:\n",
    "$$\n",
    "-\\frac{\\hbar^2}{2m} \\frac{d^2\\psi}{dx^2} + \\frac{1}{2} m \\omega^2 x^2 \\psi = E \\psi.\n",
    "$$\n",
    "Introduce a variable change $\\zeta = \\sqrt{\\frac{m \\omega}{\\hbar}}x$, the equation then becomes:\n",
    "$$\n",
    "\\frac{d^2\\psi}{d\\zeta^2} = (\\zeta^2-K)\\psi \\, \\text{, where K is related to the energy by}\\, K =\\frac{2E}{\\hbar \\omega}.\n",
    "$$\n",
    "Hence if we find K we have found the energy of the system. We know that physically sensible solutions to this equation must be normalizable and hence cannot be unbounded as $\\zeta$ gets large. Therefore, if we guess a value of $K$, say $K_0$ and get a function going off to $+\\infty$ this cannot be the value of K. We guess again and pick another value $K_1$ until the function \"flips over\" and now goes off to $-\\infty$ instead. Therefore $K$ is somewhere in between $K_1$ and $K_0$. This process can be repeated to get closer and closer to the actual value of K."
   ]
  },
  {
   "cell_type": "markdown",
   "metadata": {},
   "source": [
    "1)Use this method to obtain the energy of the ground state of the quantum harmonic oscillator (set $\\psi(0) = 1 , \\frac{d\\psi}{d\\zeta}(0) = 0$)."
   ]
  },
  {
   "cell_type": "markdown",
   "metadata": {},
   "source": [
    "2)Find the energy of the first excited state using this method (set $\\psi(0) = 0$ and $\\frac{d\\psi}{d\\zeta}(0) = 1$)."
   ]
  },
  {
   "cell_type": "markdown",
   "metadata": {},
   "source": [
    "3)Find the energy of the second excited state of the quantum harmonic oscillator (set $\\psi(0) = 1 , \\frac{d\\psi}{d\\zeta}(0) = 0$)."
   ]
  },
  {
   "cell_type": "markdown",
   "metadata": {},
   "source": [
    "For all of these consider $-5 \\leq \\zeta \\leq 5$"
   ]
  },
  {
   "cell_type": "markdown",
   "metadata": {},
   "source": [
    "4) Find the ground state energy for this potential to 4 decimal places:\n",
    "$$\n",
    "\\frac{d^2\\psi}{d\\zeta^2} = (-\\frac{2}{(1+\\zeta^2)^\\frac{1}{2}}+K)\\psi.\n",
    "$$\n",
    "Consider $-10 \\leq \\zeta \\leq 10$ and set $\\psi(0) = 1 , \\frac{d\\psi}{d\\zeta}(0) = 0$."
   ]
  },
  {
   "cell_type": "markdown",
   "metadata": {},
   "source": [
    "Answers:\n",
    "1) K = 1\n",
    "2) K = 3\n",
    "3) K = 5\n",
    "4) K = 1.3395"
   ]
  },
  {
   "cell_type": "code",
   "execution_count": null,
   "metadata": {},
   "outputs": [],
   "source": [
    "\n",
    "import numpy as np\n",
    "import matplotlib.pyplot as plt\n",
    "import scipy.integrate as integ\n",
    "#1.33956\n",
    "K = 1.33959\n",
    "#psi''=(t^2-K)psi\n",
    "\n",
    "def vect(y,t):\n",
    "    x1,x2 = y\n",
    "    dydt = [x2,(-2.0*np.power(1+t**2,-0.5)+K)*x1]   # or [x2,(t*t-K)*x1] for the first 3 problems\n",
    "    return dydt\n",
    "\n",
    "dt,tmin,tmax = 0.001,-10,10\n",
    "step = int((tmax-tmin)/dt)\n",
    "t = np.linspace(tmin,tmax,step)\n",
    "y0 = [1,0] # the reason for the different intial conditions comes from the fact that the eigenfunctions we are looking for \n",
    "#have a certain amount of nodes. The ground state is even so we pick the initial condition with initial derivative 0. \n",
    "#While for the ones that are odd we need the other initial condition.\n",
    "sol = integ.odeint(vect,y0,t)\n",
    "plt.plot(t,sol[:,0])"
   ]
  },
  {
   "cell_type": "markdown",
   "metadata": {},
   "source": [
    "# Exercise 3 The Chua equations"
   ]
  },
  {
   "cell_type": "markdown",
   "metadata": {},
   "source": [
    "The Chua circuit is the simplest possible circuit that behaves chaotically, as in it has non-periodic, deterministic behaviour that is very dependent on initial conditions. It satisfies the following ODEs:\n",
    "$$\n",
    "\\frac{dx}{dt} = \\alpha(y-x-\\phi(x))\n",
    "$$\n",
    "$$\n",
    "\\frac{dy}{dt} = x-y+z \n",
    "$$\n",
    "$$\n",
    "\\frac{dz}{dt} = -\\beta y \n",
    "$$"
   ]
  },
  {
   "cell_type": "markdown",
   "metadata": {},
   "source": [
    "Where:"
   ]
  },
  {
   "cell_type": "markdown",
   "metadata": {},
   "source": [
    " $\\phi(x) = m_1 x +m_0-m_1$ if  $x>1$"
   ]
  },
  {
   "cell_type": "markdown",
   "metadata": {},
   "source": [
    "$\\quad \\, \\, \\quad m_0x $ if  $-1 \\leq\\ x \\leq 1 $"
   ]
  },
  {
   "cell_type": "markdown",
   "metadata": {},
   "source": [
    "$\\quad \\, \\, \\quad m_1x-m_0+m_1 $ if  $x < -1 $"
   ]
  },
  {
   "cell_type": "markdown",
   "metadata": {},
   "source": [
    "and $\\alpha$, $\\beta$, $m_0$, $m_1$ are constants."
   ]
  },
  {
   "cell_type": "markdown",
   "metadata": {},
   "source": [
    "1) Solve the Chua equations for $\\alpha = 10$, $\\beta = 16 $, $m_1=-\\frac{5}{7}$, $m_0 = -\\frac{8}{7}$ with initial condition $\\vec{y_0}(0) = (-0.1,0.5,0.5)$. Plot $y$ vs $x$, $z$ vs $y$ and $z$ vs $x$."
   ]
  },
  {
   "cell_type": "markdown",
   "metadata": {},
   "source": [
    "2) Repeat part 1) but change the values of $\\alpha$ to 5,8,9,12."
   ]
  },
  {
   "cell_type": "markdown",
   "metadata": {},
   "source": [
    "To explore the notion of chaos we define a distance between two trajectories.\n",
    "If $\\vec{y_1(t)}$ and $\\vec{y_2(t)}$ are two solutions to the Chua system, then we can define a distance between them as follows:\n",
    "$$\n",
    "d(\\vec{y_1},\\vec{y_2})=\\int_{t_0}^{t_f} | \\vec{y_1}(t)-\\vec{y_2}(t)| dt\n",
    "$$"
   ]
  },
  {
   "cell_type": "markdown",
   "metadata": {},
   "source": [
    "We can use the scipy.integrate function romb to calculate a definite integral from samples of a function:\n",
    "    import scipy.integrate as integrate\n",
    "    integrate.romb(y,dx=dt)\n",
    "Where y is the list containing the values of our function and we set dt to be the same as the time step in this list."
   ]
  },
  {
   "cell_type": "markdown",
   "metadata": {},
   "source": [
    "3) Perturb the initial conditions by some small number $\\epsilon$ for $\\alpha = 10$ plot the function $| \\vec{y_0}(t)-\\vec{y_\\epsilon}(t)|$ and calculate the distance between them. Repeat this exercise for $\\alpha = 5,8,9$ and explain the differences that you see.\n",
    "Note: romb requires that the list containing  the function being integrated has length $2^k + 1$   for some integer $k$ so you may need to change the structure of your list containing the time values."
   ]
  },
  {
   "cell_type": "code",
   "execution_count": null,
   "metadata": {
    "scrolled": false
   },
   "outputs": [],
   "source": [
    "\n",
    "import numpy as np\n",
    "import matplotlib.pyplot as plt\n",
    "import scipy.integrate as integ\n",
    "\n",
    "alpha,m1,m0,beta = 10,-5.0/7.0,-8.0/7.0,16.0 # one can change alpha here to obtain all the different plots int the exercise.\n",
    "\n",
    "def psi(x):      # this function is part of the chua equations\n",
    "    global m1,m0\n",
    "    if x  > 1:\n",
    "        return m1*x +m0 - m1\n",
    "    elif x >= -1 and x <= 1:\n",
    "        return m0*x\n",
    "    elif x < -1:\n",
    "        return m1*x - m0 +m1\n",
    "    \n",
    "    \n",
    "def vect(y,t):\n",
    "    x1,x2,x3 = y\n",
    "    dydt = [alpha*(x2-x1-psi(x1)),x1-x2+x3,-beta*x2]\n",
    "    return dydt\n",
    "    \n",
    "\n",
    "dt = 0.01\n",
    "k = 14\n",
    "step_2 = 2**k+1   #note this is required for the last part with distances because of the romb function you need to redefine your\n",
    "# you need to redefine your time list in terms of the amount of steps instead of tmin tmax\n",
    "#However, for the first part it is fine to define the time the same way as the other problems with odes.\n",
    "tmin = 0\n",
    "tmax_2 = step_2*dt\n",
    "t_2 = np.linspace(tmin,tmax_2,step_2)\n",
    "\n",
    "y0 = [-0.1,0.5,0.5]\n",
    "epsilon = 0.001\n",
    "y0_2 = [-0.1+epsilon,0.5+epsilon,0.5+epsilon]\n",
    "sol = integ.odeint(vect,y0,t_2)\n",
    "sol_2 = integ.odeint(vect,y0_2,t_2)\n",
    "\n",
    "\n",
    "distance_func = np.power(np.power(sol[:,0]-sol_2[:,0],2)+np.power(sol[:,1]-sol_2[:,1],2)+np.power(sol[:,2]-sol_2[:,2],2),0.5)\n",
    "\n",
    "\n",
    "\n",
    "distance = integ.romb(distance_func,dx=dt)\n",
    "plt.figure()\n",
    "plt.plot(t_2,distance_func) # plotting the distance function\n",
    "plt.figure()\n",
    "plt.plot(sol[:,0],sol[:,1]) # plotting for the first part\n",
    "print(\"This is the distance between the two trajectories: \"+str(distance))\n",
    "\n",
    "#one can see that the distance for the chaotic regime increases very significantly compared with the initial change in initial conditions\n",
    "#For alpha = 5 the system converges to a point and hence the distance as a function of time goes to 0.\n",
    "#For alpha = 9 the system is periodic and therefore the distance does not increase to a very large value\n",
    "#Note that this is not a perfect example of chaotic behaviour to get a more precise measure of when our system is chaotic we have to use Lyapunov exponents."
   ]
  }
 ],
 "metadata": {
  "kernelspec": {
   "display_name": "Python 3",
   "language": "python",
   "name": "python3"
  },
  "language_info": {
   "codemirror_mode": {
    "name": "ipython",
    "version": 3
   },
   "file_extension": ".py",
   "mimetype": "text/x-python",
   "name": "python",
   "nbconvert_exporter": "python",
   "pygments_lexer": "ipython3",
   "version": "3.8.1"
  }
 },
 "nbformat": 4,
 "nbformat_minor": 2
}
