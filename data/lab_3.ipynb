{
 "cells": [
  {
   "cell_type": "markdown",
   "metadata": {
    "deletable": false,
    "editable": false,
    "nbgrader": {
     "checksum": "4f07f49574a8963c9b87cf8947d7fb36",
     "grade": false,
     "grade_id": "cell-513963dffd022dec",
     "locked": true,
     "schema_version": 1,
     "solution": false
    }
   },
   "source": [
    "# Data Fundamentals (H)\n",
    "John H. Williamson -- Session 2018/2019\n",
    "\n",
    "----\n",
    "<font color=\"red\"> Read the submission instructions at the bottom of this notebook **carefully** before submitting </font> \n",
    "\n",
    "**This submission must be your own work; you will have to make a Declaration of Originality on submission.**\n",
    "\n",
    "Note that marks shown when tests pass are **provisional** and could change after grading."
   ]
  },
  {
   "cell_type": "code",
   "execution_count": null,
   "metadata": {},
   "outputs": [],
   "source": [
    "NAME = \"\" ## fill these in \n",
    "STUDENT_ID = \"\"  ## e.g. 2222222"
   ]
  },
  {
   "cell_type": "markdown",
   "metadata": {},
   "source": [
    "---"
   ]
  },
  {
   "cell_type": "markdown",
   "metadata": {
    "deletable": false,
    "editable": false,
    "nbgrader": {
     "checksum": "5faf1fabe347a684580c8b364050aafb",
     "grade": false,
     "grade_id": "cell-bddb07b313b58974",
     "locked": true,
     "schema_version": 1,
     "solution": false
    }
   },
   "source": [
    "## Lab 3: Assessed\n",
    "# Scientific visualisation"
   ]
  },
  {
   "cell_type": "markdown",
   "metadata": {
    "deletable": false,
    "editable": false,
    "nbgrader": {
     "checksum": "9b22ffcfa71b3577723c62ec49902d9f",
     "grade": false,
     "grade_id": "cell-94b2a422aa5250c6",
     "locked": true,
     "schema_version": 1,
     "solution": false
    }
   },
   "source": [
    "\n",
    "### Notes\n",
    "It is recommended to keep the lecture notes open while doing this lab exercise.\n",
    "\n",
    "I recommend reading the lecture notes supplement *\"Criticising Visualisations\"* on Moodle as a quick reference summary. \n",
    "\n",
    "**This exercise is assessed**. Make sure you upload your solution by the deadline. See the notes at the bottom of this notebook for submission guidance.  This exercise is manually graded. Marks are out of 60. Each cell shows the marks available at the top (e.g. `## 5 marks`). `summarise_marks()` will not do anything in this lab, as there is no automarking.\n",
    "\n",
    "### References\n",
    "If you are stuck, the following resources are very helpful:\n",
    "\n",
    "* [Introduction to Matplotlib](https://jakevdp.github.io/PythonDataScienceHandbook/04.00-introduction-to-matplotlib.html)\n",
    "* [Matplotlib command summary](https://matplotlib.org/api/pyplot_summary.html)\n",
    "\n",
    "\n"
   ]
  },
  {
   "cell_type": "code",
   "execution_count": null,
   "metadata": {
    "deletable": false,
    "editable": false,
    "nbgrader": {
     "checksum": "4051e7b62857c81fc32a6fd09c0305de",
     "grade": false,
     "grade_id": "cell-6e084329b4983426",
     "locked": true,
     "schema_version": 1,
     "solution": false
    }
   },
   "outputs": [],
   "source": [
    "# Standard imports\n",
    "# Make sure you run this cell!\n",
    "from __future__ import print_function, division\n",
    "import numpy as np  # NumPy\n",
    "\n",
    "# make the plots look good inline\n",
    "%matplotlib notebook\n",
    "# Set up Matplotlib\n",
    "import matplotlib as mpl   \n",
    "import matplotlib.pyplot as plt\n",
    "print(\"Everything imported OK\")\n"
   ]
  },
  {
   "cell_type": "markdown",
   "metadata": {},
   "source": [
    "## Purpose of this lab\n",
    "This lab should help you:\n",
    "* understand how to use Matplotlib for basic plotting tasks\n",
    "* create simple, clean and correct 2D plots of two variables \n",
    "* create plots with multiple conditions\n",
    "* plot basic statistics of datasets, representing uncertainty appropriately\n",
    "* explicitly criticise existing visualisations and  suggest and implement concrete suggestions to improve them\n"
   ]
  },
  {
   "cell_type": "markdown",
   "metadata": {},
   "source": [
    "# matplotlib Tutorial\n",
    "We'll go through the first example from the lecture notes. You'll need to apply these ideas yourself later, so make sure you understand what happens here. This part of the lab is for information, and is not part of the assessment.\n",
    "\n",
    "**Follow this tutorial carefully before attempting the lab exercise below**\n",
    "\n",
    "In this example, the plotting commands are split up among notebook cells so that each step can be explained. In your code, just have all of the commands in one cell, to avoid having to scroll up and down as you make changes.\n",
    "\n",
    "## Some data\n",
    "This data is synthetic. It's a simple trigonometric function; the details don't particularly matter."
   ]
  },
  {
   "cell_type": "code",
   "execution_count": null,
   "metadata": {},
   "outputs": [],
   "source": [
    "# a simple function, returns pulses with a shape determined by k\n",
    "def pulse(x, k):\n",
    "    return np.cos(x) * np.exp(np.cos(x) * k - k)\n",
    "\n",
    "## generate an x value to be transformed\n",
    "x = np.linspace(-3*np.pi, 3 * np.pi, 500)"
   ]
  },
  {
   "cell_type": "markdown",
   "metadata": {},
   "source": [
    "## Figures\n",
    "To begin any plotting we must create a **figure**, which is a \"blank canvas\" onto which we can add visualisations. **Important: the visualisation will always appear in the output of whichever cell has the `plt.figure()` call.** As a consequence, all of the commands below will affect in the output of the cell below.\n",
    "\n",
    "When you go through the various steps below, scroll back up to this cell to see their effect. Note that usually all plotting commands go in *one* cell, so we don't end up scrolling about."
   ]
  },
  {
   "cell_type": "code",
   "execution_count": null,
   "metadata": {},
   "outputs": [],
   "source": [
    "fig = plt.figure()  # create a new figure. It will be blank.\n",
    "\n",
    "## If you want a different size of figure, you can use:\n",
    "# fig = plt.figure(figsize=(3,3)) # quite small\n",
    "# the default size set here is good for this exercise"
   ]
  },
  {
   "cell_type": "markdown",
   "metadata": {},
   "source": [
    "## Axes\n",
    "To draw anything, we must define **axes**. Each axes is a facet of a plot. It has a coordinate system which can be used to draw data. \n",
    "\n",
    "The call to create a new axis is formatted `fig.add_subplot(rows, columns, index)` which will create a subplot in a matrix of axes indexed by the index. The index increases column-wise, then row-wise, and starts from *1* (not 0!)\n",
    "\n",
    "For example, we could create a 3x2 array of plots, and select the middle-left plot\n",
    "using `plt.add_subplot(3, 2, 3)`\n",
    "\n",
    "        --------\n",
    "       | 1 | 2 |\n",
    "       | 3 | 4 |\n",
    "       | 5 | 6 |\n",
    "       ---------\n",
    "\n",
    "Most of the time, though, we just want one axes that fills the figure and `fig.add_subplot(1,1,1)` does that. The object it returns is what we use for all subsequent plotting."
   ]
  },
  {
   "cell_type": "code",
   "execution_count": null,
   "metadata": {},
   "outputs": [],
   "source": [
    "ax = fig.add_subplot(1, 1, 1)  \n",
    "# create a new subplot, returning a set of axes\n",
    "# look above ^ ^ at the figure. You should see the axes appear"
   ]
  },
  {
   "cell_type": "markdown",
   "metadata": {},
   "source": [
    "\n",
    "We make a line plot of `x` against `f(x, k)` for a few fixed values of `k`.\n",
    "Each subsequent plot will be a new color, and all of the plots will be overlaid on the axes\n",
    "\n",
    "`ax.plot(x,y)` is the basic line plotting command. It is called on an axes object.\n",
    "\n",
    "Note that the `label=` gives a label that the `legend` command will use to label the graph afterwards. Always label plots if you want readers to be able to distinguish them."
   ]
  },
  {
   "cell_type": "code",
   "execution_count": null,
   "metadata": {},
   "outputs": [],
   "source": [
    "ax.cla()  # cla means to CLear Axes. \n",
    "# it does nothing the first time we run it, but it will clear the plot and redraw if\n",
    "# you run this cell multiple times. Try commenting it out and running this cell twice!\n",
    "\n",
    "\n",
    "ax.plot(x, pulse(x,1), label='k=1')\n",
    "ax.plot(x, pulse(x, 5), label='k=5')\n",
    "ax.plot(x, pulse(x, 100), label='k=100')\n",
    "\n",
    "# you can adjust the styling of the plot manually: \n",
    "#   here the color is black (\"k\") \n",
    "#   and the linestyle is dotted (\":\")\n",
    "ax.plot(x, pulse(x, 500), label='k=500', color='k', linestyle=':')\n",
    "\n",
    "## note that there are several built-in colors called\n",
    "# C0, C1, C2, C3, C4, C5, and C6\n",
    "# they will generally look good\n",
    "# try changing the 'k' above to 'C6'"
   ]
  },
  {
   "cell_type": "markdown",
   "metadata": {},
   "source": [
    "**Look above to see the result**. Notice the different colouring. Repeated plots on one axis create new **layers** in the visualisation."
   ]
  },
  {
   "cell_type": "markdown",
   "metadata": {},
   "source": [
    "Now we can add **labels** to the plot. There should always be a label for the x-axis, y-axis and a title for the axes. We should also have a **legend** if multiple layers are used. `ax.legend()` will draw one. It can be configured in many ways, but the defaults are fine here."
   ]
  },
  {
   "cell_type": "code",
   "execution_count": null,
   "metadata": {},
   "outputs": [],
   "source": [
    "# label the plot \n",
    "ax.set_xlabel(\"Phase (radians)\")  # x-axis label\n",
    "ax.set_ylabel(\"Amplitude\")        # y-axis label\n",
    "ax.set_title(\"Pulse wave function for various $k$\")  # title of plot (appears above plot)\n",
    "\n",
    "# create a legend (key) for the plot, using the labels specified\n",
    "# in the ax.plot() calls, like ax.plot(x,y, label=\"xy\")\n",
    "ax.legend()"
   ]
  },
  {
   "cell_type": "markdown",
   "metadata": {},
   "source": [
    "By default, the scaling of the axis will be adjusted to fit the data. This isn't always a good idea, so you can adjust it manually. The axis limits are set by `ax.set_xlim(min,max)` and `ax.set_ylim(min,max)` and these adjust the scaling of the axes. This configures the **coords** used to draw data.\n",
    "\n",
    "You can try changing these to see different parts of the curve.\n",
    "\n",
    "**Note that you don't need to call the plot commands again when you update the axis limits.**"
   ]
  },
  {
   "cell_type": "code",
   "execution_count": null,
   "metadata": {},
   "outputs": [],
   "source": [
    "## set the limits of the plot\n",
    "# (if this is omitted, sensible autoscaling will be applied)\n",
    "ax.set_xlim(np.min(x), np.max(x))\n",
    "ax.set_ylim(-0.25, 1.2)"
   ]
  },
  {
   "cell_type": "markdown",
   "metadata": {},
   "source": [
    "### Tweaking\n",
    "We can tweak the plot in many ways. Try some of the below."
   ]
  },
  {
   "cell_type": "code",
   "execution_count": null,
   "metadata": {},
   "outputs": [],
   "source": [
    "# grid \n",
    "ax.grid(True) # or False to turn it off"
   ]
  },
  {
   "cell_type": "code",
   "execution_count": null,
   "metadata": {},
   "outputs": [],
   "source": [
    "# frame\n",
    "ax.set_frame_on(False) # or True to turn it back on"
   ]
  },
  {
   "cell_type": "code",
   "execution_count": null,
   "metadata": {},
   "outputs": [],
   "source": [
    "ax.set_xticks([-10, -5, 0, 5, 10]) # Tick positions on the x axis\n",
    "ax.set_yticks([0,0.5,1.0]) # and on the y-axis"
   ]
  },
  {
   "cell_type": "code",
   "execution_count": null,
   "metadata": {},
   "outputs": [],
   "source": [
    "# this is a fancier tick adjustment\n",
    "# Tick positions on the x axis\n",
    "ax.set_xticks([-2*np.pi, -np.pi, 0, np.pi, 2*np.pi]) \n",
    "\n",
    "# we can relabel the ticks using the same order. \n",
    "# LaTeX formulae work if inside $ symbols\n",
    "ax.set_xticklabels([\"$-2\\pi$\", \"$-\\pi$\", \"0\", \"$\\pi$\", \"$2\\pi$\"])"
   ]
  },
  {
   "cell_type": "markdown",
   "metadata": {},
   "source": [
    "The standard colours in matplotlib are shown below (you can also specify custom colours)"
   ]
  },
  {
   "cell_type": "code",
   "execution_count": null,
   "metadata": {},
   "outputs": [],
   "source": [
    "## Standard colours\n",
    "fig = plt.figure(figsize=(10,2))\n",
    "ax = fig.add_subplot(1,1,1)\n",
    "fig.set_facecolor(\"#f0f0f0\")  # can always use Hex colors, or floating point arrays\n",
    "for i,col in enumerate([\"C0\", \"C1\", \"C2\", \"C3\", \"C4\", \"C5\", \"C6\", \"C7\", \n",
    "                        \"r\", \"g\", \"b\", \"c\", \"m\", \"y\", \"k\", \"w\"]):\n",
    "    \n",
    "    # plot, and add some simple text\n",
    "    ax.plot(i, 0.5, c=col, marker='s', markersize=20)\n",
    "    # alpha sets opacity of rendering\n",
    "    ax.text(i, 0.5+0.15, col, ha='center', color=col, alpha=0.5)\n",
    "    \n",
    "ax.set_ylim(0,1) # set axis limits    \n",
    "ax.axis(\"off\") # remove axis; there are no units to show\n",
    " \n",
    "    "
   ]
  },
  {
   "cell_type": "markdown",
   "metadata": {},
   "source": [
    "---------"
   ]
  },
  {
   "cell_type": "markdown",
   "metadata": {},
   "source": [
    "# 1. Simple plots [30 minutes]\n",
    "\n",
    "For these exercises, you need to plot graphs showing the data which is provided to you. To get full credit you must:\n",
    "    \n",
    "* choose the right kind of plot (line, scatter, bar, histogram). There may be more than one right choice.\n",
    "* plot the data correctly\n",
    "* make sure all the details are sensible (axes, labelling, etc.)\n",
    "* **write a short caption for the data in the cell provided.**\n",
    "\n",
    "You will get the name of the file with the data, along with a comment that explains the format of the data. You can use `np.loadtxt()` to load the datasets.\n",
    "\n",
    "You will have to look at the lecture notes and/or the documentation to complete this exercise.\n"
   ]
  },
  {
   "cell_type": "markdown",
   "metadata": {
    "deletable": false,
    "editable": false,
    "nbgrader": {
     "checksum": "6d4d8334ed3535433956cbb77954f374",
     "grade": false,
     "grade_id": "cell-d158ac8555d6984e",
     "locked": true,
     "schema_version": 1,
     "solution": false
    }
   },
   "source": [
    "A)\n",
    "* Data file: `data/cherry_trees.txt`\n",
    "* Description: Height and volume of black cherry trees  measured in an orchard.\n",
    "* Columns:\n",
    "  \n",
    "       Height (ft)  Volume (ft^3)\n",
    "\n",
    "Note: plot your graph in **metric units**. 1 ft = 0.3048m\n",
    "       \n",
    "    "
   ]
  },
  {
   "cell_type": "code",
   "execution_count": null,
   "metadata": {
    "deletable": false,
    "nbgrader": {
     "checksum": "028636181146d65fc211aeb69b46f919",
     "grade": true,
     "grade_id": "cell-1ecce6dc57f38590",
     "locked": false,
     "points": 4,
     "schema_version": 1,
     "solution": true
    }
   },
   "outputs": [],
   "source": [
    "## 4 marks\n",
    "# YOUR CODE HERE"
   ]
  },
  {
   "cell_type": "markdown",
   "metadata": {
    "deletable": false,
    "nbgrader": {
     "checksum": "422c5d026bc5638989dea7549bc9fe61",
     "grade": true,
     "grade_id": "cell-7e6aeae121aa0d32",
     "locked": false,
     "points": 1,
     "schema_version": 1,
     "solution": true
    }
   },
   "source": [
    "### Caption [1 mark]\n",
    "YOUR ANSWER HERE"
   ]
  },
  {
   "cell_type": "markdown",
   "metadata": {
    "deletable": false,
    "editable": false,
    "nbgrader": {
     "checksum": "bfb855d24b9dddb73c542b406203f9f0",
     "grade": false,
     "grade_id": "cell-820efef58c000149",
     "locked": true,
     "schema_version": 1,
     "solution": false
    }
   },
   "source": [
    "B)\n",
    "* Data file: `data/air_passengers.txt`\n",
    "* Description: The number of international air passengers, each month, 1949 to 1960.\n",
    "* Columns:\n",
    "\n",
    "      year   passenger_count\n"
   ]
  },
  {
   "cell_type": "code",
   "execution_count": null,
   "metadata": {
    "deletable": false,
    "nbgrader": {
     "checksum": "2e48c4f58df98d11f108f68337d2647f",
     "grade": true,
     "grade_id": "cell-5601398f87919cf1",
     "locked": false,
     "points": 4,
     "schema_version": 1,
     "solution": true
    }
   },
   "outputs": [],
   "source": [
    "## 4 marks\n",
    "# YOUR CODE HERE"
   ]
  },
  {
   "cell_type": "markdown",
   "metadata": {
    "deletable": false,
    "nbgrader": {
     "checksum": "1ada242b1aa591440696f1e1d863eaa0",
     "grade": true,
     "grade_id": "cell-18efe30fa1715a23",
     "locked": false,
     "points": 1,
     "schema_version": 1,
     "solution": true
    }
   },
   "source": [
    "### Caption [1 mark]\n",
    "YOUR ANSWER HERE"
   ]
  },
  {
   "cell_type": "markdown",
   "metadata": {
    "deletable": false,
    "editable": false,
    "nbgrader": {
     "checksum": "45ba6059246ef054e902946618942fc2",
     "grade": false,
     "grade_id": "cell-40de51644c6af0df",
     "locked": true,
     "schema_version": 1,
     "solution": false
    }
   },
   "source": [
    "C) \n",
    "* Data file: `data/rivers.txt`\n",
    "* Description: Length of major rivers in the United States (miles)\n",
    "* Columns:\n",
    "   \n",
    "       river_length\n",
    "\n"
   ]
  },
  {
   "cell_type": "code",
   "execution_count": null,
   "metadata": {
    "deletable": false,
    "nbgrader": {
     "checksum": "def2a58066ab0abfb4cab3321770613a",
     "grade": true,
     "grade_id": "cell-7d013905eed11ca3",
     "locked": false,
     "points": 6,
     "schema_version": 1,
     "solution": true
    }
   },
   "outputs": [],
   "source": [
    "## 6 marks\n",
    "# YOUR CODE HERE"
   ]
  },
  {
   "cell_type": "markdown",
   "metadata": {
    "deletable": false,
    "nbgrader": {
     "checksum": "5def6cfa8d0e41b92aff7926652d31af",
     "grade": true,
     "grade_id": "cell-08eee90da0587156",
     "locked": false,
     "points": 1,
     "schema_version": 1,
     "solution": true
    }
   },
   "source": [
    "### Caption [1 mark]\n",
    "YOUR ANSWER HERE"
   ]
  },
  {
   "cell_type": "markdown",
   "metadata": {},
   "source": [
    "# 2. Layered and faceted plots [45 minutes]\n",
    "\n",
    "A **layered** plot has more than one set of geoms overlaid on the same coordinate system. A **faceted** plot uses multiple coordinate systems to show different views of the data.\n",
    "\n",
    "For the dataset, appropriately use layering, faceting and reduction operations to show the dataset. \n"
   ]
  },
  {
   "cell_type": "markdown",
   "metadata": {},
   "source": [
    "<img src=\"imgs/chocolate.jpg\"> <br><br>*[[Image](https://flickr.com/photos/myhsu/3146912657 \"Black As Chocolate\") by [myhsu](https://flickr.com/people/myhsu) shared [CC BY-ND](https://creativecommons.org/licenses/by-nd/2.0/)]*"
   ]
  },
  {
   "cell_type": "markdown",
   "metadata": {},
   "source": [
    "A)\n",
    "* Data file `data/cake.txt`\n",
    "* Description: \n",
    ">Data on the breakage angle of chocolate cakes made with three different\n",
    "recipes and baked at six different temperatures. The angle of breakage is affected by the recipe and temperature. The experiment was repeated 15 times (replicates).\n",
    "\n",
    "* Columns:\n",
    "\n",
    "        replicate(1-15)    recipe(0-2)    temp(deg F)    angle(deg)\n",
    "\n",
    "Use this model:\n",
    "* Facet `recipes`\n",
    "* Layer `replicates`\n",
    "\n",
    "* Colour each replicate identically, and use lowered opacity.\n",
    "\n",
    "* As well as the layered replicates, clearly show the mean and standard deviation of the breakage angle in each facet as a line geom and a ribbon geom.\n",
    "\n",
    "* Convert Fahrenheit to Celsius before plotting. \n",
    "\n",
    "* `plt.tight_layout()` will fix layout of facets. Set a super-title across all facets using `fig.suptitle()`. \n",
    "\n",
    "* You will need one or more `for` loops (probably) to solve this problem.\n",
    "* Use Boolean arrays to perform `group by` like operations.\n",
    "\n"
   ]
  },
  {
   "cell_type": "code",
   "execution_count": null,
   "metadata": {
    "deletable": false,
    "nbgrader": {
     "checksum": "2e5db662911915529c8b258f1f11d264",
     "grade": true,
     "grade_id": "cell-29641e842de9b4b5",
     "locked": false,
     "points": 10,
     "schema_version": 1,
     "solution": true
    }
   },
   "outputs": [],
   "source": [
    "# 10 marks\n",
    "\n",
    "def celsius(f):\n",
    "    return 100.0 * ((f - 32) / (212-32))\n",
    "\n",
    "# YOUR CODE HERE"
   ]
  },
  {
   "cell_type": "markdown",
   "metadata": {
    "deletable": false,
    "nbgrader": {
     "checksum": "7c0c9a8808cd85116bb18f33eafce9f1",
     "grade": true,
     "grade_id": "cell-db4dea23e5f41299",
     "locked": false,
     "points": 1,
     "schema_version": 1,
     "solution": true
    }
   },
   "source": [
    "### Caption\n",
    "YOUR ANSWER HERE"
   ]
  },
  {
   "cell_type": "markdown",
   "metadata": {},
   "source": [
    "# 3. Some uncertainty [30 minutes]\n",
    "\n",
    "You are provided with data on the effect of five insecticide sprays on populations of pest insects. Compare and contrast these sprays, **appropriately representing uncertainty**.\n"
   ]
  },
  {
   "cell_type": "markdown",
   "metadata": {},
   "source": [
    "* Data file: `data/insects.txt`\n",
    "* Description: The counts of insects on each leaf of a plant in agricultural experimental units treated with\n",
    "different insecticides.\n",
    "* Columns:\n",
    "\n",
    "            insect_count spray_id (0-5)\n",
    "\n",
    "\n",
    "* Plot the data, on three separate figures, using:\n",
    "    * A simple bar chart of the mean insect counts (grouped by spray).\n",
    "    * A barchart showing the mean counts (grouped), and half a standard deviation above and below the mean. Find a way to show this interval (hint: look at the [`plt.bar` documentation](https://matplotlib.org/devdocs/api/_as_gen/matplotlib.pyplot.bar.html)). The standard deviation of an array can be computed by `np.std(x, axis)`, just like `np.mean()`.\n",
    "    * A Box plot of the insect counts.\n",
    "\n",
    "* Mark the ticks on the x axis using the names of the sprays.\n",
    "\n",
    "        0 = Insecticator\n",
    "        1 = Placebo\n",
    "        2 = BuzzNoMore\n",
    "        3 = Aprotex\n",
    "        4 = DieOff\n",
    "\n",
    "* For this section, you don't need to write the caption. Assume the caption is:\n",
    "\n",
    "> Effectiveness of insecticides in a farm environment. Five different aerosol insecticides were tested.\n",
    "\n"
   ]
  },
  {
   "cell_type": "code",
   "execution_count": null,
   "metadata": {
    "deletable": false,
    "nbgrader": {
     "checksum": "ab312ce7b8809858dd115a57ca4484b9",
     "grade": true,
     "grade_id": "cell-9220d9b6a409c75f",
     "locked": false,
     "points": 4,
     "schema_version": 1,
     "solution": true
    }
   },
   "outputs": [],
   "source": [
    "# 4 marks\n",
    "# load and group the data\n",
    "# YOUR CODE HERE"
   ]
  },
  {
   "cell_type": "code",
   "execution_count": null,
   "metadata": {
    "deletable": false,
    "nbgrader": {
     "checksum": "258a367403ab673fcbf0f911f8e20eb0",
     "grade": true,
     "grade_id": "cell-7681bc1bd616dd93",
     "locked": false,
     "points": 2,
     "schema_version": 1,
     "solution": true
    }
   },
   "outputs": [],
   "source": [
    "# 2 marks\n",
    "# plot the means\n",
    "# YOUR CODE HERE"
   ]
  },
  {
   "cell_type": "code",
   "execution_count": null,
   "metadata": {
    "deletable": false,
    "nbgrader": {
     "checksum": "c9aa1f21a1276752626ab03bfd052d4d",
     "grade": true,
     "grade_id": "cell-9f827dc2214b0945",
     "locked": false,
     "points": 2,
     "schema_version": 1,
     "solution": true
    }
   },
   "outputs": [],
   "source": [
    "# 2 marks\n",
    "# plot the means with std. devs.\n",
    "# YOUR CODE HERE"
   ]
  },
  {
   "cell_type": "code",
   "execution_count": null,
   "metadata": {
    "deletable": false,
    "nbgrader": {
     "checksum": "8685fd1a1de2ee21df49b61229ff9326",
     "grade": true,
     "grade_id": "cell-b06583bc4e5ee999",
     "locked": false,
     "points": 2,
     "schema_version": 1,
     "solution": true
    }
   },
   "outputs": [],
   "source": [
    "# 2 marks\n",
    "# a Box plot\n",
    "# YOUR CODE HERE"
   ]
  },
  {
   "cell_type": "markdown",
   "metadata": {},
   "source": [
    "# 4. Constructively criticising visualisations [1.25 hour]\n",
    "Write a short criticism of the plot below each one. Your criticism should reflect upon the scientific and aesthetic quality of the plots. You are provided with the code which generates the plots. **Copy the cell** that generates the plot and improve the flaws you found.\n",
    "\n",
    "You criticism should be *a few bullet points* and not more. Note that you can format a bulleted list by using an asterisk at the start of a line:\n",
    "\n",
    "\n",
    "    * this\n",
    "    * will\n",
    "    * be \n",
    "    * bulleted\n",
    "    \n",
    "when you edit the criticism cell.\n"
   ]
  },
  {
   "cell_type": "markdown",
   "metadata": {},
   "source": [
    "## A: Earthquakes in California\n",
    "\n",
    "* Dataset: Acceleration measurements at seismic stations placed around California, measuring the peak acceleration experienced during earthquakes, along with the distance of the station to the hypocenter of that earthquake.\n",
    "* File: `data/cali_earthquakes.txt`\n",
    "* Columns\n",
    "\n",
    "       earthquake_id magnitude(Richter) station_id distance_to_hypocenter(km) acceleration(g) \n",
    "\n",
    "* Caption:\n",
    "\n",
    ">    This plot shows the variation in acceleration at seismic monitoring stations as a function of distance to hypocentre of earthquakes in California. More distant stations measure smaller signals with some variation according to the strength of the originating earthquake.\n",
    "    \n"
   ]
  },
  {
   "cell_type": "code",
   "execution_count": null,
   "metadata": {
    "deletable": false,
    "editable": false,
    "nbgrader": {
     "checksum": "59ae981f008c040eb3f1c102687a2bbf",
     "grade": false,
     "grade_id": "cell-c130bae9f409ae24",
     "locked": true,
     "schema_version": 1,
     "solution": false
    }
   },
   "outputs": [],
   "source": [
    "earthquakes = np.loadtxt(\"data/cali_earthquakes.txt\")\n",
    "fig = plt.figure()\n",
    "ax = fig.add_subplot(1,1,1)\n",
    "# name columns\n",
    "earthquake, mag, station, distance, accel = [0,1,2,3,4]\n",
    "plt.scatter(earthquakes[:,mag], earthquakes[:, accel], c=earthquakes[:, distance], cmap='Pastel2', s=300)\n"
   ]
  },
  {
   "cell_type": "markdown",
   "metadata": {
    "deletable": false,
    "nbgrader": {
     "checksum": "d189c8b3575658636ded9542471cefc0",
     "grade": true,
     "grade_id": "cell-3370ac116ad1a1b7",
     "locked": false,
     "points": 5,
     "schema_version": 1,
     "solution": true
    }
   },
   "source": [
    "### Criticism [6 marks]\n",
    "* bullet\n",
    "* points\n",
    "YOUR ANSWER HERE"
   ]
  },
  {
   "cell_type": "code",
   "execution_count": null,
   "metadata": {
    "deletable": false,
    "nbgrader": {
     "checksum": "ff6e2008f8cbf8d2b393fd8402f19a5c",
     "grade": true,
     "grade_id": "cell-55dbcba1adebda3a",
     "locked": false,
     "points": 5,
     "schema_version": 1,
     "solution": true
    }
   },
   "outputs": [],
   "source": [
    "# 5 marks\n",
    "# YOUR CODE HERE\n",
    "plt.tight_layout()"
   ]
  },
  {
   "cell_type": "markdown",
   "metadata": {
    "deletable": false,
    "editable": false,
    "nbgrader": {
     "checksum": "e9c7f9962cce5cc53fa5594838e4fd96",
     "grade": false,
     "grade_id": "cell-2f8df1247f4c8804",
     "locked": true,
     "schema_version": 1,
     "solution": false
    }
   },
   "source": [
    "## B: Reaction times and sleep\n",
    "\n",
    "* Dataset: The average reaction time per day for subjects in a sleep deprivation study. On day 0 the subjects had their normal amount of sleep. Starting that night they were restricted to 3 hours of sleep per night. The observations represent the average reaction time on a series of tests given each day to each subject.\n",
    "\n",
    "* File `data/sleep_study.txt`\n",
    "* Columns\n",
    "\n",
    "         reaction time (ms)    sleep_deprivation (days)  subject_id (id)\n",
    "\n",
    "* Caption:\n",
    "> This plot shows how visual reaction time varies as subjects are deprived of sleep. Up to 10 days of sleep deprivation were tested.\n",
    "    \n"
   ]
  },
  {
   "cell_type": "code",
   "execution_count": null,
   "metadata": {
    "deletable": false,
    "editable": false,
    "nbgrader": {
     "checksum": "7d0bad977b220ad19cd3f5437f993c07",
     "grade": false,
     "grade_id": "cell-10ffa38cb01a167b",
     "locked": true,
     "schema_version": 1,
     "solution": false
    }
   },
   "outputs": [],
   "source": [
    "sleep_study = np.loadtxt(\"data/sleep_study.txt\")\n",
    "fig = plt.figure()\n",
    "ax = fig.add_subplot(1,1,1)\n",
    "reaction, sleep, subject = 0,1,2\n",
    "\n",
    "# group each day\n",
    "grouped =np.array([sleep_study[sleep_study[:,sleep]==i] for i in range(10)])\n",
    "# take mean for each day and plot it\n",
    "mean_reactions = np.mean(grouped, axis=1)[:,0] \n",
    "ax.plot(mean_reactions, np.arange(10))\n",
    "\n",
    "# adjust axes\n",
    "ax.set_xlim(0,1000)\n",
    "ax.set_ylim(-2, 15)\n",
    "\n",
    "ax.set_ylabel(\"Sleep deprivation\")\n",
    "ax.set_xlabel(\"Reaction time\")"
   ]
  },
  {
   "cell_type": "markdown",
   "metadata": {
    "deletable": false,
    "nbgrader": {
     "checksum": "85c07287762e98832e5077d6fc4e77bb",
     "grade": true,
     "grade_id": "cell-fad69fa6488b1e1c",
     "locked": false,
     "points": 6,
     "schema_version": 1,
     "solution": true
    }
   },
   "source": [
    "## Criticism [6 marks]\n",
    "YOUR ANSWER HERE"
   ]
  },
  {
   "cell_type": "code",
   "execution_count": null,
   "metadata": {
    "deletable": false,
    "nbgrader": {
     "checksum": "220e828cb39714be714c3462f8f2e7e5",
     "grade": true,
     "grade_id": "cell-256f8f245338e98f",
     "locked": false,
     "points": 6,
     "schema_version": 1,
     "solution": true
    }
   },
   "outputs": [],
   "source": [
    "# 6 marks\n",
    "# YOUR CODE HERE"
   ]
  },
  {
   "cell_type": "markdown",
   "metadata": {},
   "source": [
    "-----\n",
    "\n",
    "# Submission instructions"
   ]
  },
  {
   "cell_type": "markdown",
   "metadata": {},
   "source": [
    "### Checking your work\n",
    "## Mark summary\n",
    "You should check the marks you've got before submitting. To do this, \n",
    "* Make sure you fill in any place that says `YOUR CODE HERE` or \"YOUR ANSWER HERE\", as well as your name and matriculation number at the top.\n",
    "* SAVE THE NOTEBOOK, \n",
    "* Go to `Cell/Restart and Run All` in the menu.\n",
    "* Check the output of the cell here.\n",
    "\n",
    "Note that this is an estimated mark, and if you don't do the above procedure *carefully* you may get nonsense estimates.\n"
   ]
  },
  {
   "cell_type": "code",
   "execution_count": null,
   "metadata": {},
   "outputs": [],
   "source": [
    "summarise_marks()"
   ]
  },
  {
   "cell_type": "markdown",
   "metadata": {},
   "source": [
    "### Formatting the submission\n",
    "* **WARNING**: If you do not submit the correct file, you will not get any marks.\n",
    "* Submit this file **only** on Moodle. It will be named `week_<xxx>.ipynb`."
   ]
  },
  {
   "cell_type": "markdown",
   "metadata": {},
   "source": [
    "\n",
    "## Penalties (only for assessed labs)\n",
    "<font color=\"red\">\n",
    "    \n",
    "**Malformatted submissions**\n",
    "</font>\n",
    "These assignments are processed with an automatic tool; failure to follow instructions *precisely* will lead to you automatically losing two bands in grade regardless of whether the work is correct (not to mention a long delay in getting your work back). **If you submit a file without your work in it, it will be marked and you will get 0 marks.**\n",
    "\n",
    "<font color=\"red\">**Late submission**</font>\n",
    "Be aware that there is a two band penalty for every *day* of late submission, starting the moment of the deadline.\n",
    "\n",
    "<font color=\"red\">\n",
    "    \n",
    "**Plagiarism**\n",
    "</font> Any form of plagiarism will be subject to the Plagiarism Policy. The penalties are severe."
   ]
  },
  {
   "cell_type": "code",
   "execution_count": null,
   "metadata": {},
   "outputs": [],
   "source": []
  }
 ],
 "metadata": {
  "kernelspec": {
   "display_name": "Python 3",
   "language": "python",
   "name": "python3"
  },
  "language_info": {
   "codemirror_mode": {
    "name": "ipython",
    "version": 3
   },
   "file_extension": ".py",
   "mimetype": "text/x-python",
   "name": "python",
   "nbconvert_exporter": "python",
   "pygments_lexer": "ipython3",
   "version": "3.6.6"
  },
  "toc": {
   "nav_menu": {},
   "number_sections": true,
   "sideBar": true,
   "skip_h1_title": false,
   "toc_cell": false,
   "toc_position": {},
   "toc_section_display": true,
   "toc_window_display": false
  }
 },
 "nbformat": 4,
 "nbformat_minor": 2
}
