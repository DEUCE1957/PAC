{
 "cells": [
  {
   "cell_type": "markdown",
   "metadata": {},
   "source": [
    "## Reading a plain-text data file\n",
    "\n",
    "In this exercise, we'll show how to read in some simple column data from a plain text file. We're going to read in $x$-$y$ pairs from the circles.dat file written by the Writing Data example, but actually any file with 2-column numerical data can be read this way."
   ]
  },
  {
   "cell_type": "markdown",
   "metadata": {},
   "source": [
    "First, we'll use the numpy loadtxt() function to read the file into a single 2D array:"
   ]
  },
  {
   "cell_type": "code",
   "execution_count": 1,
   "metadata": {},
   "outputs": [],
   "source": [
    "import numpy as np\n",
    "xys = np.loadtxt(\"circle.dat\")"
   ]
  },
  {
   "cell_type": "markdown",
   "metadata": {},
   "source": [
    "Let's take a look at the data, you'll see that it's a long list of 2-element lists:"
   ]
  },
  {
   "cell_type": "code",
   "execution_count": 2,
   "metadata": {},
   "outputs": [
    {
     "data": {
      "text/plain": [
       "array([[-0.6588395 ,  0.7522835 ],\n",
       "       [ 0.5725672 ,  0.8198578 ],\n",
       "       [-0.839662  ,  0.5431094 ],\n",
       "       ..., \n",
       "       [-0.9987907 , -0.04916353],\n",
       "       [-0.5119524 , -0.8590138 ],\n",
       "       [-0.0717648 ,  0.9974216 ]])"
      ]
     },
     "execution_count": 2,
     "metadata": {},
     "output_type": "execute_result"
    }
   ],
   "source": [
    "xys"
   ]
  },
  {
   "cell_type": "markdown",
   "metadata": {},
   "source": [
    "This might be good enough for your purposes, but if you want to extract the $x$ and $y$ values into separate lists, here's how to do it: "
   ]
  },
  {
   "cell_type": "code",
   "execution_count": 3,
   "metadata": {},
   "outputs": [],
   "source": [
    "xs = xys[:,0]\n",
    "ys = xys[:,1]"
   ]
  },
  {
   "cell_type": "markdown",
   "metadata": {},
   "source": [
    "And what if you wanted to do it by hand, because your data is in a format other than that handled by loadtxt()? It's harder, but not magic: just open the file for reading, and split each line into parts:"
   ]
  },
  {
   "cell_type": "code",
   "execution_count": 4,
   "metadata": {},
   "outputs": [],
   "source": [
    "xs, ys = [], []\n",
    "with open(\"circle.dat\", \"r\") as f:\n",
    "    for line in f:\n",
    "        ## Break each line into parts (\"strip\" removes whitespace on the ends of the line)\n",
    "        parts = line.strip().split()\n",
    "        ## Convert the values to numbers (they are currently strings) and add them to the lists\n",
    "        xs.append(float(parts[0]))\n",
    "        ys.append(float(parts[1]))"
   ]
  },
  {
   "cell_type": "markdown",
   "metadata": {},
   "source": [
    "Let's take a quick look at the data. First, the array sizes:"
   ]
  },
  {
   "cell_type": "code",
   "execution_count": 5,
   "metadata": {},
   "outputs": [
    {
     "name": "stdout",
     "output_type": "stream",
     "text": [
      "x array size = 1000\n",
      "y array size = 1000\n"
     ]
    }
   ],
   "source": [
    "print(\"x array size = %d\" % len(xs))\n",
    "print(\"y array size = %d\" % len(ys))"
   ]
  },
  {
   "cell_type": "markdown",
   "metadata": {},
   "source": [
    "And a quick scatter plot:"
   ]
  },
  {
   "cell_type": "code",
   "execution_count": 6,
   "metadata": {},
   "outputs": [
    {
     "data": {
      "image/png": "[encoded data removed]",
      "text/plain": [
       "<matplotlib.figure.Figure at 0x7f3f6c4064a8>"
      ]
     },
     "metadata": {},
     "output_type": "display_data"
    }
   ],
   "source": [
    "import matplotlib.pyplot as plt\n",
    "\n",
    "plt.plot(xs, ys, \".\")\n",
    "plt.show()"
   ]
  },
  {
   "cell_type": "code",
   "execution_count": null,
   "metadata": {},
   "outputs": [],
   "source": []
  }
 ],
 "metadata": {
  "kernelspec": {
   "display_name": "Python 3",
   "language": "python",
   "name": "python3"
  },
  "language_info": {
   "codemirror_mode": {
    "name": "ipython",
    "version": 3
   },
   "file_extension": ".py",
   "mimetype": "text/x-python",
   "name": "python",
   "nbconvert_exporter": "python",
   "pygments_lexer": "ipython3",
   "version": "3.4.8"
  }
 },
 "nbformat": 4,
 "nbformat_minor": 2
}
