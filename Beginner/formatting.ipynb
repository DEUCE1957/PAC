{
 "cells": [
  {
   "cell_type": "markdown",
   "metadata": {},
   "source": [
    "## Data formatting\n",
    "\n",
    "It's often sufficient to output numerical data in its default representation, just using the `print()` or `str()` functions to turn the numbers into character strings. But sometimes you will want more control, either to make the output look nice, or because you need more precision."
   ]
  },
  {
   "cell_type": "markdown",
   "metadata": {},
   "source": [
    "### Inserting variables into template strings\n",
    "\n",
    "Before we get on to the numerical formatting details, first let's look at how to write out character strings in which variable values are interspersed with fixed text. The obvious way to do this is with the string `+` operator:"
   ]
  },
  {
   "cell_type": "code",
   "execution_count": 4,
   "metadata": {},
   "outputs": [
    {
     "data": {
      "text/plain": [
       "'Howdy, Andy!'"
      ]
     },
     "execution_count": 4,
     "metadata": {},
     "output_type": "execute_result"
    }
   ],
   "source": [
    "name = \"Andy\"\n",
    "greeting = \"Howdy\"\n",
    "greeting + \", \" + name + \"!\""
   ]
  },
  {
   "cell_type": "markdown",
   "metadata": {},
   "source": [
    "This code isn't the easiest thing to look at, though: the output string is all broken up in the code. Python has two ways to define *template strings* into which variables like `name` and `greeting` can be inserted.\n",
    "\n",
    "The first uses formatting markers with `%` signs in the template string to specify where variables are to be inserted; the template is then transformed into a string by following it with a `%` sign and a tuple of substitution values:"
   ]
  },
  {
   "cell_type": "code",
   "execution_count": 3,
   "metadata": {},
   "outputs": [
    {
     "data": {
      "text/plain": [
       "'Howdy, Andy!'"
      ]
     },
     "execution_count": 3,
     "metadata": {},
     "output_type": "execute_result"
    }
   ],
   "source": [
    "\"%s, %s!\" % (greeting, name)"
   ]
  },
  {
   "cell_type": "markdown",
   "metadata": {},
   "source": [
    "The `%s` here specifically means that the variable to be substituted should be treated as a string; we'll see that types can be used, too.\n",
    "\n",
    "The second, and newer Python mechanism for template-string formatting is to call the `format()` method of the string, with the substitution points now given by curly-braced expressions -- these can be substituted positionally as above:"
   ]
  },
  {
   "cell_type": "code",
   "execution_count": 5,
   "metadata": {},
   "outputs": [
    {
     "data": {
      "text/plain": [
       "'Howdy, Andy!'"
      ]
     },
     "execution_count": 5,
     "metadata": {},
     "output_type": "execute_result"
    }
   ],
   "source": [
    "\"{}, {}!\".format(greeting, name)"
   ]
  },
  {
   "cell_type": "markdown",
   "metadata": {},
   "source": [
    "Or alternatively they can be named (this is also possible with the `%` mechanism, but is a bit uglier):"
   ]
  },
  {
   "cell_type": "code",
   "execution_count": 6,
   "metadata": {},
   "outputs": [
    {
     "data": {
      "text/plain": [
       "'Howdy, Andy!'"
      ]
     },
     "execution_count": 6,
     "metadata": {},
     "output_type": "execute_result"
    }
   ],
   "source": [
    "\"{g}, {n}!\".format(n=name, g=greeting)"
   ]
  },
  {
   "cell_type": "markdown",
   "metadata": {},
   "source": [
    "This named parameter approach is particularly useful if you need the final string to make use of a variable several times.\n",
    "\n",
    "We'll use the `format()` approach for the rest of this tutorial."
   ]
  },
  {
   "cell_type": "markdown",
   "metadata": {},
   "source": [
    "### Numerical data formatting\n",
    "\n",
    "Now on to numerical data. This immediately creates problems if you try the `+` approach:"
   ]
  },
  {
   "cell_type": "code",
   "execution_count": 8,
   "metadata": {},
   "outputs": [
    {
     "ename": "TypeError",
     "evalue": "Can't convert 'int' object to str implicitly",
     "output_type": "error",
     "traceback": [
      "\u001b[0;31m---------------------------------------------------------------------------\u001b[0m",
      "\u001b[0;31mTypeError\u001b[0m                                 Traceback (most recent call last)",
      "\u001b[0;32m<ipython-input-8-cdbadc5d8488>\u001b[0m in \u001b[0;36m<module>\u001b[0;34m()\u001b[0m\n\u001b[1;32m      1\u001b[0m \u001b[0mn\u001b[0m \u001b[0;34m=\u001b[0m \u001b[0;36m42\u001b[0m\u001b[0;34m\u001b[0m\u001b[0m\n\u001b[0;32m----> 2\u001b[0;31m \u001b[0mgreeting\u001b[0m \u001b[0;34m+\u001b[0m \u001b[0;34m\", \"\u001b[0m \u001b[0;34m+\u001b[0m \u001b[0mname\u001b[0m \u001b[0;34m+\u001b[0m \u001b[0;34m\"! You have \"\u001b[0m \u001b[0;34m+\u001b[0m \u001b[0mn\u001b[0m \u001b[0;34m+\u001b[0m \u001b[0;34m\" new messages.\"\u001b[0m\u001b[0;34m\u001b[0m\u001b[0m\n\u001b[0m",
      "\u001b[0;31mTypeError\u001b[0m: Can't convert 'int' object to str implicitly"
     ]
    }
   ],
   "source": [
    "n = 42\n",
    "greeting + \", \" + name + \"! You have \" + n + \" new messages.\""
   ]
  },
  {
   "cell_type": "markdown",
   "metadata": {},
   "source": [
    "Eek, `str + int` is not an operation that Python knows how to do -- because there are lots of ways that one *might* think about implementing it, they decided better not to implement it at all. But template formatting works nicely:"
   ]
  },
  {
   "cell_type": "code",
   "execution_count": 9,
   "metadata": {},
   "outputs": [
    {
     "data": {
      "text/plain": [
       "'Howdy, Andy! You have 42 new messages.'"
      ]
     },
     "execution_count": 9,
     "metadata": {},
     "output_type": "execute_result"
    }
   ],
   "source": [
    "\"{greet}, {name}! You have {nmsg} new messages.\".format(greet=greeting, name=name, nmsg=n)"
   ]
  },
  {
   "cell_type": "markdown",
   "metadata": {},
   "source": [
    "Let's get a bit more complicated: we can style how numbers are presented, so they always take up the same number of characters, have a certain number of significant figures, always use scientific notation (or not), or are padded with leading zeros or other characters (this can be useful when you want data files to list sequentially in a directory and you want file 1 to sit beside file 2, not files 10, 11, and 100.) Here are some examples:"
   ]
  },
  {
   "cell_type": "markdown",
   "metadata": {},
   "source": [
    "#### Zero padding"
   ]
  },
  {
   "cell_type": "code",
   "execution_count": 13,
   "metadata": {},
   "outputs": [
    {
     "data": {
      "text/plain": [
       "['0000', '0001', '0002', '0005', '0010', '0011', '0100']"
      ]
     },
     "execution_count": 13,
     "metadata": {},
     "output_type": "execute_result"
    }
   ],
   "source": [
    "sorted(\"{:04d}\".format(i) for i in [0,1,2,5,10,11,100])"
   ]
  },
  {
   "cell_type": "markdown",
   "metadata": {},
   "source": [
    "#### Width and precision"
   ]
  },
  {
   "cell_type": "code",
   "execution_count": 23,
   "metadata": {},
   "outputs": [
    {
     "name": "stdout",
     "output_type": "stream",
     "text": [
      "3.141592653589793\n",
      "3.141593\n",
      " 3.142\n"
     ]
    }
   ],
   "source": [
    "from math import pi\n",
    "print(pi)\n",
    "print(\"{:6f}\".format(pi))\n",
    "print(\"{:6.3f}\".format(pi))print(\"{:6.3e}\".format(pi))"
   ]
  },
  {
   "cell_type": "markdown",
   "metadata": {},
   "source": [
    "#### Scientific notation"
   ]
  },
  {
   "cell_type": "code",
   "execution_count": 25,
   "metadata": {},
   "outputs": [
    {
     "name": "stdout",
     "output_type": "stream",
     "text": [
      "3.142e+00\n",
      "+3.142e+00\n",
      "-3.142e+00\n"
     ]
    }
   ],
   "source": [
    "print(\"{:6.3e}\".format(pi))\n",
    "print(\"{:+6.3e}\".format(pi))\n",
    "print(\"{:+6.3e}\".format(-pi))"
   ]
  },
  {
   "cell_type": "markdown",
   "metadata": {},
   "source": [
    "That's all for now. The Python formatting language, especially via the format method, is very powerful and beyond the scope of what we can hope to cover here, but you should now hopefully have an understanding of how the machinery works, and the sort of effects you can achieve. A particularly useful resource for further reading is the documentation and examples at https://pyformat.info/ ."
   ]
  }
 ],
 "metadata": {
  "kernelspec": {
   "display_name": "Python 3",
   "language": "python",
   "name": "python3"
  },
  "language_info": {
   "codemirror_mode": {
    "name": "ipython",
    "version": 3
   },
   "file_extension": ".py",
   "mimetype": "text/x-python",
   "name": "python",
   "nbconvert_exporter": "python",
   "pygments_lexer": "ipython3",
   "version": "3.4.8"
  }
 },
 "nbformat": 4,
 "nbformat_minor": 2
}
