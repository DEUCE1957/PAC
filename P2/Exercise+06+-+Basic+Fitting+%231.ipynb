{
 "cells": [
  {
   "cell_type": "code",
   "execution_count": null,
   "metadata": {},
   "outputs": [],
   "source": [
    "# In Python it is standard practice to import the modules we need at the very top of our scripts\n",
    "import numpy as np\n",
    "import matplotlib.pyplot as plt"
   ]
  },
  {
   "cell_type": "markdown",
   "metadata": {},
   "source": [
    "# SciPy\n",
    "\n",
    "SciPy, like NumPy, is one of many modules that can be used to extend Python's functionality. In this exercise we will explore some of the functions available in SciPy to fit functions to data.\n",
    "\n",
    "SciPy includes functions for integration, interpolation, signal processing, linear algebra and more. Between NumPy, SciPy and Matplotlib you should be able to accomplish any task you need for the P2 Skills course. The SciPy documentation is identical in style to the NumPy documentation so you should already feel comfortable finding your way around and reading documentation for functions.\n",
    "\n",
    "## Importing SciPy Submodules\n",
    "\n",
    "You have probably noticed that to call a function from, for example, NumPy we use a dot, e.g. `np.zeros()`, and sometimes we call a function from a submodule, e.g. `np.random.randint()`. However, a small quirk in SciPy, due to its size, is that submodules have to be loaded individually.\n",
    "\n",
    "As such, it is unlikely that you will ever just `import scipy as sp` but you will more likely import specific submodules, such as in the cell below where we import just the 'stats' submodule.\n",
    "\n",
    "In these scenarios we can then access the `sem` function with `stats.sem`, which calculates the standard error of the mean."
   ]
  },
  {
   "cell_type": "code",
   "execution_count": null,
   "metadata": {},
   "outputs": [],
   "source": [
    "from scipy import stats"
   ]
  },
  {
   "cell_type": "markdown",
   "metadata": {},
   "source": [
    "# Least Squares Fitting of a Function to Data\n",
    "\n",
    "An important tool in data analysis is the ability to fit a function to raw data in order to extract parameters of a model; likewise, measuring the 'goodness of fit' of a function can be used to test an underlying hypothesis.\n",
    "\n",
    "There are many ways to do fitting in Python, from writing your own code to using pre-built codes, such as those found in SciPy. In this exercise we will explore how to use linear least squares regression to fit a linear function, $y = mx + c$, to some example data. We will extract and plot the fit residuals, defined as the difference between the true data and the equivalent data modelled by our function, and measure the goodness of fit by the correlation coefficient. We will also briefly touch on the concept of confidence intervals.\n",
    "\n",
    "For this we will use the `stats.linregress` function. You should start by reading the  SciPy documentation for this function ([here](https://docs.scipy.org/doc/scipy/reference/generated/scipy.stats.linregress.html#scipy.stats.linregress)). Other alternative are available both in SciPy and in other modules.\n",
    "\n",
    "For the purposes of this exercise we will use some simple data that we can be fairly sure fits a linear function:"
   ]
  },
  {
   "cell_type": "code",
   "execution_count": null,
   "metadata": {},
   "outputs": [],
   "source": [
    "# Example Data\n",
    "x = np.arange(10)\n",
    "m = 5\n",
    "c = 10\n",
    "y_jittered = m*x + c + 2*np.random.randn(10)  # we include some random 'jitter' for realism\n",
    "\n",
    "plt.scatter(x,y_jittered)\n",
    "plt.xlabel('Independent Variable')\n",
    "plt.ylabel('Dependent Variable')\n",
    "plt.title('My Example Data')\n",
    "plt.show()"
   ]
  },
  {
   "cell_type": "markdown",
   "metadata": {},
   "source": [
    "# Exercise 6: Fitting a Linear Function (3 Marks)\n",
    "\n",
    "The SciPy `stats.linregress` function does all the work for us. Read the documentation for this function and do the following steps in the cells below.\n",
    "\n",
    "1. Determine the linear least-squares regression for this dataset. What value do you expect for the slope and intercept? Print your expected and actual slope and intercept.\n",
    "2. On the same axes, plot the raw data, the linear function of best-fit and the line corresponding to the theoretical data. Save this figure as `linear_fitting.png`.\n",
    "3. Use your search engine of choice, or Wikipedia, to investigate the 'Coefficient of Determination' or 'r-squared' value. In a Markdown cell describe what the r-squared value represents in a linear least-squares regression. In a Python cell, print the r-squared value for this regression.\n",
    "4. In a new Python cell, recreate this plot for different amounts of jitter. How does r-squared vary with the amount of noise?"
   ]
  },
  {
   "cell_type": "code",
   "execution_count": null,
   "metadata": {},
   "outputs": [],
   "source": [
    "# Put your answer to question 1 here\n",
    "\n"   ]
  },
  {
   "cell_type": "code",
   "execution_count": null,
   "metadata": {},
   "outputs": [],
   "source": [
    "# Put your answer to question 2 here\n",
    "\n"   ]
  },
  {
   "cell_type": "markdown",
   "metadata": {},
   "source": [
    "## What $r^2$ Represents\n",
    "\n",
    "Write your answer here\n",
    "\n"   ]
  },
  {
   "cell_type": "code",
   "execution_count": null,
   "metadata": {},
   "outputs": [],
   "source": [
    "# Put your answer to question 3 here\n",
    "\n"   ]
  },
  {
   "cell_type": "code",
   "execution_count": null,
   "metadata": {},
   "outputs": [],
   "source": [
    "# Put your answer to question 4 here\n",
    "\n"   ]
  },
  {
   "cell_type": "markdown",
   "metadata": {},
   "source": [
    "**Comment on the outcomes of question 4**\n",
    "\n"   ]
  }
 ],
 "metadata": {
  "kernelspec": {
   "display_name": "Python 3",
   "language": "python",
   "name": "python3"
  },
  "language_info": {
   "codemirror_mode": {
    "name": "ipython",
    "version": 3
   },
   "file_extension": ".py",
   "mimetype": "text/x-python",
   "name": "python",
   "nbconvert_exporter": "python",
   "pygments_lexer": "ipython3",
   "version": "3.5.3"
  }
 },
 "nbformat": 4,
 "nbformat_minor": 2
}
