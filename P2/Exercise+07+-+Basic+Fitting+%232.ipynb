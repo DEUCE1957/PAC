{
 "cells": [
  {
   "cell_type": "code",
   "execution_count": null,
   "metadata": {},
   "outputs": [],
   "source": [
    "# In Python it is standard practice to import the modules we need at the very top of our scripts\n",
    "import numpy as np\n",
    "import matplotlib.pyplot as plt\n",
    "from scipy import stats"
   ]
  },
  {
   "cell_type": "markdown",
   "metadata": {},
   "source": [
    "# Exercise 7: Fitting a Linear Function (4 Marks)\n",
    "\n",
    "This exercise simulates the voltage across a resistor for a fixed current $I = 0.8 A$ for resistances from $100 \\mu\\Omega$ to $1000 \\mu\\Omega$.  Theoretically, the voltage is of course given by $V=IR,$ but the actual voltage measured in an experiment will also be subject to random noise. For this exercise we would ideally use some real experimental data, but we're not going to learn about importing real data until a later exercise. So this exercise comes in two parts: first you will generate a vector containing some pretend simulated experimental data, and then you will plot that on a graph and calculate a fit for it.\n",
    "\n",
    "1. Define a vector containing a range of resistance values (see above) at intervals of $100\\mu\\Omega$. Generate another vector containing pretend simulated 'data'. You should generate this by starting with the theoretically-expected value of $V$ for each resistance, but then adding a small amount of noise by using the `np.random.randn` function (see exercise 6 and the documentation). Make an assumption about a reasonable noise level and scale the noise accordingly.\n",
    "2. Make a linear fit to the 'data' by using the techniques used in exercise 6. Use the Matplotlib documentation to add the fit equation as an annotation. Calculate the $r^2$ value. Is your fit a good fit?\n",
    "3. Now plot the *theoretical* voltage against resistance, displayed as a solid line. By convention, theoretical values are displayed as solid lines. On the same graph, plot the noisy 'data' as individual data points. By convention, experimental data is displayed as individual points so that you can see the actual measurements clearly (see comment below). Add axis labels and create a legend to identify the theory and 'data' on the plot.  \n",
    "4. Make sure to save your figure as `voltage_fitting.png` so that you can return to it later, can show it to the demonstrator for marking, and can submit it along with your .ipynb files when you upload your work at the end of the workshop.\n",
    "\n",
    "N.B. Exceptions may apply for plotting very large datasets, and there may be occasional times (e.g. the skills lab x-ray experiment) where you will want to show points *and* also join the points with straight lines as a helpful guide to the eye in interpreting the trends."
   ]
  },
  {
   "cell_type": "code",
   "execution_count": null,
   "metadata": {},
   "outputs": [],
   "source": [
    "# Put your answer to question 1 here\n",
    "\n"   ]
  },
  {
   "cell_type": "code",
   "execution_count": null,
   "metadata": {},
   "outputs": [],
   "source": [
    "# Put your answer to question 2 here\n",
    "\n"   ]
  },
  {
   "cell_type": "code",
   "execution_count": null,
   "metadata": {},
   "outputs": [],
   "source": [
    "# Put your answer to question 3 here\n",
    "\n"   ]
  }
 ],
 "metadata": {
  "kernelspec": {
   "display_name": "Python 3",
   "language": "python",
   "name": "python3"
  },
  "language_info": {
   "codemirror_mode": {
    "name": "ipython",
    "version": 3
   },
   "file_extension": ".py",
   "mimetype": "text/x-python",
   "name": "python",
   "nbconvert_exporter": "python",
   "pygments_lexer": "ipython3",
   "version": "3.5.3"
  }
 },
 "nbformat": 4,
 "nbformat_minor": 2
}
