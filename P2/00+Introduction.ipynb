{
 "cells": [
  {
   "cell_type": "markdown",
   "metadata": {},
   "source": [
    "# Programming with Python\n",
    "\n",
    "Python is a powerful and extensible programming language well-suited to a wide range of tasks. You will find it a more powerful way to handle data compared to Excel (as you will have used for the P1 labs). In four sessions of the first semester you will be introduced to Python as a tool that can be used to analyse data taken in experiments and you will experiment with basic programming skills in Python.\n",
    "\n",
    "## Jupyter Notebooks\n",
    "\n",
    "Jupyter Notebooks, like this one, have become a very popular tool in science and data analysis fields.\n",
    "Notebooks are able to hold a combination of formatted text, specifically Markdown, code, in our case Python, and outputs.\n",
    "Notebooks help scientists keep all their thoughts, the steps they took and their results in a single place.\n",
    "You will use Jupyter Notebooks throughout this course."
   ]
  },
  {
   "cell_type": "markdown",
   "metadata": {},
   "source": [
    "# Aims and Objectives\n",
    "\n",
    "By the end of these four weeks you should be able to use Python to\n",
    "\n",
    "* perform calculations on numbers and arrays of numbers\n",
    "* plot data and fit simple functions to that data\n",
    "* undertake simple statistical analysis of experimental data\n",
    "* use `for`, `while` and `if` statements\n",
    "* define your own simple functions\n",
    "* develop complete Jupyter Notebooks with scripts, outputs and accompanying explanatory text\n",
    "* use good programming practice, including the use of comments\n"
   ]
  },
  {
   "cell_type": "markdown",
   "metadata": {},
   "source": [
    "# Marking\n",
    "\n",
    "During the first lab session you will receive a marking sheet aimed at reporting your progress on the Python exercises you will complete.\n",
    "Each Jupyter Notebook contains one exercise and some associated Markdown and Python cells.\n",
    "Marks are based only on the exercises and the number of marks available is shown for each - other cells are there to guide you through Python programming and Jupyter Notebooks.\n",
    "*Every time* you complete an exercise show your results to one of the demonstrators who marks and signs your effort.\n",
    "\n",
    "**Hand in the marking sheet at the end of the fourth Python session.**\n",
    "(If you hand in the marking sheet late or not at all, the usual penality for late hand-in applies and you risk losing marks.)\n",
    "After finishing the programming sessions, combine all your notebooks and outputs in one zip file and upload them via Moodle."
   ]
  },
  {
   "cell_type": "markdown",
   "metadata": {},
   "source": [
    "# Introduction\n",
    "\n",
    "*Even if you are already familiar with other programming languages, you should read through this section to familiarize yourself with Python and Jupyter Notebooks, some advice on good programming practice, and information on assessment.*\n",
    "\n",
    "## What is Python?\n",
    "\n",
    "Python is an interpreted high-level programming language for a wide range of programming tasks.\n",
    "But what does that mean?:\n",
    "\n",
    "* Interpreted - Python does not require 'compiling', you can run your script as soon as you've written it and you can even run small snippets directly in a Python console.\n",
    "* High-level - the code you write in Python is relatively human-readable and very different to the instructions received by the computer when your code runs.\n",
    "* Programming - using a set of instructions for computers to create algorithms that complete a task, usually to make our lives more efficent.\n",
    "\n",
    "\n",
    "Guido van Rossum released the first version of Python in 1991.\n",
    "Python's philosophy of readability and simplicity has made it an extremely popular programming language.\n",
    "Python is used for research, teaching and data science across the globe and some of its more famous users include Wikipedia, Google, NASA and Reddit (which is almost entirely written in Python).\n",
    "Unlike some other coding systems, such as MATLAB or R, Python has not been designed with a particular use case in mind; instead, Python is heavily extensible through modules that have been designed for specific tasks.\n",
    "By combining modules together Python can be used to easily compute anything that can be done in other languages in a way that is both quick to code and quick to run.\n",
    "Beyond modules for analysis and processing, there are many modules for one-, two- and three- dimensional plotting.\n",
    "During the P2 lab you will be expected to use a range of these modules.\n",
    "\n",
    "## What are Jupyter Notebooks?\n",
    "\n",
    "Short calculations can be executed directly from a Python console/terminal, similar to what you would do on a pocket calculator.\n",
    "However, more extensive calculations, or procedures that you want to repeat several times, are more conveniently programmed in short scripts (often saved as `.py` files).\n",
    "In scientific computing and data science we often want more than just a script, we want to combine our thoughts and assumptions, codes, outputs and conclusions and we want to do this in a way that's easy to share and reproduce.\n",
    "\n",
    "Enter Jupyter Notebooks (formerly IPython Notebooks) a web-based interactive environment for creating 'notebooks' that contain cells of information.\n",
    "Each cell can be text (using Markdown), code (Python), mathematics (using the markup language $\\LaTeX$), plots and other media.\n",
    "Each notebook is saved as a `.ipynb` file, which is easy to send to a collaborator should they need to see the steps taken to get from A to B.\n",
    "\n",
    "Here at the University of Glasgow, we're running a 'Jupyter Hub', a multi-user server that allows each of you to have your own Jupyter Notebook environment for completing the programming unit, for use throughout the P2 labs, and future applications throughout your studies at the University of Glasgow.\n",
    "We strongly encourage you to create a new notebook for each practical experiment you do - all your data analysis can be compeleted using Python.\n",
    "\n",
    "**N.B. Your personal space on the Jupyter Hub is limited to around 500 MB. This is more than sufficient for this course and should provide you with plenty of space for analysising your skills experimental data - but be aware of this limitation.**\n",
    "\n",
    "It is worth bearing in mind that this server is shutdown for maintenance every Friday at 1800.\n",
    "\n",
    "### Closing vs Halting/Shutting Down\n",
    "\n",
    "When you close a notebook the 'kernel' that runs Python for your notebook does not automatically shut down.\n",
    "If you go 'File>Close and Halt', this will shut down your kernel.\n",
    "If kernels are not shut down the Jupyter Hub server can become overwhelmed and your codes will not run.\n",
    "Alternatively, kernels may be shutdown from the tree window."
   ]
  },
  {
   "cell_type": "markdown",
   "metadata": {},
   "source": [
    "# Getting Started\n",
    "\n",
    "After reading this notebook you will want to get straight into the exercises as there is a lot to learn in the next four weeks.\n",
    "To start you will need to highlight all the files in this folder (`\\examples\\p2\\`) and click 'Move'.\n",
    "You should move all these files to `\\`, which is your personal home folder.\n",
    "Confusingly you will recieve several error messages saying that the move has failed, just click 'Okay' on all of these - the files should move successfully.\n",
    "If you cannot move the files, ask a demonstrator."
   ]
  },
  {
   "cell_type": "markdown",
   "metadata": {},
   "source": [
    "# Assessment\n",
    "\n",
    "Your Python exercises are assessed continuously during the sessions. Once you have completed one of the exercises, show and explain it to one of the demonstrators, who will then enter your mark on your marking sheet and sign it. You can also talk to demonstrators if you get stuck or if you want to discuss any aspects of your programming. They will be able to give you advice on good programming style, how to write effective and clear code, and how to go about testing and tracking down any errors in your code.\n",
    "\n",
    "Make sure you have all your work marked and signed for as soon as possible in order to avoid a build up of unmarked material at the end of the sessions - labs finish at 5pm, and demonstrators will not stay longer for additional marking. Please hand in your marking sheet at the end of the fourth week of Python sessions.  After you have finished all the Python exercises (or at the end of the fourth week), combine all your `.ipynb` files and all output file, e.g. `.png` files, into a zip file and upload them to Moodle.\n",
    "\n",
    "**You will only get credit for work that is completed and marked by the end of the four programming sessions.**\n",
    "\n",
    "**Delays in handing in the marking sheet will occur the usual penalty of late hand-ins.**"
   ]
  },
  {
   "cell_type": "markdown",
   "metadata": {},
   "source": [
    "# Saving Your Work\n",
    "\n",
    "All exercises will be presented to you as Jupyter Notebooks, you should complete all tasks inside these notebooks unless instructed otherwise.\n",
    "Your notebooks should be kept and accessed via the Jupyter Hub system.\n",
    "Using this system ensures that you have all materials and your own work available for later exercises and for work during the labs.\n",
    "You can even work between sessions, using the computers in one of the computer rooms, and have your completed exercises marked in the next session - make sure you come ready to explain to the demonstrators how your scripts work!\n",
    "**After completing the Python exercises, please combine all your `.ipynb` and output files in a single zip file and upload them via Moodle.**\n",
    "This is required in case any questions regarding your submitted work and your final grade may be raised, e.g. by the board of examiners.\n",
    "\n",
    "Where an exercise asks you to save a plot, you should do so as a `.png` file alongside your `.ipynb` file containing the Python code and associated texts and outputs that generated it. That way there is a permanent record of what you have done, and you will not have to re-create the graph from scratch if a demonstrator wants to see it again."
   ]
  },
  {
   "cell_type": "markdown",
   "metadata": {},
   "source": [
    "# Help and Documentation\n",
    "\n",
    "Python is more than just a programming language, it's a huge combination of possible modules and community-built functions and tools.\n",
    "You can't learn everything about it at once or always remember how you have done things before - but fortunately Python has a huge community and the modules we will use have excellent documentation and so you don't have to!\n",
    "\n",
    "Five core documentations should give you all the technical answers you need during the course:\n",
    "\n",
    "* Python: https://docs.python.org/3/\n",
    "* NumPy: https://docs.scipy.org/doc/numpy/\n",
    "* SciPy: https://docs.scipy.org/doc/scipy/reference/\n",
    "* Matplotlib: https://matplotlib.org/\n",
    "* Jupyter Notebooks: https://jupyter-notebook.readthedocs.io/en/stable/index.html\n",
    "\n",
    "You will also want to make use of your favourite search engine and a community website called Stack Overflow, e.g. <https://stackoverflow.com/questions/tagged/python>.\n",
    "Of course, if you can't find what you need you can ask a demonstrator."
   ]
  },
  {
   "cell_type": "markdown",
   "metadata": {},
   "source": [
    "# Commenting\n",
    "\n",
    "It is good practice to comment your codes so the reader (which might be you when you next look at it) knows how you arrived at your answer, or how to interpret the result.  In a Jupyter Notebook you should do this in two ways:\n",
    "\n",
    "1. By using a Markdown cell (such as this one) to write a chunk of formatted text. Markdown cells can use rich formatting, HTML and $\\LaTeX$ allowing you to include images, videos, formulae and maths. Throughout the course you will be asked questions which you should answer in cells like this.\n",
    "2. By commenting the Python code itself (see below).\n",
    "\n",
    "In the top panel you can see that this cell is a Markdown cell.\n",
    "You can switch between different styles by selecting e.g. \"Code\" from the drop-down menu.\n",
    "If you want to return it to \"Markdown\" make your selection and run the cell by pressing `Ctrl+Enter`.\n",
    "\n",
    "## Python Comments\n",
    "\n",
    "In Python, everything after a `#` will be treated as a comment and not run when the rest of the code is, for example,\n",
    "\n",
    "```python\n",
    "x = 2  # assigns the value of 2 to x\n",
    "```\n",
    "\n",
    "That was not a very informative comment, though (it should hopefully be obvious that that is what is happening!). Typically a comment will describe the *purpose* of one or more lines of code. For example,\n",
    "\n",
    "```python\n",
    "r = np.sqrt(x**2 + y**2)  # use Pythagoras to calculate radial distance\n",
    "```"
   ]
  }
 ],
 "metadata": {
  "kernelspec": {
   "display_name": "Python 3",
   "language": "python",
   "name": "python3"
  },
  "language_info": {
   "codemirror_mode": {
    "name": "ipython",
    "version": 3
   },
   "file_extension": ".py",
   "mimetype": "text/x-python",
   "name": "python",
   "nbconvert_exporter": "python",
   "pygments_lexer": "ipython3",
   "version": "3.5.3"
  }
 },
 "nbformat": 4,
 "nbformat_minor": 2
}
