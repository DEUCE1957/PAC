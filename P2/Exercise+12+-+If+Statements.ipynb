{
 "cells": [
  {
   "cell_type": "code",
   "execution_count": null,
   "metadata": {},
   "outputs": [],
   "source": [
    "import numpy as np\n",
    "import matplotlib.pyplot as plt\n",
    "from scipy import stats"
   ]
  },
  {
   "cell_type": "markdown",
   "metadata": {},
   "source": [
    "# Logic and Conditions\n",
    "\n",
    "So far you've written out short scripts in a step-by-step fashion.\n",
    "However, it is possible to write longer scripts to fully automate a process.\n",
    "In such situations you may want your script to do one thing for one type of input and a different thing for other types.\n",
    "In programming this is known as 'a conditional' or 'branching'.\n",
    "\n",
    "Conditional statements are `True`/`False` choices that can be based on the equality of, or the relation between, two quantities.\n",
    "Some examples are given in the table below. \n",
    "Note the repeated equals sign to test for equality.\n",
    "In other words, `a=1` and `a==1` mean different things - think about what these differences are and describe them in the Markdown cell below.\n",
    "\n",
    "equal | not equal | greater than | less or equal\n",
    ":----:|:---------:|:------------:|:------------:\n",
    "==    | $\\sim =$  | $>$          | $<=$"
   ]
  },
  {
   "cell_type": "markdown",
   "metadata": {},
   "source": [
    "### Write your description of the difference between `a=1` and `a==1` in this cell"
   ]
  },
  {
   "cell_type": "markdown",
   "metadata": {},
   "source": [
    "Sometimes more than one condition must be met, and operators like `and`, `or` and `not` can be used to combine conditions to get a `True`/`False` outcome.\n",
    "With this small set of operators any logical decision can be made.\n",
    "\n",
    "If at some point in a calculation a scalar $x$, say, has been assigned a value, we can make certain logical tests on it, for example:"
   ]
  },
  {
   "cell_type": "code",
   "execution_count": null,
   "metadata": {},
   "outputs": [],
   "source": [
    "x = np.pi  # give the variable x the value of pi\n",
    "print(x==3)  # test: Is x equal to 3?   answer: false\n",
    "print(x>3)  # test: Is x greater than 3?  answer: true"
   ]
  },
  {
   "cell_type": "markdown",
   "metadata": {},
   "source": [
    "# If Statements\n",
    "\n",
    "An `if` statement is the most basic programming conditional and is used to execute one set of codes if a logical expression evaluates to `True` and a different set of code otherwise:\n",
    "```python\n",
    "  if (conditional statement):\n",
    "    (indented commands to run when True)\n",
    "    \n",
    "  (non-indented commands are no longer part of the statement)\n",
    "```\n",
    "\n",
    "If the logical expression is `True` then Python will execute all lines after the colon that are indented - it's very important to note that Python needs you to use the correct indenting.\n",
    "When Python sees a non-indented line it will leave the 'if environment' and resume normal service.\n",
    "If the logical expression is `False` , Python will skip the commands between the colon and the next non-indented line.   \n",
    "\n",
    "The if command can be extended by incorporating the commands `else` and `elif` (else if), allowing you to specify a number of results depending on the outcomes of more refined testing conditions (see the example below).\n",
    "The `elif` statement is accompanied by a logical condition which is only evaluated if the preceding `if` and `elif` statements are `False`, i.e. `conditional statement B` will only be evaluated if `conditional statement A` is `False`.\n",
    "The `else` statement is the catch-all that is executed if all previous conditions have evaluated to `False`.\n",
    " \n",
    "```python\n",
    "if (conditional statement A):\n",
    "    (indented commands to run when statement A True)\n",
    "elif (conditional statement B):\n",
    "    (indented commands to run when statement A False / statement B True)\n",
    "else:\n",
    "    (indented commands to run when both statements are False)\n",
    "\n",
    "(non-indented commands are no longer part of the statement)\n",
    "```\n",
    "\n",
    "In a structure like the above, **one and only one** of the possible branches will be executed -- which one is executed will depend on the condition statements.\n",
    "\n",
    "The following example executes various tests on the parameter `a` and depending on the tests, performs different operations on `a`.  At the same time it assigns values $0$, $1$ and $2$ to a further parameter `j`: \n",
    "```python\n",
    "a = np.exp(1)  # assign value to a\n",
    "print(a)\n",
    "\n",
    "if a<=1:  # if a is smaller or equal to 1, multiply it by 2\n",
    "    a = 2*a\n",
    "    j=0\n",
    "elif 1<a<3:  # if a is between 1 and 3, subtract 1\n",
    "    a = a - 1\n",
    "    j=1\n",
    "else:  # in any other case, divide by 2\n",
    "    a = a/2\n",
    "    j=2\n",
    "\n",
    "print(a,j)  # print a and j to the terminal\n",
    "```\n",
    "\n",
    "The previous example is of course somewhat artificial, as `a` has a predefined value.\n",
    "Typically, `if` commands are used within a loop or function where the variable to be tested could be changing its value.\n",
    "We will come onto these in future exercises."
   ]
  },
  {
   "cell_type": "markdown",
   "metadata": {},
   "source": [
    "# Exercise 12 - If Statements (2 Marks)\n",
    "\n",
    "You will use `if` statements a bit more after you've learnt about loops in the following exercises.\n",
    "For now, let's test what we've learnt. Write an `if` statement that implements the following piecewise function:\n",
    "$$f(x) = \\begin{cases}\n",
    "    \\sin{(x)}, & 0 \\lt x \\leq \\pi,\\\\\n",
    "    \\sin{(-x)}, & -\\pi \\leq x \\lt 0,\\\\\n",
    "    0, & \\text{otherwise}.\\\\\n",
    "\\end{cases}$$\n",
    "\n",
    "Your script should assign your output to a variable `f_x`.\n",
    "Test your script for $x=pi/2$, $x=0$ and $x=-pi$.\n",
    "\n",
    "Comment your script well as we will use this function again in the next exercise."
   ]
  },
  {
   "cell_type": "code",
   "execution_count": null,
   "metadata": {},
   "outputs": [],
   "source": [
    "# Write your solution to the exercise in this cell\n",
    "\n"   ]
  }
 ],
 "metadata": {
  "kernelspec": {
   "display_name": "Python 3",
   "language": "python",
   "name": "python3"
  },
  "language_info": {
   "codemirror_mode": {
    "name": "ipython",
    "version": 3
   },
   "file_extension": ".py",
   "mimetype": "text/x-python",
   "name": "python",
   "nbconvert_exporter": "python",
   "pygments_lexer": "ipython3",
   "version": "3.5.3"
  }
 },
 "nbformat": 4,
 "nbformat_minor": 2
}
