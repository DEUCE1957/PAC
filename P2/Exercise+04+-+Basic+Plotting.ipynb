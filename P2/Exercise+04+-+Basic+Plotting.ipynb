{
 "cells": [
  {
   "cell_type": "code",
   "execution_count": null,
   "metadata": {},
   "outputs": [],
   "source": [
    "import numpy as np"
   ]
  },
  {
   "cell_type": "markdown",
   "metadata": {},
   "source": [
    "# Matplotlib\n",
    "\n",
    "You will plot many things during this course and one common tool for plotting in Python is Matplotlib. Matplotlib can produce high quality, flexible 2D plots and is integrated with the Jupyter interface.\n",
    "\n",
    "Matplotlib will usually expect data in the forms of 1D numpy arrays (or similar) and can be used to generate scatter plots, segmented line plots and histograms.\n",
    "\n",
    "Using Matplotlib you will be able to add axis labels, error bars and a title along with anything else you wish to add to your plots.\n",
    "\n",
    "Run the cell below. This is a simple example of a `plot`, note how the line is segmented because we've used very few points in $x$.\n",
    "\n",
    "N.B. `np.linspace()` is a useful command that allows you to generate an array of evenly spaced numbers over a given interval."
   ]
  },
  {
   "cell_type": "code",
   "execution_count": null,
   "metadata": {},
   "outputs": [],
   "source": [
    "import matplotlib.pyplot as plt  # import the matplotlib module\n",
    "# it is conventional to name this plt as shorthand"
   ]
  },
  {
   "cell_type": "code",
   "execution_count": null,
   "metadata": {},
   "outputs": [],
   "source": [
    "# Create sample data\n",
    "x = np.linspace(-np.pi,np.pi,num=10)\n",
    "y = np.sin(x)\n",
    "\n",
    "# Create plot, add axis labels and a title\n",
    "plt.plot(x,y)\n",
    "plt.xlabel('X/radians')\n",
    "plt.ylabel('sin(X)')\n",
    "plt.title('My Plot')\n",
    "plt.show()  # It is good practice to use plt.show() after each figure"
   ]
  },
  {
   "cell_type": "markdown",
   "metadata": {},
   "source": [
    "Jupyter notebooks are able to show many plots throughout a notebook. In the cell below, create a plot that shows both $\\sin(x)$ and $\\cos(x)$ on the same axis. You should also add a legend so that the lines can be distinguished.\n",
    "\n",
    "The Matplotlib documentation and gallery (<https://matplotlib.org/index.html>) should be able to give you all the help you need but if you get lost, feel free to use your favourite search engine, Stack Overflow or ask a demonstrator."
   ]
  },
  {
   "cell_type": "code",
   "execution_count": null,
   "metadata": {},
   "outputs": [],
   "source": [
    "# Create your plot here\n",
    "\n"   ]
  },
  {
   "cell_type": "markdown",
   "metadata": {},
   "source": [
    "# Saving Figures\n",
    "\n",
    "Figures can be saved using the `savefig` function. Look at the documentation for this function ([here](https://matplotlib.org/api/_as_gen/matplotlib.pyplot.savefig.html?highlight=savefig#matplotlib.pyplot.savefig)) and use the below cell to create a plot of $cos(x)$ and save the figure you create as a png file."
   ]
  },
  {
   "cell_type": "code",
   "execution_count": null,
   "metadata": {},
   "outputs": [],
   "source": [
    "# Create your plot here and use 'savefig' to save it\n",
    "\n"   ]
  },
  {
   "cell_type": "markdown",
   "metadata": {},
   "source": [
    "# Subplots\n",
    "\n",
    "Often you will have multiple plots that you may want to display next to each other (as opposed to multiple lines on a single plot). For this purpose Matplotlib can create subplots.\n",
    "\n",
    "Search for 'subplot' on the Matplotlib documentation pages. Read the documentation and make sure you're happy with how it works.\n",
    "\n",
    "In the cell below, create a figure with two subplots. In the first subplot, plot $\\sin(x)$ and $\\sin(2x)$ on the same axes. In the second subplot, plot $\\sin(x) + \\sin(2x)$."
   ]
  },
  {
   "cell_type": "code",
   "execution_count": null,
   "metadata": {},
   "outputs": [],
   "source": [
    "# Create your plot here\n",
    "\n"   ]
  },
  {
   "cell_type": "markdown",
   "metadata": {},
   "source": [
    "# Exercise 4: Plotting Mathematical Functions (4 Marks)\n",
    "\n",
    "Plot the electric potential, $V$, as a function of $r$ for a point charge of $5.0\\times 10^{-5}$C located at the origin. Remember that the potential is $V=-\\frac{1}{4\\pi\\epsilon_0}\\frac{Q}{r}$ where $r$ is the distance from the charge origin.\n",
    "\n",
    "Use variables to hold constants and use `np.linspace` to create a reasonable number of points in $r$ from $r = 0 cm$ to $r = 10 cm$.\n",
    "\n",
    "Make reasonable decisions about the axes, label each axis with appropriate units and add a title. Save your figure as `electric_potential.png`.\n",
    "\n",
    "Do you get a warning message? What does the message mean? Does the message tell you which line causes the warning? Write an explanation in the Markdown cell. What should you change to prevent this warning?"
   ]
  },
  {
   "cell_type": "code",
   "execution_count": null,
   "metadata": {},
   "outputs": [],
   "source": [
    "# Put your solution here\n",
    "\n"   ]
  },
  {
   "cell_type": "markdown",
   "metadata": {},
   "source": [
    "**Write your explanation of the warning message here.**\n",
    "\n"   ]
  }
 ],
 "metadata": {
  "kernelspec": {
   "display_name": "Python 3",
   "language": "python",
   "name": "python3"
  },
  "language_info": {
   "codemirror_mode": {
    "name": "ipython",
    "version": 3
   },
   "file_extension": ".py",
   "mimetype": "text/x-python",
   "name": "python",
   "nbconvert_exporter": "python",
   "pygments_lexer": "ipython3",
   "version": "3.5.3"
  }
 },
 "nbformat": 4,
 "nbformat_minor": 2
}
