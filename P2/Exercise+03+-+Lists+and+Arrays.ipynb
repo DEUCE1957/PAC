{
 "cells": [
  {
   "cell_type": "code",
   "execution_count": null,
   "metadata": {},
   "outputs": [],
   "source": [
    "import numpy as np"
   ]
  },
  {
   "cell_type": "markdown",
   "metadata": {},
   "source": [
    "# Python Lists\n",
    "\n",
    "As well as the integers, floats and strings available to you in Python, you can also use 'Lists' to hold multiple bits of information, e.g. data taken at several timepoints in an experiment.\n",
    "\n",
    "Lists can hold multiple objects including combinations of different types, e.g. integers and strings. You can access any list element using square brackets and an index number, e.g. `[0]`.\n",
    "\n",
    "*Important*: Python indices start at zero, i.e. the first element of a list variable called `measurements` is `measurements[0]`.\n",
    "\n",
    "In the cells below you can see how to make an empty list, how to add items to a list and how to update items in a list. Run them one by one."
   ]
  },
  {
   "cell_type": "code",
   "execution_count": null,
   "metadata": {},
   "outputs": [],
   "source": [
    "# First, create an empty list\n",
    "myList = []\n",
    "print(myList)\n",
    "\n",
    "# Or create a list with some information in\n",
    "myList = [24,'hello',17.5]\n",
    "print(myList)"
   ]
  },
  {
   "cell_type": "code",
   "execution_count": null,
   "metadata": {},
   "outputs": [],
   "source": [
    "# Then add some elements\n",
    "myList.append(5)\n",
    "print(myList)\n",
    "myList.append('A string')\n",
    "print(myList)\n",
    "myList.append(3)\n",
    "print(myList)"
   ]
  },
  {
   "cell_type": "code",
   "execution_count": null,
   "metadata": {},
   "outputs": [],
   "source": [
    "# Access elements of the list\n",
    "print('Element 0 is {0}; Element 2 is {1};\\nMultipled together they equal {2};'.format(myList[0],myList[2],myList[0]*myList[2]))"
   ]
  },
  {
   "cell_type": "code",
   "execution_count": null,
   "metadata": {},
   "outputs": [],
   "source": [
    "# Update elements of the list\n",
    "myList[0] = 100\n",
    "print(myList)"
   ]
  },
  {
   "cell_type": "markdown",
   "metadata": {},
   "source": [
    "Now you can create and edit lists, look up Python lists using your favourite seaerch engine or the Python documentation pages. Can you do the following:\n",
    "\n",
    "1. Determine how many elements in a list?\n",
    "2. Combine two lists into one larger list?\n",
    "3. Remove an element from a list?\n",
    "\n",
    "Complete the cells below and speak to a demonstrator if you're not sure."
   ]
  },
  {
   "cell_type": "code",
   "execution_count": null,
   "metadata": {},
   "outputs": [],
   "source": [
    "myList = ['a',2,3.0,'d']\n",
    "# How long is myList?\n",
    "\n"   ]
  },
  {
   "cell_type": "code",
   "execution_count": null,
   "metadata": {},
   "outputs": [],
   "source": [
    "list1 = ['a','b','c']\n",
    "list2 = ['d','e','f']\n",
    "# Combine list1 and list2 (also known as concatenation)\n",
    "\n"   ]
  },
  {
   "cell_type": "code",
   "execution_count": null,
   "metadata": {},
   "outputs": [],
   "source": [
    "myList = ['a',1.0,2,'remove me']\n",
    "# Remove 'remove me' from the list\n",
    "\n"   ]
  },
  {
   "cell_type": "markdown",
   "metadata": {},
   "source": [
    "# NumPy Arrays, aka Matrices\n",
    "\n",
    "Python lists can be thought of as vectors but it is not very easy to do complex arithmetic with them. However, NumPy enables you to access a new data type called an array. Arrays are n-dimensional matrices and so can be used to represent scalars, vectors, matrices and tensors of any dimension.\n",
    "\n",
    "Arrays cannot hold any data type, like a list, but every element must be the same `dtype` (see <https://docs.scipy.org/doc/numpy/reference/arrays.dtypes.html>).\n",
    "\n",
    "Arrays are accessed with square brackets and indices, just like lists. For example, if I have a 2D array and I want to access the tenth row, third column I could do (remembering Python starts at zero):\n",
    "\n",
    "`myArray[9][2]`\n",
    "or\n",
    "`myArray[9,2]`\n",
    "\n",
    "Use the NumPy documentation to create three 2D arrays - one full of zeros, one full on ones and one full of random values between 0 and 1."
   ]
  },
  {
   "cell_type": "code",
   "execution_count": null,
   "metadata": {},
   "outputs": [],
   "source": [
    "m = 5\n",
    "n = 10\n",
    "# Create a 2D array of size (m,n) where every element is zero\n",
    "\n"   ]
  },
  {
   "cell_type": "code",
   "execution_count": null,
   "metadata": {},
   "outputs": [],
   "source": [
    "# Create a 2D array of size (m,n) where every element is one\n",
    "\n"   ]
  },
  {
   "cell_type": "code",
   "execution_count": null,
   "metadata": {},
   "outputs": [],
   "source": [
    "# Create a 2D array of size (m,n)\n",
    "# where every element is a random float between zero and one\n",
    "\n"   ]
  },
  {
   "cell_type": "markdown",
   "metadata": {},
   "source": [
    "## Slicing\n",
    "\n",
    "Elements of both lists and arrays can be accessed through a variety of methods. You have already seen indexing, e.g.: `myArray[x,y]`, but it is possible to 'slice', i.e. access multiple elements at once, with the colon operator.\n",
    "\n",
    "Run the following three cells, make sure you understand why each cell outputs what it does. Can you describe how the colon operator works? Use your favourite search engine, Stack Overflow or the Python/NumPy documentation to help you.\n",
    "\n",
    "Finally, complete the final cell to access every second element from a single column within a specified range of rows."
   ]
  },
  {
   "cell_type": "code",
   "execution_count": null,
   "metadata": {},
   "outputs": [],
   "source": [
    "# Our example 2D array\n",
    "myArray = np.random.randint(0,10,[10,10])\n",
    "print(myArray)"
   ]
  },
  {
   "cell_type": "code",
   "execution_count": null,
   "metadata": {},
   "outputs": [],
   "source": [
    "# Using the colon operator to access all elements of a column\n",
    "print(myArray[:,1])"
   ]
  },
  {
   "cell_type": "code",
   "execution_count": null,
   "metadata": {},
   "outputs": [],
   "source": [
    "# Using the colon operator to access a range of elements of a column\n",
    "print(myArray[0:5,1])"
   ]
  },
  {
   "cell_type": "code",
   "execution_count": null,
   "metadata": {},
   "outputs": [],
   "source": [
    "# Using the colon operator to access every second element of a column\n",
    "print(myArray[::2,1])"
   ]
  },
  {
   "cell_type": "markdown",
   "metadata": {},
   "source": [
    "## The Colon Operator\n",
    "\n",
    "*Write your description of how the colon operator works here.*\n",
    "\n"   ]
  },
  {
   "cell_type": "code",
   "execution_count": null,
   "metadata": {},
   "outputs": [],
   "source": [
    "# Using the colon operator to access:\n",
    "# - every second element\n",
    "# - of the second column\n",
    "# - between the second and sixth row\n",
    "\n"   ]
  },
  {
   "cell_type": "markdown",
   "metadata": {},
   "source": [
    "# Operations on Arrays\n",
    "\n",
    "NumPy has been designed to make working with arrays (matrices) a simple process. For example, to sum two matrices, `A` and `B`, you can just use `C = A + B`; likewise for subtraction `C = A - B`.\n",
    "\n",
    "However, you must be more careful with multiplication and division. NumPy recognises two types of these operations:\n",
    "* Elementwise - where each element in the first array is multipled/divided by the equivalent position element in the second array; in this case both arrays must be the same size.\n",
    "* Matrix - where matrix multiplication, e.g. the dot product in 2D, or matrix division, i.e. matrix multiplication of the first matrix with the *inverse* of the second; in this case you should refer to your maths notes for rules on matrix sizes.\n",
    "\n",
    "For the purposes of this course, you will not need to know about matrix multipication or matrix division.\n",
    "\n",
    "Run the below cell to see how the elementwise operators work on our two sample matrices."
   ]
  },
  {
   "cell_type": "code",
   "execution_count": null,
   "metadata": {},
   "outputs": [],
   "source": [
    "A = np.random.randint(1,10,[5,5])\n",
    "B = np.random.randint(1,10,[5,5])\n",
    "print('Matrix A:')\n",
    "print(A)\n",
    "print('Matrix B:')\n",
    "print(B)\n",
    "\n",
    "# Elementwise Multiplication\n",
    "print('Elementwise Multiplication:')\n",
    "print(A*B)  # or you could use np.multiply(A,B)\n",
    "\n",
    "# Elementwise Division\n",
    "print('Elementwise Division:')\n",
    "print(A/B)  # or you could use np.divide(A,B)"
   ]
  },
  {
   "cell_type": "markdown",
   "metadata": {},
   "source": [
    "# Exercise 3: Using Arrays (4 Marks)\n",
    "\n",
    "In the below cells, write Python that performs the following processes:\n",
    "\n",
    "1. Create the following arrays:\n",
    " * 1 row, 3 columns with values `[1,2,3]`\n",
    " * 3 rows, 1 columns, all ones\n",
    " * and 2 rows, 3 columns, all zeros\n",
    "2. Create a 4 x 10 matrix filled with random integers between zero and nine (inclusive). This matrix should be assigned to variable `A`.\n",
    "3. Access only the second, third, fourth and fifth columns of `A`. This should be assigned to variable `B`.\n",
    "4. Compute the transpose of `B`.\n",
    "5. Finally, create an array in which:\n",
    " * The first column contains the numbers 0-10\n",
    " * The second column contains the the numbers 0-10 raised to the power of 3\n",
    " * The third column contains the numbers $2^n$ where $n\\in[0,10)$\n",
    " \n",
    "As with this and all the other exercises in this course, the idea is to get the computer to do the calculating for you in question 5. Don't just define a matrix in which you type out the numerical values that belong in every column(!). Write some code that will calculate the values for you.\n",
    "\n",
    "*Hint*: you may find the NumPy functions `np.arange()` helpful.\n",
    "\n",
    "As a rule of thumb, try and write programs that are *extensible* - i.e. if you were then asked to do the same for the numbers 0-1000, could you alter your code to do that by changing only one tiny part of it...?\n",
    "\n",
    "By now you should be confident in using your favourite search engine, Stack Overflow and the Python or NumPy documentation to help you. You will probably find new functions that have not been introduced to you that will help with these questions."
   ]
  },
  {
   "cell_type": "code",
   "execution_count": null,
   "metadata": {},
   "outputs": [],
   "source": [
    "# Answer question 1 here\n",
    "\n"   ]
  },
  {
   "cell_type": "code",
   "execution_count": null,
   "metadata": {},
   "outputs": [],
   "source": [
    "# Answer question 2 here\n",
    "\n"   ]
  },
  {
   "cell_type": "code",
   "execution_count": null,
   "metadata": {},
   "outputs": [],
   "source": [
    "# Answer question 3 here\n",
    "\n"   ]
  },
  {
   "cell_type": "code",
   "execution_count": null,
   "metadata": {},
   "outputs": [],
   "source": [
    "# Answer question 4 here\n",
    "\n"   ]
  },
  {
   "cell_type": "code",
   "execution_count": null,
   "metadata": {},
   "outputs": [],
   "source": [
    "# Answer question 5 here\n",
    "\n"   ]
  }
 ],
 "metadata": {
  "kernelspec": {
   "display_name": "Python 3",
   "language": "python",
   "name": "python3"
  },
  "language_info": {
   "codemirror_mode": {
    "name": "ipython",
    "version": 3
   },
   "file_extension": ".py",
   "mimetype": "text/x-python",
   "name": "python",
   "nbconvert_exporter": "python",
   "pygments_lexer": "ipython3",
   "version": "3.5.3"
  }
 },
 "nbformat": 4,
 "nbformat_minor": 2
}
