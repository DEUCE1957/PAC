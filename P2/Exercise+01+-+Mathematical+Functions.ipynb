{
 "cells": [
  {
   "cell_type": "markdown",
   "metadata": {},
   "source": [
    "# Precedence of Operators\n",
    "\n",
    "In programming operators, e.g. `+` or `-`, have a 'precedence', i.e. an order in which operators will be processed (c.f. [BODMAS](https://en.wikipedia.org/wiki/Order_of_operations#Mnemonics) in high school).\n",
    "\n",
    "Use your search engine of choice, Stack Overflow or the Python documentation to put the [most common] operators in the next cell in order of precedence (you should edit the Markdown cell directly by double clicking the cell;  see [here](https://jupyter-notebook.readthedocs.io/en/stable/examples/Notebook/Working%20With%20Markdown%20Cells.html) for Markdown guidance).\n",
    "\n",
    "N.B. Some of these operations may share equal precedence - think about what might happen if these operators are used together."
   ]
  },
  {
   "cell_type": "markdown",
   "metadata": {},
   "source": [
    "**Edit this cell directly by double clicking - press `Ctrl+Enter` when you're done**\n",
    "\n",
    "* Multipication, e.g. `2*4`\n",
    "* Addition, e.g. `2+4`, and subtraction, e.g. `2-4`\n",
    "* Exponent, e.g. `2**4`\n",
    "* Division, e.g. `2/4`\n",
    "\n"   ]
  },
  {
   "cell_type": "markdown",
   "metadata": {},
   "source": [
    "Based on your knowledge of precedence, what do you expect the outputs from the following two cells to be?\n",
    "Run them and explain the difference below.\n",
    "You can run a cell by clicking into the cell and hitting `Ctrl+Enter`."
   ]
  },
  {
   "cell_type": "code",
   "execution_count": null,
   "metadata": {},
   "outputs": [],
   "source": [
    "3+4/(5+6)"
   ]
  },
  {
   "cell_type": "code",
   "execution_count": null,
   "metadata": {},
   "outputs": [],
   "source": [
    "3+4/5+6"
   ]
  },
  {
   "cell_type": "markdown",
   "metadata": {},
   "source": [
    "**Explain the difference here**"
   ]
  },
  {
   "cell_type": "markdown",
   "metadata": {},
   "source": [
    "Now, using the Python cell below, use all of the numbers `3,4,5,6` and any operations to get an answer of `11`."
   ]
  },
  {
   "cell_type": "code",
   "execution_count": null,
   "metadata": {},
   "outputs": [],
   "source": [
    "# Write your Python here\n",
    "\n"   ]
  },
  {
   "cell_type": "markdown",
   "metadata": {},
   "source": [
    "# The Numpy Module"
   ]
  },
  {
   "cell_type": "markdown",
   "metadata": {},
   "source": [
    "Python is a very extensible programming language and there are many 'modules' that allow you to incorporate new and advanced tools into your Python environment.\n",
    "\n",
    "One extremely important module for scientific programming in Python is called NumPy.\n",
    "NumPy is designed to allow easy mathematical operations including linear algebra, Fourier transforms, and so on.\n",
    "One of the benefits of using NumPy is that it provides Python with many of the same functions as mathematical programming languages such as MATLAB - although not always with the same name.\n",
    "\n",
    "You will be using NumPy throughout this course and, as such, need to know how to import the module.\n",
    "Run the cell below (remember: `Ctrl+Enter`) to import NumPy and execute the small example code - ask a demonstrator if there's anything you aren't sure about.\n",
    "\n",
    "You can find out more about NumPy on their documentation pages: <http://www.numpy.org/>."
   ]
  },
  {
   "cell_type": "code",
   "execution_count": null,
   "metadata": {},
   "outputs": [],
   "source": [
    "# Here we import the module and give it a nickname 'np' (this is conventional)\n",
    "import numpy as np\n",
    "\n",
    "# Here we use numpy to calculate sine of pi/2\n",
    "np.sin(np.pi/2)"
   ]
  },
  {
   "cell_type": "markdown",
   "metadata": {},
   "source": [
    "# Exercise 1: Mathematical Functions (2 Marks)\n",
    "\n",
    "Use raw Python and the `numpy` module to compute the following, one per cell:\n",
    "\n",
    "1. $e^2$\n",
    "2. $\\sqrt{8}$\n",
    "3. $\\ln{(e^{2\\pi})}$\n",
    "4. $2^3+5^4+7$\n",
    "5. $\\cos{({2\\pi}/3)}$\n",
    "6. $\\tan{(30^\\circ)}$\n",
    "7. $\\arctan{(\\sqrt{2})}$ - N.B. There are two types of arctan, read the NumPy documentation to identify which you should use.\n",
    "\n",
    "Often you can guess the right Python or NumPy function, e.g. `np.sin()` gives the sine function, and `np.pi` evaluates $\\pi$.\n",
    "If you get stuck you should feel free to use the internet but you should not need to import any additional modules. An example search might be \"Calculate logarithms with NumPy\"."
   ]
  },
  {
   "cell_type": "code",
   "execution_count": null,
   "metadata": {},
   "outputs": [],
   "source": [
    "# Answer question 1 here\n",
    "\n"   ]
  },
  {
   "cell_type": "code",
   "execution_count": null,
   "metadata": {},
   "outputs": [],
   "source": [
    "# Answer question 2 here\n",
    "\n"   ]
  },
  {
   "cell_type": "code",
   "execution_count": null,
   "metadata": {},
   "outputs": [],
   "source": [
    "# Answer question 3 here\n",
    "\n"   ]
  },
  {
   "cell_type": "code",
   "execution_count": null,
   "metadata": {},
   "outputs": [],
   "source": [
    "# Answer question 4 here\n",
    "\n"   ]
  },
  {
   "cell_type": "code",
   "execution_count": null,
   "metadata": {},
   "outputs": [],
   "source": [
    "# Answer question 5 here\n",
    "\n"   ]
  },
  {
   "cell_type": "code",
   "execution_count": null,
   "metadata": {},
   "outputs": [],
   "source": [
    "# Answer question 6 here\n",
    "\n"   ]
  },
  {
   "cell_type": "code",
   "execution_count": null,
   "metadata": {},
   "outputs": [],
   "source": [
    "# Answer question 7 here\n",
    "\n"   ]
  },
  {
   "cell_type": "markdown",
   "metadata": {},
   "source": [
    "**Remember: when you close your notebook, you should also shutdown/halt the kernel!**"
   ]
  }
 ],
 "metadata": {
  "kernelspec": {
   "display_name": "Python 3",
   "language": "python",
   "name": "python3"
  },
  "language_info": {
   "codemirror_mode": {
    "name": "ipython",
    "version": 3
   },
   "file_extension": ".py",
   "mimetype": "text/x-python",
   "name": "python",
   "nbconvert_exporter": "python",
   "pygments_lexer": "ipython3",
   "version": "3.5.3"
  }
 },
 "nbformat": 4,
 "nbformat_minor": 2
}
