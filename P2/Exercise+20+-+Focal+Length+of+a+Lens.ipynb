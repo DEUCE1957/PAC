{
 "cells": [
  {
   "cell_type": "code",
   "execution_count": null,
   "metadata": {},
   "outputs": [],
   "source": [
    "# Start by importing all packages that you will require here\n",
    "\n"   ]
  },
  {
   "cell_type": "markdown",
   "metadata": {},
   "source": [
    "# Functions Returning Multiple Values\n",
    "\n",
    "You may sometimes find it useful to write a function that returns more than one value as a result.\n",
    "The following simple example illustrates how to do this:\n",
    "```python\n",
    "def SquareAndCube(u):\n",
    "    square = u**2\n",
    "    cube = u**3\n",
    "    return square,cube\n",
    "```\n",
    "and then you can call this as follows:\n",
    "```python\n",
    "(s, c) = SquareAndCube(10.5)\n",
    "```"
   ]
  },
  {
   "cell_type": "markdown",
   "metadata": {},
   "source": [
    "# Exercise 20: Analysis of an Experiment on the Focal Length of a Lens (6 Marks)\n",
    "\n",
    "**N.B.** The following exercise can get messy if you do not plan carefully how you are going to write your scripts. Feel free to discuss your plan with a demonstrator *before* you start writing it.\n",
    "\n",
    "The exercise is modelled on an experiment aimed at determining the focal length of a lens (and at least you don't have to do that as well...!).\n",
    "For this the lens is placed at a certain object distance $u$ and we measure the distance $v$ (behind the lens) at which a sharp image is formed.\n",
    "This procedure is repeated several times, yielding a mean value of $v$ and an associated standard error.\n",
    "The focal length can then be calculated, using the thin lens equation.\n",
    "In order to increase the precision, the experimenter then repeats the same measurement series for a variety of different object distances.\n",
    "The task is to combine these results to find a more accurate value for the focal length.\n",
    "\n",
    "### Some Useful Information:\n",
    "\n",
    "The focal length of the lens is given by the thin lens equation:\n",
    "$$f = \\bigg(\\frac{1}{u}+\\frac{1}{v}\\bigg)^{-1}.$$\n",
    "The error in measuring the focal length $f$ arises from the error in $u$ and the error in $v$.\n",
    "We can express the focal length as a function $f(u,v)$, and you should therefore know how to propagate the errors (check your Mathematical Techniques notes, or refer back to exercise 8):\n",
    "$$\\delta f=\\sqrt{\\alpha_{f_{u}}^{2}+\\alpha_{f_{v}}^{2}},$$\n",
    "where $\\alpha_{f_{u}}$ is the error in the focal length arising from the error in $u$, and similarly for $\\alpha_{f_{v}}$. These can be evaluated for the thin lens equation:  \n",
    "\\begin{eqnarray}\n",
    "\\alpha_{f_{u}} & = &\\frac{\\partial f}{\\partial u}\\alpha_u=\\frac{v^{2}\\alpha_u}{(u+v)^{2}}, \\\\\n",
    "\\alpha_{f_{v}}&=&\\frac{\\partial f}{\\partial v}\\alpha_v=\\frac{u^{2}\\alpha_v}{(u+v)^{2}}.\n",
    "\\end{eqnarray}\n",
    "In this way we can calculate the focal length (including uncertainty) for a certain setting of the object distance $u$.\n",
    "\n",
    "In order to combine the different measurements of $f$ into a single measurement we need the formulae you already worked with in exercise 8:\n",
    "$$x_{\\rm best} = \\frac{\\sum\\limits_{k=1}^{n} x_k/\\alpha_k^{2}}{\\sum\\limits_{k=1}^{n} 1/\\alpha_{k}^{2}},\\hspace{10mm} \\delta_{\\rm best} = \\bigg(\\sum\\limits_{k=1}^{n}1/\\alpha_{k}^{2}\\bigg)^{-\\frac{1}{2}}.$$\n",
    "\n",
    "### The Data:\n",
    "\n",
    "The following table contains the hypothetical results for the various object distances, $u$, and the corresponding measurements of the image distances, $v$, all using the same lens. \n",
    "\n",
    "u/mm  | v/mm\n",
    "------|:---\n",
    "718.0 | 411.0, 412.5, 414.5, 416.0, 414.0\n",
    "675.5 | 422.5, 420.0, 421.0, 420.0, 422.5\n",
    "532.5 | 492.0, 488.0, 490.5, 489.5, 490.0, 488.0\n",
    "473.0 | 553.5, 551.0, 552.5, 555.5, 554.0\n",
    "415.5 | 631.0, 628.5, 630.0\n",
    "\n",
    "The measurement in $u$ was estimated to have an error of $\\pm0.5$ mm (accuracy of the ruler used to measure the distance).\n",
    "The error in the measurement of $v$ was mainly due to the uncertainty what position is judged to be the point of best focus.\n",
    "Because the measurement of $v$ was repeated several times for each different value of $u$, we can quantify this random error by looking at the spread in the measured values (see Mathematical Techniques lecture 2 for how exactly you calculate this error).\n",
    "You can assume that systematic errors are negligible.\n",
    "\n",
    "### Tasks\n",
    "\n",
    "1. Read the paragraph text above carefully. What equations will you use to calculate a value of $v$, and its associated error, for any given value of $u$? How will you use these values to calculate a best estimate for the focal length $f$ and its associated standard error? Check your plan with a demonstrator *before* you continue. Write your plan in the Markdown cell below.\n",
    "2. Write a custom function that takes two input parameters (a value for `u`, and a 1D array of values for `v`) and returns *two* results, a value for $f$, and its associated standard error. Test this function for some simple cases (e.g. only one value for `v`, or two identical values for `v`) that you can check with a calculator. It may be harder to check your code to calculate the error in the general case, but at least consider whether you think your error value has the correct order of magnitude. Show the results of your tests to a demonstrator. What do any runtime warnings mean?\n",
    "3. Write a separate Python cell to calculate the value of $f$ for each row in the table (you will want to make several calls to the function you have just written, passing in different matrices of $v$ values). Are all the values of $f$ consistent?\n",
    "4. In the next Python cell calculate a best estimate for $f$ and its error. There are a number of ways you could structure this code - take a moment to think about what would be a simple and clear way to write the code.\n",
    "5. Is your final value for the error on the best estimate bigger, or smaller, than the errors on the individual estimates. Is that the way round you would have expected? Discuss with a demonstrator and write this up in the final Markdown cell."
   ]
  },
  {
   "cell_type": "markdown",
   "metadata": {},
   "source": [
    "## Write your discussion of question 1 in this cell\n",
    "\n"   ]
  },
  {
   "cell_type": "code",
   "execution_count": null,
   "metadata": {},
   "outputs": [],
   "source": [
    "# Write your solution to question 2 in this cell\n",
    "\n"   ]
  },
  {
   "cell_type": "code",
   "execution_count": null,
   "metadata": {},
   "outputs": [],
   "source": [
    "### Write your solution to question 3 in this cell\n",
    "\n"   ]
  },
  {
   "cell_type": "code",
   "execution_count": null,
   "metadata": {},
   "outputs": [],
   "source": [
    "# Write your solution to question 4 in this cell\n",
    "\n"   ]
  },
  {
   "cell_type": "markdown",
   "metadata": {},
   "source": [
    "## Write your discussion of question 5 in this cell\n",
    "\n"   ]
  }
 ],
 "metadata": {
  "kernelspec": {
   "display_name": "Python 3",
   "language": "python",
   "name": "python3"
  },
  "language_info": {
   "codemirror_mode": {
    "name": "ipython",
    "version": 3
   },
   "file_extension": ".py",
   "mimetype": "text/x-python",
   "name": "python",
   "nbconvert_exporter": "python",
   "pygments_lexer": "ipython3",
   "version": "3.5.3"
  }
 },
 "nbformat": 4,
 "nbformat_minor": 2
}
