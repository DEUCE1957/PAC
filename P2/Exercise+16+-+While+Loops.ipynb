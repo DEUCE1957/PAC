{
 "cells": [
  {
   "cell_type": "code",
   "execution_count": null,
   "metadata": {},
   "outputs": [],
   "source": [
    "# Start by importing all packages that you will require here\n",
    "\n"   ]
  },
  {
   "cell_type": "markdown",
   "metadata": {},
   "source": [
    "# While Loops\n",
    "\n",
    "A `while` loop offers an alternative, and sometimes more efficient, option to the `for` loop.\n",
    "As the name indicates, it repeats a sequence of commands *while* (for as long as) the test condition evaluates as `True`, in the form of:    \n",
    "```python\n",
    "while (condition statement):\n",
    "    (indented commands to run while True)\n",
    "\n",
    "(non-indented commands are no longer part of the loop)\n",
    "```\n",
    "\n",
    "The following `while` loop will (for a given value of `a`)  produce the largest non-negative integer `n` such that $2^n \\lt a$.\n",
    "For $a=20$:\n",
    "```python\n",
    "a = 20\n",
    "n = 0\n",
    "while 2**n < a:\n",
    "    # Keep looping until 2**n >= a, incrementing n each time round the loop\n",
    "    n = n + 1\n",
    "\n",
    "print(n-1)\n",
    "```\n",
    "\n",
    "Think carefully about this program: why did the programmer have it print out `n-1` at the end, as opposed to `n`? Write your answer in the cell below."
   ]
  },
  {
   "cell_type": "markdown",
   "metadata": {},
   "source": [
    "### Why did the programmer have to print `n-1`?\n",
    "\n",
    "**Write your answer here**"
   ]
  },
  {
   "cell_type": "markdown",
   "metadata": {},
   "source": [
    "# Exercise 16: While Loops (4 Marks)\n",
    "\n",
    "Using a `while` loop, write a cell that finds the highest integer `n` for which `n!` (`n` factorial) has 50 digits or less.\n",
    "Check your answer by evaluating the factorial of the next highest integer and show that it has more than 50 digits.\n",
    "How might you work out the number of digits in an integer?\n",
    "\n",
    "Hint: Use your favourite search engine or the Scipy documentation to find a function in SciPy that will calculate the factorial of a number for you.\n",
    "What data type does this function output?\n",
    "How can this be printed?"
   ]
  },
  {
   "cell_type": "code",
   "execution_count": null,
   "metadata": {},
   "outputs": [],
   "source": [
    "# Write your solution to the exercise in this cell\n",
    "\n"   ]
  }
 ],
 "metadata": {
  "kernelspec": {
   "display_name": "Python 3",
   "language": "python",
   "name": "python3"
  },
  "language_info": {
   "codemirror_mode": {
    "name": "ipython",
    "version": 3
   },
   "file_extension": ".py",
   "mimetype": "text/x-python",
   "name": "python",
   "nbconvert_exporter": "python",
   "pygments_lexer": "ipython3",
   "version": "3.5.3"
  }
 },
 "nbformat": 4,
 "nbformat_minor": 2
}
