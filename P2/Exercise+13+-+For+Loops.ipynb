{
 "cells": [
  {
   "cell_type": "code",
   "execution_count": null,
   "metadata": {},
   "outputs": [],
   "source": [
    "import numpy as np\n",
    "import matplotlib.pyplot as plt\n",
    "from scipy import stats"
   ]
  },
  {
   "cell_type": "markdown",
   "metadata": {},
   "source": [
    "# Loops\n",
    "\n",
    "Conditionals statements, as you've just learnt, can create 'branches' in your scripts - two or more routes that the code can go through.\n",
    "However, many coding situations require your scripts to run the same bit of code multiple times, usually with different parameters.\n",
    "For example, in exercise 11, you might want to evaluate your `if` statement for $100$ different values and we do not want to writing $100$ cells to do that!\n",
    "\n",
    "## For Loops\n",
    "\n",
    "A `for` loop executes a chunk of code a predetermined number of times.\n",
    "The most common form of a `for` loop is:\n",
    "```python\n",
    "for index in np.arange(0,10,1):\n",
    "   (statement to be run on index)\n",
    "```\n",
    "\n",
    "Here `np.arange(start,stop,step)` creates an array of numbers starting at `start`, increasing in step sizes of `step` upto, but not including, `stop`.\n",
    "In each loop `index` takes on the next value in that list, run the following cell to convince yourself of this.\n",
    "Any codes within the loop will use the latest value of `index`."
   ]
  },
  {
   "cell_type": "code",
   "execution_count": null,
   "metadata": {},
   "outputs": [],
   "source": [
    "for index in np.arange(0,10,1):\n",
    "    print(index)"
   ]
  },
  {
   "cell_type": "markdown",
   "metadata": {},
   "source": [
    "Remember that Python and NumPy generally stores data in form of arrays that can be accessed by indices.\n",
    "In a `for` loop we can make use of this by addressing each index of a vector after the other by processing `A[index]`, starting with `i=0` and increasing `i` in integer steps, for example:"
   ]
  },
  {
   "cell_type": "code",
   "execution_count": null,
   "metadata": {},
   "outputs": [],
   "source": [
    "A = np.random.rand(10)  # create an array of random values\n",
    "for index in np.arange(0,len(A),1):  # loop over each element in the array, len(A) gives the length of array A\n",
    "   print(A[index]**2)  # print the square of the value in A"
   ]
  },
  {
   "cell_type": "markdown",
   "metadata": {},
   "source": [
    "A more complex example would be generating an array that contains the first 30 numbers in the [Fibonacci series](https://en.wikipedia.org/wiki/Fibonacci_number).  Here's a program that does just that.  Can you see how it works?"
   ]
  },
  {
   "cell_type": "code",
   "execution_count": null,
   "metadata": {},
   "outputs": [],
   "source": [
    "f = np.zeros([30])  # create an array to hold our Fibonacci numbers\n",
    "\n",
    "# manually assign the first two Fibonacci numbers\n",
    "f[1] = 1\n",
    "f[2] = 1\n",
    "\n",
    "for k in np.arange(3,len(f)):\n",
    "    f[k] = f[k-1]+f[k-2]\n",
    "\n",
    "np.set_printoptions(suppress=True)  # this stops NumPy printing everything in scientific format\n",
    "print(f)"
   ]
  },
  {
   "cell_type": "markdown",
   "metadata": {},
   "source": [
    "You can also nest multiple for-loops:\n",
    "```python\n",
    "for m in np.arange(1,5):\n",
    "    for n in np.arange(1,20):\n",
    "        A[m,n] = 1/(m+n-1)\n",
    "```\n",
    "\n",
    "If you are not so familiar with programming, try these examples and add explanations.\n",
    "\n",
    "**Emergency help**: If you accidentally create a loop function that repeats an infinite number of times and your cell never completes - you can apply the emergency brake by using the 'Shutdown Kernel' option from the menu."
   ]
  },
  {
   "cell_type": "markdown",
   "metadata": {},
   "source": [
    "# Exercise 13 - For Loops (2 Marks)\n",
    "\n",
    "In this exercise you will use a simple `for` loop combined with your simple `if` statement from exercise 12.\n",
    "You should use a `for` loop to fill an array, `f_x`, for 21 values of `x` between $-\\pi$ and $\\pi$; you may like to remind yourself of `np.linspace()`.\n",
    "\n",
    "As a reminder, the function uses in exercise 12 was:\n",
    "$$f(x) = \\begin{cases}\n",
    "    \\sin{(x)}, & 0 \\lt x \\leq \\pi,\\\\\n",
    "    \\sin{(-x)}, & -\\pi \\leq x \\lt 0,\\\\\n",
    "    0, & \\text{otherwise}.\\\\\n",
    "\\end{cases}$$\n",
    "\n",
    "Your script should assign your inputs to an array `x` and your outputs to an array `f_x`.\n",
    "Then plot your results."
   ]
  },
  {
   "cell_type": "code",
   "execution_count": null,
   "metadata": {},
   "outputs": [],
   "source": [
    "# Write your solution to the exercise in this cell\n",
    "\n"   ]
  }
 ],
 "metadata": {
  "kernelspec": {
   "display_name": "Python 3",
   "language": "python",
   "name": "python3"
  },
  "language_info": {
   "codemirror_mode": {
    "name": "ipython",
    "version": 3
   },
   "file_extension": ".py",
   "mimetype": "text/x-python",
   "name": "python",
   "nbconvert_exporter": "python",
   "pygments_lexer": "ipython3",
   "version": "3.5.3"
  }
 },
 "nbformat": 4,
 "nbformat_minor": 2
}
