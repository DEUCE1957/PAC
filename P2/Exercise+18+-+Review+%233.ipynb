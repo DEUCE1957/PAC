{
 "cells": [
  {
   "cell_type": "code",
   "execution_count": null,
   "metadata": {},
   "outputs": [],
   "source": [
    "# Start by importing all packages that you will require here\n",
    "\n"   ]
  },
  {
   "cell_type": "markdown",
   "metadata": {},
   "source": [
    "# Exercise 18: Differentiate a Data Function (4 Marks)\n",
    "\n",
    "Rewrite your Euler's method for differentiation of a function from exercise 14 as a function.\n",
    "Your function should be called `differentiate`, should accept as input two arrays each with 1 column/row of datapoints: a discrete set of $x$-values, and the corresponding $f(x)$-values.\n",
    "Your function should return the derivative, $df(x)/dx$ as a 1D array.\n",
    "\n",
    "Use what you learnt in exercise 9 to load the data in `ex18.csv`.\n",
    "You can assume that the data in this file is ordered by increasing x-values (column 0); however, you need to consider the fact that the x-data points might not be equally spaced, i.e. different rows may have a different $dx$. \n",
    " \n",
    "Test your function by plotting both lines onto a single axis: the initial datapoints, and their differential calculated using your function.\n",
    "Does it look as if your code is giving correct output?\n",
    "(Is the sign of the differential values correct? Are they higher or lower in the right places in the plot?)"
   ]
  },
  {
   "cell_type": "code",
   "execution_count": null,
   "metadata": {},
   "outputs": [],
   "source": [
    "# Write your solution to the exercise in this cell\n",
    "\n"   ]
  }
 ],
 "metadata": {
  "kernelspec": {
   "display_name": "Python 3",
   "language": "python",
   "name": "python3"
  },
  "language_info": {
   "codemirror_mode": {
    "name": "ipython",
    "version": 3
   },
   "file_extension": ".py",
   "mimetype": "text/x-python",
   "name": "python",
   "nbconvert_exporter": "python",
   "pygments_lexer": "ipython3",
   "version": "3.5.3"
  }
 },
 "nbformat": 4,
 "nbformat_minor": 2
}
