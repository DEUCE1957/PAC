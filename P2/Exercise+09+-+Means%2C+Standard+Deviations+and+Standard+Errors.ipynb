{
 "cells": [
  {
   "cell_type": "code",
   "execution_count": null,
   "metadata": {},
   "outputs": [],
   "source": [
    "# In Python it is standard practice to import the modules we need at the very top of our scripts\n",
    "import numpy as np\n",
    "import matplotlib.pyplot as plt\n",
    "from scipy import stats"
   ]
  },
  {
   "cell_type": "markdown",
   "metadata": {},
   "source": [
    "# Calculating Means, Standard Deviations and Standard Errors\n",
    "\n",
    "N.B. If you don't remember the definitions of 'sample', 'population', 'mean', 'standard deviation' and 'standard error', you can remind yourself by looking at your Mathematical Techniques notes.\n",
    "\n",
    "An important aspect of data handling is to evaluate statistical functions, including the mean, standard deviation and standard error. \n",
    "Use the NumPy documentation to find functions to calculate the mean and standard deviation.\n",
    "Remember that for a *sample* distribution the definition of the standard deviation is \n",
    "\\begin{equation}\n",
    " \\sigma_{N-1}=\\frac{\\sqrt{\\sum_i (x_i-\\bar{x})^2}}{\\sqrt{N-1}}.\n",
    "\\end{equation}\n",
    "whilst the standard deviation for the hypothetical *population* distribution is\n",
    "\\begin{equation}\n",
    "  \\sigma_N = \\frac{\\sqrt{\\sum_i (x_i-\\bar{x})^2}}{\\sqrt{N}}.\n",
    "\\end{equation}\n",
    "Fitting $N$ data points to the hypothetical population distribution with a known value for the mean gives us $N$ degrees of freedom.\n",
    "Evaluating the mean from the sample reduces the degrees of freedom to $N-1$.\n",
    "\n",
    "Which of these two does NumPy use by default?\n",
    "Can you pass an optional parameter to the function to switch between these two cases?\n",
    "\n",
    "The formula for the standard error is\n",
    "\\begin{equation}\n",
    " \\alpha=\\frac{\\sigma_{N-1}}{\\sqrt{N}},\n",
    "\\end{equation}\n",
    "where $N$ is the number of data points.\n",
    "Use the SciPy documentation to find a function to calculate the standard error.\n",
    "Do you need to bear in mind the difference between sample distributions and population distributions?\n",
    "\n",
    "In the Markdown cell below, add some comments to yourself on how to use these three functions and how to ensure you get the sample and not population statistics."
   ]
  },
  {
   "cell_type": "markdown",
   "metadata": {},
   "source": [
    "**Write your notes here**\n",
    "\n"   ]
  },
  {
   "cell_type": "markdown",
   "metadata": {},
   "source": [
    "# Exercise 9: Calculating Statistical Metrics (5 Marks)\n",
    "\n",
    "In this exercise you will practice importing tables of experimental data into Python, and analyzing them.\n",
    "There are two datasets available in your Jupyter Hub folder: `poisson-data.csv` and `gaussian-data.csv`.\n",
    "Your first task is to import them into your notebook.\n",
    "\n",
    "These files are both 'comma separated values' files - this means that they contain an array of data where rows are discriminated by new lines and columns by, usually, commas.\n",
    "\n",
    "There are several approaches and functions you could use to read and write `.csv` files, for this course we're going to use `np.loadtxt()` and `np.savetxt()`.\n",
    "Read the documentation for `np.loadtxt()`.\n",
    "Which parameters will you need to set to read a file where values are separated by commas?\n",
    "Load `poisson-data.csv` into your notebook and assign it to a variable; repeat for `gaussian-data.csv`."
   ]
  },
  {
   "cell_type": "code",
   "execution_count": null,
   "metadata": {},
   "outputs": [],
   "source": [
    "# Load data here\n",
    "\n"   ]
  },
  {
   "cell_type": "markdown",
   "metadata": {},
   "source": [
    "## Poisson Distribution\n",
    "\n",
    "The file contains two dataset, each following a Poisson distribution.\n",
    "\n",
    "1) Plot the histogram using the `plt.hist()` function for each of the two Poisson distributions; plot both histograms as a separate subplot in one figure. Consult the Matplotlib documentation and examples on `plt.hist()`. Vary the number of bins in the histograms and choose a number that neither oversamples the data (leading to scattered histograms) nor undersamples it (losing detail).\n",
    "\n",
    "2) For both data sets determine the mean, standard deviation and standard error, calculate also the square root of the mean.  Display your results using the `print` statement; be sure to format your results. What do you notice about the value of the square root of the mean (comment in the Markdown cell)?"
   ]
  },
  {
   "cell_type": "code",
   "execution_count": null,
   "metadata": {},
   "outputs": [],
   "source": [
    "# Put your answer to question 1 here\n",
    "\n"   ]
  },
  {
   "cell_type": "code",
   "execution_count": null,
   "metadata": {},
   "outputs": [],
   "source": [
    "# Put your answer to question 2 here\n",
    "\n"   ]
  },
  {
   "cell_type": "markdown",
   "metadata": {},
   "source": [
    "**What do you notice about sqrt(mean)?**\n",
    "\n"   ]
  },
  {
   "cell_type": "markdown",
   "metadata": {},
   "source": [
    "## Gaussian Distribution\n",
    "\n",
    "The file contains five datasets, each assumed to be a (small) subsets of normal (or Gaussian) distributed data.\n",
    "\n",
    "3) Use a `for` loop to calculate and print the mean, standard deviation and standard error for all 5 sets of data. For loops are a simple way to do repetitive calculations without writing it out for every iteration; you should read the Python documentation [here](https://docs.python.org/3/tutorial/controlflow.html#for-statements) to familiarise yourself with these loops. Are the values obtained consistent between the data sets (comment in the Markdown cell)? Remember, consistent data is usually assumed to be within 3 standard deviations.\n",
    "\n",
    "An example for loop, which just prints each dataset, could be:\n",
    "\n",
    "```python\n",
    "for dataset in np.arange(5):\n",
    "    print(gaussian[:,dataset])```"
   ]
  },
  {
   "cell_type": "code",
   "execution_count": null,
   "metadata": {},
   "outputs": [],
   "source": [
    "# Put your answer to question 3 here\n",
    "\n"   ]
  },
  {
   "cell_type": "markdown",
   "metadata": {},
   "source": [
    "**Are the datasets consistent with each other?**\n",
    "\n"   ]
  }
 ],
 "metadata": {
  "kernelspec": {
   "display_name": "Python 3",
   "language": "python",
   "name": "python3"
  },
  "language_info": {
   "codemirror_mode": {
    "name": "ipython",
    "version": 3
   },
   "file_extension": ".py",
   "mimetype": "text/x-python",
   "name": "python",
   "nbconvert_exporter": "python",
   "pygments_lexer": "ipython3",
   "version": "3.5.3"
  }
 },
 "nbformat": 4,
 "nbformat_minor": 2
}
