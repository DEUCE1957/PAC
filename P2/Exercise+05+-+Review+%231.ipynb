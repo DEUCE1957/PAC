{
 "cells": [
  {
   "cell_type": "code",
   "execution_count": null,
   "metadata": {},
   "outputs": [],
   "source": [
    "# In Python it is standard practice to import the modules we need at the very top of our scripts\n",
    "import numpy as np\n",
    "import matplotlib.pyplot as plt"
   ]
  },
  {
   "cell_type": "markdown",
   "metadata": {},
   "source": [
    "# Exercise 5: Bringing Everything Together (4 Marks)\n",
    "\n",
    "In exercise 2 we used variables to hold single values for speed, time and distance in our projectile motion scenario. In that sense we used Python like a glorified calculator; however, the beauty of programming languages is that they can remove the effort needed for repetitive calculations and instead of calculating the velocity at just one or two points we could calculate the velocity at hundreds of points and track it across the projectile's flight.\n",
    "\n",
    "In this exercise you will use the same scenario but plot `velocity_x`, `velocity_y` and `velocity_mag` for the entire flight. Likewise, you will plot the body altitude and distance from launch. You should refer back to exercise 2 and your earlier code, which has hopefully been clearly commented.\n",
    "\n",
    "As a reminder, we're working with the following scenario: A body is launched into the air at an angle $\\theta=25^\\circ$ (compared to ground level) with initial velocity of $v_0=7.5$m/s. Assume an acceleration due to gravity of $g=9.81$ms$^{-2}$.\n",
    "\n",
    "You should assign the input numbers to suitable variables, and define suitable a array containing a range of values representing the time-axis, starting at `t=0` and covering the total time that the body is above ground (see exercise 2).\n",
    "Your code should create new arrays containing the  horizontal and vertical velocity, speed and horizontal and vertical position.\n",
    "\n",
    "Plot the following as subplots within a single figure (save that figure as `projectile_motion.png`):\n",
    "\n",
    "1. the instantaneous horizontal velocity `velocity_x` and vertical velocity `velocity_y` (on one set of axes) for the entire flight,\n",
    "2. the magnitude velocity `velocity_mag` (on a separate set of axes) for the entire flight,\n",
    "3. the instantaneous altitude `position_y` and horizontal displacement from launch `position_x` (on one set of axes),\n",
    "4. the actual projectile, e.g. the altitutde as a function of horizontal displacement (on a separate set of axes) from launch point of the body for the entire flight.\n",
    "\n",
    "You will need to calculate the total time the projectile is airborne in order to know the correct times to consider.\n",
    "\n",
    "Reality check: think about whether the graphs you have plotted make sense. Why is there a minimum in the speed?"
   ]
  },
  {
   "cell_type": "code",
   "execution_count": null,
   "metadata": {},
   "outputs": [],
   "source": [
    "# Write your set-up and calculations for question 1\n",
    "\n"   ]
  },
  {
   "cell_type": "code",
   "execution_count": null,
   "metadata": {},
   "outputs": [],
   "source": [
    "# Write your calculations for question 2 here\n",
    "\n"   ]
  },
  {
   "cell_type": "code",
   "execution_count": null,
   "metadata": {},
   "outputs": [],
   "source": [
    "# Make your plots here\n",
    "\n"   ]
  }
 ],
 "metadata": {
  "kernelspec": {
   "display_name": "Python 3",
   "language": "python",
   "name": "python3"
  },
  "language_info": {
   "codemirror_mode": {
    "name": "ipython",
    "version": 3
   },
   "file_extension": ".py",
   "mimetype": "text/x-python",
   "name": "python",
   "nbconvert_exporter": "python",
   "pygments_lexer": "ipython3",
   "version": "3.5.3"
  }
 },
 "nbformat": 4,
 "nbformat_minor": 2
}
