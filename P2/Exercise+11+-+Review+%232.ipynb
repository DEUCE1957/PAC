{
 "cells": [
  {
   "cell_type": "code",
   "execution_count": null,
   "metadata": {},
   "outputs": [],
   "source": [
    "# In Python it is standard practice to import the modules we need at the very top of our scripts\n",
    "import numpy as np\n",
    "import matplotlib.pyplot as plt\n",
    "from scipy import stats"
   ]
  },
  {
   "cell_type": "markdown",
   "metadata": {},
   "source": [
    "# Exercise 11: Fitting Points with the Same Error (4 Marks)\n",
    "\n",
    "t = time/hours      | 0    | 1   | 2   | 3   | 4   | 5  | 6  | 7  | 8\n",
    "--------------------|------|-----|-----|-----|-----|----|----|----|---\n",
    "y = counts per min  | 1283 | 716 | 418 | 253 | 111 | 50 | 21 | 12 | 7\n",
    "\n",
    "You are given the above data set to analyse.\n",
    "You want to ensure your analysis takes into account the uncertainty.\n",
    "As you have no further information on the data, you assume that the errors on all points are the same.\n",
    "After a first analysis of the data, e.g. by plotting $y(t)$ you expect an exponential decay, $N=N_0 \\exp(-\\lambda t)$.\n",
    "You decide to plot the logarithm of the counts, as $\\ln(N)=\\ln(N_0)-\\lambda t$ describes a linear plot, which can easily be fitted in Python (see exercises 6 and 7).\n",
    "\n",
    "1. Calculate the gradient and intercept for a least-squares fit to a straight lin - remember the useful `stats.linregress()` function from Exercise 5.\n",
    "2. Generate a logarithmic plot showing the raw data as points and your calculated fit line. (Look up `plt.semilogy()` in the Matplotlib documentation if you want to display the y axis in log scaling.)\n",
    "3. Compare the values that Python finds in the fitting routine with the values that you calculate explicitly.  For a linear fit $y=mx+c$ of data with identical errors, the gradient $m$ and and intercept $c$ are obtained from the measured data according to (compare Mathematical Techniques Lectures): \n",
    "\\begin{eqnarray}\n",
    "m  =  \\frac{\\langle xy\\rangle-\\langle x\\rangle\\langle y\\rangle}{\\langle x^{2}\\rangle-\\langle x\\rangle^{2}},\\\\\n",
    "c  =  \\langle y\\rangle-m\\langle x\\rangle.\n",
    "\\end{eqnarray}"
   ]
  },
  {
   "cell_type": "code",
   "execution_count": null,
   "metadata": {},
   "outputs": [],
   "source": [
    "# Put your answer to question 1 here\n",
    "\n"   ]
  },
  {
   "cell_type": "code",
   "execution_count": null,
   "metadata": {},
   "outputs": [],
   "source": [
    "# Put your answer to question 2 here\n",
    "\n"   ]
  },
  {
   "cell_type": "code",
   "execution_count": null,
   "metadata": {},
   "outputs": [],
   "source": [
    "# Put your answer to question 3 here\n",
    "\n"   ]
  }
 ],
 "metadata": {
  "kernelspec": {
   "display_name": "Python 3",
   "language": "python",
   "name": "python3"
  },
  "language_info": {
   "codemirror_mode": {
    "name": "ipython",
    "version": 3
   },
   "file_extension": ".py",
   "mimetype": "text/x-python",
   "name": "python",
   "nbconvert_exporter": "python",
   "pygments_lexer": "ipython3",
   "version": "3.5.3"
  }
 },
 "nbformat": 4,
 "nbformat_minor": 2
}
