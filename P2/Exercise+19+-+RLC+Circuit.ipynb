{
 "cells": [
  {
   "cell_type": "code",
   "execution_count": null,
   "metadata": {},
   "outputs": [],
   "source": [
    "# Start by importing all packages that you will require here\n",
    "\n"   ]
  },
  {
   "cell_type": "markdown",
   "metadata": {},
   "source": [
    "# Exercise 19: RLC Circuit (5 Marks)\n",
    "\n",
    "Generate a function that plots the time behaviour of a series RLC circuit.\n",
    "The resonance frequency of the circuit is given by $\\omega_0=1/\\sqrt{L C}$ and the damping factor by $\\gamma=R/(2L)$.\n",
    "The oscillation frequency is $\\omega_d= \\sqrt{\\omega_0^2+\\gamma^2}$, and the time behaviour of the current flow is given by $i(t)=\\exp⁡(-\\gamma t)\\sin⁡(\\omega_d t)$.\n",
    "\n",
    "*The maths of this should be familiar from your Oscillating Systems course.*\n",
    "\n",
    "1. Define a function, `plotRLC()`, that takes `R`, `L` and `C` as inputs and **plots** the resulting current vs time for 0.5 s intervals up to 100 s.\n",
    "2. Run your function for several values of `R`, `L` and `C`, observe the change of the attenuation and oscillation frequency.\n",
    "3. Write a short comment on what you noticed in the Markdown cell.\n",
    "4. Generate two plots, one showing *strong damping* and the other *weak damping* (revise your Oscillating Systems notes if you can't remember what these are), and record the values of `R`, `L` and `C` that you have used."
   ]
  },
  {
   "cell_type": "code",
   "execution_count": null,
   "metadata": {},
   "outputs": [],
   "source": [
    "# Write your solution to question 1 in this cell\n",
    "\n"   ]
  },
  {
   "cell_type": "code",
   "execution_count": null,
   "metadata": {},
   "outputs": [],
   "source": [
    "# Write your solution to question 2 in this cell\n",
    "\n"   ]
  },
  {
   "cell_type": "markdown",
   "metadata": {},
   "source": [
    "### Write your answer to question 3 here\n",
    "\n"   ]
  },
  {
   "cell_type": "code",
   "execution_count": null,
   "metadata": {},
   "outputs": [],
   "source": [
    "# Write your solution to question 4 in this cell\n",
    "\n"   ]
  }
 ],
 "metadata": {
  "kernelspec": {
   "display_name": "Python 3",
   "language": "python",
   "name": "python3"
  },
  "language_info": {
   "codemirror_mode": {
    "name": "ipython",
    "version": 3
   },
   "file_extension": ".py",
   "mimetype": "text/x-python",
   "name": "python",
   "nbconvert_exporter": "python",
   "pygments_lexer": "ipython3",
   "version": "3.5.3"
  }
 },
 "nbformat": 4,
 "nbformat_minor": 2
}
