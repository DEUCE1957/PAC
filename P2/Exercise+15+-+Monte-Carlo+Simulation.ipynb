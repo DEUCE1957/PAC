{
 "cells": [
  {
   "cell_type": "code",
   "execution_count": null,
   "metadata": {},
   "outputs": [],
   "source": [
    "import numpy as np\n",
    "import matplotlib.pyplot as plt\n",
    "from scipy import stats"
   ]
  },
  {
   "cell_type": "markdown",
   "metadata": {},
   "source": [
    "# Exercise 15 - Monte-Carlo Simulation (5 Marks)\n",
    "\n",
    "The following examples illustrate an important numerical procedure, namely a **Monte-Carlo simulation**.\n",
    "A Monte-Carlo simulation can be used to integrate a function where an analytical expression is not known or takes too long to calculate. \n",
    "\n",
    "Suppose we want to evaluate the integral $\\int_{0}^{\\pi} \\sin(x) dx$ using the Monte-Carlo method (despite the fact that here an analytical solution to the integral *is* known).\n",
    "Remember that integration evaluates the weighted area under a curve.\n",
    "We can perform the integral by generating random points and testing whether they lie between the x axis and the curve.\n",
    "Specifically, we can by generate many random points with coordinates $0\\leq x \\leq \\pi$ and $0 \\leq y \\leq +1$.\n",
    "For each of these points we can test whether it lies underneath the curve or not, and increase a counter if it does.\n",
    "The final value of the counter divided by the number of test points then gives the fraction of the area under the curve divided by the total test area, see  the image below.\n",
    "A Python program might look like this:\n",
    "\n",
    "```python\n",
    "total = 500  # total number of points\n",
    "count = 0  # initialise counter\n",
    "\n",
    "for i in np.arange(1,total):  # loops through total number of points\n",
    "    x = pi*np.random.rand(1)  # chooses x at random between 0 and pi\n",
    "    y = np.random.rand(1)  # chooses y at random between 0 and 1\n",
    "    if y<sin(x):  # if point lies underneath curve\n",
    "        count=count+1  # then increase counter by one\n",
    "\n",
    "print(count/total*np.pi)  # output final value of integral (pi is size of testing area)\n",
    "```\n",
    "\n",
    "![alt text](./MonteCarlo.jpg \"Illustration of a Monte-Carlo integration of the sine function between $0$ and $\\pi$: The fraction of random points that are under the curve is the same as the fraction of the area under the curve divided by the total test area.\")\n",
    "\n",
    "Illustration of a Monte-Carlo integration of the sine function between $0$ and $\\pi$: The fraction of random points that are under the curve is the same as the fraction of the area under the curve divided by the total test area.\n",
    "\n",
    "Using a similar method in the Python cell below as in the example above, calculate the area of an ellipse defined by $\\frac{x^2}{a^2}+\\frac{y^2}{b^2}=1$, with $a=1$ and $b=0.5$.\n",
    "One approach you could take is to calculate only the area within one quadrant and afterwards multiply your result by 4.\n",
    "Compare the results you are getting with the analytical value.\n",
    "Evaluate for different numbers of total test points and comment on your result.\n",
    "How does the accuracy of your result change as you multiply your number of test points by factors of 10?\n",
    "Summarise your experience with different total numbers in the Markdown cell below."
   ]
  },
  {
   "cell_type": "code",
   "execution_count": null,
   "metadata": {},
   "outputs": [],
   "source": [
    "# Write your solution to the exercise in this cell\n",
    "\n"   ]
  },
  {
   "cell_type": "markdown",
   "metadata": {},
   "source": [
    "## Write your evaluation of the Monter-Carlo simulation here"
   ]
  }
 ],
 "metadata": {
  "kernelspec": {
   "display_name": "Python 3",
   "language": "python",
   "name": "python3"
  },
  "language_info": {
   "codemirror_mode": {
    "name": "ipython",
    "version": 3
   },
   "file_extension": ".py",
   "mimetype": "text/x-python",
   "name": "python",
   "nbconvert_exporter": "python",
   "pygments_lexer": "ipython3",
   "version": "3.5.3"
  }
 },
 "nbformat": 4,
 "nbformat_minor": 2
}
