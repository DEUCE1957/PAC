{
 "cells": [
  {
   "cell_type": "code",
   "execution_count": null,
   "metadata": {},
   "outputs": [],
   "source": [
    "# In Python it is standard practice to import the modules we need at the very top of our scripts\n",
    "import numpy as np\n",
    "import matplotlib.pyplot as plt\n",
    "from scipy import stats"
   ]
  },
  {
   "cell_type": "markdown",
   "metadata": {},
   "source": [
    "# Exercise 10: Combining Errors (Optional)\n",
    "\n",
    "Combine the results of the four consistent data sets from exercise 9, e.g. remove the one inconsistent dataset, to obtain an overall mean and standard error.  This could correspond to four different groups measuring the same quantity in a particular lab experiment.  More generally, $n$ independent measurements of the same quantity $x$ will result in $n$ measurement outcomes $x_{k} \\pm \\alpha_{k}$ ($k = 1$ to $n$).   These can be combined into a single best estimate, $x_{\\rm best}$, with error, $\\delta_{\\rm best}$, that takes into account the different precision of the various measurement attempts:\n",
    "\\begin{eqnarray}\n",
    " x_{\\rm best} & = & \\frac{\\sum\\limits_{k=1}^{n} x_k/\\alpha_k^{2}}{\\sum\\limits_{k=1}^{n} 1/\\alpha_{k}^{2}},\\\\ \n",
    " \\delta_{\\rm best} & = & \\bigg(\\sum\\limits_{k=1}^{n}1/\\alpha_{k}^{2}\\bigg)^{-\\frac{1}{2}}.\n",
    "\\end{eqnarray}\n",
    "Here $x_{k}$ is the mean and $\\alpha_{k}$ is the standard error of the $k^{th}$ set of data.\n",
    "\n",
    "Hint: Fill an array with the means of the four data sets, and similarly fill an array with the standard errors of the data sets. The `np.sum()` function helps in performing the summation."
   ]
  },
  {
   "cell_type": "code",
   "execution_count": null,
   "metadata": {},
   "outputs": [],
   "source": [
    "# Put your answer here\n",
    "\n"   ]
  }
 ],
 "metadata": {
  "kernelspec": {
   "display_name": "Python 3",
   "language": "python",
   "name": "python3"
  },
  "language_info": {
   "codemirror_mode": {
    "name": "ipython",
    "version": 3
   },
   "file_extension": ".py",
   "mimetype": "text/x-python",
   "name": "python",
   "nbconvert_exporter": "python",
   "pygments_lexer": "ipython3",
   "version": "3.5.3"
  }
 },
 "nbformat": 4,
 "nbformat_minor": 2
}
