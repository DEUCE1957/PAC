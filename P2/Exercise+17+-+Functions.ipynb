{
 "cells": [
  {
   "cell_type": "code",
   "execution_count": null,
   "metadata": {},
   "outputs": [],
   "source": [
    "# Start by importing all packages that you will require here\n",
    "\n"   ]
  },
  {
   "cell_type": "markdown",
   "metadata": {},
   "source": [
    "# Functions\n",
    "\n",
    "Functions are similar to cells except they can be called from anywhere else in the notebook and often accept **input arguments** and `return` **output arguments**.\n",
    "You've already explored many built-in examples of functons, e.g. the `np.sin()` function, which takes one input argument (an angle in radians) and returns one output argument (the sine of that angle).\n",
    "\n",
    "Each notebook can only see certain functions: a) functions core to Python, e.g. `print()`; b) functions imported into the notebook, i.e. `import numpy as np` means the notebook can see all NumPy functions; and c) functions defined within the notebook itself (as we will shortly do).\n",
    "This means that if you define a custom function in one notebook, a separate notebook will not know that function (unless you also define it in the new notebook).\n",
    "\n",
    "The `total` function defined below, for example, is a simple Python function that calculates the sum of the elements of a 1D array:\n",
    "```python\n",
    "def total(x):  # def allows us to DEFine a new function called total that takes one input 'x'\n",
    "    ''' TOTAL - sum of all elements in 1D array x \n",
    "        This function works for row and column vectors of any length.\n",
    "        Here we have chosen the output argument to be s,\n",
    "        but you can change that to whatever you like.'''\n",
    "\n",
    "    s=0  # initialise our sum variable\n",
    "    for i in np.arange(x.size):\n",
    "        s = s + x[i]\n",
    "    return s  # return allows the user to get the value of s\n",
    "\n",
    "# The next lines are not inside the function so cannot see anything from within the function\n",
    "myArray = np.random.rand(10,1)  # create a 10 item 1D array of random values\n",
    "myTotal = total(myArray)  # determine the total value using our custom function\n",
    "print(myTotal)  # print the result\n",
    "```\n",
    "\n",
    "Note the use of a multi-line comment to describe this function.\n",
    "Without such useful comments my colleague may not understand the function, or worse - I might forget when I come back to the codes in a year's time."
   ]
  },
  {
   "cell_type": "markdown",
   "metadata": {},
   "source": [
    "# Exercise 17: Functions (2 Marks)\n",
    "\n",
    "Generate a custom function `logB()` that will calculate the logarithm of a value `n` with respect to a base `b` (i.e. it accepts two parameters as input, `n` and `b`, and returns the result).\n",
    "Test your function and show it to a demonstrator.\n",
    "\n",
    "Maths reminder: we're looking for $y$ so that $n=b^y$.\n",
    "This means that,\n",
    "$$\\log(n)=\\log(b^y)=y \\log(b),$$\n",
    "and hence,\n",
    "$$y=\\frac{\\log(n)}{\\log(b)}.$$"
   ]
  },
  {
   "cell_type": "code",
   "execution_count": null,
   "metadata": {},
   "outputs": [],
   "source": [
    "# Write your solution to the exercise in this cell\n",
    "\n"   ]
  }
 ],
 "metadata": {
  "kernelspec": {
   "display_name": "Python 3",
   "language": "python",
   "name": "python3"
  },
  "language_info": {
   "codemirror_mode": {
    "name": "ipython",
    "version": 3
   },
   "file_extension": ".py",
   "mimetype": "text/x-python",
   "name": "python",
   "nbconvert_exporter": "python",
   "pygments_lexer": "ipython3",
   "version": "3.5.3"
  }
 },
 "nbformat": 4,
 "nbformat_minor": 2
}
