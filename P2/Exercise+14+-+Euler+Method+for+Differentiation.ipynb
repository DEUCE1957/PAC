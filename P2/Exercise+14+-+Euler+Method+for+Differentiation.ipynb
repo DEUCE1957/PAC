{
 "cells": [
  {
   "cell_type": "code",
   "execution_count": null,
   "metadata": {},
   "outputs": [],
   "source": [
    "import numpy as np\n",
    "import matplotlib.pyplot as plt\n",
    "from scipy import stats"
   ]
  },
  {
   "cell_type": "markdown",
   "metadata": {},
   "source": [
    "# Exercise 14 - Euler's Method for Differentiation (5 Marks)\n",
    "\n",
    "Write a script in the below cell that differentiates numerically any function $y=f(x)$  by using Euler's method.\n",
    "For a function known at discrete values, $x_i \\to y_i=f(x_i)$, the derivative can be found by\n",
    "$$ \\frac{df(x_i)}{dx}=\\frac{y_{i+1}-y_{i-1}}{x_{i+1}-x_{i-1}}.$$\n",
    "\n",
    "To do this you will want to (in the first Python cell):\n",
    "1. Define an array for `x`, e.g. `x = np.arange(0,1,dx)`, where the step size `dx` is defined in your script.\n",
    "2. Choose a test function, e.g. $y = x^2$ or $y = sin(x)$, and calculate its values over the `x` interval.\n",
    "3. Write a 'for' loop that calculates the derivative over the discrete points of your `x` array.\n",
    "4. Print $x$, $f(x)$ and $df(x)$.\n",
    "\n",
    "How will you deal with the ends of the interval, e.g. `x[0]` and `x[-1]`?\n",
    "You need to write your function so that it treats the first and last positions in `x` as 'special cases', as Euler's definition requires knowledge of the points before and after.\n",
    "You can deal with these ones outside of the `for` loop.\n",
    "Decide what formula or value to use for the derivative at each of those points, describe your reasoning in the Markdown cell below.\n",
    "\n",
    "N.B. `x[-1]` will access the last element of an array.\n",
    "\n",
    "Your routine will work over all differentiable functions, but testing it for a function with a known derivative, e.g. sine or cosine, allows you to check your programme.\n",
    "In a second Python cell, calculate the Euler-method result on another simple function, e.g. sine or cosine, where you know what the differentiated function should look like.\n",
    "\n",
    "In the final Python cell, write a few extra lines of code that will plot $f(x)$ and $df(x)/dx$ as subplots of the same figure. Do your results look correct?\n",
    "\n",
    "The strength of Euler's method, of course, is that after you have tested it on a known function like sine you can be confident that it will work for other unknown functions or even for experimentally-measured data."
   ]
  },
  {
   "cell_type": "code",
   "execution_count": null,
   "metadata": {},
   "outputs": [],
   "source": [
    "# Write your solution to the exercise in this cell\n",
    "\n"   ]
  },
  {
   "cell_type": "markdown",
   "metadata": {},
   "source": [
    "## Write your reasoning for how you dealt with the boundary case here"
   ]
  },
  {
   "cell_type": "code",
   "execution_count": null,
   "metadata": {},
   "outputs": [],
   "source": [
    "# Write your solution to the exercise in this cell\n",
    "\n"   ]
  },
  {
   "cell_type": "code",
   "execution_count": null,
   "metadata": {},
   "outputs": [],
   "source": [
    "# Write your solution to the exercise in this cell\n",
    "\n"   ]
  }
 ],
 "metadata": {
  "kernelspec": {
   "display_name": "Python 3",
   "language": "python",
   "name": "python3"
  },
  "language_info": {
   "codemirror_mode": {
    "name": "ipython",
    "version": 3
   },
   "file_extension": ".py",
   "mimetype": "text/x-python",
   "name": "python",
   "nbconvert_exporter": "python",
   "pygments_lexer": "ipython3",
   "version": "3.5.3"
  }
 },
 "nbformat": 4,
 "nbformat_minor": 2
}
