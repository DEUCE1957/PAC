{
 "cells": [
  {
   "cell_type": "code",
   "execution_count": null,
   "metadata": {},
   "outputs": [],
   "source": [
    "# In Python it is standard practice to import the modules we need at the very top of our scripts\n",
    "import numpy as np"
   ]
  },
  {
   "cell_type": "markdown",
   "metadata": {},
   "source": [
    "# Assigning and Using Variables\n",
    "\n",
    "Programming languages use variables (names) to refer to objects, such as numbers, that you will use over again. In Python, variables are assigned with the `=` symbol, e.g. `a = 3`.\n",
    "\n",
    "Variables can hold almost anything, as we will see during this exercise. Python and Numpy both have their own data types, some of which we will cover in this course.\n",
    "\n",
    "The basic Python and NumPy data types that you'll come across are:\n",
    "\n",
    "* Integers or `int`, i.e. numbers without decimal places\n",
    "* Floats or `float`, i.e. numbers with decimal places\n",
    "* Strings or `str`, i.e. text, which we'll cover briefly below\n",
    "* Lists or `list`, which can hold any other data types and which we'll cover in exercise 3\n",
    "* NumPy Arrays or `numpy.ndarray`, which can hold integers or floats but not strings or lists  and which we'll cover in exercise 3.\n",
    "\n",
    "Once defined, the variable `a` can be used at anytime (see the cell below).\n",
    "Variables can be used to store information but you can also do calculations with variables, e.g. `c = a+b`.\n",
    "\n",
    "## Aside: Printing Variables\n",
    "\n",
    "You can always check what information a variable holds with the `print()` function.\n",
    "Run the cell below to see this in action."
   ]
  },
  {
   "cell_type": "code",
   "execution_count": null,
   "metadata": {},
   "outputs": [],
   "source": [
    "# Create two new variables 'a' and 'b' and assign them integer values\n",
    "a = 2\n",
    "b = 3\n",
    "\n",
    "# Print 'a' and 'b'\n",
    "print(a,b)\n",
    "\n",
    "# Update 'a' and print\n",
    "a = 4\n",
    "print(a,b)"
   ]
  },
  {
   "cell_type": "markdown",
   "metadata": {},
   "source": [
    "Now edit the cell below by including code that assigns the product of `a` and `b` to a new variable `c`, and then print `a`, `b` and `c`.\n",
    "Preface this with a comment, explaining what you are doing."
   ]
  },
  {
   "cell_type": "code",
   "execution_count": null,
   "metadata": {},
   "outputs": [],
   "source": [
    "# Write your Python here\n",
    "\n"   ]
  },
  {
   "cell_type": "markdown",
   "metadata": {},
   "source": [
    "## Strings\n",
    "\n",
    "So far we have looked at simple numerical variables but variables can also work with text, known in programming as 'strings'.\n",
    "You can create a string by enclosing it in quotation marks, and you can assign it to a variable just like a number.\n",
    "\n",
    "Just like our numerical variables above, a string variable can be printed with the `print()` function, which will automatically realise this is a string."
   ]
  },
  {
   "cell_type": "code",
   "execution_count": null,
   "metadata": {},
   "outputs": [],
   "source": [
    "myString = 'Hello World!'\n",
    "print(myString)"
   ]
  },
  {
   "cell_type": "markdown",
   "metadata": {},
   "source": [
    "# Exercise 2: Using Variables (4 Marks)\n",
    "\n",
    "A body is launched into the air at an angle $\\theta=25^\\circ$ (compared to ground level) with initial velocity of $v_0=7.5$m/s. Assume an acceleration due to gravity of $g=9.81$ms$^{-2}$.\n",
    "\n",
    "Calculate the following:\n",
    "\n",
    "1. initial horizontal velocity $v_{\\rm x,0}$ and vertical velocity $v_{\\rm y,0}$. Does the NumPy trigonometric functions, e.g. `np.sin()` work with angles in degrees or radians? Does NumPy come with an easy way to convert between the two?\n",
    "2. total time the body spends in the air, T (remember that the body spends as much time going up as going down, so that $v_{\\rm y,0}=g T/2$)\n",
    "3. altitude of the body after $t_1=200$ms, $t_2=400$ms and $t_3=T$.  The relevant formula is $h=v_{\\rm y,0} t-\\frac{1}{2}g t^{2}$. You then just have to change the time and re-evaluate.\n",
    "4. the distance from the launch position at times $t_1=200$ms, $t_2=400$ms and $t_3=T$, according to $d=\\sqrt{x^2 + y^2}$ where $x=v_{\\rm x,0}t$ and $y=v_{\\rm y,0}t -gt^{2}/2$.\n",
    "5. What is the maximum altitude?  At which distance from the launch position does the body hit the ground?\n",
    "\n",
    "N.B. You will come back to this exercise later on, so make sure you comment your code clearly as a reminder to yourself of what it is doing!\n",
    "\n",
    "## Aside: Formatted Printing\n",
    "\n",
    "It is possible to format your printing using the `.format()` method on a string. This allows you to print numbers with labels and to specific numbers of decimal places, e.g. `{0:.2f}`, or significant figures, e.g. `{0:.2g}`."
   ]
  },
  {
   "cell_type": "code",
   "execution_count": null,
   "metadata": {},
   "outputs": [],
   "source": [
    "a = 1.2222223\n",
    "b = np.pi\n",
    "\n",
    "# Print the variables raw:\n",
    "print(a,b)\n",
    "\n",
    "# With supporting text:\n",
    "print('Variable a: {0}; Pi: {1}'.format(a,b))\n",
    "\n",
    "# To two decimal places:\n",
    "print('Variable a: {0:.2f}; Pi: {1:.2f}'.format(a,b))\n",
    "\n",
    "# To one significant figure:\n",
    "print('Variable a: {0:.1g}; Pi: {1:.1g}'.format(a,b))"
   ]
  },
  {
   "cell_type": "markdown",
   "metadata": {},
   "source": [
    "Throughout this course you should make sure you are printing your answers to an appropriate number of significant figures, based on the significant figures of the inputs that you have been given."
   ]
  },
  {
   "cell_type": "code",
   "execution_count": null,
   "metadata": {},
   "outputs": [],
   "source": [
    "# Write your set-up and answer question 1 here\n",
    "\n"   ]
  },
  {
   "cell_type": "code",
   "execution_count": null,
   "metadata": {},
   "outputs": [],
   "source": [
    "# Answer question 2 here\n",
    "\n"   ]
  },
  {
   "cell_type": "code",
   "execution_count": null,
   "metadata": {},
   "outputs": [],
   "source": [
    "# Answer question 3 here\n",
    "\n"   ]
  },
  {
   "cell_type": "code",
   "execution_count": null,
   "metadata": {},
   "outputs": [],
   "source": [
    "# Answer question 4 here\n",
    "\n"   ]
  },
  {
   "cell_type": "code",
   "execution_count": null,
   "metadata": {},
   "outputs": [],
   "source": [
    "# Answer question 5 here\n",
    "\n"   ]
  }
 ],
 "metadata": {
  "kernelspec": {
   "display_name": "Python 3",
   "language": "python",
   "name": "python3"
  },
  "language_info": {
   "codemirror_mode": {
    "name": "ipython",
    "version": 3
   },
   "file_extension": ".py",
   "mimetype": "text/x-python",
   "name": "python",
   "nbconvert_exporter": "python",
   "pygments_lexer": "ipython3",
   "version": "3.5.3"
  }
 },
 "nbformat": 4,
 "nbformat_minor": 2
}
