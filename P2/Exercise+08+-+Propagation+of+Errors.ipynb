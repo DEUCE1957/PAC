{
 "cells": [
  {
   "cell_type": "code",
   "execution_count": null,
   "metadata": {},
   "outputs": [],
   "source": [
    "# In Python it is standard practice to import the modules we need at the very top of our scripts\n",
    "import numpy as np\n",
    "import matplotlib.pyplot as plt\n",
    "from scipy import stats"
   ]
  },
  {
   "cell_type": "markdown",
   "metadata": {},
   "source": [
    "# Propagation of Errors\n",
    "\n",
    "When dealing with uncertainties based on a large collection of numbers the manipulation of measured quantities and the error associated with each quantity will contribute to the error in the final answer. The following formulae are a good approximation of the error and become increasingly accurate as the number of measurements increases or when the cross terms between the contributing errors are reasonably small. If you are unsure how to deal with these, **remember that you have learned about this in the Mathematical Techniques lectures** and refer to your notes from that lecture course. See also the textbook *Measurements and their Uncertainties*, chapter 4.2.\n",
    "\n",
    "As a reminder, some of the rules on error propagation are reproduced in the table below.  All of the relationships can be generalised to more than 2 variables, e.g. the uncertainty of z=a+b+c is $\\alpha_z$=$\\sqrt{\\alpha_a^2+\\alpha_b^2+\\alpha_c^2}$.\n",
    "\n",
    "Process                             | Value             | Uncertainty\n",
    "------------------------------------|-------------------|--------------\n",
    "Addition/Subtraction                | z = a $\\pm$ b     | $\\alpha_{z}=\\sqrt{\\alpha_{a}^{2}+\\alpha_{b}^{2}}$\n",
    "Multiplication                      | z = a $\\cdot$ b   | $\\alpha_{z}$=z$\\cdot\\sqrt{\\left(\\frac{\\alpha_{a}}{a}\\right)^{2}+\\left(\\frac{\\alpha_{b}}{b}\\right)^{2}}$\n",
    "Division                            | z = a/b | $\\alpha_{z}$=z$\\cdot\\sqrt{\\left(\\frac{\\alpha_{a}}{a}\\right)^{2}+\\left(\\frac{\\alpha_{b}}{b}\\right)^{2}}$\n",
    "General Function                    | z = f(a)          | $\\alpha_{z}=\\left|\\frac{\\partial z}{\\partial a}\\right|\\alpha_{a}$\n",
    "General Function of Two Parameters  | z= f(a,b)         | $\\alpha_{z}$=$\\sqrt{\\left(\\frac{\\partial z}{\\partial a}\\alpha_{a}\\right)^{2}+\\left(\\frac{\\partial z}{\\partial b}\\alpha_{b}\\right)^{2}}$\n"
   ]
  },
  {
   "cell_type": "markdown",
   "metadata": {},
   "source": [
    "# Exercise 8: Error Propogation (3 Marks)\n",
    "\n",
    "Let:\n",
    "* $W = 21.0 \\pm 2.0$\n",
    "* $X = 1.9 \\pm 0.3$\n",
    "* $Y = 38.0 \\pm  8.0$\n",
    "* $Z = 42.5 \\pm 0.4$\n",
    "\n",
    "\n",
    "1. Assign these values and their errors to appropriate labels (e.g. `W = 21.0` and `alpha_W = 2.0`).\n",
    "2. Evaluate the following quantities, including their uncertainty:\n",
    " * A = $W+Y$\n",
    " * B = $WY + Z$\n",
    " * C = $W/Y$\n",
    " * D = $\\sqrt{WX}$\n",
    "\n",
    "Before starting to program, write down the appropriate formulae for error propagation.\n",
    "You can do this on a sheet of paper, or as a Markdown cell using [$\\LaTeX$](https://jupyter-notebook.readthedocs.io/en/stable/examples/Notebook/Working%20With%20Markdown%20Cells.html#LaTeX-equations).\n",
    "You may find this [WikiBook](https://en.wikibooks.org/wiki/LaTeX/Mathematics) useful if you choose to use $\\LaTeX$.\n",
    "\n",
    "3. Print your answers in the form $X \\pm \\alpha_X$, etc. where $X$ is the value and $\\alpha_X$ is the uncertainty. Make sure you round to the correct number of significant figures.\n",
    "\n",
    "N.B. In order to evaluate  $\\sqrt{WX}$ you need to evaluate the uncertainty for a general two-parameter function. You learned about this in the Mathematical Techniques lectures, but you can find a reminder of the formulae in the table above."
   ]
  },
  {
   "cell_type": "code",
   "execution_count": null,
   "metadata": {},
   "outputs": [],
   "source": [
    "# Put your answer to question 1 here\n",
    "\n"   ]
  },
  {
   "cell_type": "markdown",
   "metadata": {},
   "source": [
    "**Record your error propagation for question 2 here or on a sheet of paper**\n",
    "\n"   ]
  },
  {
   "cell_type": "code",
   "execution_count": null,
   "metadata": {},
   "outputs": [],
   "source": [
    "# Put your Python answers to question 2 here\n",
    "\n"   ]
  },
  {
   "cell_type": "code",
   "execution_count": null,
   "metadata": {},
   "outputs": [],
   "source": [
    "# Put your answer to question 3 here\n",
    "\n"   ]
  }
 ],
 "metadata": {
  "kernelspec": {
   "display_name": "Python 3",
   "language": "python",
   "name": "python3"
  },
  "language_info": {
   "codemirror_mode": {
    "name": "ipython",
    "version": 3
   },
   "file_extension": ".py",
   "mimetype": "text/x-python",
   "name": "python",
   "nbconvert_exporter": "python",
   "pygments_lexer": "ipython3",
   "version": "3.5.3"
  }
 },
 "nbformat": 4,
 "nbformat_minor": 2
}
