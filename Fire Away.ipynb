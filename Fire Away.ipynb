{
 "cells": [
  {
   "cell_type": "markdown",
   "metadata": {},
   "source": [
    "### Fire Away\n",
    "Given v0, gravity and an initial angle. Plot the trajectory of a cannonball as a function of time and as a function of distance."
   ]
  },
  {
   "cell_type": "code",
   "execution_count": 18,
   "metadata": {},
   "outputs": [
    {
     "name": "stderr",
     "output_type": "stream",
     "text": [
      "/home/deuce1957/.local/lib/python3.6/site-packages/matplotlib/figure.py:1498: UserWarning: sharex argument to subplots() was an integer. Did you intend to use subplot() (without 's')?\n",
      "  \"sharex argument to subplots() was an integer. \"\n"
     ]
    },
    {
     "ename": "ValueError",
     "evalue": "sharex [1] must be one of ['all', 'row', 'col', 'none']",
     "output_type": "error",
     "traceback": [
      "\u001b[0;31m---------------------------------------------------------------------------\u001b[0m",
      "\u001b[0;31mValueError\u001b[0m                                Traceback (most recent call last)",
      "\u001b[0;32m<ipython-input-18-e2db20ba1512>\u001b[0m in \u001b[0;36m<module>\u001b[0;34m()\u001b[0m\n\u001b[1;32m     35\u001b[0m     \u001b[0;31m# t = v0 * math.sin(theta) / (2*g)\u001b[0m\u001b[0;34m\u001b[0m\u001b[0;34m\u001b[0m\u001b[0;34m\u001b[0m\u001b[0m\n\u001b[1;32m     36\u001b[0m \u001b[0;34m\u001b[0m\u001b[0m\n\u001b[0;32m---> 37\u001b[0;31m \u001b[0mprojection\u001b[0m\u001b[0;34m(\u001b[0m\u001b[0;36m30.0\u001b[0m\u001b[0;34m,\u001b[0m\u001b[0;34m-\u001b[0m\u001b[0;36m9.8\u001b[0m\u001b[0;34m,\u001b[0m\u001b[0;36m45.0\u001b[0m\u001b[0;34m)\u001b[0m\u001b[0;34m\u001b[0m\u001b[0;34m\u001b[0m\u001b[0m\n\u001b[0m\u001b[1;32m     38\u001b[0m \u001b[0;34m\u001b[0m\u001b[0m\n",
      "\u001b[0;32m<ipython-input-18-e2db20ba1512>\u001b[0m in \u001b[0;36mprojection\u001b[0;34m(v0, g, theta)\u001b[0m\n\u001b[1;32m     16\u001b[0m     \u001b[0;31m#print(y)\u001b[0m\u001b[0;34m\u001b[0m\u001b[0;34m\u001b[0m\u001b[0;34m\u001b[0m\u001b[0m\n\u001b[1;32m     17\u001b[0m \u001b[0;34m\u001b[0m\u001b[0m\n\u001b[0;32m---> 18\u001b[0;31m     \u001b[0mfig\u001b[0m \u001b[0;34m=\u001b[0m \u001b[0mplt\u001b[0m\u001b[0;34m.\u001b[0m\u001b[0msubplots\u001b[0m\u001b[0;34m(\u001b[0m\u001b[0;36m2\u001b[0m\u001b[0;34m,\u001b[0m\u001b[0;36m1\u001b[0m\u001b[0;34m,\u001b[0m\u001b[0;36m1\u001b[0m\u001b[0;34m)\u001b[0m\u001b[0;34m\u001b[0m\u001b[0;34m\u001b[0m\u001b[0m\n\u001b[0m\u001b[1;32m     19\u001b[0m \u001b[0;34m\u001b[0m\u001b[0m\n\u001b[1;32m     20\u001b[0m     \u001b[0mfig\u001b[0m\u001b[0;34m.\u001b[0m\u001b[0madd_subplot\u001b[0m\u001b[0;34m(\u001b[0m\u001b[0;36m1\u001b[0m\u001b[0;34m,\u001b[0m\u001b[0;36m1\u001b[0m\u001b[0;34m,\u001b[0m\u001b[0;36m1\u001b[0m\u001b[0;34m)\u001b[0m\u001b[0;34m\u001b[0m\u001b[0;34m\u001b[0m\u001b[0m\n",
      "\u001b[0;32m~/.local/lib/python3.6/site-packages/matplotlib/pyplot.py\u001b[0m in \u001b[0;36msubplots\u001b[0;34m(nrows, ncols, sharex, sharey, squeeze, subplot_kw, gridspec_kw, **fig_kw)\u001b[0m\n\u001b[1;32m   1218\u001b[0m     axs = fig.subplots(nrows=nrows, ncols=ncols, sharex=sharex, sharey=sharey,\n\u001b[1;32m   1219\u001b[0m                        \u001b[0msqueeze\u001b[0m\u001b[0;34m=\u001b[0m\u001b[0msqueeze\u001b[0m\u001b[0;34m,\u001b[0m \u001b[0msubplot_kw\u001b[0m\u001b[0;34m=\u001b[0m\u001b[0msubplot_kw\u001b[0m\u001b[0;34m,\u001b[0m\u001b[0;34m\u001b[0m\u001b[0;34m\u001b[0m\u001b[0m\n\u001b[0;32m-> 1220\u001b[0;31m                        gridspec_kw=gridspec_kw)\n\u001b[0m\u001b[1;32m   1221\u001b[0m     \u001b[0;32mreturn\u001b[0m \u001b[0mfig\u001b[0m\u001b[0;34m,\u001b[0m \u001b[0maxs\u001b[0m\u001b[0;34m\u001b[0m\u001b[0;34m\u001b[0m\u001b[0m\n\u001b[1;32m   1222\u001b[0m \u001b[0;34m\u001b[0m\u001b[0m\n",
      "\u001b[0;32m~/.local/lib/python3.6/site-packages/matplotlib/figure.py\u001b[0m in \u001b[0;36msubplots\u001b[0;34m(self, nrows, ncols, sharex, sharey, squeeze, subplot_kw, gridspec_kw)\u001b[0m\n\u001b[1;32m   1500\u001b[0m \u001b[0;34m\u001b[0m\u001b[0m\n\u001b[1;32m   1501\u001b[0m             raise ValueError(\"sharex [%s] must be one of %s\" %\n\u001b[0;32m-> 1502\u001b[0;31m                              (sharex, share_values))\n\u001b[0m\u001b[1;32m   1503\u001b[0m         \u001b[0;32mif\u001b[0m \u001b[0msharey\u001b[0m \u001b[0;32mnot\u001b[0m \u001b[0;32min\u001b[0m \u001b[0mshare_values\u001b[0m\u001b[0;34m:\u001b[0m\u001b[0;34m\u001b[0m\u001b[0;34m\u001b[0m\u001b[0m\n\u001b[1;32m   1504\u001b[0m             raise ValueError(\"sharey [%s] must be one of %s\" %\n",
      "\u001b[0;31mValueError\u001b[0m: sharex [1] must be one of ['all', 'row', 'col', 'none']"
     ]
    },
    {
     "data": {
      "text/plain": [
       "<Figure size 432x288 with 0 Axes>"
      ]
     },
     "metadata": {},
     "output_type": "display_data"
    }
   ],
   "source": [
    "import math\n",
    "import numpy as np\n",
    "import matplotlib.pyplot as plt\n",
    "\n",
    "def projection(v0,g,theta):\n",
    "    x_velocity = v0 * math.cos(theta)\n",
    "    \n",
    "    tPeak = abs((math.sin(theta)*v0)/g)\n",
    "    tTotal = 2*tPeak\n",
    "    #xMax = x_velocity * tTotal\n",
    "    \n",
    "    t = np.linspace(0,tTotal,100)\n",
    "    y = ( v0 * math.sin(theta) ) * t + (0.5)*g*(t**2) \n",
    "    x = t * x_velocity\n",
    "    #print(x)\n",
    "    #print(y)\n",
    "    \n",
    "    fig = plt.subplots(2,1,1)\n",
    "    \n",
    "    fig.add_subplot(1,1,1) \n",
    "    plt.scatter(x,y,color='red',marker='d')\n",
    "    plt.xlabel(\"Distance (m)\")\n",
    "    plt.ylabel(\"Height (m)\")\n",
    "    fig.add_subplot(2,1,1)\n",
    "    plt.scatter(t,y,color='black',marker='D')\n",
    "    plt.xlabel(\"Time (s)\")\n",
    "    plt.ylabel(\"Height (m)\")\n",
    "        \n",
    "    #At peak y_velocity = 0, find time taken to get there\n",
    "    # y = yo + Vy * t + 1/2*g*t**2\n",
    "    # 0 = yPeak + 1/2 g * t**2\n",
    "    # t = sqrt ( yPeak / (1/2 * g) )\n",
    "    # v**2 = vo**2 + 2*g*t\n",
    "    # 0 = v0 * math.sin(theta) + 2 * g * t\n",
    "    # t = v0 * math.sin(theta) / (2*g)\n",
    "\n",
    "projection(30.0,-9.8,45.0)\n",
    "    "
   ]
  },
  {
   "cell_type": "code",
   "execution_count": null,
   "metadata": {},
   "outputs": [],
   "source": []
  }
 ],
 "metadata": {
  "kernelspec": {
   "display_name": "Python 3",
   "language": "python",
   "name": "python3"
  },
  "language_info": {
   "codemirror_mode": {
    "name": "ipython",
    "version": 3
   },
   "file_extension": ".py",
   "mimetype": "text/x-python",
   "name": "python",
   "nbconvert_exporter": "python",
   "pygments_lexer": "ipython3",
   "version": "3.6.7"
  }
 },
 "nbformat": 4,
 "nbformat_minor": 2
}
