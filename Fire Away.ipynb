{
 "cells": [
  {
   "cell_type": "markdown",
   "metadata": {},
   "source": [
    "### Fire Away\n",
    "You are an artillery officer under Napoleon Bonaparte - emperor of the French. To coordinate his grand battery he wishes you to develop a technique for targeting the Anglo-Allied forces with great accuracy. Unbeknownst to your commander you are actually in possession of a Mystical Python, capable of solving any problem for you using numerical methods. Employ your knowledge of projectile motion and Python programming to plot cannnon-ball \n",
    "trajectories.\n",
    "\n",
    "<img src=\"https://upload.wikimedia.org/wikipedia/commons/thumb/c/c3/Bonaparte_re%C3%A7oit_les_prisonniers_sur_le_champ_de_bataille%2C_1797.jpg/1024px-Bonaparte_re%C3%A7oit_les_prisonniers_sur_le_champ_de_bataille%2C_1797.jpg\" width=600px>\n",
    "\n",
    "Much like the standardization of French guns, in this series of tasks you will slowly extend your initial solution to generalize it to more complicated situations. This 'snowflake' approach is common when dealing with unknown problems. After all, diving head first into the most complicated, but also most general, case is likely going to bog you down with debugging.\n",
    "\n",
    "#### Task 1: Parabolic Paths\n",
    "Given $v_0$, gravity $g$ and an initial angle $\\theta$. Write a function to plot the trajectory of a cannonball  as:\n",
    "1. A function of time\n",
    "2. A function of distance\n",
    "You can assume your cannon is located at the origin (0,0) in 2D space and that your target is located to the right (positive x-direction). Unfortunately, you cannot fire a cannonball back in time.\n",
    "\n",
    "**Hint**: Try to work this out analytically using pen-and-paper then translate your solution to a general function one!\n",
    "\n",
    "**Hint 2**: If you get stuck on the kinematics, check out the Wikipedia Page on [Projectile Motion](https://en.wikipedia.org/wiki/Projectile_motion)"
   ]
  },
  {
   "cell_type": "code",
   "execution_count": null,
   "metadata": {},
   "outputs": [],
   "source": [
    "import math\n",
    "import numpy as np\n",
    "import matplotlib.pyplot as plt\n",
    "\n",
    "def projection(v0,g,theta):\n",
    "    theta = math.radians(theta)\n",
    "    x_velocity = v0 * math.cos(theta)\n",
    "    y_velocity = v0 * math.sin(theta)\n",
    "    \n",
    "    tTotal = (2*v0*np.sin(theta))/g\n",
    "    R = tTotal * x_velocity # Range\n",
    "    \n",
    "    t = np.linspace(0,tTotal,100)\n",
    "    y = ( v0 * np.sin(theta) ) * t - (0.5)*g*(t**2) \n",
    "    plt.figure()\n",
    "    plt.scatter(t,y,color='black',marker='D')\n",
    "    plt.xlabel(\"Time (s)\")\n",
    "    plt.ylabel(\"Height (m)\")\n",
    "    plt.show()\n",
    "    \n",
    "    x = np.linspace(0,R,100)\n",
    "    y = np.tan(theta)*x - (g/(2*(v0**2)*(np.cos(theta)**2)))*(x**2)\n",
    "    plt.figure()\n",
    "    plt.scatter(x,y,color='black',marker='D')\n",
    "    plt.xlabel(\"Distance (m)\")\n",
    "    plt.ylabel(\"Height (m)\")\n",
    "    plt.show()\n",
    "    \n",
    "projection(60.0,9.8,30.0)\n",
    "    "
   ]
  },
  {
   "cell_type": "markdown",
   "metadata": {},
   "source": [
    "#### Task 2: Height Offset\n",
    "Extend your previous projectile-plotters to account for:\n",
    "* An elevated starting position ($y_0$)"
   ]
  },
  {
   "cell_type": "code",
   "execution_count": null,
   "metadata": {},
   "outputs": [],
   "source": [
    "import math\n",
    "import numpy as np\n",
    "import matplotlib.pyplot as plt\n",
    "\n",
    "def projection2(v0,g,theta, y0, tTotal=None):\n",
    "    theta = math.radians(theta)\n",
    "    x_velocity = v0 * math.cos(theta)\n",
    "    y_velocity = v0 * math.sin(theta)\n",
    "    \n",
    "    if tTotal is None: tTotal =  ((v0 * np.sin(theta)) + math.sqrt((v0*np.sin(theta))**2 + 2*g*y0))/g \n",
    "    R = tTotal * x_velocity # Range\n",
    "    \n",
    "    t = np.linspace(0,tTotal,100)\n",
    "    y = y0 + ( v0 * np.sin(theta) ) * t - (0.5)*g*(t**2) \n",
    "    plt.figure()\n",
    "    plt.scatter(t,y,color='black',marker='D')\n",
    "    plt.xlabel(\"Time (s)\")\n",
    "    plt.ylabel(\"Height (m)\")\n",
    "    plt.show()\n",
    "    \n",
    "    x = np.linspace(0,R,100)\n",
    "    y = y0 + np.tan(theta)*x - (g/(2*(v0**2)*(np.cos(theta)**2)))*(x**2)\n",
    "    plt.figure()\n",
    "    plt.scatter(x,y,color='black',marker='D')\n",
    "    plt.xlabel(\"Distance (m)\")\n",
    "    plt.ylabel(\"Height (m)\")\n",
    "    plt.show()\n",
    "    \n",
    "projection2(60.0,9.8,30.0, 30.0)\n",
    "    "
   ]
  },
  {
   "cell_type": "markdown",
   "metadata": {},
   "source": [
    "#### Task 3: Aiming Cannon\n",
    "Find what angle $\\theta$ is needed to hit a target at distance $x$ and height $y$, plot the resulting path.\n",
    "\n",
    "**Hint**: Try to tweak your previous projectile trajectory plotter to work with your calculated angle $\\theta$\n",
    "\n",
    "**Hint 2**: Be careful to make sure your new range in time and distance stops when you reach the target rather than the ground."
   ]
  },
  {
   "cell_type": "code",
   "execution_count": null,
   "metadata": {},
   "outputs": [],
   "source": [
    "import math\n",
    "import numpy as np\n",
    "import matplotlib.pyplot as plt\n",
    "\n",
    "def static_angle(v0, x, y, g):\n",
    "    theta = np.arctan((v0**2 + math.sqrt((v0**4) - g*(g*(x**2) + 2*y*(v0**2))))/(g*x))\n",
    "    projection2(v0,g,math.degrees(theta),0.0, tTotal=(x/(v0*math.cos(theta))))\n",
    "    \n",
    "    return math.degrees(theta)\n",
    "    \n",
    "print(\"Firing at {0:.2f} degrees\".format(static_angle(120, 1400, 50, 9.8)))\n",
    "    "
   ]
  },
  {
   "cell_type": "markdown",
   "metadata": {},
   "source": [
    "#### Task 4: Bring it all together\n",
    "Find what angle you must fire at from a starting position (x0,y0) to hit a target at (x,y) and plot the resulting trajectory."
   ]
  },
  {
   "cell_type": "code",
   "execution_count": null,
   "metadata": {},
   "outputs": [],
   "source": [
    "import math\n",
    "import numpy as np\n",
    "import matplotlib.pyplot as plt\n",
    "\n",
    "\n",
    "# def static_angle(v0, x, y, g):\n",
    "#     theta = np.arctan((v0**2 + math.sqrt((v0**4) - g*(g*(x**2) + 2*y*(v0**2))))/(g*x))\n",
    "\n",
    "def mobile_angle(v0, x, y, x0, y0, g):\n",
    "    try:\n",
    "        theta = np.arctan((v0**2 + math.sqrt((v0**4) - g*(g*((x-x0)**2) + 2*(y-y0)*(v0**2))))/(g*(x-x0)))\n",
    "    except ValueError:\n",
    "        print(\"Target cannot be reached with current initial velocity, use more gunpowder!\")\n",
    "\n",
    "\n",
    "    x_velocity = v0 * math.cos(theta)\n",
    "    y_velocity = v0 * math.sin(theta)\n",
    "    \n",
    "    tTotal =  (x-x0) / x_velocity # Time of Flight\n",
    "    R = tTotal * x_velocity # Range\n",
    "    \n",
    "    x = np.linspace(x0,x0+R,100)\n",
    "    y = (y-y0) + np.tan(theta)*(x-x0) - (g/(2*(v0**2)*(np.cos(theta)**2)))*((x-x0)**2) \n",
    "    plt.figure()\n",
    "    plt.scatter(x,y,color='black',marker='D')\n",
    "    plt.xlabel(\"Distance (m)\")\n",
    "    plt.ylabel(\"Height (m)\")\n",
    "    plt.show()\n",
    "    return math.degrees(theta)\n",
    "\n",
    "print(\"Fire at angle {0:.2f} to hit target\".format(mobile_angle(120.0,1400.0, 200.0, 200.0, 60.0, 9.8)))"
   ]
  }
 ],
 "metadata": {
  "kernelspec": {
   "display_name": "Python 3",
   "language": "python",
   "name": "python3"
  },
  "language_info": {
   "codemirror_mode": {
    "name": "ipython",
    "version": 3
   },
   "file_extension": ".py",
   "mimetype": "text/x-python",
   "name": "python",
   "nbconvert_exporter": "python",
   "pygments_lexer": "ipython3",
   "version": "3.7.4"
  }
 },
 "nbformat": 4,
 "nbformat_minor": 2
}
