{
 "cells": [
  {
   "cell_type": "code",
   "execution_count": null,
   "metadata": {},
   "outputs": [],
   "source": [
    "# Endless lists\n",
    "numbers_list = [i for i in range(0,10)]\n",
    "\n",
    "print(numbers_list)\n",
    "\n",
    "numbers_list = [] \n",
    "for i in range(0,10):\n",
    "    numbers_list.append(i)\n",
    "print(numbers_list)"
   ]
  },
  {
   "cell_type": "code",
   "execution_count": null,
   "metadata": {},
   "outputs": [],
   "source": [
    "# Eyes going square \n",
    "for item in numbers_list:\n",
    "    item = item**2\n",
    "print(numbers_list)"
   ]
  },
  {
   "cell_type": "code",
   "execution_count": null,
   "metadata": {},
   "outputs": [],
   "source": [
    "# Remove the odd ones\n",
    "for item in numbers_list:\n",
    "    # check if number is divisible by 2\n",
    "    if item % 2 != 0:\n",
    "        numbers_list.remove(item)\n",
    "print(numbers_list)"
   ]
  },
  {
   "cell_type": "code",
   "execution_count": null,
   "metadata": {},
   "outputs": [],
   "source": [
    "# Who the hell am I today?\n",
    "# note: a name usually only has one space between the first and second names.\n",
    "names = [\"John Smith\", \"Mona Simpson\", \"Robert Blake\", \"Fiona Clarkson\"]\n",
    "even_folkingtons = []\n",
    "odd_folkingtons = []\n",
    "for name in names:\n",
    "    # subtract 1 for space characters.\n",
    "    if len(name) - 1 % 2 == 0:\n",
    "        even_folkingtons.append(name)\n",
    "    else:\n",
    "        odd_folkingtons.append(name)\n"
   ]
  },
  {
   "cell_type": "code",
   "execution_count": null,
   "metadata": {},
   "outputs": [],
   "source": [
    "# Talking numbers and speaking words\n",
    "def string_function(string): \n",
    "    first, last = string[0], string[-1]\n",
    "    return first, last\n",
    "\n",
    "string = 'deoxyribonucleicacid'\n",
    "edited_string = string_function(string)\n",
    "print(edited_string)\n",
    "    "
   ]
  },
  {
   "cell_type": "code",
   "execution_count": null,
   "metadata": {},
   "outputs": [],
   "source": [
    "# The nameless dread of randomness\n",
    "import random\n",
    "def random_number_function(a, b):\n",
    "    return random.randint(a, b)\n",
    "\n",
    "random_number_function(1,100000)"
   ]
  },
  {
   "cell_type": "code",
   "execution_count": null,
   "metadata": {},
   "outputs": [],
   "source": [
    "# if not for the love of loops, then while and if the sun shines\n",
    "\n",
    "def even_odd_split(numbers_list):\n",
    "    odds, evens = [], [] # empty lists to add numbers into\n",
    "    # as long as the lists are the right length\n",
    "    while (len(odds) < 10) and (len(evens) < 10): \n",
    "        for number in numbers_list:\n",
    "            # add number if it is even, if it is not even \n",
    "            # then it is odd, so add it to the odds.\n",
    "            if number % 2 == 0:\n",
    "                evens.append(number)\n",
    "            else:\n",
    "                odds.append(number)\n",
    "    return odds, evens\n",
    "\n",
    "numbers_list = [i for i in range(100)]\n",
    "odds, evens = even_odd_split(numbers_list)\n",
    "print(odds)\n",
    "print(evens)"
   ]
  },
  {
   "cell_type": "code",
   "execution_count": null,
   "metadata": {},
   "outputs": [],
   "source": [
    "# # Hot or Cold\n",
    "# import random \n",
    "\n",
    "# def number_guess(a, b):\n",
    "#     number = random.randint(a, b)\n",
    "#     guess = b + 1 # start it off out of bounds\n",
    "#     while guess != number:\n",
    "#         guess = input(\"guess a number between %d and %d\" % (a, b))\n",
    "#     print(\"well done!\")\n",
    "    \n",
    "# number = random.randint(0,10)\n",
    "# print(number)"
   ]
  },
  {
   "cell_type": "code",
   "execution_count": null,
   "metadata": {},
   "outputs": [],
   "source": [
    "# nullified \n",
    "zeros = [0 for i in range(0,10)]\n",
    "print(zeros)\n",
    "\n",
    "zeros = []\n",
    "for i in range(10):\n",
    "    zeros.append(0)"
   ]
  },
  {
   "cell_type": "code",
   "execution_count": null,
   "metadata": {},
   "outputs": [],
   "source": [
    "# safe indexing\n",
    "\n",
    "def is_safe_to_index(v,l)\n",
    "    if len(l) >= abs(v):\n",
    "        print(\"v can index l\")\n",
    "        return True\n",
    "    else:\n",
    "        print(\"v cannot index l\")\n",
    "        return False"
   ]
  },
  {
   "cell_type": "code",
   "execution_count": null,
   "metadata": {},
   "outputs": [],
   "source": [
    "# String Removal \n"
   ]
  },
  {
   "cell_type": "code",
   "execution_count": null,
   "metadata": {},
   "outputs": [],
   "source": [
    "# Listless manipulations\n"
   ]
  },
  {
   "cell_type": "code",
   "execution_count": 2,
   "metadata": {
    "scrolled": true
   },
   "outputs": [
    {
     "name": "stdout",
     "output_type": "stream",
     "text": [
      "[0, 9, 8, 7, 6, 5, 4, 3, 2, 1]\n"
     ]
    }
   ],
   "source": [
    "# backwards problem\n",
    "l = [i for i in range(0,10)]\n",
    "\n",
    "# function to reverse a list\n",
    "def reverse_list(l):\n",
    "    reverse_l = []\n",
    "    for i in range(len(l)):\n",
    "        if i == 0:\n",
    "            ###\n",
    "        else:\n",
    "            reverse_l.append(l[-i])\n",
    "    return reverse_l\n",
    "\n",
    "print(reverse_list(l))\n",
    "\n",
    "reverse = l[::-1]\n",
    "print(reverse)\n"
   ]
  },
  {
   "cell_type": "code",
   "execution_count": null,
   "metadata": {},
   "outputs": [],
   "source": [
    "# random number separation\n"
   ]
  }
 ],
 "metadata": {
  "kernelspec": {
   "display_name": "Python 3",
   "language": "python",
   "name": "python3"
  },
  "language_info": {
   "codemirror_mode": {
    "name": "ipython",
    "version": 3
   },
   "file_extension": ".py",
   "mimetype": "text/x-python",
   "name": "python",
   "nbconvert_exporter": "python",
   "pygments_lexer": "ipython3",
   "version": "3.8.1"
  }
 },
 "nbformat": 4,
 "nbformat_minor": 2
}
