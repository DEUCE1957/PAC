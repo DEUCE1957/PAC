{
 "cells": [
  {
   "cell_type": "markdown",
   "metadata": {},
   "source": [
    "# The Python Argument Clinic\n",
    "\n",
    "Welcome to the Python Argument Clinic! This workshop is split into 3 sections, \n",
    "* [**A:** <span style=\"color:blue\">BEGINNER</span>](#begin) which assumes no prior knowledge of Python\n",
    "* **B:** <span style=\"color:blue\">INTERMEDIATE</span> which assumes you know basic data structures and loops \n",
    "* **C:** <span style=\"color:blue\">ADVANCED</span> which relies on knowledge gained in B about libraries like Numpy and MatPlotLib.\n",
    "\n",
    "You may complete as many problems as you'd like and there are tutors available if you get stuck. Problem solutions will be made available on Moodle after the workshop.\n",
    "\n",
    "<span style=\"color:red\"> BONUS </span> There is a hidden challenge, which you can complete once you have finished all other challenges.\n",
    "\n",
    "\n",
    "\n"
   ]
  },
  {
   "cell_type": "markdown",
   "metadata": {},
   "source": [
    "## <a name = \"begin\">Beginner</a>\n",
    "[A Simple Programme](#HelloWorld)  \n",
    "[Types](#types)  \n",
    "[Expression and Variables](#exprNvars)  \n",
    "[Operators](#operators)\n",
    "[Printing](#printing)  \n",
    "[User Input](#input)    \n",
    "[If statements](#if)    \n",
    "[While Loop](#while)    \n",
    "[For Loop](#for)    \n",
    "[Lists](#list)    \n",
    "[Dictionaries](#dict)  \n",
    "[Functions](#functions)  \n",
    "[Libraries](#libs)  \n",
    "[Exercises](#exercises)    \n",
    "\n",
    "### <a name=\"HelloWorld\">A Simple Programme </a>\n",
    "Python is a powerful programming language that is the standard in Data Visualisation in both industry and academia. It values readability, using indentation to set how code is run. This indentation of different parts of the code means you can tell roughly how a program works in a single glance. Due to its many conveniences, it's also a go-to for quickly wacking together a working programme and so is often used for personal projects.  \n",
    "\n",
    "But before we can get into any high-flying concepts, we have to make sure our foundations are solid. Let's start you off with the classic Hello World programme.  \n",
    "\n",
    "In Python you can use pieces of texts called strings by writing something inside of single ' or double \" quotations marks as follows:\n",
    "\n",
    "    \"This is a string\"\n",
    "    'This is also a string'\n",
    "    \n",
    "You can print out something to the screen (the output) using the print() function that’s built into\n",
    "Python. Here’s an example (press the **run** button or use shift-enter to produce the output):"
   ]
  },
  {
   "cell_type": "code",
   "execution_count": null,
   "metadata": {},
   "outputs": [],
   "source": [
    "print(\"Hello World\")"
   ]
  },
  {
   "cell_type": "markdown",
   "metadata": {},
   "source": [
    "**Congratulations!** You are now officially a programmer \\*air horn\\* but use these powers carefully, you have been warned. \n",
    "\n",
    "You can print pretty much any expression in Python, and we’ll be using it extensively during the workshop.\n",
    "\n",
    "\n",
    "### <a name=\"types\">Types </a>\n",
    "Under the hood, programming is just a manipulation of 1s and 0s inside a computer. These 1s and 0s are used to represent numbers, text and a whole lot more. In Python these representations are known as data types. You can do a whole bunch of standard operations with these data types (see [operators](#operators) ). \n",
    "\n",
    "These data types are split into two categories: **primitives** which are the simplest data type and cannot be split up further and **composites** which act as containers for primitive values.\n",
    "\n",
    "#### Primitives\n",
    "The main primitive values in Python are:\n",
    "    * Integers such as 5, -3, etc. \n",
    "    * Floats (a number with decimal places) such as 2.5 or 3.14159265 \n",
    "    * Strings which are pieces of text like \"sasquatch\" \n",
    "    * Booleans which can be either True or False\n",
    "    \n",
    "#### Composites\n",
    "Composites are useful containers for primitive values that allow us to do operations on them more conveniently, we will cover a few of these in this section:\n",
    "    * Lists, which is a collection of items\n",
    "    * Dictionaries which map keys to values. These are like real-life dictionaries where a word (the key) maps to a description (the value) \n",
    "    \n",
    "#### Checking Types\n",
    "If you are ever confused what type something has, you can use Python's in-built **type()** function. This will give you the type of whatever you put in the brackets. For example\n",
    "\n",
    "    type(6) \n",
    "    \n",
    "Will tell you that 6 is an int (i.e. an integer)\n",
    "\n",
    "#### Dynamic Typing\n",
    "Python is a Dynamically typed language, this means you do NOT have to explicitly say what data type are a variable is. We'll go into this some more in the next part :) !\n",
    "\n",
    "### <a name=\"exprNvars\">Expression and Variables </a>\n",
    "An expression in Python is essentially the building block of your program.  \n",
    "Anything that you can manipulate and use is an expression. Here are some examples:\n",
    "\n",
    "<div style=\"-webkit-column-count: 2; -moz-column-count: 2; column-count: 2; -webkit-column-rule: 1px dotted #e0e0e0; -moz-column-rule: 1px dotted #e0e0e0; column-rule: 1px dotted #e0e0e0;\">\n",
    "<div style=\"color:#009900;display: inline-block;\">\n",
    "<pre>\n",
    "> 56 \n",
    "> 2 + 3\n",
    "> (5 - 1) * (12 - 4)\n",
    "> \" 'Tis but a flesh wound\"\n",
    "> \" Your mother is a hamster \" + \"and\n",
    "your father smells of elderberries\"\n",
    "</pre>\n",
    "</div>\n",
    "<div style=\"color:#009900;display: inline-block;\">\n",
    "<pre>\n",
    "> 19.32\n",
    "> True\n",
    "> False\n",
    "> [12, 3, -4, 5]\n",
    "> students[2]\n",
    "</pre>\n",
    "</div>\n",
    "</div>\n",
    "\n",
    "An **Expression** has a particular data type. The main data types in Python are:\n",
    "    * Various numeric types like int (an integer) and floats (a number with decimal places), but you don’t need to worry about the details now\n",
    "    * String represents pieces of text\n",
    "    * Boolean represents values of True or False\n",
    "    * List represents any ordered collection of items\n",
    "    * Dictionaries map keys to values, they are like real-life dictionaries where a word (the key) maps to a description (the value) \n",
    "To make our lives easier, we might want to refer to the same object many times in a program. **Variables** allow you to do this.\n",
    "We define variables by simply giving them a name and a value, like this:  \n",
    "    * x = 12\n",
    "    * eventName = “the Python Argument Clinic\"\n",
    "    * y = 2.5\n",
    "    * z = x + y\n",
    "    * message = “I am attending” + eventName  \n",
    "\n",
    "This way of associating a value with an identifier is called **assignment**  \n",
    "and it uses the assignment operator `=`\n",
    "\n",
    "Notice how the right side of the assignment operator can be any kind of expression.  \n",
    "An expression will always evaluate to a particular data type.\n",
    "\n",
    "Note 1:\n",
    "\n",
    "The way Python handles variables is somewhat idiosyncratic. When you do something like the below,\n",
    "\n",
    "x = 2\n",
    "\n",
    "Python will simply use the name 'x' to point to an integer object somewhere in memory. In fact, all variables pointing to 2 will point to the same object. In the case of integers it makes no difference to us, however we will see this can cause trouble when you start assigning assigning more complex data types as variables. \n",
    "\n",
    "\n",
    "### <a name=\"operators\">Operators</a>\n",
    "Python is equipped with a number of standard operators, which we will briefly go through here.\n",
    "\n",
    "#### The Plus Operator : **+**  \n",
    "The plus operator is used for adding two values together:\n",
    "    \n",
    "    four = 1 + 3 #Assigns the value 4 to the variable 'four'\n",
    "    grav = 0.81 + 9 #Addition evaluates to 9.81, which is then assigned to the variable 'grav'\n",
    "    \n",
    "It can also be used to concatenate two strings\n",
    "\n",
    "    spam = \"SPAM\" + \" SPAM\" + \" SPAM\" + \" SPAM\" + \" WONDERFUL SPAM\" \n",
    "    #Assigns \"SPAM SPAM SPAM SPAM WONDERFUL SPAM\" to the variable spam\n",
    "    \n",
    "Note that you cannot add a number value to a string, the following operation is illegal:\n",
    "\n",
    "    breakPython = \"SPAM\" + 42\n",
    "    \n",
    "To do this you either first need to convert the integer to 42:\n",
    "\n",
    "    savePython = \"SPAM\" + str(42)\n",
    "    \n",
    "Or you can use something called Interpolation, which is covered in the printing section below.\n",
    "\n",
    "#### The Minus Operator : **-**  \n",
    "The minus operator is used for subtracting one value from another:\n",
    "\n",
    "    margin = 0.519 - 0.491 # Evaluates to 0.028, which is assigned to the variable margin\n",
    "    \n",
    "#### The Multiplication Operator : **\\***  \n",
    "The multiplication operator multiplies two values:\n",
    "\n",
    "    howDoYourMeasureAYearInTheLife = 365 * 24 * 60 # Evaluates to 525,600 minutes\n",
    "    \n",
    "#### The Exponentiation Operator : **\\*\\***  \n",
    "The exponentiation operator raises a value to a power:\n",
    "\n",
    "    buzzLightSecond = ( 3 * 10**8 ) # Evaluates to 3x10^8 m\n",
    "    \n",
    "#### The Modulo Operator : **%**  \n",
    "The modulo operator gives the remainder when diving one value by another:\n",
    "\n",
    "    even = 5 % 2 #Evaluates to 1, which suggests the first number is not even\n",
    "    factor = 12 % 4 #Evaluates to 0, which means we can use modulo to check if a number is a factor of another\n",
    "    \n",
    "#### The Floor Division Operator : **//**  \n",
    "The floor division operator will divide one number by another and round down the result to an integer value\n",
    "\n",
    "    you = 5/2 # NORMAL DIVISION : evaluates to 2.5\n",
    "    just = 5//2 #evaluates to 2 \n",
    "    got = -11//3 #evaluates to -4 (always rounds down!)\n",
    "    floored = -11.2//3.8 #Evaluates to -4.0 (will first do normal division, then rounds down)\n",
    "    kid = -9.0//3 #Evaluates to -3.0 (if one or both of the numbers the result will be a decimal too\n",
    "\n",
    "<hr> \n",
    "\n",
    "### Logical Operators  \n",
    "Logic is all about making decisions. In order to make a decision, you first need a way of answering questions - called conditional statements. In Python these answers are stored as Booleans to represent True or False outcomes, which is analagous to a yes or no answer.  \n",
    "\n",
    "  We can write expressions that evaluate to a Boolean and then use Logical Operators to make smart decisions based on more than 1 conditions. Logical Operators thus allow us to combine many conditional statements to control what action our program will take next!\n",
    "  \n",
    "Note that in these examples we evaluate a logical expression and assign this to a variable, like so:\n",
    "  \n",
    "    variableName = <SOME EXPRESSION>\n",
    "\n",
    "You are free to put anything to the right of an asignment (denoted by a single = sign) so long as it evaluates to a data type.\n",
    "  \n",
    "####  **==**  \n",
    "The equality operator checks if two values are the same\n",
    "\n",
    "    letThisFloat = 6.0 == 6 \n",
    "    #Evaluates to True, since 6.0 (a float) has the same value as 6 (an integer)\n",
    "    wontLetThisFloat = 6.5 == 6\n",
    "    #Evaluates to False, since 6.5 (a float) has a different value than 6 (an integer)\n",
    "\n",
    "#### **!=**  \n",
    "The inequality operator check if two values are not the same\n",
    "    \n",
    "    palindrome = \"bolton\" != \"ipswitch\"\n",
    "    #Evaluates to True since \"bolton\" is not the same as \"ipswitch\"\n",
    "    volts = 3000 != 3000.0 \n",
    "    #Evaluates to False since 3000 has the same value as 3000.0\n",
    "    \n",
    "#### **> < >= <=**  \n",
    "The inequality logical operators check if two values satisfy an inequality\n",
    "\n",
    "    admiralYi = 133 > 13 \n",
    "    #Evaluates to True since 133 is greater than 13\n",
    "    commanders = \"Alexander The Great\" < \"Darius of Persia\" \n",
    "    #Evaluates to True, strings are compared lexographically \n",
    " \n",
    "    \n",
    "#### **and**  \n",
    "The and logical operator evaluates to true only if both the condition before and after it evaluate to true\n",
    "    \n",
    "    isTheAnswer = 42 % 2 == 0 and 42 == 6 * 7 #Evaluates to True since 42\n",
    "  \n",
    "#### **or**\n",
    "The or logical operator evaluates to true if either the condition before it or the condition after it is true.\n",
    "\n",
    "    year = 2019\n",
    "    globalTemp = 1.5\n",
    "    apocalypseNow = year == 2012 or globalTemp > 2 \n",
    "    #Evaluates to False since both year == 2012 nor globalTemp > 2 evaluate to False"
   ]
  },
  {
   "cell_type": "markdown",
   "metadata": {},
   "source": [
    "### <a name=\"printing\">Printing</a>\n",
    "\n",
    "We can print out something to the output using the **print()** function that’s built into  \n",
    "Python. Here’s an example:\n",
    "\n",
    "    print(“Hello World!”)\n",
    "    x = 10\n",
    "    print(“The value of x is ” + x)\n",
    "\n",
    "You can print pretty much any expression in Python, and we’ll be using it extensively\n",
    "during the workshop."
   ]
  },
  {
   "cell_type": "markdown",
   "metadata": {},
   "source": [
    "**Example**\n",
    "Run this code, which declares some variables for you to use:"
   ]
  },
  {
   "cell_type": "code",
   "execution_count": null,
   "metadata": {},
   "outputs": [],
   "source": [
    "    a=7\n",
    "    b=10\n",
    "    c=3\n",
    "    x = [ \"D\", \"E\", \"F\", \"G\", \"H\" ] \n",
    "    n = { \"fred\" : 23, \"bob\": 100 }\n",
    "    s = \"computing\""
   ]
  },
  {
   "cell_type": "markdown",
   "metadata": {},
   "source": [
    "\n",
    "Think what the output for each of these statements would be, then run the cell (click on the cell, then press the **run** button or press shift-enter). "
   ]
  },
  {
   "cell_type": "code",
   "execution_count": null,
   "metadata": {},
   "outputs": [],
   "source": [
    "print( a + b * c )"
   ]
  },
  {
   "cell_type": "code",
   "execution_count": null,
   "metadata": {},
   "outputs": [],
   "source": [
    "print( x[ 1:2 ] + \"end\" ) "
   ]
  },
  {
   "cell_type": "code",
   "execution_count": null,
   "metadata": {},
   "outputs": [],
   "source": [
    "print( a > 6 or b - c < 7 )"
   ]
  },
  {
   "cell_type": "code",
   "execution_count": null,
   "metadata": {},
   "outputs": [],
   "source": [
    "print( a // 3 )"
   ]
  },
  {
   "cell_type": "code",
   "execution_count": null,
   "metadata": {},
   "outputs": [],
   "source": [
    "print( 3 % 7 )"
   ]
  },
  {
   "cell_type": "code",
   "execution_count": null,
   "metadata": {},
   "outputs": [],
   "source": [
    "print( s[ 2:4 ] > \"mo\" )"
   ]
  },
  {
   "cell_type": "code",
   "execution_count": null,
   "metadata": {},
   "outputs": [],
   "source": [
    "print( n[ fred ] * 2 )"
   ]
  },
  {
   "cell_type": "markdown",
   "metadata": {},
   "source": [
    "### <a name=\"input\"> User Input </a>\n",
    "\n",
    "We can take in user input using the **input()** function. For example:  \n",
    "\n",
    "    name = input(“What is your name?”)  \n",
    "\n",
    "Will store whatever the user inputs into the variable name. The parameter in the  \n",
    "brackets of the input function represents what to display as the prompt for the input.  \n",
    "\n",
    "Try it yourself!  "
   ]
  },
  {
   "cell_type": "code",
   "execution_count": null,
   "metadata": {},
   "outputs": [],
   "source": [
    "input(\"Try it yourself!\")"
   ]
  },
  {
   "cell_type": "markdown",
   "metadata": {},
   "source": [
    "We can use this to build more complex programmes which depend on a user's input.\n",
    "\n",
    "The `input()` function will always give you a string type. What if you want to get  \n",
    "number input? For example, you need to ask the user about their age. To do this, you  \n",
    "need to convert from a string to a number. We do this using either **int()** or **float()**  \n",
    "and inside that we use input. This is called <u>casting</u>. For example:  "
   ]
  },
  {
   "cell_type": "code",
   "execution_count": null,
   "metadata": {},
   "outputs": [],
   "source": [
    "age = int(input(\"How old are you?\"))"
   ]
  },
  {
   "cell_type": "markdown",
   "metadata": {},
   "source": [
    "Careful! This is prone to bugs because we can't force the user to input  \n",
    "a number. If they don’t enter a number, we will try to convert it and this will either fail or produce unexpected results.\n",
    "\n",
    "### <a name=\"if\">If Statements</a>\n",
    "An if statement lets you specify code that executes only if a certain condition is true.  \n",
    "Conditions are represented by the **Boolean** data type. Examples of conditions\n",
    "include:\n",
    "<div style=\"-webkit-column-count: 2; -moz-column-count: 2; column-count: 2; -webkit-column-rule: 1px dotted #e0e0e0; -moz-column-rule: 1px dotted #e0e0e0; column-rule: 1px dotted #e0e0e0;\">\n",
    "<div style=\"color:#009900;display: inline-block;\">\n",
    "<pre>\n",
    "> x > 50\n",
    "> y <= 15\n",
    "> name == “John”\n",
    "</pre>\n",
    "</div>\n",
    "<div style=\"color:#009900;display: inline-block;\">\n",
    "<pre>\n",
    "> x + y >= z\n",
    "> a > 5 and b < 5\n",
    "> age > 18 or age < 15 </pre>\n",
    "</div>\n",
    "</div>\n",
    "\n",
    "You have operators like `>, <, >=, <=, ==` which go between other expressions. Notice  \n",
    "that the result of all of these operations is an expression of a Boolean type. It is also  \n",
    "important to notice the distinction between `==` and `=`. The `==` operator is used for  \n",
    "comparison and tells you whether or not two expressions are equal. The `=` operator is  \n",
    "used for assignment as explained above.  \n",
    "\n",
    "Conditions are used in if statements in this syntax:\n",
    "\n",
    "    if <condition>:\n",
    "        <code to run>\n",
    "    elif<condition>\n",
    "        <different code to run>\n",
    "    elif<condition>\n",
    "        <yet another different bit of code to run>\n",
    "    else\n",
    "        <none of the above conditions were satisfied, so let's do this instead>\n",
    "\n",
    "You can have as many elif (short for else if) as you'd like to check any number of conditions. The else statement is also optional and is only chosen if all the previous conditions evaluated to False.\n",
    "\n",
    "For example..."
   ]
  },
  {
   "cell_type": "code",
   "execution_count": null,
   "metadata": {
    "scrolled": true
   },
   "outputs": [],
   "source": [
    "from IPython.display import HTML, YouTubeVideo\n",
    "enjoyment = input(\"Out of 10, how much are you enjoying this example?\")\n",
    "\n",
    "# This checks tries to convert your input to a string\n",
    "# If you put anything other than a number as input, this will fail\n",
    "# When it fails, we instead set enjoyment to 0\n",
    "try:\n",
    "    int(enjoyment) \n",
    "except:\n",
    "    enjoyment = 0\n",
    "#You do not yet need to worry how the above code works, but if you're curious we explain it in more detail\n",
    "#In the exercises\n",
    "\n",
    "# Example of an If Stament in action\n",
    "if (int(enjoyment) < 0 ):\n",
    "    display(YouTubeVideo(\"buqtdpuZxvk\")) # Fancy, don't worry about how this works!\n",
    "elif(int(enjoyment) < 5):\n",
    "    print (\" Ok then... Well... \\n Your mother is a hamster and your father smells of elderberries!\")\n",
    "elif(int(enjoyment) <= 10):\n",
    "    print (\" You're a Python Programmer and you're okay!\")\n",
    "else:\n",
    "    print (\" I feel happy :)) \")"
   ]
  },
  {
   "cell_type": "markdown",
   "metadata": {},
   "source": [
    "<u>A note about indentation in Python</u>  \n",
    "\n",
    "In Python, line **indentation** matters! Consecutive lines that are on the same level on  \n",
    "indentation make up a code block . Take for example this short program:\n",
    "\n",
    "    x = 5\n",
    "    if x > 10:\n",
    "        print(“Runs only when x is greater than 10.”)\n",
    "    print(“This will always run.”)\n",
    "    \n",
    "### <a name=\"while\">While Loop</a>\n",
    "Say you need to run something multiple times. For instance you want to print this  \n",
    "statement 10 times:  \n",
    "\n",
    "    print(“This will run 10 times.”)\n",
    "\n",
    "You can always copy and paste it 10 times, but that’s very inefficient.\n",
    "What if you need to print this 1000 times? Instead, we  \n",
    "use loops. There are a few types of loops but one of the simplest is the while  \n",
    "loop:  \n",
    "\n",
    "    while <condition>:\n",
    "        <run code multiple times>\n",
    "\n",
    "The **while loop** takes a condition just like the if statement and checks it. If it’s true,  \n",
    "the code block runs. At the end of the code block, it checks the condition again and  \n",
    "runs the block again if it’s true, and so on. Notice that it’s the responsibility of the  \n",
    "code block to ensure that the while loop eventually **terminates**.  \n",
    "\n",
    "So we can write our example program that prints something out a certain number of  \n",
    "times like so:  \n",
    "\n",
    "    x = 0\n",
    "    while x < 10:\n",
    "        print(“This will print many times.”)\n",
    "        x = x + 1\n",
    "        \n",
    "Let’s analyse this! \n",
    "\n",
    "1. We start off with an **x** set to **0** which we use as our counter.  \n",
    "2. We then start the while loop.   \n",
    "3. The condition is **x < 10** which means that the while loop will run until this condition  \n",
    "is no longer satisfied. \n",
    "4. At the start **x** is obviously less than **10** so the loop runs and we see the statement printing.    \n",
    "5. We then run **x = x + 1** , which simply adds **1** to **x** , since **x** was **0** before it now becomes **1**.  \n",
    "This is the end of the code block and the loop restarts, checking **x** yet again.  \n",
    "6. It is now **1** which is still less than **10** so the loop runs.\n",
    "\n",
    "This keeps going until after the statement prints **10** times, the value of **x** is now **10**  \n",
    "and we move on from the while loop.  \n",
    "\n",
    "\n",
    "<u>Breaking from a loop</u>   \n",
    "\n",
    "Sometimes we want to force exit from a loop without going back to the initial  \n",
    "condition. We can do this using the **break** keyword. This will cause the loop to  \n",
    "immediately stop and move on. Consider this program for instance:  \n",
    "\n",
    "    x = 0\n",
    "    while True:\n",
    "        if x == 5:\n",
    "            break\n",
    "        print(“The value of x is ” + x)\n",
    "        x = x + 1\n",
    "\n",
    "First off, notice the use of True as a condition. This means that the loop will  \n",
    "essentially run forever, or at least until a break happens. This loop checks x, prints out  \n",
    "x and increases x every iteration. However, as soon as x is equal to 5, it will break and  \n",
    "exit. Writing loops like can be very useful in some situations.  \n",
    "\n",
    "### <a name=\"list\">Lists</a>\n",
    "\n",
    "Lists are an important data type which allow you to represent **collections of items**.  The items in a list can be of any type.\n",
    "For example, say you want to keep track of the names of employees in a company,  \n",
    "in Python it would look like this:  \n",
    "\n",
    "    employees = [“John Smith”, “Mona Simpson”, “Robert Blake”, “Fiona\n",
    "    Clarkson”]\n",
    "    \n",
    "There are some operations we should be familiar with regarding lists. You can  \n",
    "access elements in a list by using an index . The **index** is specified inside square  \n",
    "brackets after the list variable’s name. Lists are indexed starting 0, which means that  \n",
    "the first element is really zeroth element. For instance the first employee in the above  \n",
    "example would be given by:  \n",
    "\n",
    "    employees[0]\n",
    "    \n",
    "Go ahead and try this! Try accessing other employees as well and printing them.  \n",
    "Now say you need to add a new employee to your list. We use the **append()** function  \n",
    "to do this.  \n",
    "\n",
    "    employees.append(“Richard Hendricks”)\n",
    "    \n",
    "But we can also do this: `employees = employees + “Richard Hendricks”` as an  \n",
    "alternative way to add elements to lists.  \n",
    "\n",
    "We may at times need to get the length of a list. We can do this using the **len()**  \n",
    "function:  \n",
    "\n",
    "    len(employees)\n",
    "\n",
    "Lastly we might want to remove items from a list, which we can do using the  \n",
    "**remove()** method:  \n",
    "\n",
    "    employees.remove(“John Smith”)\n",
    "    \n",
    "### <a name=\"for\">For Loop</a>\n",
    "\n",
    "**For loops** are another type of loop which are quite useful when dealing with **lists**. It  \n",
    "allows us to easily go over items in a list and do something with them. They are used  \n",
    "like this:  \n",
    "\n",
    "    for <item> in <collection to go over>:\n",
    "        <do something for each item>\n",
    "    \n",
    "Take for example the employees list we made above. Say we would like to print out  \n",
    "all the employee names in list. We can do this like so:  \n",
    "\n",
    "    for employee in employees:\n",
    "        print(“This employee’s name is ” + employee)\n",
    "    \n",
    "This goes through the employee list and executes the print statement appropriately.  \n",
    "Notice that there’s another variable that we refer to inside the for loop, employee. We  \n",
    "define the name of this variable in the first line of the for loop and it essentially acts  \n",
    "as pointer to the current employee for which the code is currently running. This is  \n",
    "best understood with examples, so do follow along.  \n",
    "\n",
    "Let's try two examples!"
   ]
  },
  {
   "cell_type": "code",
   "execution_count": 13,
   "metadata": {},
   "outputs": [
    {
     "name": "stdout",
     "output_type": "stream",
     "text": [
      "This employee’s name is Donald\n",
      "This employee’s name is Stephen\n",
      "This employee’s name is Laura\n",
      "This employee’s name is Morag\n",
      "This employee’s name is Martin\n"
     ]
    }
   ],
   "source": [
    "employees = [\"Donald\",\"Stephen\",\"Laura\",\"Morag\",\"Martin\"]\n",
    "\n",
    "for employee in employees:\n",
    "    print(\"This employee’s name is \" + employee)\n",
    "    "
   ]
  },
  {
   "cell_type": "markdown",
   "metadata": {},
   "source": [
    "As described before. Now let's try a more advanced example..."
   ]
  },
  {
   "cell_type": "code",
   "execution_count": null,
   "metadata": {},
   "outputs": [],
   "source": [
    "numbers = [1, 2, 3]\n",
    "colours = [\"red\", \"yellow\", \"blue\"]\n",
    "objects = [\"blood\", \"sunflower\", \"ocean\"]\n",
    "\n",
    "for i in numbers:\n",
    "    for j in colours:\n",
    "        for k in objects:\n",
    "            print(i,j,k)"
   ]
  },
  {
   "cell_type": "markdown",
   "metadata": {},
   "source": [
    "As you can see, for loops can be ‘nested’ inside one another! This means that every time the outermost loop is executed (here the numbers), it runs the loop inside of it (the colours) and so on.\n",
    "\n",
    "For 3 elements in numbers, 3 elements in colours and 3 elements in objects that means the print(i,j,k) line will be run 27 times. \n",
    "\n",
    "The loop here will take one element of i, j, k from each list and print them together.\n",
    "\n",
    "This is a bit confusing at first, but once you try it out a bunch of times it gets more intuitive."
   ]
  },
  {
   "cell_type": "markdown",
   "metadata": {},
   "source": [
    "#### The Range Function\n",
    "Python's built-in range() function is important particularly in the use of loops. \n",
    "\n",
    "The function generates a list of numbers in a user specified interval; for example range(0,10) is equivalent to the list \\[0, 1, …., 8, 9\\] (not including 10!).\n",
    "\n",
    "Range accepts 1, 2 or 3 arguments as follows range(END), range(START,END) or range(START,END,STEP). Where START, END and STEP are all integers. \n",
    "\n",
    "If you don't specify a step, the default is a step of 1 (e.g. 1, 2, 3 ...). If you don't specify a start, the default start is 0.\n",
    "\n",
    "Try it out!"
   ]
  },
  {
   "cell_type": "code",
   "execution_count": 10,
   "metadata": {},
   "outputs": [
    {
     "name": "stdout",
     "output_type": "stream",
     "text": [
      "0\n",
      "3\n",
      "6\n"
     ]
    }
   ],
   "source": [
    "start = 0\n",
    "step = 3\n",
    "end = 9\n",
    "for i in range(start,end,step):\n",
    "    print(i)"
   ]
  },
  {
   "cell_type": "markdown",
   "metadata": {},
   "source": [
    "**Challenge** Can you write the correct range expression to give the numbers from 1 to 100?\n"
   ]
  },
  {
   "cell_type": "code",
   "execution_count": null,
   "metadata": {},
   "outputs": [],
   "source": []
  },
  {
   "cell_type": "markdown",
   "metadata": {},
   "source": [
    "### <a name=\"dict\">Dictionaries</a>\n",
    "\n",
    "Dictionaries are one of the most important data structures in Python. They map <b>keys</b> to <b>values</b>; in other languages dictionaries are often called maps or hash maps. \n",
    "\n",
    "Values can be any type, but keys must be hashable. We won't get into what this means more deeply, but in practice it means that you can only use immutable types like integers, strings or tuples as keys. You could not assign a list to be a key, for example.\n",
    "\n",
    "There can only be one value per key, however, you can use compound data structures to effectively get around this restriction. A particularly useful case is the nested dictionary, where keys are mapped to dictionaries containing their own entries.\n",
    "\n",
    "\n",
    "We can construct a dictionary that maps student names to their grades like so:\n",
    "\n",
    "student_dict = {\"Example Exampleson\" : \"A4\", \"Monty Python\" : \"B3\"}\n",
    "\n",
    "Dictionaries enable extremely efficient item lookup. The standard syntax for performing lookups is dictname[key].\n",
    "\n",
    "student_dict[\"Example Exampleson\"] would evaluate to \"A4\".\n",
    "\n",
    "### <a name=\"functions\">Functions </a>\n",
    "\n",
    "Functions allow you to seperate your code into more manageable chunks. A function takes zero or more parameters as input and return a value of any type (including composites). Every function has a unique name associated with it, which you define when you create that function:\n",
    "\n",
    "    def FUNCTION_NAME(parameter0,parameter1,parameter2,):\n",
    "        #Code that does things \n",
    "        return SOME_VALUE\n",
    "\n",
    "Once you have declared a function, you can call it anywhere in your code by using the name you gave it. When you call a function, you need to provide it with the arguments specified above. For example:\n",
    "\n",
    "    getThatValue = FUNCTION_NAME(argument0,argument1,argument2)\n",
    "\n",
    "(**Note**: arguments are values that you pass to a function while parameters are the values a function accepts)\n",
    "\n",
    "Let's see how this works with a simple example:"
   ]
  },
  {
   "cell_type": "code",
   "execution_count": null,
   "metadata": {},
   "outputs": [],
   "source": [
    "num = input(\"Please give me a number, any number\")\n",
    "num = int(num) #Convert to an integer\n",
    "\n",
    "def isEven(number):\n",
    "    if (number % 2 == 0):\n",
    "        return True\n",
    "    else:\n",
    "        return False\n",
    "    \n",
    "numberIsEven = isEven(num)    \n",
    "if (numberIsEven):\n",
    "    print(\"The number you gave me is even :)\")\n",
    "else:\n",
    "    print(\"The number you gave me is odd (:\")"
   ]
  },
  {
   "cell_type": "markdown",
   "metadata": {},
   "source": [
    "The above function has number as a **parameter** and returns a boolean value of True if it is even and a boolean value of False if it is odd. \n",
    "\n",
    "When we call it using isEven(num) the following happens:\n",
    "1. We pass the **argument** 'num', which we obtained from asking the user for their input, to the function\n",
    "2. The function is then executed with number = num \n",
    "3. The function returns a value (depending on which condition it satisfied)\n",
    "4. We assign the returned value to the variable 'numberIsEven'\n",
    "\n",
    "You can already see the advantage of this approach, since we hide some of the complexity inside a function and can then act on it. We can also use it to avoid repeating yourself, for instance if you doing the same thing many times you could instead call a function to do it for you. \n",
    "\n",
    "In the intermediate section after this, and beyond, we will encourage you to take on this functional programming approach. "
   ]
  },
  {
   "cell_type": "markdown",
   "metadata": {},
   "source": [
    "Function to evaluate whether a number is odd or even\n",
    "Function to reverse a string\n",
    "\n",
    "### <a name=\"libs\">Python Libraries</a>\n",
    "In Python you can share functions you have made in the form of libraries. These can be imported using the import statement:\n",
    "\n",
    "    import LIBRARY_NAME\n",
    "    \n",
    "Import statements should be placed at the top of your code.\n",
    "\n",
    "#### Example : The Random Library\n",
    "In the exercises at the end of this section,you will be using the Random library, which is used to generate random numbers :) \n",
    "\n",
    "To generate a random integer you use the random.randint(LOWERLIMIT,UPPERLIMIT) function. Note that to specify you are using a function from a library, you first use the library name and then use the dot operator to access one of it's functions (i.e. LIBRARY_NAME.FUNCTION_NAME() )\n",
    "\n",
    "An example use:\n",
    "\n",
    "    randy = random.randint(0,100)\n",
    "    \n",
    "Will assign a random integer between 0 and 100 to the variable randy.\n",
    "\n",
    "### <a name=\"exercises\">Exercises </a>\n",
    "\n",
    "### A1 : String Removal\n",
    "Given a string named s, and an integer n which is one of the indices of s, write an expression that returns a string the same as s but with the character at position n removed.  \n",
    "  E.g. if s is \"hello\" and n is 1, then \"hllo\" should be the value of the expression."
   ]
  },
  {
   "cell_type": "code",
   "execution_count": 18,
   "metadata": {},
   "outputs": [],
   "source": [
    "def removeACharacter(s,n):\n",
    "    #Your code here\n",
    "    return\n",
    "    "
   ]
  },
  {
   "cell_type": "markdown",
   "metadata": {},
   "source": [
    "### A2 : Safe Indexing\n",
    "Write a Boolean (True or False) expression to determine whether the integer variable v holds a value that could safely index a value in list l.\n",
    "\n",
    "_Hint_: Use the len() function that is built into python to find the length of the list"
   ]
  },
  {
   "cell_type": "code",
   "execution_count": null,
   "metadata": {},
   "outputs": [],
   "source": [
    "def isSafeToIndex(v,l):\n",
    "    #Your code here\n",
    "    return False"
   ]
  },
  {
   "cell_type": "markdown",
   "metadata": {},
   "source": [
    "### A3 : Nullified\n",
    "Write an expression to create a list containing 20 elements, all 0.  Make it as short as you can."
   ]
  },
  {
   "cell_type": "code",
   "execution_count": null,
   "metadata": {},
   "outputs": [],
   "source": [
    "#Your Code Here"
   ]
  },
  {
   "cell_type": "markdown",
   "metadata": {},
   "source": [
    "### A4 : Listless manipulations\n",
    "Write string expressions working on a string s to:\n",
    "1. Extract the last character of s.\n",
    "2. Extract the substring consisting of the last two characters of s.\n",
    "3. Create a new string with the middle character of s removed.  If the length of s is even, so there is no middle character, take out the character just to the right of the middle.\n",
    "4. Create a new string consisting of the first and last characters of s only.\n",
    "5. Create a new string without the last character of s.\n"
   ]
  },
  {
   "cell_type": "code",
   "execution_count": null,
   "metadata": {},
   "outputs": [],
   "source": [
    "#Your Code Here"
   ]
  },
  {
   "cell_type": "markdown",
   "metadata": {},
   "source": [
    "## More Exercises\n",
    "These next exercises will be a bit more challenging, try to take some time to break them into smaller peices. Almost everything in coding is the accumulation of many simple functionalities as opposed to fewer complicated and hard to understand chunks.\n"
   ]
  },
  {
   "cell_type": "markdown",
   "metadata": {},
   "source": [
    "### A5 : Hot or Cold\n",
    "Write a program that comes up with a random number between 1 and 20 (If you don't know how to do this, see the [heading on libraries](#libs)) and then asks the user to guess it. If they guess it right they’re congratulated and it starts again. If they guess it wrong they’re told whether it's hgiher or lower."
   ]
  },
  {
   "cell_type": "code",
   "execution_count": null,
   "metadata": {},
   "outputs": [],
   "source": [
    "# Your code for Exercise A5 here"
   ]
  },
  {
   "cell_type": "markdown",
   "metadata": {},
   "source": [
    "### A6 : Backwards Problem\n",
    "Given a list of items, print out the items in reverse.  "
   ]
  },
  {
   "cell_type": "code",
   "execution_count": 19,
   "metadata": {},
   "outputs": [],
   "source": [
    "# Your code for Exercise A6 here"
   ]
  },
  {
   "cell_type": "markdown",
   "metadata": {},
   "source": [
    "### A7 : The Reverse Flash\n",
    "Given a number, construct a list of the numbers from the negative of that  number to that number and print it."
   ]
  },
  {
   "cell_type": "code",
   "execution_count": 20,
   "metadata": {},
   "outputs": [],
   "source": [
    "# Your code for Exercise A7 here"
   ]
  },
  {
   "cell_type": "markdown",
   "metadata": {},
   "source": [
    "### A8 : Opinionated Printing\n",
    "Write a programme that asks the user to enter their name and age, storing both separately. \n",
    "\n",
    "The program should tell the user what you, as the author, think of their age by printing your thoughts in reply. "
   ]
  },
  {
   "cell_type": "code",
   "execution_count": null,
   "metadata": {},
   "outputs": [],
   "source": [
    "# Your code for exercise A8 here"
   ]
  },
  {
   "cell_type": "markdown",
   "metadata": {},
   "source": [
    "**BONUS** In Python there is another command block called a <a name=\"trycatch\">try-catch</a> statement. This is used to _try_ out some code and - if anything goes wrong - stop executing (cancel) that code and instead execute the code contained under _except_. \n",
    "\n",
    "Using the try-catch statement is really useful for preventing errors from breaking your program.\n",
    "\n",
    "The general structure for this is:\n",
    "\n",
    "    try:\n",
    "        <some code>\n",
    "    except:\n",
    "        <some more code>\n",
    "\n",
    "Using your newfound knowledge, see if you can make your programme respond to weird inputs. For example, what if someone gave you text instead of a number for their age?"
   ]
  },
  {
   "cell_type": "code",
   "execution_count": 21,
   "metadata": {},
   "outputs": [],
   "source": [
    "# Your Bonus Answer Here"
   ]
  },
  {
   "cell_type": "markdown",
   "metadata": {},
   "source": [
    "### A9: Random Number Seperation\n",
    "Write a simple program to seperate elements from a list of n random numbers into a list of odd and a list of even elements. \n",
    "\n",
    "1. First make some empty lists to hold your random numbers, even numbers and the odd numbers\n",
    "\n",
    "2. Then try to generate a random number using Python’s ‘random module’. This means your program script has to include ‘import random’ before any other code, this tells the interpreter to load the library first, allowing you to use the functions contained in that library (confused about libraries? See the sub-heading below!)\n",
    "\n",
    "3. Generating the random numbers one at a time means you will need to add them to the list in succession. For this, consider using a for loop! How can you add these numbers to your list"
   ]
  },
  {
   "cell_type": "code",
   "execution_count": null,
   "metadata": {},
   "outputs": [],
   "source": [
    "#Your code for A9 here"
   ]
  },
  {
   "cell_type": "markdown",
   "metadata": {},
   "source": [
    "## Resources\n",
    "[How to Think like a Computer Scientist](http://interactivepython.org/courselib/static/thinkcspy/index.html) - Excellent and free online textbook for learning Python  \n",
    "[Github Student Pack](https://education.github.com/pack) - Super nifty collection of free resources you can use as a student, including a [GitHub account](https://eu.udacity.com/course/how-to-use-git-and-github--ud775) with private repositories"
   ]
  },
  {
   "cell_type": "code",
   "execution_count": null,
   "metadata": {},
   "outputs": [],
   "source": []
  }
 ],
 "metadata": {
  "kernelspec": {
   "display_name": "Python 3",
   "language": "python",
   "name": "python3"
  },
  "language_info": {
   "codemirror_mode": {
    "name": "ipython",
    "version": 3
   },
   "file_extension": ".py",
   "mimetype": "text/x-python",
   "name": "python",
   "nbconvert_exporter": "python",
   "pygments_lexer": "ipython3",
   "version": "3.6.7"
  }
 },
 "nbformat": 4,
 "nbformat_minor": 2
}
