{
 "cells": [
  {
   "cell_type": "markdown",
   "metadata": {},
   "source": [
    "# The Python Argument Clinic\n",
    "\n",
    "Welcome to the Python Argument Clinic! This workshop is split into 3 sections, \n",
    "* **A:** <span style=\"color:blue\">BEGINNER</span> which assumes no prior knowledge of Python\n",
    "* **B:** <span style=\"color:blue\">INTERMEDIATE</span> which assumes you know basic data structures and loops \n",
    "* **C:** <span style=\"color:blue\">ADVANCED</span> which relies on knowledge gained in B about libraries like Numpy and MatPlotLib.\n",
    "\n",
    "You may complete as many problems as you'd like and there are tutors available if you get stuck. Problem solutions will be made available on Moodle after the workshop.\n",
    "\n",
    "<span style=\"color:red\"> BONUS </span> There is a hidden challenge, which you can complete once you have finished all other challenges.\n",
    "\n",
    "\n",
    "\n"
   ]
  },
  {
   "cell_type": "code",
   "execution_count": null,
   "metadata": {},
   "outputs": [],
   "source": []
  }
 ],
 "metadata": {
  "kernelspec": {
   "display_name": "Python 3",
   "language": "python",
   "name": "python3"
  },
  "language_info": {
   "codemirror_mode": {
    "name": "ipython",
    "version": 3
   },
   "file_extension": ".py",
   "mimetype": "text/x-python",
   "name": "python",
   "nbconvert_exporter": "python",
   "pygments_lexer": "ipython3",
   "version": "3.6.7"
  }
 },
 "nbformat": 4,
 "nbformat_minor": 2
}
