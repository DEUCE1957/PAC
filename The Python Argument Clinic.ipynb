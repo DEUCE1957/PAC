{
 "cells": [
  {
   "cell_type": "markdown",
   "metadata": {},
   "source": [
    "<a href=\"https://forms.gle/CxohFPKKy75Vj88Q9\"><img src=https://i.imgur.com/eha3VyS.png style=\"width:50vw\"></a>\n",
    "\n",
    "<p style=\"font-size:16px\">First time here? Go to the <a href=#setup>Setup</a> to get going.</p>\n",
    "\n",
    "<span id=\"content\">Welcome to the Python Argument Clinic! This workshop is split into 3 sections,</span>\n",
    "## [**A:** <span style=\"color:blue\">BEGINNER</span>](#begin) \n",
    "**Which assumes no prior knowledge of Python**\n",
    "## [**B:** <span style=\"color:blue\">INTERMEDIATE</span>](#intermediate) \n",
    "**Which assumes you know basic data structures and loops**\n",
    "## [**C:** <span style=\"color:blue\">ADVANCED</span>](#advanced) \n",
    "**Which relies on knowledge gained in B about libraries like Numpy and MatPlotLib.**\n",
    "\n",
    "<a href=\"https://forms.gle/CxohFPKKy75Vj88Q9\"><img src=https://i.imgur.com/KTeBknj.png style=\"width:50vw\" alt=\"Python Argument Clinic placement test\"></a>\n",
    "\n",
    "You may complete as many problems as you'd like and there are tutors available if you get stuck. Problem solutions will be made available on Moodle after the workshop(s).\n",
    "\n",
    "If you are working from home, you can join our Discord to chat with the tutors in their off-time: \n",
    "<a href=\"https://discord.gg/8NqewwH\"><img src=https://i.imgur.com/mgtYWQp.png style=\"width:50vw\" alt=\"Chat with us on Discord\"></a>\n",
    "\n",
    "\n",
    "### What is a Jupyter Notebook?\n",
    "You are viewing these notes in a Jupyter Notebook. Simply put; this is a clear way to execute Python scripts (a series of ordered Python commands) in a format that doesn't require complicated setups. Essentially all the functionality of Python is available in this domain, with the ability for us and you to add explanatory text and figures.\n",
    "\n",
    "### <span id=\"setup\">Setup</span>\n",
    "To prevent people from changing the original file, we ask that you make a copy of the original to your home directory. Run this cell (*shift*-*enter*) once from inside of the original notebook (at 'examples/PAC/') to copy everything to your home directory. **Exit** and then **go back to your home directory** and get going!"
   ]
  },
  {
   "cell_type": "code",
   "execution_count": null,
   "metadata": {
    "scrolled": true
   },
   "outputs": [],
   "source": [
    "%%bash\n",
    "cp -nr examples/PAC/The\\ Python\\ Argument\\ Clinic.ipynb ./The\\ Python\\ Argument\\ Clinic.ipynb\n",
    "cp -nr examples/PAC/data .\n",
    "ls -1 ."
   ]
  },
  {
   "cell_type": "markdown",
   "metadata": {},
   "source": [
    "# <a name = \"begin\">Beginner</a> \n",
    "Return to: **[Contents](#content)**<br/>\n",
    "[A Simple Programme](#HelloWorld)  \n",
    "[Types](#types)  \n",
    "[Expression and Variables](#exprNvars)  \n",
    "[Operators](#operators)  \n",
    "[Printing](#printing)    \n",
    "[User Input](#input)    \n",
    "[If statements](#if)    \n",
    "[While Loop](#while)    \n",
    "[For Loop](#for)    \n",
    "[Lists](#list)    \n",
    "[Dictionaries](#dict)  \n",
    "[Functions](#functions)  \n",
    "[Libraries](#libs)  \n",
    "[Exercises](#exercises)    \n",
    "\n",
    "## <a name=\"HelloWorld\">A Simple Programme </a>\n",
    "Python is a powerful programming language that is the standard in Data Visualisation in both industry and academia. It values readability, using indentation to set how code is run. This indentation of different parts of the code means you can tell roughly how a program works in a single glance. Due to its many conveniences, it's also a go-to for quickly wacking together a working programme and so is often used for personal projects.  \n",
    "\n",
    "But before we can get into any high-flying concepts, we have to make sure our foundations are solid. Let's start you off with the classic Hello World programme.  \n",
    "\n",
    "In Python you can use pieces of texts called strings by writing something inside of single ' or double \" quotations marks as follows:\n",
    "\n",
    "    \"This is a string\"\n",
    "    'This is also a string'\n",
    "    \n",
    "You can print out something to the screen (the output) using the print() function that’s built into\n",
    "Python. Here’s an example (press the **run** button or use shift-enter to produce the output):"
   ]
  },
  {
   "cell_type": "code",
   "execution_count": null,
   "metadata": {
    "scrolled": true
   },
   "outputs": [],
   "source": [
    "print(\"Hello World\")"
   ]
  },
  {
   "cell_type": "markdown",
   "metadata": {},
   "source": [
    "### **Congratulations!** You are now officially a programmer \\*air horn\\* but use these powers carefully, you have been warned. \n",
    "\n",
    "You can print pretty much any expression in Python, and we’ll be using it extensively during the workshop.\n",
    "\n",
    "\n",
    "## <a name=\"types\">Types </a>\n",
    "<a href = #begin style = \"color:purple\"> > Jump to Beginner Section Content Table \\< </a>  \n",
    "Under the hood, programming is just a manipulation of 1s and 0s inside a computer. These 1s and 0s are used to represent numbers, text and a whole lot more. In Python these representations are known as data types. You can do a whole bunch of standard operations with these data types (see [operators](#operators) ). \n",
    "\n",
    "These data types are split into two categories: **primitives** which are the simplest data type and cannot be split up further and **composites** which act as containers for primitive values.\n",
    "\n",
    "#### Primitives\n",
    "The main primitive values in Python are:\n",
    "    * Integers such as 5, -3, etc. \n",
    "    * Floats (a number with decimal places) such as 2.5 or 3.14159265 \n",
    "    * Strings which are pieces of text like \"sasquatch\" \n",
    "    * Booleans which can be either True or False\n",
    "    \n",
    "#### Composites\n",
    "Composites are useful containers for primitive values that allow us to do operations on them more conveniently, we will cover a few of these in this section:\n",
    "    * Lists, which is a collection of items\n",
    "    * Dictionaries which map keys to values. These are like real-life dictionaries where a word (the key) maps to a description (the value) \n",
    "    \n",
    "#### Checking Types\n",
    "If you are ever confused what type something has, you can use Python's in-built **type()** function. This will give you the type of whatever you put in the brackets. For example\n",
    "\n",
    "    "
   ]
  },
  {
   "cell_type": "code",
   "execution_count": null,
   "metadata": {
    "scrolled": true
   },
   "outputs": [],
   "source": [
    "type(6) "
   ]
  },
  {
   "cell_type": "markdown",
   "metadata": {},
   "source": [
    "Will tell you that 6 is of type 'int' (i.e. an integer)."
   ]
  },
  {
   "cell_type": "markdown",
   "metadata": {},
   "source": [
    "#### > Check your knowledge\n",
    "Execute this series of commands. Try a few random ones underneath to check your expectations."
   ]
  },
  {
   "cell_type": "code",
   "execution_count": null,
   "metadata": {
    "scrolled": true
   },
   "outputs": [],
   "source": [
    "print(type(5.9))\n",
    "\n",
    "print(type('Salvador Dali paints for the depressed and the insane. A real hero.'))\n",
    "\n",
    "print(type(\"Yorkshire Tea is less satisfying - but my opinion is only derived from liquids anyway...\"))\n",
    "\n",
    "print(type(2**2))"
   ]
  },
  {
   "cell_type": "markdown",
   "metadata": {},
   "source": [
    "#### Dynamic Typing\n",
    "Python is a Dynamically typed language, this means you do NOT have to explicitly say what data type are a variable is. We'll go into this some more in the next part :) !\n",
    "\n",
    "## <a name=\"exprNvars\">Expression and Variables </a>\n",
    "<a href = #begin style = \"color:purple\"> > Jump to Beginner Section Content Table \\< </a>  \n",
    "An expression in Python is essentially the building block of your program.  \n",
    "Anything that you can manipulate and use is an expression. Here are some examples:\n",
    "\n",
    "<div style=\"-webkit-column-count: 2; -moz-column-count: 2; column-count: 2; -webkit-column-rule: 1px dotted #e0e0e0; -moz-column-rule: 1px dotted #e0e0e0; column-rule: 1px dotted #e0e0e0;\">\n",
    "<div style=\"color:#009900;display: inline-block;\">\n",
    "<pre>\n",
    "> 56 \n",
    "> 2 + 3\n",
    "> (5 - 1) * (12 - 4)\n",
    "> \" 'Tis but a flesh wound\"\n",
    "> \" Your mother is a hamster \" + \"and\n",
    "your father smells of elderberries\"\n",
    "</pre>\n",
    "</div>\n",
    "<div style=\"color:#009900;display: inline-block;\">\n",
    "<pre>\n",
    "> 19.32\n",
    "> True\n",
    "> False\n",
    "> [12, 3, -4, 5]\n",
    "> students[2]\n",
    "</pre>\n",
    "</div>\n",
    "</div>\n",
    "\n",
    "An **Expression** has a particular data type. The main data types in Python are:\n",
    "    * Various numeric types like int (an integer) and floats (a number with decimal places), but you don’t need to worry about the details for now\n",
    "    * String represents pieces of text\n",
    "    * Boolean represents values of True or False\n",
    "    * List represents any ordered collection of items\n",
    "    * Dictionaries map keys to values, they are like real-life dictionaries where a word (the key) maps to a description (the value) \n",
    "To make our lives easier, we might want to refer to the same object many times in a program. **Variables** allow you to do this.\n",
    "We define variables by simply giving them a name and a value, like this:  \n",
    "    * x = 12\n",
    "    * eventName = “the Python Argument Clinic\"\n",
    "    * y = 2.5\n",
    "    * z = x + y\n",
    "    * message = “I am attending” + eventName  \n",
    "\n",
    "This way of associating a value with an identifier is called **assignment**  \n",
    "and it uses the assignment operator `=`\n",
    "\n",
    "Notice how the right side of the assignment operator can be any kind of expression.  \n",
    "An expression will always evaluate to a particular data type.\n",
    "\n",
    "**Note**:\n",
    "\n",
    "Be careful of how Python handles variables. A variable is simply a name (or alias) pointing to an object somewhere in memory. This matters little for simple primitives like integers, but can cause big trouble with other types! Consider the following example."
   ]
  },
  {
   "cell_type": "code",
   "execution_count": null,
   "metadata": {
    "scrolled": true
   },
   "outputs": [],
   "source": [
    "x = [1, 2, 3, 4, 5]\n",
    "\n",
    "y = x\n",
    "\n",
    "print(\"x is: \", x)\n",
    "print(\"y is: \", y)\n"
   ]
  },
  {
   "cell_type": "markdown",
   "metadata": {},
   "source": [
    "As expected, x and y produce the same output when printed. Now let's modify x. What would you expect to happen to y?"
   ]
  },
  {
   "cell_type": "code",
   "execution_count": null,
   "metadata": {
    "scrolled": true
   },
   "outputs": [],
   "source": [
    "x.append(6)\n",
    "\n",
    "print(\"x is: \", x)\n",
    "print(\"y is: \", y)"
   ]
  },
  {
   "cell_type": "markdown",
   "metadata": {},
   "source": [
    "Surprise! y got modified even though we didn't do anything to it directly. This is because all that x and y are, are references. x points to the list object we created earlier, and after we performed the assignment y = x, y now points to the same memory location as x.\n",
    "\n",
    "Be wary of assignments producing unexpected behaviour. \n",
    "\n",
    "An exercise for the keen: think about how you would avoid this issue."
   ]
  },
  {
   "cell_type": "markdown",
   "metadata": {},
   "source": [
    "#### > Check your knowledge\n",
    "\n",
    "What is the difference between lines 1 and 2 below?\n"
   ]
  },
  {
   "cell_type": "code",
   "execution_count": null,
   "metadata": {
    "scrolled": true
   },
   "outputs": [],
   "source": [
    "2 + 3 # line 1\n",
    "\n",
    "x = 2 + 3 # line 2"
   ]
  },
  {
   "cell_type": "markdown",
   "metadata": {},
   "source": [
    "Look at the types of expression above. Add a number to a string and assign it to a variable. Print this. What must you do to the number for this to work?\n",
    "\n",
    "Put two strings together - note that you 'concatenate' (put together) two strings using the addition operator '+'. Print this. \n",
    "\n",
    "Write user friendly print statements like those above - ones that actually read out an annotation alongside the object being printed."
   ]
  },
  {
   "cell_type": "markdown",
   "metadata": {},
   "source": [
    " \n",
    "\n",
    "### Comments\n",
    "You can add comments to your code to describe what it is doing. These will not be executed and so have no impact on what your code does. \n",
    "\n",
    "In python the notation for comments is:\n",
    "\n",
    "    # Your comment\n",
    "   \n",
    "These can be placed **after** any code, for example:"
   ]
  },
  {
   "cell_type": "code",
   "execution_count": null,
   "metadata": {
    "scrolled": true
   },
   "outputs": [],
   "source": [
    "\"I <3 The Python Argument Clinic\" # A fun string, usually this would not warrant a comment"
   ]
  },
  {
   "cell_type": "markdown",
   "metadata": {},
   "source": [
    "We will use comments to help describe code in this workshop, we also recommend you use it to help future-you (or other people) better understand your code. Some people like to start writing with comments so they can write the code alongside them. Don't go to crazy though ;) \n",
    "\n",
    "## <a name=\"operators\">Operators</a>\n",
    "<a href = #begin style = \"color:purple\"> > Jump to Beginner Section Content Table \\< </a>  \n",
    "Python is equipped with a number of standard operators, which we will briefly go through here.\n",
    "\n",
    "#### The Plus Operator : **+**  \n",
    "The plus operator is used for adding two values together:"
   ]
  },
  {
   "cell_type": "code",
   "execution_count": null,
   "metadata": {
    "scrolled": true
   },
   "outputs": [],
   "source": [
    "four = 1 + 3 #Assigns the value 4 to the variable 'four'\n",
    "grav = 0.81 + 9 #Addition evaluates to 9.81, which is then assigned to the variable 'grav'\n",
    "print(four)\n",
    "print(grav)"
   ]
  },
  {
   "cell_type": "markdown",
   "metadata": {},
   "source": [
    "It can also be used to concatenate two strings"
   ]
  },
  {
   "cell_type": "code",
   "execution_count": null,
   "metadata": {
    "scrolled": true
   },
   "outputs": [],
   "source": [
    "spam = \"SPAM\" + \" SPAM\" + \" SPAM\" + \" SPAM\" + \" WONDERFUL SPAM\" \n",
    "#Assigns \"SPAM SPAM SPAM SPAM WONDERFUL SPAM\" to the variable spam\n",
    "\n",
    "print(spam)"
   ]
  },
  {
   "cell_type": "markdown",
   "metadata": {},
   "source": [
    "Note that you cannot add a number value to a string, the following operation is illegal:"
   ]
  },
  {
   "cell_type": "code",
   "execution_count": null,
   "metadata": {
    "scrolled": true
   },
   "outputs": [],
   "source": [
    "breakPython = \"SPAM\" + 42\n",
    "#Running this should BREAK python :o"
   ]
  },
  {
   "cell_type": "markdown",
   "metadata": {},
   "source": [
    "To do this you either first need to convert the integer to 42:"
   ]
  },
  {
   "cell_type": "code",
   "execution_count": null,
   "metadata": {
    "scrolled": true
   },
   "outputs": [],
   "source": [
    "savePython = \"SPAM\" + str(42)\n",
    "print(savePython)"
   ]
  },
  {
   "cell_type": "markdown",
   "metadata": {},
   "source": [
    "Or you can use something called **interpolation**, which is covered in the printing section below.\n",
    "\n",
    "#### The Minus Operator : **-**  \n",
    "The minus operator is used for subtracting one value from another:"
   ]
  },
  {
   "cell_type": "code",
   "execution_count": null,
   "metadata": {
    "scrolled": true
   },
   "outputs": [],
   "source": [
    "margin = 0.519 - 0.491 # Evaluates to 0.028, which is assigned to the variable margin\n",
    "print(margin)\n"
   ]
  },
  {
   "cell_type": "markdown",
   "metadata": {},
   "source": [
    "Note that the answer printed won't be _exactly_ 0.028 due to how Python (and any computer) handles numbers with decimal places (floating point numbers). In memory they are represented as powers of 2, so not all floating point numbers can be represented exactly but only approximately. [Curious Why?](https://floating-point-gui.de/)\n",
    "    \n",
    "#### The Multiplication Operator : **\\***  \n",
    "The multiplication operator multiplies two values:"
   ]
  },
  {
   "cell_type": "code",
   "execution_count": null,
   "metadata": {
    "scrolled": true
   },
   "outputs": [],
   "source": [
    "howDoYouMeasureAYearInTheLife = 365 * 24 * 60 # Evaluates to 525,600 minutes\n",
    "print(howDoYourMeasureAYearInTheLife)"
   ]
  },
  {
   "cell_type": "markdown",
   "metadata": {},
   "source": [
    "#### The Exponentiation Operator : **\\*\\***  \n",
    "The exponentiation operator raises a value to a power:"
   ]
  },
  {
   "cell_type": "code",
   "execution_count": null,
   "metadata": {
    "scrolled": true
   },
   "outputs": [],
   "source": [
    "buzzLightSecond = ( 3 * 10**8 ) # Evaluates to 300,000,000\n",
    "print(buzzLightSecond)"
   ]
  },
  {
   "cell_type": "markdown",
   "metadata": {},
   "source": [
    "#### The Modulo Operator : **%**  \n",
    "The modulo operator gives the remainder when diving one value by another:"
   ]
  },
  {
   "cell_type": "code",
   "execution_count": null,
   "metadata": {
    "scrolled": true
   },
   "outputs": [],
   "source": [
    "even = 5 % 2 #Evaluates to 1, which suggests the first number is not even\n",
    "factor = 12 % 4 #Evaluates to 0, which means we can use modulo to check if one number is a factor of another\n",
    "print(even)\n",
    "print(factor)"
   ]
  },
  {
   "cell_type": "markdown",
   "metadata": {},
   "source": [
    "#### The Floor Division Operator : **//**  \n",
    "The floor division operator will divide one number by another and round down the result to an integer value"
   ]
  },
  {
   "cell_type": "code",
   "execution_count": null,
   "metadata": {
    "scrolled": true
   },
   "outputs": [],
   "source": [
    "you = 5/2 # NORMAL DIVISION : evaluates to 2.5\n",
    "just = 5//2 #evaluates to 2 \n",
    "got = -11//3 #evaluates to -4 (always rounds down!)\n",
    "floored = -11.2//3.8 #Evaluates to -4.0 (will first do normal division, then rounds down)\n",
    "kid = -9.0//3 #Evaluates to -3.0 (if one or both of the numbers the result will be a decimal too"
   ]
  },
  {
   "cell_type": "markdown",
   "metadata": {},
   "source": [
    "<hr> \n",
    "\n",
    "### Logical Operators  \n",
    "Logic is all about making decisions. In order to make a decision, you first need a way of answering questions - called conditional statements. In Python these answers are stored as Booleans to represent True or False outcomes, which is analagous to a yes or no answer.  \n",
    "\n",
    "  We can write expressions that evaluate to a Boolean and then use Logical Operators to make smart decisions based on more than 1 conditions. Logical Operators thus allow us to combine many conditional statements to control what action our program will take next!\n",
    "  \n",
    "Note that in these examples we evaluate a logical expression and assign this to a variable, like so:\n",
    "  \n",
    "    variableName = <SOME EXPRESSION>\n",
    "\n",
    "You are free to put anything to the right of an asignment (denoted by a single = sign) so long as it evaluates to a data type.\n",
    "  \n",
    "####  **==**  \n",
    "The equality operator checks if two values are the same"
   ]
  },
  {
   "cell_type": "code",
   "execution_count": null,
   "metadata": {
    "scrolled": true
   },
   "outputs": [],
   "source": [
    "letThisFloat = 6.0 == 6 \n",
    "print(letThisFloat)\n",
    "\n",
    "#Evaluates to True, since 6.0 (a float) has the same value as 6 (an integer)\n",
    "wontLetThisFloat = 6.5 == 6\n",
    "\n",
    "print(wontLetThisFloat)\n",
    "#Evaluates to False, since 6.5 (a float) has a different value than 6 (an integer)\n"
   ]
  },
  {
   "cell_type": "markdown",
   "metadata": {},
   "source": [
    "#### **!=**  \n",
    "The inequality operator check if two values are not the same\n",
    "    "
   ]
  },
  {
   "cell_type": "code",
   "execution_count": null,
   "metadata": {
    "scrolled": true
   },
   "outputs": [],
   "source": [
    "palindrome = \"bolton\" != \"ipswitch\"\n",
    "print(palindrome)\n",
    "#Evaluates to True since \"bolton\" is not the same as \"ipswitch\"\n",
    "\n",
    "volts = 3000 != 3000.0 \n",
    "print(volts)\n",
    "#Evaluates to False since 3000 has the same value as 3000.0"
   ]
  },
  {
   "cell_type": "markdown",
   "metadata": {},
   "source": [
    "#### **> < >= <=**  \n",
    "The inequality logical operators check if two values satisfy an inequality"
   ]
  },
  {
   "cell_type": "code",
   "execution_count": null,
   "metadata": {
    "scrolled": true
   },
   "outputs": [],
   "source": [
    "admiralYi = 133 > 13 \n",
    "print(admiralYi)\n",
    "#Evaluates to True since 133 is greater than 13\n",
    "\n",
    "commanders = \"Alexander The Great\" < \"Darius of Persia\" \n",
    "print(commanders)\n",
    "#Evaluates to True, strings are compared lexographically "
   ]
  },
  {
   "cell_type": "markdown",
   "metadata": {},
   "source": [
    "#### **and**  \n",
    "The and logical operator evaluates to true only if both the condition before and after it evaluate to true"
   ]
  },
  {
   "cell_type": "code",
   "execution_count": null,
   "metadata": {
    "scrolled": true
   },
   "outputs": [],
   "source": [
    "isTheAnswer = 42 % 2 == 0 and 42 == 6 * 7 #Evaluates to True because 42\n",
    "print(isTheAnswer)"
   ]
  },
  {
   "cell_type": "markdown",
   "metadata": {},
   "source": [
    "#### **or**\n",
    "The or logical operator evaluates to true if either the condition before it or the condition after it is true."
   ]
  },
  {
   "cell_type": "code",
   "execution_count": null,
   "metadata": {
    "scrolled": true
   },
   "outputs": [],
   "source": [
    "year = 2019\n",
    "globalTemp = 1.5\n",
    "apocalypseNow = year == 2012 or globalTemp > 2 \n",
    "print(apocalypseNow)\n",
    "#Evaluates to False since both year == 2012 nor globalTemp > 2 evaluate to False"
   ]
  },
  {
   "cell_type": "markdown",
   "metadata": {},
   "source": [
    "#### > Check your knowledge\n",
    "Use some of the operators in different ways - check if an int is equivalent to a float (for the same 'number' of course). \n",
    "\n",
    "Check how this cell runs for different values of a and b."
   ]
  },
  {
   "cell_type": "code",
   "execution_count": null,
   "metadata": {
    "scrolled": true
   },
   "outputs": [],
   "source": [
    "a = 3\n",
    "b = 3\n",
    "\n",
    "if a > b:\n",
    "    print(\"Bugs are scary\")\n",
    "elif a < b: \n",
    "    print(\"Snakes are terrifying\")\n",
    "else:\n",
    "    print(\"The objects reveal nothing\")"
   ]
  },
  {
   "cell_type": "markdown",
   "metadata": {},
   "source": [
    "## <a name=\"printing\">Printing</a>\n",
    "<a href = #begin style = \"color:purple\"> > Jump to Beginner Section Content Table \\< </a>  \n",
    "\n",
    "We can print out something to the output using the **print()** function that’s built into  \n",
    "Python. Here’s an example:\n",
    "\n",
    "    print(“Hello World!”)\n",
    "    x = 10\n",
    "    print(“The value of x is ” + x)\n",
    "\n",
    "You can print pretty much any expression in Python, and we’ll be using it extensively\n",
    "during the workshop."
   ]
  },
  {
   "cell_type": "markdown",
   "metadata": {},
   "source": [
    "**Example**\n",
    "Run this code, which declares some variables for you to use:"
   ]
  },
  {
   "cell_type": "code",
   "execution_count": null,
   "metadata": {
    "scrolled": true
   },
   "outputs": [],
   "source": [
    "    a=7\n",
    "    b=10\n",
    "    c=3\n",
    "    x = [ \"D\", \"E\", \"F\", \"G\", \"H\" ] \n",
    "    n = { \"fred\" : 23, \"bob\": 100 }\n",
    "    s = \"computing\""
   ]
  },
  {
   "cell_type": "markdown",
   "metadata": {},
   "source": [
    "\n",
    "Think what the output for each of these statements would be, then run the cell (click on the cell, then press the **run** button or press shift-enter). "
   ]
  },
  {
   "cell_type": "code",
   "execution_count": null,
   "metadata": {
    "scrolled": true
   },
   "outputs": [],
   "source": [
    "print( a + b * c )"
   ]
  },
  {
   "cell_type": "code",
   "execution_count": null,
   "metadata": {
    "scrolled": true
   },
   "outputs": [],
   "source": [
    "print( a > 6 or b - c < 7 )"
   ]
  },
  {
   "cell_type": "code",
   "execution_count": null,
   "metadata": {
    "scrolled": true
   },
   "outputs": [],
   "source": [
    "print( a // 3 )"
   ]
  },
  {
   "cell_type": "code",
   "execution_count": null,
   "metadata": {
    "scrolled": true
   },
   "outputs": [],
   "source": [
    "print( 3 % 7 )"
   ]
  },
  {
   "cell_type": "code",
   "execution_count": null,
   "metadata": {
    "scrolled": true
   },
   "outputs": [],
   "source": [
    "print( s[ 2:4 ] > \"mo\" )"
   ]
  },
  {
   "cell_type": "code",
   "execution_count": null,
   "metadata": {
    "scrolled": true
   },
   "outputs": [],
   "source": [
    "print( n[ \"fred\" ] * 2 )"
   ]
  },
  {
   "cell_type": "markdown",
   "metadata": {},
   "source": [
    "#### >Check your knowledge\n",
    "How do you print more than one object with the print() function?"
   ]
  },
  {
   "cell_type": "markdown",
   "metadata": {},
   "source": [
    "## <a name=\"input\"> User Input </a>\n",
    "<a href = #begin style = \"color:purple\"> > Jump to Beginner Section Content Table \\< </a>  \n",
    "\n",
    "We can take in user input using the **input()** function. For example:  \n",
    "\n",
    "    name = input(“What is your name?”)  \n",
    "\n",
    "Will store whatever the user inputs into the variable name. The parameter in the  \n",
    "brackets of the input function represents what to display as the prompt for the input.  \n",
    "\n",
    "Try it yourself!  "
   ]
  },
  {
   "cell_type": "code",
   "execution_count": null,
   "metadata": {
    "scrolled": true
   },
   "outputs": [],
   "source": [
    "input(\"Try it yourself!\")"
   ]
  },
  {
   "cell_type": "markdown",
   "metadata": {},
   "source": [
    "We can use this to build more complex programmes which depend on a user's input.\n",
    "\n",
    "The `input()` function will always give you a string type. What if you want to get  \n",
    "number input? For example, you need to ask the user about their age. To do this, you  \n",
    "need to convert from a string to a number. We do this using either **int()** or **float()**  \n",
    "and inside that we use input. This is called <u>casting</u>. For example:  "
   ]
  },
  {
   "cell_type": "code",
   "execution_count": null,
   "metadata": {
    "scrolled": true
   },
   "outputs": [],
   "source": [
    "age = int(input(\"How old are you?\"))"
   ]
  },
  {
   "cell_type": "markdown",
   "metadata": {},
   "source": [
    "**Careful**! This is prone to bugs because we can't force the user to input  \n",
    "a number. If they don’t enter a number, we will try to convert it and this will either fail or produce unexpected results.\n",
    "\n",
    "## <a name=\"if\">If Statements</a>\n",
    "<a href = #begin style = \"color:purple\"> > Jump to Beginner Section Content Table \\< </a>  \n",
    "An if statement lets you specify code that executes only if a certain condition is true.  \n",
    "Conditions are represented by the **Boolean** data type. Examples of conditions\n",
    "include:\n",
    "<div style=\"-webkit-column-count: 2; -moz-column-count: 2; column-count: 2; -webkit-column-rule: 1px dotted #e0e0e0; -moz-column-rule: 1px dotted #e0e0e0; column-rule: 1px dotted #e0e0e0;\">\n",
    "<div style=\"color:#009900;display: inline-block;\">\n",
    "<pre>\n",
    "> x > 50\n",
    "> y <= 15\n",
    "> name == “John”\n",
    "</pre>\n",
    "</div>\n",
    "<div style=\"color:#009900;display: inline-block;\">\n",
    "<pre>\n",
    "> x + y >= z\n",
    "> a > 5 and b < 5\n",
    "> age > 18 or age < 15 </pre>\n",
    "</div>\n",
    "</div>\n",
    "\n",
    "You have operators like `>, <, >=, <=, ==` which go between other expressions. Notice  \n",
    "that the result of all of these operations is an expression of a Boolean type. It is also  \n",
    "important to notice the distinction between `==` and `=`. The `==` operator is used for  \n",
    "comparison and tells you whether or not two expressions are equal. The `=` operator is  \n",
    "used for assignment as explained above.  \n",
    "\n",
    "Conditions are used in if statements in this syntax:\n",
    "\n",
    "    if <condition>:\n",
    "        <code to run>\n",
    "    elif<condition>\n",
    "        <different code to run>\n",
    "    elif<condition>\n",
    "        <yet another different bit of code to run>\n",
    "    else\n",
    "        <none of the above conditions were satisfied, so let's do this instead>\n",
    "\n",
    "You can have as many elif (short for else if) as you'd like to check any number of conditions. The else statement is also optional and is only chosen if all the previous conditions evaluated to False.\n",
    "\n",
    "For example..."
   ]
  },
  {
   "cell_type": "code",
   "execution_count": null,
   "metadata": {
    "scrolled": false
   },
   "outputs": [],
   "source": [
    "from IPython.display import HTML, YouTubeVideo\n",
    "enjoyment = input(\"Out of 10, how much are you enjoying this example?\")\n",
    "\n",
    "# This checks tries to convert your input to a string\n",
    "# If you put anything other than a number as input, this will fail\n",
    "# When it fails, we instead set enjoyment to 0\n",
    "try:\n",
    "    int(enjoyment) \n",
    "except:\n",
    "    enjoyment = 0\n",
    "#You do not yet need to worry how the above code works, but if you're curious we explain it in more detail\n",
    "#In the exercises\n",
    "\n",
    "# Example of an If Stament in action\n",
    "if (int(enjoyment) < 0 ):\n",
    "    display(YouTubeVideo(\"buqtdpuZxvk\")) # Fancy, don't worry about how this works!\n",
    "elif(int(enjoyment) < 5):\n",
    "    print (\" Ok then... Well... \\n Your mother is a hamster and your father smells of elderberries!\")\n",
    "elif(int(enjoyment) <= 10):\n",
    "    print (\" You're a Python Programmer and you're okay!\")\n",
    "else:\n",
    "    print (\" I feel happy :)) \")"
   ]
  },
  {
   "cell_type": "markdown",
   "metadata": {},
   "source": [
    "<u>A note about indentation in Python</u>  \n",
    "\n",
    "In Python, line **indentation** matters! Consecutive lines that are on the same level on  \n",
    "indentation make up a code block . Take for example this short program:\n",
    "\n",
    "    x = 5\n",
    "    if x > 10:\n",
    "        print(“Runs only when x is greater than 10.”)\n",
    "    print(“This will always run.”)\n",
    "    \n",
    "## <a name=\"while\">While Loop</a>\n",
    "<a href = #begin style = \"color:purple\"> > Jump to Beginner Section Content Table \\< </a>  \n",
    "Say you need to run something multiple times. For instance you want to print this  \n",
    "statement 10 times:  \n",
    "\n",
    "    print(“This will run 10 times.”)\n",
    "\n",
    "You can always copy and paste it 10 times, but that’s very inefficient.\n",
    "What if you need to print this 1000 times? Instead, we  \n",
    "use loops. There are a few types of loops but one of the simplest is the while  \n",
    "loop:  \n",
    "\n",
    "    while <condition>:\n",
    "        <run code multiple times>\n",
    "\n",
    "The **while loop** takes a condition just like the if statement and checks it. If it’s true,  \n",
    "the code block runs. At the end of the code block, it checks the condition again and  \n",
    "runs the block again if it’s true, and so on. Notice that it’s the responsibility of the  \n",
    "code block to ensure that the while loop eventually **terminates**.  \n",
    "\n",
    "So we can write our example program that prints something out a certain number of  \n",
    "times like so:  "
   ]
  },
  {
   "cell_type": "code",
   "execution_count": null,
   "metadata": {
    "scrolled": true
   },
   "outputs": [],
   "source": [
    "x = 0\n",
    "while x < 10:\n",
    "    print(“This will print many times.”)\n",
    "    x = x + 1"
   ]
  },
  {
   "cell_type": "markdown",
   "metadata": {},
   "source": [
    "Let’s analyse this! \n",
    "\n",
    "1. We start off with an x set to 0 which we use as our counter.  \n",
    "2. We then start the while loop.   \n",
    "3. The condition is **x < 10** which means that the while loop will run until this condition  \n",
    "is no longer satisfied. \n",
    "4. At the start x is obviously less than 10 so the loop runs and we see the statement printing.    \n",
    "5. We then run **x = x + 1** , which simply adds 1 to x , since x was 0 before it now becomes 1.  \n",
    "This is the end of the code block and the loop restarts, checking x yet again.  \n",
    "6. It is now 1 which is still less than 10 so the loop runs.\n",
    "\n",
    "This keeps going until after the statement prints 10 times, the value of x is now 10  \n",
    "and we move on from the while loop.  \n",
    "\n",
    "\n",
    "<u>Breaking from a loop</u>   \n",
    "\n",
    "Sometimes we want to force exit from a loop without going back to the initial  \n",
    "condition. We can do this using the **break** keyword. This will cause the loop to  \n",
    "immediately stop and move on. Consider this program for instance:  "
   ]
  },
  {
   "cell_type": "code",
   "execution_count": null,
   "metadata": {
    "scrolled": true
   },
   "outputs": [],
   "source": [
    "x = 0\n",
    "while True:\n",
    "    if x == 5:\n",
    "        break\n",
    "    print(“The value of x is ” + x)\n",
    "    x = x + 1"
   ]
  },
  {
   "cell_type": "markdown",
   "metadata": {},
   "source": [
    "First off, notice the use of True as a condition. This means that the loop will  \n",
    "essentially run forever, or at least until a break happens. This loop checks x, prints out  \n",
    "x and increases x every iteration. However, as soon as x is equal to 5, it will break and  \n",
    "exit. Writing loops like can be very useful in some situations.  \n",
    "\n",
    "## <a name=\"list\">Lists</a>\n",
    "<a href = #begin style = \"color:purple\"> > Jump to Beginner Section Content Table \\< </a>    \n",
    "    \n",
    "Lists are an important data type which allow you to represent **collections of items**.  The items in a list can be of any type.\n",
    "For example, say you want to keep track of the names of employees in a company,  \n",
    "in Python it would look like this:  \n",
    "\n",
    "    employees = [“John Smith”, “Mona Simpson”, “Robert Blake”, “Fiona Clarkson”]\n",
    "    \n",
    "### Indexing\n",
    "    \n",
    "You can access elements in a list by using an index. The **index** is specified inside square  \n",
    "brackets after the list variable’s name. Lists are indexed starting 0, which means that  \n",
    "the first element is really the zeroth element. For instance the first employee in the above  \n",
    "example would be given by:  \n",
    "\n",
    "    employees[0]\n",
    "    \n",
    "Go ahead and try this! \n",
    "\n",
    "What happens if you use a negative number? (e.g. -1)"
   ]
  },
  {
   "cell_type": "code",
   "execution_count": null,
   "metadata": {
    "scrolled": true
   },
   "outputs": [],
   "source": [
    "employees = [\"John Smith\", \"Mona Simpson\", \"Robert Blake\", \"Fiona Clarkson\"]\n",
    "\n",
    "print(employees[0]) #Change this"
   ]
  },
  {
   "cell_type": "markdown",
   "metadata": {},
   "source": [
    "**Negative indexing** is used to access elements of a list from the back, so an index of -1 is the last element  (\"Fiona Clarkson\") and an index of -2 is the second-last element (\"Robert Blake\")"
   ]
  },
  {
   "cell_type": "markdown",
   "metadata": {},
   "source": [
    "### Slicing\n",
    "You can also grab sub-lists by specifying a start and end index. This is called slicing and has the following form:\n",
    "\n",
    "    slice = employees[0:2]\n",
    "    \n",
    "Note that the end value is not included, so the slice is a new list which contains the first two employees \\[\"John Smith\",\"Mona Simpson\"\\]\n",
    "\n",
    "Why not try this out on the fibonacci sequence? \n",
    "1. What happens if you don't specify an end index?\n",
    "2. What happens if you use a negative index in the slice?\n",
    "3. What happens if you add a third value such as \\[0:2:7\\]\n",
    "4. What happens if you specify an index outside of the list?"
   ]
  },
  {
   "cell_type": "code",
   "execution_count": null,
   "metadata": {
    "scrolled": true
   },
   "outputs": [],
   "source": [
    "fibonnaci = [0, 1, 1, 2, 3, 5, 8, 13, 21, 34]\n",
    "\n",
    "print ( fibonnaci[0:2]) #Change this\n"
   ]
  },
  {
   "cell_type": "markdown",
   "metadata": {},
   "source": [
    "Using a single index and a colon will slice all elements from that index to the start or end:\n",
    "\n",
    "    fibonacci[2:] # Elements at index 2 (inclusive) and above\n",
    "    \n",
    "    fibonacci[:3] # Elements before index 3 (not inclusive)\n",
    "    \n",
    "Using a negative index will slice from the end of the list:\n",
    "\n",
    "    fibonnaci[0:-2] # Elements at index 0 (inclusive) up to the second last element -2 (not inclusive)\n",
    "    \n",
    "Using a third value introduces a **step** in the form array\\[START:STOP:END\\]. The step skips some values:\n",
    "\n",
    "    \n",
    "    fibonnaci[0:7:2] # Elements at index 0 (inclusive), index 2, index 4 and index 6\n",
    "    fibonnaci[0:-1:3] # Elements at index 0 (inclusive), index 3, index 6 \n",
    "                      # But not at index 9 since the end (-1) is exclusive!\n",
    "    \n",
    "If you specify an index outside of the list, this will crash your programme and throw an _list index out of bounds_ error message:\n",
    "    \n",
    "    fibonnaci[10] # Cannot be evaluated\n",
    "    "
   ]
  },
  {
   "cell_type": "markdown",
   "metadata": {},
   "source": [
    "Try accessing other employees as well and printing them.  \n",
    "Now say you need to add a new employee to your list. We use the **append()** function  \n",
    "to do this.  "
   ]
  },
  {
   "cell_type": "code",
   "execution_count": null,
   "metadata": {
    "scrolled": true
   },
   "outputs": [],
   "source": [
    "employees.append('Richard Hendricks')"
   ]
  },
  {
   "cell_type": "markdown",
   "metadata": {},
   "source": [
    "But we can also do this: `employees = employees + “Richard Hendricks”` as an  \n",
    "alternative way to add elements to lists.  \n",
    "\n",
    "We may at times need to get the length of a list. We can do this using the **len()**  \n",
    "function:  "
   ]
  },
  {
   "cell_type": "code",
   "execution_count": null,
   "metadata": {
    "scrolled": true
   },
   "outputs": [],
   "source": [
    "len(employees)"
   ]
  },
  {
   "cell_type": "markdown",
   "metadata": {},
   "source": [
    "Lastly we might want to remove items from a list, which we can do using the  \n",
    "**remove()** method:  "
   ]
  },
  {
   "cell_type": "code",
   "execution_count": null,
   "metadata": {
    "scrolled": true
   },
   "outputs": [],
   "source": [
    "employees.remove('John Smith')"
   ]
  },
  {
   "cell_type": "markdown",
   "metadata": {},
   "source": [
    "What if we wanted find *where* in the list an element occurs? \n",
    "\n",
    "For example, the value of 3 appears in the Fibonacci sequence with an index of value 4 (remember Python marks the first index with '0' as opposed to '1' like we humans do).\n",
    "\n",
    "To find the value of 13 in the Fibonnaci sequence list, we use the index() function. The way a function like this is called looks odd. Consider "
   ]
  },
  {
   "cell_type": "code",
   "execution_count": null,
   "metadata": {
    "scrolled": true
   },
   "outputs": [],
   "source": [
    "fibonnaci.index(3)"
   ]
  },
  {
   "cell_type": "markdown",
   "metadata": {},
   "source": [
    "The way a function like this is called looks odd. Consider this implementation as the format of the question \"Where in the list 'finbonnaci' does the value of 3 occur first?' but encoded into Python. "
   ]
  },
  {
   "cell_type": "markdown",
   "metadata": {},
   "source": [
    "## <a name=\"for\">For Loop</a>\n",
    "<a href = #begin style = \"color:purple\"> > Jump to Beginner Section Content Table \\< </a>  \n",
    "\n",
    "**For loops** are another type of loop which are quite useful when dealing with **lists**. It  \n",
    "allows us to easily go over ('iterate') items in a list and do something with them. They are used  \n",
    "like this:  \n",
    "\n",
    "    for <item> in <collection to go over>:\n",
    "        <do something for each item>\n",
    "    \n",
    "Take for example the employees list we made above. Say we would like to print out  \n",
    "all the employee names in list. We can do this like so:  \n",
    "\n",
    "    for employee in employees:\n",
    "        print(“This employee’s name is ” + employee)\n",
    "    \n",
    "This goes through the employee list and executes the print statement appropriately.  \n",
    "Notice that there’s another variable that we refer to inside the for loop, employee. We  \n",
    "define the name of this variable in the first line of the for loop and it essentially acts  \n",
    "as pointer to the current employee for which the code is currently running. This is  \n",
    "best understood with examples, so do follow along.  \n",
    "\n",
    "Let's try two examples!"
   ]
  },
  {
   "cell_type": "code",
   "execution_count": null,
   "metadata": {
    "scrolled": true
   },
   "outputs": [],
   "source": [
    "employees = [\"Donald\",\"Stephen\",\"Laura\",\"Morag\",\"Martin\"]\n",
    "\n",
    "for employee in employees:\n",
    "    print(\"This employee’s name is \" + employee)\n",
    "    "
   ]
  },
  {
   "cell_type": "markdown",
   "metadata": {},
   "source": [
    "As described before. Now let's try a more advanced example..."
   ]
  },
  {
   "cell_type": "code",
   "execution_count": null,
   "metadata": {
    "scrolled": true
   },
   "outputs": [],
   "source": [
    "numbers = [1, 2, 3]\n",
    "colours = [\"red\", \"yellow\", \"blue\"]\n",
    "objects = [\"blood\", \"sunflower\", \"ocean\"]\n",
    "\n",
    "for i in numbers:\n",
    "    for j in colours:\n",
    "        for k in objects:\n",
    "            print(i,j,k)"
   ]
  },
  {
   "cell_type": "markdown",
   "metadata": {},
   "source": [
    "As you can see, for loops can be ‘nested’ inside one another! This means that every time the outermost loop is executed (here the numbers), it runs the loop inside of it (the colours) and so on.\n",
    "\n",
    "For 3 elements in numbers, 3 elements in colours and 3 elements in objects that means the print(i,j,k) line will be run 27 times. \n",
    "\n",
    "The loop here will take one element of i, j, k from each list and print them together.\n",
    "\n",
    "This is a bit confusing at first, but once you try it out a bunch of times it gets more intuitive."
   ]
  },
  {
   "cell_type": "markdown",
   "metadata": {},
   "source": [
    "The object being looped over, which in these cases has been a list, has each of its elements accessed across each separate repeat of the loop. \n",
    "\n",
    "Here this would be the variable 'number' which is not used outside of the loop. Consider this example"
   ]
  },
  {
   "cell_type": "code",
   "execution_count": null,
   "metadata": {
    "scrolled": true
   },
   "outputs": [],
   "source": [
    "numbers_list = [] # initialise an empty list to add\n",
    "\n",
    "for number in range(0, 21): # for every number between 0 and 100\n",
    "    \n",
    "    numbers_list.append(number) # add this number to a list\n",
    "    print(number) \n",
    "\n"
   ]
  },
  {
   "cell_type": "markdown",
   "metadata": {},
   "source": [
    "The variable 'number' is given a new value after each run of the loop, as dictated by the range(0,100) function. This value of 'number' is appended into the list of numbers 'numbers_list'. The current value of 'number' is printed inside each run of the loop to illustrate this.\n",
    "\n",
    "Admittedly there are quicker ways to generate a list of numbers. This is just an illustration of the structure and use of for loops."
   ]
  },
  {
   "cell_type": "markdown",
   "metadata": {},
   "source": [
    "### The Range Function\n",
    "Python's built-in range() function is important particularly in the use of loops. \n",
    "\n",
    "The function generates a list of numbers in a user specified interval; for example range(0,10) is equivalent to the list \\[0, 1, …., 8, 9\\] (not including 10!).\n",
    "\n",
    "Range accepts 1, 2 or 3 arguments as follows range(END), range(START,END) or range(START,END,STEP). Where START, END and STEP are all integers. \n",
    "\n",
    "If you don't specify a step, the default is a step of 1 (e.g. 1, 2, 3 ...). If you don't specify a start, the default start is 0.\n",
    "\n",
    "Try it out!"
   ]
  },
  {
   "cell_type": "code",
   "execution_count": null,
   "metadata": {
    "scrolled": true
   },
   "outputs": [],
   "source": [
    "start = 0\n",
    "step = 3\n",
    "end = 9\n",
    "for i in range(start,end,step):\n",
    "    print(i)"
   ]
  },
  {
   "cell_type": "markdown",
   "metadata": {},
   "source": [
    "**Challenge** Can you write the correct range expression to give the numbers from 1 to 100?\n"
   ]
  },
  {
   "cell_type": "code",
   "execution_count": null,
   "metadata": {
    "scrolled": true
   },
   "outputs": [],
   "source": [
    "# Your code here"
   ]
  },
  {
   "cell_type": "markdown",
   "metadata": {},
   "source": [
    "## <a name=\"dict\">Dictionaries</a>\n",
    "<a href = #begin style = \"color:purple\"> > Jump to Beginner Section Content Table \\< </a>  \n",
    "\n",
    "Dictionaries are one of the most important data structures in Python. They map <b>keys</b> to <b>values</b>; in other languages dictionaries are often called maps or hash maps. \n",
    "\n",
    "Values can be any type, but keys must be hashable. We won't get into what this means more deeply, but in practice it means that you can only use immutable types like integers, strings or tuples as keys. You could not assign a list to be a key, for example.\n",
    "\n",
    "There can only be one value per key, however, you can use compound data structures to effectively get around this restriction. A particularly useful case is the nested dictionary, where keys are mapped to dictionaries containing their own entries.\n",
    "\n",
    "\n",
    "We can construct a dictionary that maps student names to their grades like so:"
   ]
  },
  {
   "cell_type": "code",
   "execution_count": null,
   "metadata": {
    "scrolled": true
   },
   "outputs": [],
   "source": [
    "student_dict = {\"Example Exampleson\" : \"A4\", \"Monty Python\" : \"B3\"}"
   ]
  },
  {
   "cell_type": "markdown",
   "metadata": {},
   "source": [
    "Dictionaries enable extremely efficient item lookup. The standard syntax for performing lookups is dictname\\[key\\]."
   ]
  },
  {
   "cell_type": "code",
   "execution_count": null,
   "metadata": {
    "scrolled": true
   },
   "outputs": [],
   "source": [
    "student_dict[\"Example Exampleson\"] # Should evaluate to \"A4\".\n"
   ]
  },
  {
   "cell_type": "markdown",
   "metadata": {},
   "source": [
    "To enter a new key:value mapping, the syntax is dict[key]=value."
   ]
  },
  {
   "cell_type": "code",
   "execution_count": null,
   "metadata": {
    "scrolled": true
   },
   "outputs": [],
   "source": [
    "student_dict[\"DJ Tim\"] = \"A1\"\n",
    "\n",
    "print(student_dict[\"DJ Tim\"])"
   ]
  },
  {
   "cell_type": "markdown",
   "metadata": {},
   "source": [
    "A naive look up using the square bracket notation assumes the key is already in the dictionary. If it is not, you will get a nice fat error which we generally try to avoid.\n",
    "\n",
    "There are a few solutions:\n",
    "\n",
    "* Check if the key is in the dictionary using the in keyword before trying to access the dicitonary.\n",
    "\n",
    "* Use the dict.get(key, defaultvalue) method (more on functions and methods below). If the key is in the dictionary, it will fetch the value; if the key isn't in the dictionary, it will return whatever defaultvalue you put in.\n",
    "\n",
    "* Use the defaultdict type from the Collections module. Defaultdicts allow you to define a default value to return if a non-existent key is accessed. This is generally the preferred method, especially if you're working with complex nested dictionaries. \n",
    "\n"
   ]
  },
  {
   "cell_type": "code",
   "execution_count": null,
   "metadata": {
    "scrolled": true
   },
   "outputs": [],
   "source": [
    "student_dict[\"doesn't exist\"] #Wil produce a KeyError."
   ]
  },
  {
   "cell_type": "code",
   "execution_count": null,
   "metadata": {
    "scrolled": true
   },
   "outputs": [],
   "source": [
    "#Using the in keyword. Quite verbose, preferable to use other alternatives.\n",
    "#Exceptions exist, such as if you want to do more than return a value upon failure.\n",
    "if \"doesn't exist\"  in student_dict:\n",
    "    print(student_dict[\"doesn't exist\"])\n",
    "else:\n",
    "    print(\"Wrong name.\")"
   ]
  },
  {
   "cell_type": "code",
   "execution_count": null,
   "metadata": {
    "scrolled": true
   },
   "outputs": [],
   "source": [
    "print(student_dict.get(\"doesn't exist\", \"Wrong name.\")) # Returns the default value.\n",
    "\n",
    "print(student_dict.get(\"DJ Tim\", \"Wrong name.\"))"
   ]
  },
  {
   "cell_type": "markdown",
   "metadata": {},
   "source": [
    "Dictionaries are **not ordered**. You cannot sort a dictionary internally; in this sense they are similar to a mathematical set. Print may or may not produce an ordered output but this is not well defined behaviour!\n",
    "\n"
   ]
  },
  {
   "cell_type": "markdown",
   "metadata": {},
   "source": [
    "What if you want to loop over a dictionary? Unfortunately, you cannot just do a for loop on the dictionary itself. You must use some of its inbuilt methods to generate iterable objects:\n",
    "\n",
    "* dict.items() returns a view of all key:value pairs.\n",
    "* dict.keys() returns a view of all keys.\n",
    "* dict.values() returns a view of all values.\n",
    "\n",
    "Note: the view objects are **not** lists. If you want to convert them into a list, use the list(object) constructor.\n",
    "\n",
    "Some examples below.\n",
    "\n"
   ]
  },
  {
   "cell_type": "code",
   "execution_count": null,
   "metadata": {
    "scrolled": true
   },
   "outputs": [],
   "source": [
    "#The items, keys and values methods.\n",
    "print(student_dict.items())\n",
    "print(student_dict.keys())\n",
    "print(student_dict.values())\n",
    "\n",
    "#Exaple of iterating over dictionary keys.\n",
    "for k in student_dict.keys():\n",
    "    print(k)\n",
    "\n",
    "#Convert to a list if you actually want a list!\n",
    "print(list(student_dict.items()))"
   ]
  },
  {
   "cell_type": "markdown",
   "metadata": {},
   "source": [
    "## <a name=\"functions\">Functions </a>\n",
    "<a href = #begin style = \"color:purple\"> > Jump to Beginner Section Content Table \\< </a>  \n",
    "\n",
    "Functions allow you to seperate your code into more manageable chunks by generating blueprints of useful methods you create. \n",
    "\n",
    "A function takes zero or more parameters as input and return a value of any type (including composites). Every function has a unique name associated with it, which you define when you create that function:\n",
    "\n",
    "    def FUNCTION_NAME(parameter0,parameter1,parameter2,):\n",
    "        #Code that does things \n",
    "        return SOME_VALUE\n",
    "\n",
    "Once you have declared a function, you can call it anywhere in your code by using the name you gave it. When you call a function, you need to provide it with the arguments specified above. Note that the parameters of the function should match the correct arguments (in order) for you to obtain the intended results of the function. For example:\n",
    "\n",
    "    getThatValue = FUNCTION_NAME(argument0,argument1,argument2)\n",
    "\n",
    "(**Note**: arguments are values that you pass to a function while parameters are the values a function accepts)\n",
    "\n",
    "Let's see how this works with a simple example:"
   ]
  },
  {
   "cell_type": "code",
   "execution_count": null,
   "metadata": {
    "scrolled": true
   },
   "outputs": [],
   "source": [
    "num = input(\"Please give me a number, any number\")\n",
    "num = int(num) #Convert to an integer\n",
    "\n",
    "def isEven(number):\n",
    "    if (number % 2 == 0):\n",
    "        return True\n",
    "    else:\n",
    "        return False\n",
    "    \n",
    "numberIsEven = isEven(num)    \n",
    "if (numberIsEven):\n",
    "    print(\"The number you gave me is even :)\")\n",
    "else:\n",
    "    print(\"The number you gave me is odd (:\")"
   ]
  },
  {
   "cell_type": "markdown",
   "metadata": {},
   "source": [
    "The above function has number as a **parameter** and returns a boolean value of True if it is even and a boolean value of False if it is odd. The parameter is the information that you supply to the \n",
    "\n",
    "They keyword 'return' is important. It assigns the product (of the function's workings) to whatever you name it as when assigning it to a variable.\n",
    "\n",
    "When we call it using isEven(num) the following happens:\n",
    "1. We pass the **argument** 'num', which we obtained from asking the user for their input, to the function\n",
    "2. The function is then executed with number = num \n",
    "3. The function returns a value (depending on which condition it satisfied)\n",
    "4. We assign the returned value to the variable 'numberIsEven'\n",
    "\n",
    "You can already see the advantage of this approach, since we hide some of the complexity inside a function and can then act on it. We can also use it to avoid repeating yourself, for instance if you doing the same thing many times you could instead call a function to do it for you. \n",
    "\n",
    "In the intermediate section after this, and beyond, we will encourage you to take on this functional programming approach. "
   ]
  },
  {
   "cell_type": "markdown",
   "metadata": {},
   "source": [
    "Here is another function being implemented on two lists."
   ]
  },
  {
   "cell_type": "markdown",
   "metadata": {},
   "source": [
    "## <a name=\"libs\">Python Libraries</a>\n",
    "<a href = #begin style = \"color:purple\"> > Jump to Beginner Section Content Table \\< </a>  \n",
    "In Python you can share functions you have made in the form of libraries. These can be imported using the import statement:\n",
    "\n",
    "    import LIBRARY_NAME\n",
    "    \n",
    "Import statements should be placed at the top of your code.\n",
    "\n",
    "#### Example : The Random Library\n",
    "In the exercises at the end of this section,you will be using the Random library, which is used to generate random numbers :) \n",
    "\n",
    "To generate a random integer you use the random.randint(LOWERLIMIT,UPPERLIMIT) function. Note that to specify you are using a function from a library, you first use the library name and then use the dot operator to access one of it's functions (i.e. LIBRARY_NAME.FUNCTION_NAME() )\n",
    "\n",
    "An example use:\n",
    "\n",
    "    randy = random.randint(0,100)\n",
    "    \n",
    "Will assign a random integer between 0 and 100 to the variable randy.\n",
    "\n",
    "# <a name=\"exercises\">Exercises </a>\n",
    "<a href = #begin style = \"color:purple\"> > Jump to Beginner Section Content Table \\< </a>   \n",
    "    "
   ]
  },
  {
   "cell_type": "markdown",
   "metadata": {},
   "source": [
    "### Initial exercises\n",
    "These are some simple questions to check your understandings of the material so far - you will probably have to check the notes again for some definitions.\n",
    "\n",
    "Don't worry about having trouble with these. Everyone starts somewhere and when things are going bad generally you are learning fastest. Ask the helpers for help also!\n",
    "\n",
    "The power of coding in a language like Python is that these basic but general ingredients can form complex and intricately functioning programs - ask us or Google to show you!\n",
    "\n",
    "#### Tips for approaching problems:\n",
    "- Try and break the problem into chunks (perhaps comment each part and enter the code in underneath). This will install a clear and organised practice that will really help for the more complicated things you go on to do.\n",
    "\n",
    "- Receiving an error? Ask yourself why the code does what it does - not why the code doesn't do what you expect it to do "
   ]
  },
  {
   "cell_type": "markdown",
   "metadata": {},
   "source": [
    "### i : Endless lists\n",
    "Generate a list of numbers using the range() function. Subtract a constant value from each element in the list. Print both versions of the list to show yourself the effects of your incessant meddling.\n"
   ]
  },
  {
   "cell_type": "code",
   "execution_count": null,
   "metadata": {
    "scrolled": true
   },
   "outputs": [],
   "source": [
    "#Your Code Here"
   ]
  },
  {
   "cell_type": "markdown",
   "metadata": {},
   "source": [
    "### ii : Eyes going square\n",
    "Using your previous list, or generating another, square each entry in a list. Remove a number that you have decided you hate. "
   ]
  },
  {
   "cell_type": "code",
   "execution_count": null,
   "metadata": {
    "scrolled": true
   },
   "outputs": [],
   "source": [
    "#Your Code Here"
   ]
  },
  {
   "cell_type": "markdown",
   "metadata": {},
   "source": [
    "### iii : Remove the odd ones\n",
    "Using your previous list, or generating another, loop over each entry whilst simultaneously removing the numbers if you are odd. Give a line after the loop that prints the new list and the number of entries that have been removed.\n",
    "\n",
    "*Hint: use an 'if' statement to test whether or not a number is odd . . . think modulo!!!*"
   ]
  },
  {
   "cell_type": "code",
   "execution_count": null,
   "metadata": {
    "scrolled": true
   },
   "outputs": [],
   "source": [
    "#Your Code Here"
   ]
  },
  {
   "cell_type": "markdown",
   "metadata": {},
   "source": [
    "### iv : Who the hell am I today?\n",
    "Using the list of names (...you can just copy and paste this one from the notes above) find those with an even number of characters (spaces are characters too you know!) and append them to a list marking a new class of citizen, known as  the 'Even Folkingtons'. "
   ]
  },
  {
   "cell_type": "code",
   "execution_count": null,
   "metadata": {
    "scrolled": true
   },
   "outputs": [],
   "source": [
    "#Your Code Here"
   ]
  },
  {
   "cell_type": "markdown",
   "metadata": {},
   "source": [
    "### v : Talking numbers  and speaking words\n",
    "Write a short function that indexes the first and last letter of a string *or* subtracts 5 from the value of a number. The function must print both in either case.\n",
    "\n",
    "*Hint: you will need to use an 'if' test inside the function to decipher the type of object that the input is.... think type() function!*"
   ]
  },
  {
   "cell_type": "code",
   "execution_count": null,
   "metadata": {
    "scrolled": true
   },
   "outputs": [],
   "source": [
    "#Your Code Here"
   ]
  },
  {
   "cell_type": "markdown",
   "metadata": {},
   "source": [
    "### vi : The nameless dread of randomness\n",
    "Write a function that generates a random number in the interval [a,b] whose bounds are handed to the function. The function must return the number.\n",
    "\n",
    "*Hint: you will need to import the 'random' library as above (consider the difference between imports inside or outside of the function).* \n",
    "\n",
    "*The random library includes a function accessed with random.uniform() that will be useful (try another way if you are feeling confident - there are many ways to approach these problems).*"
   ]
  },
  {
   "cell_type": "code",
   "execution_count": null,
   "metadata": {
    "scrolled": true
   },
   "outputs": [],
   "source": [
    "#Your Code Here"
   ]
  },
  {
   "cell_type": "markdown",
   "metadata": {},
   "source": [
    "### vii : if not for the love of loops, then while and if the sun shines\n",
    "Write a short function to act on a list of numbers. The function should split the list into two sub-lists of even and odd numbers from that initial list. Further, it should make sure that the total number of even and odd numbers passed to the sub-lists does not exceed 10 (think *while*). Finally, it should print the lengths of the sub-lists and return them.\n",
    "\n",
    "*Hint: returning two values is simple, just separate them after the keyword return with a comma.*"
   ]
  },
  {
   "cell_type": "code",
   "execution_count": null,
   "metadata": {
    "scrolled": true
   },
   "outputs": [],
   "source": [
    "#Your Code Here"
   ]
  },
  {
   "cell_type": "markdown",
   "metadata": {},
   "source": [
    "## ...Slightly more technical beginner exercises"
   ]
  },
  {
   "cell_type": "markdown",
   "metadata": {},
   "source": [
    "### A1 : Nullified\n",
    "Write an expression to create a list containing 20 elements, all 0.  Make it as short as you can.\n",
    "    "
   ]
  },
  {
   "cell_type": "code",
   "execution_count": null,
   "metadata": {
    "scrolled": true
   },
   "outputs": [],
   "source": [
    "#Your Code Here"
   ]
  },
  {
   "cell_type": "markdown",
   "metadata": {},
   "source": [
    "### A2 : Safe Indexing\n",
    "Write a Boolean (True or False) expression to determine whether the integer variable v holds a value that could safely index a value in list l.\n",
    "\n",
    "_Hint_: Use the len() function that is built into python to find the length of the list"
   ]
  },
  {
   "cell_type": "code",
   "execution_count": null,
   "metadata": {
    "scrolled": true
   },
   "outputs": [],
   "source": [
    "def isSafeToIndex(v,l):\n",
    "    #Your code here\n",
    "    return False"
   ]
  },
  {
   "cell_type": "markdown",
   "metadata": {},
   "source": [
    "### A3 : String Removal\n",
    "Given a string named s, and an integer n which is one of the indices of s, write an expression that returns a string the same as s but with the character at position n removed.  \n",
    "  E.g. if s is \"hello\" and n is 1, then \"hllo\" should be the value of the expression.\n",
    "  \n",
    "**Note**: Strings are immutable, this means they cannot be changed once they are created. You will need to return a copy/new string rather than modify the original one. \n",
    "\n",
    "**Hint**: You will need to use [slicing](#for)"
   ]
  },
  {
   "cell_type": "code",
   "execution_count": null,
   "metadata": {
    "scrolled": true
   },
   "outputs": [],
   "source": [
    "def removeACharacter(s,n):\n",
    "    #Your code here\n",
    "    return\n",
    "    "
   ]
  },
  {
   "cell_type": "markdown",
   "metadata": {},
   "source": [
    "### A4 : Listless manipulations\n",
    "Write string expressions working on a string s to:\n",
    "1. Extract the last character of s.\n",
    "2. Extract the substring consisting of the last two characters of s.\n",
    "3. Create a new string with the middle character of s removed.  If the length of s is even, so there is no middle character, take out the character just to the right of the middle.\n",
    "4. Create a new string consisting of the first and last characters of s only.\n",
    "5. Create a new string without the last character of s.\n"
   ]
  },
  {
   "cell_type": "code",
   "execution_count": null,
   "metadata": {
    "scrolled": true
   },
   "outputs": [],
   "source": [
    "#Your Code Here\n"
   ]
  },
  {
   "cell_type": "markdown",
   "metadata": {},
   "source": [
    "## More Exercises\n",
    "These next exercises will be a bit more challenging, try to take some time to break them into smaller peices. Almost everything in coding is the accumulation of many simple functionalities as opposed to fewer complicated and hard to understand chunks.\n"
   ]
  },
  {
   "cell_type": "markdown",
   "metadata": {},
   "source": [
    "### A5 : Hot or Cold\n",
    "Write a program that comes up with a random number between 1 and 20 (If you don't know how to do this, see the [heading on libraries](#libs)) and then asks the user to guess it. If they guess it right they’re congratulated and it starts again. If they guess it wrong they’re told whether it's hgiher or lower."
   ]
  },
  {
   "cell_type": "code",
   "execution_count": null,
   "metadata": {
    "scrolled": true
   },
   "outputs": [],
   "source": [
    "# Your code for Exercise A5 here"
   ]
  },
  {
   "cell_type": "markdown",
   "metadata": {},
   "source": [
    "### A6 : Backwards Problem\n",
    "Given a list of items, print out the items in reverse.  "
   ]
  },
  {
   "cell_type": "code",
   "execution_count": null,
   "metadata": {
    "scrolled": true
   },
   "outputs": [],
   "source": [
    "# Your code for Exercise A6 here"
   ]
  },
  {
   "cell_type": "markdown",
   "metadata": {},
   "source": [
    "### A7 : The Reverse Flash\n",
    "Given a number, construct a list of the numbers from the negative of that  number to that number and print it."
   ]
  },
  {
   "cell_type": "code",
   "execution_count": null,
   "metadata": {
    "scrolled": true
   },
   "outputs": [],
   "source": [
    "# Your code for Exercise A7 here"
   ]
  },
  {
   "cell_type": "markdown",
   "metadata": {},
   "source": [
    "### A8 : Opinionated Printing\n",
    "Write a programme that asks the user to enter their name and age, storing both separately. \n",
    "\n",
    "The program should tell the user what you, as the author, think of their age by printing your thoughts in reply. "
   ]
  },
  {
   "cell_type": "code",
   "execution_count": null,
   "metadata": {
    "scrolled": true
   },
   "outputs": [],
   "source": [
    "# Your code for exercise A8 here"
   ]
  },
  {
   "cell_type": "markdown",
   "metadata": {},
   "source": [
    "**BONUS** In Python there is another command block called a <a name=\"trycatch\">try-catch</a> statement. This is used to _try_ out some code and - if anything goes wrong - stop executing (cancel) that code and instead execute the code contained under _except_. \n",
    "\n",
    "Using the try-catch statement is really useful for preventing errors from breaking your program.\n",
    "\n",
    "The general structure for this is:\n",
    "\n",
    "    try:\n",
    "        <some code>\n",
    "    except:\n",
    "        <some more code>\n",
    "\n",
    "Using your newfound knowledge, see if you can make your programme respond to weird inputs. For example, what if someone gave you text instead of a number for their age?"
   ]
  },
  {
   "cell_type": "code",
   "execution_count": null,
   "metadata": {
    "scrolled": true
   },
   "outputs": [],
   "source": [
    "# Your Bonus Answer Here"
   ]
  },
  {
   "cell_type": "markdown",
   "metadata": {},
   "source": [
    "### A9: Random Number Seperation\n",
    "Write a simple program to seperate elements from a list of n random numbers into a list of odd and a list of even elements. \n",
    "\n",
    "1. First make some empty lists to hold your random numbers, even numbers and the odd numbers\n",
    "\n",
    "2. Then try to generate a random number using Python’s ‘random module’. This means your program script has to include ‘import random’ before any other code, this tells the interpreter to load the library first, allowing you to use the functions contained in that library (confused about libraries? See the sub-heading below!)\n",
    "\n",
    "3. Generating the random numbers one at a time means you will need to add them to the list in succession. For this, consider using a for loop! How can you add these numbers to your list"
   ]
  },
  {
   "cell_type": "code",
   "execution_count": null,
   "metadata": {
    "scrolled": true
   },
   "outputs": [],
   "source": [
    "#Your code for A9 here"
   ]
  },
  {
   "cell_type": "markdown",
   "metadata": {},
   "source": [
    "# <a name = \"intermediate\">Intermediate</a>\n",
    "Return to: **[Contents](#content)**<br/>\n",
    "* [Processing numeric data](#numericProcess)\n",
    "* [Manipulating Numpy arrays](#numpyArrays)\n",
    "    * [Create Arrays](#createArrays)\n",
    "    * [Indexing and Slicing](#iands)\n",
    "* [Visualising data with MatPlotLib](#visualPlt)\n",
    "    * [Figures](#figures)\n",
    "    * [Axes](#axes)\n",
    "    * [Simple Plots](#simplePlots)\n",
    "    * [Layered and Faceted Plots](#facetPlots)\n",
    "    \n",
    "    \n",
    "## <a name=\"numericProcess\">Processing numeric data in Python</a>\n",
    "<a href = #intermediate style = \"color:purple\"> > Jump to Intermediate Section Content Table \\< </a>  \n",
    "In the previous section we learned how to use standard Python data structures. They are powerful and allow you to do a great deal, but are not sufficient for high performance scientific computation. Let's consider a common scenario:\n",
    "\n",
    "You have taken performed an experiment multiple times and stored the results in an array (in this case a list of lists), each inner list representing a separate attempt. You want to take the average of each attempt, and perhaps the average of the entire array.. A simple implementation might be as below.\n"
   ]
  },
  {
   "cell_type": "code",
   "execution_count": null,
   "metadata": {
    "scrolled": true
   },
   "outputs": [],
   "source": [
    "#The list representing experimental measurements.\n",
    "#4 runs were done, each with 5 data points.\n",
    "exp_data = [[5.63, 7.12, 5.0, 5.56, 6.11], [5.22, 6.51, 5.99, 4.73, 5.01]\n",
    "           ,[4.55, 6.4, 4.81, 2.67, 6.43], [5.22, 5.51, 4.78, 5.21, 1.6]]\n",
    "\n",
    "def average(exp_data):\n",
    "    #Initialize container structures\n",
    "    num_points = 0\n",
    "    averages = []\n",
    "    total_average = 0\n",
    "\n",
    "    #Find each run's average and compute the average of averages.\n",
    "    total_rolling_sum = 0\n",
    "    for run in exp_data:\n",
    "        run_rolling_sum = 0\n",
    "\n",
    "        for point in run:\n",
    "            num_points+=1\n",
    "            run_rolling_sum+=point\n",
    "\n",
    "        averages.append(run_rolling_sum/len(run))\n",
    "        total_rolling_sum += run_rolling_sum\n",
    "\n",
    "    total_average = total_rolling_sum/num_points\n",
    "    \n",
    "\n",
    "    print(\"The averages of each run: \", averages)\n",
    "    print(\"The total average: \",  total_average)\n",
    "    \n",
    "average(exp_data)"
   ]
  },
  {
   "cell_type": "markdown",
   "metadata": {},
   "source": [
    "This works fine for an array of 20 elements, but what if we were looping over 20 thousand elements? 200 thousand? The time to complete a full loop scales with the input data size Optimized inbuilt functions like statistics.mean will be faster but still fairly sluggish. Luckily for us there are external libraries to help. \n",
    "\n",
    "NumPy is the primary package used for numeric operations in Python. It provides a data class (np.array) and a large collection of accelerated operations on it. \n",
    "\n",
    "For reference, let's rewrite the above code using NumPy."
   ]
  },
  {
   "cell_type": "code",
   "execution_count": null,
   "metadata": {
    "scrolled": true
   },
   "outputs": [],
   "source": [
    "import numpy as np\n",
    "\n",
    "print(\"The average of each attempt: \", np.mean(exp_data, axis=1))\n",
    "print(\"The total average :\", np.mean(exp_data))\n",
    "      "
   ]
  },
  {
   "cell_type": "markdown",
   "metadata": {},
   "source": [
    "If you were to time the two different solutions on a sufficiently large array you would find that NumPy performs around an order of magnitude better. \n",
    "\n",
    "The lesson to take away is **DO NOT USE FOR LOOPS** unless you absolutely must. "
   ]
  },
  {
   "cell_type": "markdown",
   "metadata": {},
   "source": [
    "Before you start completing the exercises below, take a note of these resources -- they are very useful!\n",
    "\n",
    "* [NumPy user guide](https://docs.scipy.org/doc/numpy/user/index.html#user)\n",
    "* [NumPy API reference](https://docs.scipy.org/doc/numpy/reference/)\n",
    "* [Introduction to Matplotlib](https://jakevdp.github.io/PythonDataScienceHandbook/04.00-introduction-to-matplotlib.html)\n",
    "* [Matplotlib command summary](https://matplotlib.org/api/pyplot_summary.html)"
   ]
  },
  {
   "cell_type": "markdown",
   "metadata": {},
   "source": [
    "## <a name = \"numpyArrays\"> Manipulating NumPy arrays </a>\n",
    "<a href = #intermediate style = \"color:purple\"> > Jump to Intermediate Section Content Table \\< </a>   \n",
    "\n",
    "NumPy uses **NumPy arrays** as its base building block. All np.arrays are static, meaning their size cannot be changed after creation. Array dimensions are specified as int tuples (or a single int if you're creating a 1D vector). All numbers in the array must be **of the same type**.\n",
    "\n",
    "Arrays can be created in several ways: from a Python list (and nD arrays from nested lists), as a \"blank\" matrix of zeros or ones or random data, by copying existing arrays, loaded from disk or from certain special functions.\n",
    "\n",
    "**You can always make a copy of an array using np.array() on an existing array** (e.g. `x = np.array(y)` makes a new **copy** of y). `np.array()` will also convert any iterable object (lists, tuples) into an array if it can. Note that a few operations will *change arrays in place*, and most will *return new copies*.\n",
    "\n",
    "Some nomenclature to keep in mind:\n",
    "1D arrays are often called vectors.\n",
    "2D arrays are often called matrices.\n",
    "3 or higher dimensional arrays are often called tensors."
   ]
  },
  {
   "cell_type": "code",
   "execution_count": null,
   "metadata": {
    "scrolled": true
   },
   "outputs": [],
   "source": [
    "#A couple examples for making arays.\n",
    "zero_array = np.zeros((6,7))\n",
    "exp_array = np.array(exp_data)\n",
    "\n",
    "#Check out out how an array looks\n",
    "print(zero_array)\n",
    "\n",
    "#You can check the size and data type of an array by its attributes.\n",
    "print(zero_array.shape, zero_array.dtype)"
   ]
  },
  {
   "cell_type": "markdown",
   "metadata": {},
   "source": [
    "# <a name = \"createArrays\"> 1. Create some arrays </a>\n",
    "<a href = #intermediate style = \"color:purple\"> > Jump to Intermediate Section Content Table \\< </a>  \n",
    "\n",
    "Practice creating arrays. Use inbuilt NumPy functions to create the following:\n",
    "\n",
    "* A 4x4 matrix with every element being equal to pi.\n",
    "* A 1x2x5 tensor of all ones.\n",
    "* A 1D array with 10 elements, from 0-18 (inclusive), stepping by 2. \n",
    "* A 300 element long array filled with normally distributed random numbers.\n",
    "\n",
    "If you're not sure how to do it, check the documentation online. \n"
   ]
  },
  {
   "cell_type": "code",
   "execution_count": null,
   "metadata": {
    "scrolled": true
   },
   "outputs": [],
   "source": [
    "#YOUR CODE HERE"
   ]
  },
  {
   "cell_type": "markdown",
   "metadata": {},
   "source": [
    "# <a name=\"iands\"> 2. Indexing and slicing </a>\n",
    "<a href = #intermediate style = \"color:purple\"> > Jump to Intermediate Section Content Table \\< </a>  \n",
    "    \n",
    "Scientists at the Zoology Department, The University of Adelaide have studied the best conditions to keep snails alive. They have recorded a dataset of observations of snail mortality under controlled conditions. This data set is in the file `data/snails.txt`.\n",
    "\n",
    "#### An excerpt from the data set description\n",
    ">Groups of 20 snails were held for periods of 1, 2, 3 or 4 weeks in carefully\n",
    "controlled conditions of temperature and relative humidity. There were two\n",
    "species of snail, 0 and 1. At the end of the exposure time the snails\n",
    "were tested to see if they had survived. \n",
    "\n",
    ">The data are unusual in that in most cases fatalities during the experiment\n",
    "were fairly small. [lucky snails!]\n",
    "\n",
    "### The task\n",
    "The data is a 2D array, and has six columns, with these definitions:\n",
    "\n",
    "     species(binary) exposure(weeks) humidity(%) temperature(deg. C) n_deaths n_snails\n",
    "    \n",
    "Each row represents one set of observations (i.e. one group of snails). You are to compute some basic properties of this data. Use NumPy operations to do the computations."
   ]
  },
  {
   "cell_type": "markdown",
   "metadata": {},
   "source": [
    "A. **Loading arrays** \n",
    "* Load this data as a NumPy array called `snails`. Note: use np,loadtxt to do this.\n",
    "* Print it out. Use this format to print out the results:\n",
    "    \n",
    "      print(\"snails\\n\", snails)"
   ]
  },
  {
   "cell_type": "code",
   "execution_count": null,
   "metadata": {
    "scrolled": true
   },
   "outputs": [],
   "source": [
    "#YOUR CODE HERE"
   ]
  },
  {
   "cell_type": "markdown",
   "metadata": {},
   "source": [
    "B. **Indexing and slicing**\n",
    "\n",
    "A reminder: NumPy arrays support the same sort of slicing and indexing operations that Python lists do:\n",
    "\n",
    "* Use square brackets to indicate an index or a slice. \n",
    "* Indexing starts from 0 as elsewhere in Python.\n",
    "* Separate the indexes for different axes with commas. For example, array[\n",
    "\n",
    "Compute the following results using the above techniques, storing the results in the variable specified and printing them out. Use the same printing format as A.\n",
    "\n",
    "* `hum_last` the humidity in the last entry in the table.\n",
    "* `temp_last` the temperature in the first entry in the table. \n",
    "* `weeks` the whole column of \"weeks exposure\".\n",
    "* `row_third` the third row of observations. (remember 0 indexing)\n"
   ]
  },
  {
   "cell_type": "code",
   "execution_count": null,
   "metadata": {
    "scrolled": true
   },
   "outputs": [],
   "source": [
    "#YOUR CODE HERE"
   ]
  },
  {
   "cell_type": "markdown",
   "metadata": {},
   "source": [
    "C. **Aggregate functions** \n",
    "Compute the following results, storing the results in the variable specified and printing them out:\n",
    "\n",
    "* `total_deaths` total number of snails that died\n",
    "* `total_still_alive` total number of snails that survived the whole study\n",
    "* `mean_temp` mean temperature in the whole study\n",
    "* `max_humidity` highest humidity in the study\n",
    "* `average_death_rate` mean of the ratio of snail deaths to snails in the study\n",
    "* `snail_weeks` the total amount of snail effort that went into this study (number of snails times number of weeks)\n",
    "\n",
    "Check the documentation for appropriate functions. Each computation should be **a single line of code**."
   ]
  },
  {
   "cell_type": "code",
   "execution_count": null,
   "metadata": {
    "scrolled": false
   },
   "outputs": [],
   "source": [
    "#YOUR CODE HERE"
   ]
  },
  {
   "cell_type": "markdown",
   "metadata": {},
   "source": [
    "D. **Boolean indexing**\n",
    "In addition to normal list-style indexing, NumPy arrays support boolean indexing. Instead of using numbers, you can index using logical expressions. For example, `vector[x>5]` will pick out all the vector elements higher than 5. For further info consult the documentation.\n",
    "\n",
    "Compute the following results, storing the results in the variable specified and printing them out:\n",
    "\n",
    "* `species_0` and `species_1`: split the dataset into two arrays, one with the entries for species 0 and one with the entries for species 1.\n",
    "\n",
    "* `weakest_snail` the snail species (0 or 1) that had the highest average death rate"
   ]
  },
  {
   "cell_type": "code",
   "execution_count": null,
   "metadata": {
    "scrolled": true
   },
   "outputs": [],
   "source": [
    "#YOUR CODE HERE"
   ]
  },
  {
   "cell_type": "markdown",
   "metadata": {},
   "source": [
    "E. **Arithmetic and ordering**\n",
    "Compute the following results, storing the results in the variable specified and printing them out:\n",
    "\n",
    "* `deg_f` each temperature in the study, but in degrees Fahrenheit. Use the knowledge that `0C = 32F, 100C = 212F`\n",
    "* `mean_cols` the mean of all the columns, as a 1D vector\n",
    "* `death_rate` the death rates, in sorted order, smallest first\n",
    "* `exposure_death_order` the exposure durations (in weeks), but in sorted in the order of death rates, smallest death rate first.\n",
    "\n",
    "* `best_temp`, `best_hum` the best temperature and humidity to keep a snail for four weeks without it dying. *Look only at the four week exposures, ignoring snails kept for less than this time.* \n",
    "\n",
    "Hint: For exposure_death_order, look at np.argsort."
   ]
  },
  {
   "cell_type": "code",
   "execution_count": null,
   "metadata": {
    "scrolled": true
   },
   "outputs": [],
   "source": [
    "#YOUR CODE HERE"
   ]
  },
  {
   "cell_type": "markdown",
   "metadata": {},
   "source": [
    "# <a name=\"visualPlt\"> Visualizing data with Matplotlib </a>\n",
    "<a href = #intermediate style = \"color:purple\"> > Jump to Intermediate Section Content Table \\< </a>  \n",
    "\n",
    "Matplotlib is one of the main visualization packages you will be working with in Python. We will first go through a short tutorial to help you get used to the interface.\n",
    "\n",
    "In this example, the plotting commands are split up among notebook cells so that each step can be explained. In your code, just have all of the commands in one cell, to avoid having to scroll up and down as you make changes.\n",
    "\n",
    "## Some data\n",
    "This data is synthetic. It's a simple trigonometric function; the details don't particularly matter."
   ]
  },
  {
   "cell_type": "code",
   "execution_count": null,
   "metadata": {
    "scrolled": true
   },
   "outputs": [],
   "source": [
    "#Import Matplotlib\n",
    "# make the plots look good inline\n",
    "%matplotlib notebook\n",
    "# Set up Matplotlib\n",
    "import matplotlib as mpl   \n",
    "import matplotlib.pyplot as plt"
   ]
  },
  {
   "cell_type": "code",
   "execution_count": null,
   "metadata": {
    "scrolled": true
   },
   "outputs": [],
   "source": [
    "# a simple function, returns pulses with a shape determined by k\n",
    "def pulse(x, k):\n",
    "    return np.cos(x) * np.exp(np.cos(x) * k - k)\n",
    "\n",
    "## generate an x value to be transformed\n",
    "x = np.linspace(-3*np.pi, 3 * np.pi, 500)"
   ]
  },
  {
   "cell_type": "markdown",
   "metadata": {},
   "source": [
    "## <a name=\"figures\">Figures</a>\n",
    "To begin any plotting we must create a **figure**, which is a \"blank canvas\" onto which we can add visualisations. **Important: the visualisation will always appear in the output of whichever cell has the `plt.figure()` call.** As a consequence, all of the commands below will affect in the output of the cell below.\n",
    "\n",
    "When you go through the various steps below, scroll back up to this cell to see their effect. Note that usually all plotting commands go in *one* cell, so we don't end up scrolling about."
   ]
  },
  {
   "cell_type": "code",
   "execution_count": null,
   "metadata": {
    "scrolled": true
   },
   "outputs": [],
   "source": [
    "fig = plt.figure()  # create a new figure. It will be blank.\n",
    "\n",
    "## If you want a different size of figure, you can use:\n",
    "# fig = plt.figure(figsize=(3,3)) # quite small\n",
    "# the default size set here is good for this exercise"
   ]
  },
  {
   "cell_type": "markdown",
   "metadata": {},
   "source": [
    "## <a name = \"axes\"> Axes </a>\n",
    "<a href = #intermediate style = \"color:purple\"> > Jump to Intermediate Section Content Table \\< </a>  \n",
    "To draw anything, we must define **axes**. Each axes is a facet of a plot. It has a coordinate system which can be used to draw data. \n",
    "\n",
    "The call to create a new axis is formatted `fig.add_subplot(rows, columns, index)` which will create a subplot in a matrix of axes indexed by the index. The index increases column-wise, then row-wise, and starts from *1* (not 0!)\n",
    "\n",
    "For example, we could create a 3x2 array of plots, and select the middle-left plot\n",
    "using `plt.add_subplot(3, 2, 3)`\n",
    "\n",
    "        --------\n",
    "       | 1 | 2 |\n",
    "       | 3 | 4 |\n",
    "       | 5 | 6 |\n",
    "       ---------\n",
    "\n",
    "Most of the time, though, we just want one axes that fills the figure and `fig.add_subplot(1,1,1)` does that. The object it returns is what we use for all subsequent plotting."
   ]
  },
  {
   "cell_type": "code",
   "execution_count": null,
   "metadata": {
    "scrolled": true
   },
   "outputs": [],
   "source": [
    "ax = fig.add_subplot(1, 1, 1)  \n",
    "# create a new subplot, returning a set of axes\n",
    "# look above ^ ^ at the figure. You should see the axes appear"
   ]
  },
  {
   "cell_type": "markdown",
   "metadata": {},
   "source": [
    "We make a line plot of `x` against `f(x, k)` for a few fixed values of `k`.\n",
    "Each subsequent plot will be a new color, and all of the plots will be overlaid on the axes\n",
    "\n",
    "`ax.plot(x,y)` is the basic line plotting command. It is called on an axes object.\n",
    "\n",
    "Note that the `label=` gives a label that the `legend` command will use to label the graph afterwards. Always label plots if you want readers to be able to distinguish them."
   ]
  },
  {
   "cell_type": "code",
   "execution_count": null,
   "metadata": {
    "scrolled": true
   },
   "outputs": [],
   "source": [
    "ax.cla()  # cla means to CLear Axes. \n",
    "# it does nothing the first time we run it, but it will clear the plot and redraw if\n",
    "# you run this cell multiple times. Try commenting it out and running this cell twice!\n",
    "\n",
    "\n",
    "ax.plot(x, pulse(x,1), label='k=1')\n",
    "ax.plot(x, pulse(x, 5), label='k=5')\n",
    "ax.plot(x, pulse(x, 100), label='k=100')\n",
    "\n",
    "# you can adjust the styling of the plot manually: \n",
    "#   here the color is black (\"k\") \n",
    "#   and the linestyle is dotted (\":\")\n",
    "ax.plot(x, pulse(x, 500), label='k=500', color='C', linestyle=':')\n",
    "\n",
    "## note that there are several built-in colors called\n",
    "# C0, C1, C2, C3, C4, C5, and C6\n",
    "# they will generally look good\n",
    "# try changing the 'k' above to 'C6'"
   ]
  },
  {
   "cell_type": "markdown",
   "metadata": {},
   "source": [
    "Now we can add **labels** to the plot. There should always be a label for the x-axis, y-axis and a title for the axes. We should also have a **legend** if multiple layers are used. `ax.legend()` will draw one. It can be configured in many ways, but the defaults are fine here."
   ]
  },
  {
   "cell_type": "code",
   "execution_count": null,
   "metadata": {
    "scrolled": true
   },
   "outputs": [],
   "source": [
    "# label the plot \n",
    "ax.set_xlabel(\"Phase (radians)\")  # x-axis label\n",
    "ax.set_ylabel(\"Amplitude\")        # y-axis label\n",
    "ax.set_title(\"Pulse wave function for various $k$\")  # title of plot (appears above plot)\n",
    "\n",
    "# create a legend (key) for the plot, using the labels specified\n",
    "# in the ax.plot() calls, like ax.plot(x,y, label=\"xy\")\n",
    "ax.legend()"
   ]
  },
  {
   "cell_type": "markdown",
   "metadata": {},
   "source": [
    "By default, the scaling of the axis will be adjusted to fit the data. This isn't always a good idea, so you can adjust it manually. The axis limits are set by `ax.set_xlim(min,max)` and `ax.set_ylim(min,max)` and these adjust the scaling of the axes. This configures the **coords** used to draw data.\n",
    "\n",
    "You can try changing these to see different parts of the curve.\n",
    "\n",
    "**Note that you don't need to call the plot commands again when you update the axis limits.**"
   ]
  },
  {
   "cell_type": "markdown",
   "metadata": {},
   "source": [
    "### Tweaking\n",
    "\n",
    "We can tweak the plot in many ways. Try some of the below.\n"
   ]
  },
  {
   "cell_type": "code",
   "execution_count": null,
   "metadata": {
    "scrolled": true
   },
   "outputs": [],
   "source": [
    "## set the limits of the plot\n",
    "# (if this is omitted, sensible autoscaling will be applied)\n",
    "ax.set_xlim(np.min(x), np.max(x))\n",
    "ax.set_ylim(-0.25, 1.2)"
   ]
  },
  {
   "cell_type": "code",
   "execution_count": null,
   "metadata": {
    "scrolled": true
   },
   "outputs": [],
   "source": [
    "# grid \n",
    "ax.grid(True) # or False to turn it off"
   ]
  },
  {
   "cell_type": "code",
   "execution_count": null,
   "metadata": {
    "scrolled": true
   },
   "outputs": [],
   "source": [
    "# frame\n",
    "ax.set_frame_on(False) # or True to turn it back on"
   ]
  },
  {
   "cell_type": "code",
   "execution_count": null,
   "metadata": {
    "scrolled": true
   },
   "outputs": [],
   "source": [
    "ax.set_xticks([-10, -5, 0, 5, 10]) # Tick positions on the x axis\n",
    "ax.set_yticks([0,0.5,1.0]) # and on the y-axis"
   ]
  },
  {
   "cell_type": "code",
   "execution_count": null,
   "metadata": {
    "scrolled": true
   },
   "outputs": [],
   "source": [
    "# this is a fancier tick adjustment\n",
    "# Tick positions on the x axis\n",
    "ax.set_xticks([-2*np.pi, -np.pi, 0, np.pi, 2*np.pi]) \n",
    "\n",
    "# we can relabel the ticks using the same order. \n",
    "# LaTeX formulae work if inside $ symbols\n",
    "ax.set_xticklabels([\"$-2\\pi$\", \"$-\\pi$\", \"0\", \"$\\pi$\", \"$2\\pi$\"])"
   ]
  },
  {
   "cell_type": "markdown",
   "metadata": {},
   "source": [
    "The standard colours in matplotlib are shown below (you can also specify custom colours)"
   ]
  },
  {
   "cell_type": "code",
   "execution_count": null,
   "metadata": {
    "scrolled": true
   },
   "outputs": [],
   "source": [
    "## Standard colours\n",
    "fig = plt.figure(figsize=(10,2))\n",
    "ax = fig.add_subplot(1,1,1)\n",
    "fig.set_facecolor(\"#f0f0f0\")  # can always use Hex colors, or floating point arrays\n",
    "for i,col in enumerate([\"C0\", \"C1\", \"C2\", \"C3\", \"C4\", \"C5\", \"C6\", \"C7\", \n",
    "                        \"r\", \"g\", \"b\", \"c\", \"m\", \"y\", \"k\", \"w\"]):\n",
    "    \n",
    "    # plot, and add some simple text\n",
    "    ax.plot(i, 0.5, c=col, marker='s', markersize=20)\n",
    "    # alpha sets opacity of rendering\n",
    "    ax.text(i, 0.5+0.15, col, ha='center', color=col, alpha=0.5)\n",
    "    \n",
    "ax.set_ylim(0,1) # set axis limits    \n",
    "ax.axis(\"off\") # remove axis; there are no units to show"
   ]
  },
  {
   "cell_type": "markdown",
   "metadata": {},
   "source": [
    "# <a name = \"simplePlots\"> 1. Simple plots </a>\n",
    "<a href = #intermediate style = \"color:purple\"> > Jump to Intermediate Section Content Table \\< </a>  \n",
    "Let's try out Mastplotlib and take a look at some of the mathematical functions in NumPy.\n",
    "\n",
    "* Plot sine, cosine, and tangent functions for a chosen range of values.\n",
    "* Plot a normal distribution. Play around with the stdev parameter and see how it changes."
   ]
  },
  {
   "cell_type": "code",
   "execution_count": null,
   "metadata": {
    "scrolled": true
   },
   "outputs": [],
   "source": [
    "#YOUR CODE HERE"
   ]
  },
  {
   "cell_type": "markdown",
   "metadata": {},
   "source": [
    "For these exercises, you need to plot graphs showing the data which is provided to you. \n",
    "    \n",
    "* choose the right kind of plot (line, scatter, bar, histogram). There may be more than one right choice.\n",
    "* plot the data correctly\n",
    "* make sure all the details are sensible (axes, labelling, etc.)\n",
    "* **write a short caption for the data in the cell provided.**\n",
    "\n",
    "You will get the name of the file with the data, along with a comment that explains the format of the data. You can use `np.loadtxt()` to load the datasets."
   ]
  },
  {
   "cell_type": "markdown",
   "metadata": {},
   "source": [
    "A)\n",
    "* Data file: `data/cherry_trees.txt`\n",
    "* Description: Height and volume of black cherry trees  measured in an orchard.\n",
    "* Columns:\n",
    "  \n",
    "       Height (ft)  Volume (ft^3)\n",
    "\n",
    "Note: plot your graph in **metric units**. 1 ft = 0.3048m"
   ]
  },
  {
   "cell_type": "code",
   "execution_count": null,
   "metadata": {
    "scrolled": false
   },
   "outputs": [],
   "source": [
    "#YOUR CODE HERE"
   ]
  },
  {
   "cell_type": "markdown",
   "metadata": {},
   "source": [
    "B)\n",
    "* Data file: `data/air_passengers.txt`\n",
    "* Description: The number of international air passengers, each month, 1949 to 1960.\n",
    "* Columns:\n",
    "\n",
    "      year   passenger_count"
   ]
  },
  {
   "cell_type": "code",
   "execution_count": null,
   "metadata": {
    "scrolled": true
   },
   "outputs": [],
   "source": [
    "#YOUR CODE HERE"
   ]
  },
  {
   "cell_type": "markdown",
   "metadata": {},
   "source": [
    "C) \n",
    "* Data file: `data/rivers.txt`\n",
    "* Description: Length of major rivers in the United States (miles)\n",
    "* Columns:\n",
    "   \n",
    "       river_length"
   ]
  },
  {
   "cell_type": "code",
   "execution_count": null,
   "metadata": {
    "scrolled": true
   },
   "outputs": [],
   "source": [
    "#YOUR CODE HERE"
   ]
  },
  {
   "cell_type": "markdown",
   "metadata": {},
   "source": [
    "# <a name = \"facetPlots\">2. Layered and faceted plots </a>\n",
    "<a href = #intermediate style = \"color:purple\"> > Jump to Intermediate Section Content Table \\< </a>  \n",
    "\n",
    "A **layered** plot has more than one set of markers overlaid on the same coordinate system. A **faceted** plot uses multiple coordinate systems to show different views of the data.\n",
    "\n",
    "For the dataset, appropriately use layering, faceting and reduction operations to show the dataset. "
   ]
  },
  {
   "cell_type": "markdown",
   "metadata": {},
   "source": [
    "* Data file `data/cake.txt`\n",
    "* Description: \n",
    ">Data on the breakage angle of chocolate cakes made with three different\n",
    "recipes and baked at six different temperatures. The angle of breakage is affected by the recipe and temperature. The experiment was repeated 15 times (replicates).\n",
    "\n",
    "* Columns:\n",
    "\n",
    "        replicate(1-15)    recipe(0-2)    temp(deg F)    angle(deg)\n",
    "\n",
    "Use this model:\n",
    "* Facet `recipes`\n",
    "* Layer `replicates`\n",
    "\n",
    "* Colour each replicate identically, and use lowered opacity.\n",
    "\n",
    "* As well as the layered replicates, clearly show the mean and standard deviation of the breakage angle in each facet as a line and a ribbon.\n",
    "\n",
    "* Convert Fahrenheit to Celsius before plotting. \n",
    "\n",
    "* `plt.tight_layout()` will fix layout of facets. Set a super-title across all facets using `fig.suptitle()`. \n",
    "\n",
    "* You will need one or more `for` loops (probably) to solve this problem.\n",
    "* Use Boolean arrays to perform `group by` like operations."
   ]
  },
  {
   "cell_type": "code",
   "execution_count": null,
   "metadata": {
    "scrolled": true
   },
   "outputs": [],
   "source": [
    "#YOUR CODE HERE"
   ]
  },
  {
   "cell_type": "markdown",
   "metadata": {},
   "source": [
    "* Data file: `data/insects.txt`\n",
    "* Description: The counts of insects on each leaf of a plant in agricultural experimental units treated with different insecticides.\n",
    "* Columns:\n",
    "\n",
    "            insect_count spray_id (0-5)\n",
    "\n",
    "\n",
    "* Plot the data, on three separate figures, using:\n",
    "    * A simple bar chart of the mean insect counts (grouped by spray).\n",
    "    * A barchart showing the mean counts (grouped), and half a standard deviation above and below the mean. Find a way to show this interval (hint: look at the [`plt.bar` documentation](https://matplotlib.org/devdocs/api/_as_gen/matplotlib.pyplot.bar.html)). The standard deviation of an array can be computed by `np.std(x, axis)`, just like `np.mean()`.\n",
    "    * A Box plot of the insect counts.\n",
    "\n",
    "* Mark the ticks on the x axis using the names of the sprays.\n",
    "\n",
    "        0 = Insecticator\n",
    "        1 = Placebo\n",
    "        2 = BuzzNoMore\n",
    "        3 = Aprotex\n",
    "        4 = DieOff"
   ]
  },
  {
   "cell_type": "code",
   "execution_count": null,
   "metadata": {
    "scrolled": true
   },
   "outputs": [],
   "source": [
    "#YOUR CODE HERE"
   ]
  },
  {
   "cell_type": "markdown",
   "metadata": {},
   "source": [
    "# References \n",
    "\n",
    "Huge thanks to Dr John H. Williamson for allowing us to use his teaching materials in this workshop, including most of the practical examples."
   ]
  },
  {
   "cell_type": "markdown",
   "metadata": {},
   "source": [
    "# <a name=\"advanced\">C: Advanced </a>\n",
    "Return to: **[Contents](#content)**<br/>\n",
    "* [Fire Away](#fire)\n",
    "* [The Doppler Problem](#doppler)  \n",
    "* [Solving ODEs](#odes)\n",
    "    * [Van der Pol Equation](#pol)\n",
    "    * [Wag the dog](#wag)\n",
    "    * [The Chua Equation](#chua)\n",
    "\n",
    "\n",
    "In this section we will assume you know how to use both **MatPlotLib** and **Numpy** (see Intermediate section) as well as a good understanding of Python's features (see Beginner section). \n",
    "\n",
    "Some of these problems will be quite challenging, use a pen and paper if you'd like and discuss with friends. If stuck, talk to a tutor for hints or explanations. "
   ]
  },
  {
   "cell_type": "markdown",
   "metadata": {},
   "source": [
    "## <a name = \"fire\"> Fire Away </a>\n",
    "\n",
    "You are an artillery officer under Napoleon Bonaparte - emperor of the French. To coordinate his grand battery he wishes you to develop a technique for targeting the Anglo-Allied forces with great accuracy. Unbeknownst to your commander you are actually in possession of a Mystical Python, capable of solving any problem for you using numerical methods. Employ your knowledge of projectile motion and Python programming to plot cannnon-ball \n",
    "trajectories.\n",
    "\n",
    "<img src=\"https://upload.wikimedia.org/wikipedia/commons/thumb/c/c3/Bonaparte_re%C3%A7oit_les_prisonniers_sur_le_champ_de_bataille%2C_1797.jpg/1024px-Bonaparte_re%C3%A7oit_les_prisonniers_sur_le_champ_de_bataille%2C_1797.jpg\" width=600px>\n",
    "\n",
    "Much like the standardization of French guns, in this series of tasks you will slowly extend your initial solution to generalize it to more complicated situations. This 'snowflake' approach is common when dealing with unknown problems. After all, diving head first into the most complicated, but also most general, case is likely going to bog you down with debugging.\n",
    "\n",
    "#### Task 1: Parabolic Paths\n",
    "Given $v_0$, gravity $g$ and an initial angle $\\theta$. Write a function to plot the trajectory of a cannonball  as:\n",
    "1. A function of time\n",
    "2. A function of distance\n",
    "You can assume your cannon is located at the origin (0,0) in 2D space and that your target is located to the right (positive x-direction). Unfortunately, you cannot fire a cannonball back in time.\n",
    "\n",
    "**Hint**: Try to work this out analytically using pen-and-paper then translate your solution to a general function one!\n",
    "\n",
    "**Hint 2**: If you get stuck on the kinematics, check out the Wikipedia Page on [Projectile Motion](https://en.wikipedia.org/wiki/Projectile_motion)\n",
    "\n",
    "<img src=\"https://i.imgur.com/NZYmVlJ.png\" alt=\"Basic Canon Ball Trajectory\" style=\"width:50vw\">"
   ]
  },
  {
   "cell_type": "code",
   "execution_count": 2,
   "metadata": {
    "scrolled": true
   },
   "outputs": [],
   "source": [
    "import math\n",
    "import numpy as np\n",
    "import matplotlib.pyplot as plt\n",
    "\n",
    "def trajectory1(v0,g,theta):\n",
    "    # YOUR CODE GOES HERE\n",
    "    pass\n",
    "\n",
    "#Uncomment for example usage   \n",
    "#trajectory1(60.0,9.8,30.0)\n",
    "    "
   ]
  },
  {
   "cell_type": "markdown",
   "metadata": {},
   "source": [
    "#### Task 2: Height Offset\n",
    "Extend your previous projectile-plotters to account for:\n",
    "* An elevated starting position ($y_0$)\n",
    "\n",
    "<img src=\"https://i.imgur.com/GhV9tuX.png\" alt=\"Canon Ball Trajectory from height\" style=\"width:50vw\">"
   ]
  },
  {
   "cell_type": "code",
   "execution_count": 3,
   "metadata": {
    "scrolled": true
   },
   "outputs": [],
   "source": [
    "import math\n",
    "import numpy as np\n",
    "import matplotlib.pyplot as plt\n",
    "\n",
    "def trajectory2(v0,g,theta, y0, tTotal=None):\n",
    "    # YOUR CODE HERE\n",
    "    # HINT: Copy in your code from trajectory1 and tweak it!\n",
    "    pass\n",
    "    \n",
    "#Uncomment for example usage  \n",
    "trajectory2(60.0,9.8,30.0, 30.0)"
   ]
  },
  {
   "cell_type": "markdown",
   "metadata": {},
   "source": [
    "#### Task 3: Aiming Cannon\n",
    "Find what angle $\\theta$ is needed to hit a target at distance $x$ and height $y$, plot the resulting path.\n",
    "\n",
    "**Hint**: Try to tweak your previous projectile trajectory plotter to work with your calculated angle $\\theta$\n",
    "\n",
    "**Hint 2**: Be careful to make sure your new range in time and distance stops when you reach the target rather than the ground.\n",
    "\n",
    "<img src=\"https://i.imgur.com/l8Te5B1.png\" alt=\"Canon Ball Trajectory to specific target\" style=\"width:50vw\">"
   ]
  },
  {
   "cell_type": "code",
   "execution_count": 5,
   "metadata": {
    "scrolled": true
   },
   "outputs": [],
   "source": [
    "import math\n",
    "import numpy as np\n",
    "import matplotlib.pyplot as plt\n",
    "\n",
    "def find_angle(v0, x, y, g):\n",
    "    # YOUR CODE HERE\n",
    "    # Hint: Use your previous function to do the plotting!\n",
    "    pass\n",
    "\n",
    "# Uncomment for example use of function\n",
    "# print(\"Firing at {0:.2f} degrees\".format(find_angle(120, 1400, 50, 9.8)))\n",
    "    "
   ]
  },
  {
   "cell_type": "markdown",
   "metadata": {},
   "source": [
    "#### Task 4: Bring it all together\n",
    "Find what angle you must fire at from a starting position (x0,y0) to hit a target at (x,y) and plot the resulting trajectory.\n",
    "\n",
    "<img src=\"https://i.imgur.com/R6Yka1D.png\" alt=\"Canon Ball Trajectory to specific target\" style=\"width:50vw\">"
   ]
  },
  {
   "cell_type": "code",
   "execution_count": 6,
   "metadata": {
    "scrolled": true
   },
   "outputs": [],
   "source": [
    "import math\n",
    "import numpy as np\n",
    "import matplotlib.pyplot as plt\n",
    "\n",
    "\n",
    "def mobile_canon(v0, x, y, x0, y0, g):\n",
    "    # YOUR CODE HERE\n",
    "    pass\n",
    "\n",
    "# Uncomment for example use\n",
    "# print(\"Fire at angle {0:.2f} to hit target\".format(mobile_angle(120.0,1400.0, 200.0, 200.0, 60.0, 9.8)))"
   ]
  },
  {
   "cell_type": "markdown",
   "metadata": {},
   "source": [
    "## <a name = \"doppler\"> The Doppler Problem </a>\n",
    "When a source of sound is moving toward an observer, the frequency of that sound is higher, and when a source of sound is moving away from an observer its frequency is lower. This is quite a common experience, for instance you may notice it with a passing firetruck and its blaring sirens.\n",
    "\n",
    "To wrap your head around this, think of one of the knights who say \"Ni\" and have them be at rest emitting sound at a constant frequency and in all directions. The velocity of the resulting wave will only depend on the medium it is travelling in. If the knight starts running though, in front of the knight they will be 'catching up' to the wave crests and so an observer in front of the source will observe more wave crests passing per second (a higher frequency). Conversely, an observer behind the knight the spacing between wave crests is larger than normal and so the frequency is lower. (Drawings definitely help here)"
   ]
  },
  {
   "cell_type": "markdown",
   "metadata": {},
   "source": [
    "![Doppler Shift Image](https://flypaper.soundfly.com/wp-content/uploads/2018/01/doppler-effect-header.jpg)\n",
    "**Source**:_FlyPaper SoundFly_\n",
    "\n",
    "To begin, we'll need to know whether the observer and the source are moving away from each other or towards each other. You may want to draw out the different situations using pen and paper. For convenience, let's define this as a function which returns True if they are moving towards each other and False if not.\n",
    "\n",
    "We will call this function _movingTowards_ and a template is defined below"
   ]
  },
  {
   "cell_type": "code",
   "execution_count": null,
   "metadata": {
    "scrolled": true
   },
   "outputs": [],
   "source": [
    "def movingTowards(x_source, v_source,x_observer, v_observer):\n",
    "    # YOUR CODE HERE"
   ]
  },
  {
   "cell_type": "markdown",
   "metadata": {},
   "source": [
    "### Testing\n",
    "We have provided a suite of **tests** below to check your _movingTowards_ function returns the right output. Think carefully about how \n",
    "it evaluates each case."
   ]
  },
  {
   "cell_type": "code",
   "execution_count": null,
   "metadata": {
    "scrolled": true
   },
   "outputs": [],
   "source": [
    "#Tests\n",
    "print( movingTowards(0,0,10,-4) )#TRUE : Observer > Source and Source is static, observer moving left\n",
    "print( movingTowards(0,5,10,-4) )#TRUE : Observer > Source and Source is moving right, observer moving left\n",
    "print( movingTowards(0,5,10,0)  )#TRUE : Observer > Source and Source is moving right, observer is static\n",
    "print( movingTowards(10,-5,0,0) )#TRUE : Source > Observer and Source is moving left, observer is static\n",
    "print( movingTowards(10,0,0,5)  )#TRUE : Source > Observer and Source is static, observer is moving right\n",
    "print( movingTowards(10,-5,0,0) )#TRUE : Source > Observer and Source is moving left, observer is static\n",
    "print( movingTowards(0,-5,10,0) )#FALSE : Observer > Source and Source is moving left, observer is static\n",
    "print( movingTowards(0,0,10,5)  )#FALSE : Observer > Source and Source is static, observer is moving right\n",
    "print( movingTowards(0,-5,10,5) )#FALSE : Observer > Source and Source is moving left, observer is moving right\n",
    "print( movingTowards(0,50,10,5) )#TRUE : Observer > Source and Source is moving right faster than observer"
   ]
  },
  {
   "cell_type": "markdown",
   "metadata": {},
   "source": [
    "## Observed Frequency\n",
    "Now let's do some Physicsing!  \n",
    "\n",
    "**Pen and Paper**\n",
    "Try to derive an equation for the frequency observed by the observer for the two sitations. One where the two entities are moving towards each other and one where they are moving away from each other. Once you have this, translate it to a beautiful function :3 \n",
    "(**Hint**: Start by thinking about the wavelength resulting from the change in spacing between the crests)\n",
    "\n",
    "Use the _movingTowards_ function you defined previously to check if they are moving towards or away from each other, this is the handiness of FUNCTIONAL programming :D . By following a functional programming mentality, you split up problems into parts and avoid a lot of repetition in your code.\n"
   ]
  },
  {
   "cell_type": "code",
   "execution_count": null,
   "metadata": {
    "scrolled": true
   },
   "outputs": [],
   "source": [
    "def getObservedFrequency(x_source,v_source,fSource,x_observer,v_observer,v_wave):\n",
    "    #Your code here"
   ]
  },
  {
   "cell_type": "markdown",
   "metadata": {},
   "source": [
    "### Testing\n",
    "Run this suite of tests to check if your _getObservedFrequency_ function is returning the right output!"
   ]
  },
  {
   "cell_type": "code",
   "execution_count": null,
   "metadata": {
    "scrolled": true
   },
   "outputs": [],
   "source": [
    "#Source starts at 0m and moving 10m/s right, \n",
    "#Observer at 100m and stationary\n",
    "#Wave travels at 30m/s and has a frequency of 500Hz\n",
    "print ( \"%.2f Hz\" % getObservedFrequency(0,10,500,100,0,30) ) #Should return a Higher Frequency\n",
    "\n",
    "#Source starts at 0m and moving 15m/s right, \n",
    "#Observer at 20m and moving 5m/s right,\n",
    "#Wave travels at 30m/s and has a frequency of 200Hz\n",
    "print ( \"%.2f Hz\" % getObservedFrequency(0,15,200,20,5,60) )#Should return a Higher Frequency\n",
    "\n",
    "#Source starts at 0m and moving 5m/s left, \n",
    "#Observer at 10m and moving 10m/s right,\n",
    "#Wave travels at 60m/s and has a frequency of 300Hz\n",
    "print ( \"%.2f Hz\" % getObservedFrequency(0,-5,300,10,10,30) ) #Should return a Lower Frequency\n",
    "\n",
    "\n",
    "#Source starts at 20m and moving 5m/s right, \n",
    "#Observer at 0 and moving 5m/s left,\n",
    "#Wave travels at 60m/s and has a frequency of 300Hz\n",
    "print ( \"%.2f Hz\" % getObservedFrequency(20,5,300,0,-5,30) )#Should return the SAME frequency\n",
    "\n",
    "# What if the wave velocity is equal to the source velocity? \n",
    "print ( getObservedFrequency(20,30,300,0,-5,30) ) # Should return an error, did you handle this?"
   ]
  },
  {
   "cell_type": "markdown",
   "metadata": {},
   "source": [
    "## Visualising the Doppler Effect\n",
    "You are given a source and an observer. The source has a certain starting position __x_source__ (along the x-axis) as well as a velocity __v_source__( + is to the right, - is to the left). The source is constantly emitting a sinusoidal signal at frequency __fSource__ which, given a certain medium, travels at __v_wave__. Similarly the observer has a starting position __x_observer__ and a velocity __v_observer__. These are values are passed as arguments to a function as: \n",
    "    \n",
    "    def doppler(x_source,v_source,fSource,x_observer,v_observer,duration,v_wave):\n",
    "        #Your code here\n",
    "\n",
    "\\[ Note that passsing this many arguments to a function is bad practise. The best way around this is to treat the source and the observer as objects with associated parameters, but this is way outside of the scope of this workshop (lookup Object-Oriented Programming :o , more info in Resources Section)\\]\n",
    "\n",
    "Using this information draw a plot that shows how the wave crests propagate from the source over time. For convenience, you can assume intervals of 1 second. \n",
    "\n",
    "For bonus points, this plot should also include:\n",
    "1. Markers for the observer and source\n",
    "2. A label with the source frequency and observed frequency (obtained using your handy little function from earlier) \n",
    "3. Automatic rescaling of the axes depending on the input parameters (will require some thought, at first you could just set it manually)\n",
    "\n"
   ]
  },
  {
   "cell_type": "code",
   "execution_count": null,
   "metadata": {
    "scrolled": true
   },
   "outputs": [],
   "source": [
    "import matplotlib.pyplot as plt\n",
    "\n",
    "def doppler(x_source,v_source,fSource,x_observer,v_observer,duration,v_wave):\n",
    "    #Your code here\n",
    "    \n"
   ]
  },
  {
   "cell_type": "markdown",
   "metadata": {},
   "source": [
    "### Testing\n",
    "The next few cells include some (sensible) examples you might pass into the above function. Use them to test your visualisation."
   ]
  },
  {
   "cell_type": "code",
   "execution_count": null,
   "metadata": {
    "scrolled": true
   },
   "outputs": [],
   "source": [
    "# Source starting at x=0 moving at 100m/s to the right \n",
    "# The source is emitting a sound at a frequency of 5000Hz\n",
    "# The observer is 1000m away and is stationary (v_observer=0m/s)\n",
    "# We want the waves to reach the observer, so 50 seconds is a good duration\n",
    "# Sound travels at about 340m/s in air\n",
    "doppler(0,100,5000,1000,0,50,340) "
   ]
  },
  {
   "cell_type": "code",
   "execution_count": null,
   "metadata": {
    "scrolled": true
   },
   "outputs": [],
   "source": [
    "# Source starting at x=0 moving at 50m/s to the left\n",
    "# The source is emitting a sound at a frequency of 2500Hz\n",
    "# The observer is 1000m away and is stationary (v_observer=0m/s)\n",
    "# We want the waves to reach the observer, so 25 seconds is a good duration\n",
    "# Sound travels at about 340m/s in air\n",
    "doppler(0,-50,2500,1000,0,25,340)"
   ]
  },
  {
   "cell_type": "code",
   "execution_count": null,
   "metadata": {
    "scrolled": true
   },
   "outputs": [],
   "source": [
    "# Source starting at x=0 moving at 50m/s to the left\n",
    "# The source is emitting a sound at a frequency of 2500Hz\n",
    "# The observer is 1000m away and is stationary (v_observer=0m/s)\n",
    "# We want the waves to reach the observer, so 25 seconds is a good duration\n",
    "# Sound travels at about 340m/s in air\n",
    "doppler(0,-50,2500,1000,0,25,340)"
   ]
  },
  {
   "cell_type": "markdown",
   "metadata": {},
   "source": [
    "# <a name = \"odes\"> Solving ODEs with numpy and scipy </a>\n",
    "<a href = #advanced style = \"color:purple\"> > Jump to Advanced Section Content Table \\< </a>  \n",
    "Many differential equations encountered in Physics are not analytically solvable and hence numerical methods must be employed to obtain solutions. The Scipy library has many integration functions which are designed for solving ODE's.\n",
    "\n",
    "## Using odeint\n",
    "Suppose we have the differential equation:  \n",
    "$\\frac{dy}{dt} = y^2 + t^2 $ where $y$ is some function of $t$.With the initial condition $y(0) = 1$.  \n",
    "\n",
    "We can solve this ode by using the following code:\n",
    "    \n",
    "    import scipy.integrate\n",
    "    import numpy as np\n",
    "    \n",
    "    #Takes as input y and t and returns the derivate dy/dt for those values\n",
    "    def diffeq(y,t):\n",
    "        x1 = y\n",
    "        dydt = [x1**2+t**2]\n",
    "        return dydt\n",
    "        \n",
    "    dt,tmin,tmax = 0.1,0,200\n",
    "    step = int((tmax-tmin)/dt)\n",
    "    t = np.linspace(tmin,tmax,step) #Start, Finish, No. of Steps\n",
    "    y0 = 1\n",
    "    sol = integrate.odeint(diffeq,y0,t) # diffeq : Model [returns derivs at requests y and t values], \n",
    "                                        # y0 : Initial Condition, t: Times to solve at\n",
    "    \n",
    "We need to define the function diffeq because we need to tell odeint what our differential equation we want to solve is. We also need to specify over what time interval we want the solution and the initial condition for our problem. To do this we pick a max and min time as well as the time step dt. Finally, sol will be a list of the same size as t which will contain the desired solution. Note that dydt in the diffeq funciton is in the format of a list, so one can use it to solve a system of ODEs by specifying x1,x2 and so on.  \n",
    "\n",
    "Example: say you wanted to solve:\n",
    "$\\frac{dy}{dt} = z+ zy ; \\frac{dz}{dt} = sin(z)*y$\n",
    "\n",
    "Then your diffeq function should look like:\n",
    "\n",
    "    def diffeq(y,t):\n",
    "    x1,x2 = y\n",
    "    dydt =[x2+x2*x1,np.sin(x2)*x1]\n",
    "    return dydt\n",
    "    "
   ]
  },
  {
   "cell_type": "markdown",
   "metadata": {},
   "source": [
    "## <a name=\"pol\">Exercise 1 Van der Pol Oscillator</a>\n",
    "<a href = #advanced style = \"color:purple\"> > Jump to Advanced Section Content Table \\< </a>  \n",
    "The Van der Pol equation describes certain non-linear oscillations in an electronic circuit known as \"relaxation-oscillations\".\n",
    "It obeys the following differential equation:\n",
    "$$\n",
    "\\frac{d^2y}{dt^2}-\\mu(1-y^2)\\frac{dy}{dt}+y=0\\, \\text{where} \\,\\mu\\, \\text{is some constant}.\n",
    "$$\n",
    "\n",
    "1) To start off, set $\\mu = 1$ and solve the Van der Pol equation. Make a plot of $y$ vs $t$ as well as $y$ vs $\\frac{dy}{dt}$  (Hint: how can you transform a second order ODE into two first order ODEs ?)"
   ]
  },
  {
   "cell_type": "code",
   "execution_count": null,
   "metadata": {
    "scrolled": true
   },
   "outputs": [],
   "source": [
    "import scipy.integrate as integrate\n",
    "import numpy as np\n",
    "import matplotlib.pyplot as plt\n",
    "\n",
    "#Your Code Here\n"
   ]
  },
  {
   "cell_type": "markdown",
   "metadata": {},
   "source": [
    "2) Solve the equation for a range of values $ 0 < \\mu < 4$ (pick an appropriate step size) and show each $y$ vs $\\frac{dy}{dt}$ plot on the same figure."
   ]
  },
  {
   "cell_type": "code",
   "execution_count": null,
   "metadata": {
    "scrolled": true
   },
   "outputs": [],
   "source": [
    "import scipy.integrate as integrate\n",
    "import numpy as np\n",
    "import matplotlib.pyplot as plt\n",
    "\n",
    "# Your Code Here"
   ]
  },
  {
   "cell_type": "markdown",
   "metadata": {},
   "source": [
    "## <a name = \"wag\"> Exercise 2 Wag the Dog </a>\n",
    "<a href = #advanced style = \"color:purple\"> > Jump to Advanced Section Content Table \\< </a>  \n",
    "In this exercise we explore a way to find the allowed energy values of a quantum mechanical operator.\n",
    "Consider the quantum mechanical harmonic oscillator it satisfies the time-independent Schrodinger equation:  \n",
    "$$\n",
    "-\\frac{\\hbar^2}{2m} \\frac{d^2\\psi}{dx^2} + \\frac{1}{2} m \\omega^2 x^2 \\psi = E \\psi.\n",
    "$$\n",
    "Introduce a variable change $\\zeta = \\sqrt{\\frac{m \\omega}{\\hbar}}x$, the equation then becomes:\n",
    "$$\n",
    "\\frac{d^2\\psi}{d\\zeta^2} = (\\zeta^2-K)\\psi \\, \\text{, where K is related to the energy by}\\, K =\\frac{2E}{\\hbar \\omega}.\n",
    "$$\n",
    "\n",
    "Hence if we find K we have found the energy of the system. We know that physically sensible solutions to this equation must be normalizable and hence cannot be unbounded as $\\zeta$ gets large. Therefore, if we guess a value of $K$, say $K_0$ and get a function going off to $+\\infty$ this cannot be the value of K. We guess again and pick another value $K_1$ until the function \"flips over\" and now goes off to $-\\infty$ instead. Therefore $K$ is somewhere in between $K_1$ and $K_0$. This process can be repeated to get closer and closer to the actual value of K.\n",
    "\n",
    "1. Use this method to obtain the energy of the ground state of the quantum harmonic oscillator (set $\\psi(0) = 1 , \\frac{d\\psi}{d\\zeta}(0) = 0$)."
   ]
  },
  {
   "cell_type": "code",
   "execution_count": null,
   "metadata": {
    "scrolled": true
   },
   "outputs": [],
   "source": [
    "# Your code for part 1 here\n"
   ]
  },
  {
   "cell_type": "markdown",
   "metadata": {},
   "source": [
    "2. Find the energy of the first excited state using this method (set $\\psi(0) = 0$ and $\\frac{d\\psi}{d\\zeta}(0) = 1$)."
   ]
  },
  {
   "cell_type": "code",
   "execution_count": null,
   "metadata": {
    "scrolled": true
   },
   "outputs": [],
   "source": [
    "# Your code for part 2 here"
   ]
  },
  {
   "cell_type": "markdown",
   "metadata": {},
   "source": [
    "3. Find the energy of the second excited state of the quantum harmonic oscillator (set $\\psi(0) = 1 , \\frac{d\\psi}{d\\zeta}(0) = 0$).\n"
   ]
  },
  {
   "cell_type": "code",
   "execution_count": null,
   "metadata": {
    "scrolled": true
   },
   "outputs": [],
   "source": [
    "# Your code for part 3 here"
   ]
  },
  {
   "cell_type": "markdown",
   "metadata": {},
   "source": [
    "For all of these consider $-5 \\leq \\zeta \\leq 5$\n",
    "\n",
    "4. Find the ground state energy for this potential to 4 decimal places:\n",
    "$$\n",
    "\\frac{d^2\\psi}{d\\zeta^2} = (-\\frac{2}{(1+\\zeta^2)^\\frac{1}{2}}+K)\\psi.\n",
    "$$\n",
    "Consider $-10 \\leq \\zeta \\leq 10$ and set $\\psi(0) = 1 , \\frac{d\\psi}{d\\zeta}(0) = 0$."
   ]
  },
  {
   "cell_type": "code",
   "execution_count": null,
   "metadata": {
    "scrolled": true
   },
   "outputs": [],
   "source": [
    "import numpy as np\n",
    "import matplotlib.pyplot as plt\n",
    "import scipy.integrate as integ\n",
    "\n",
    "# Your code for part 4 here"
   ]
  },
  {
   "cell_type": "markdown",
   "metadata": {},
   "source": [
    "## <a name = \"chua\"> Exercise 3 The Chua equations </a>\n",
    "<a href = #advanced style = \"color:purple\"> > Jump to Advanced Section Content Table \\< </a>  \n",
    "\n",
    "The Chua circuit is the simplest possible circuit that behaves chaotically, as in it has non-periodic, deterministic behaviour that is very dependent on initial conditions. It satisfies the following ODEs:\n",
    "$$\n",
    "\\frac{dx}{dt} = \\alpha(y-x-\\phi(x))\n",
    "$$\n",
    "$$\n",
    "\\frac{dy}{dt} = x-y+z \n",
    "$$\n",
    "$$\n",
    "\\frac{dz}{dt} = -\\beta y \n",
    "$$\n",
    "\n",
    "Where:  \n",
    " $\\phi(x) = m_1 x +m_0-m_1$ if  $x>1$\n",
    " \n",
    " $\\quad \\, \\, \\quad m_0x $ if  $-1 \\leq\\ x \\leq 1 $\n",
    " \n",
    " $\\quad \\, \\, \\quad m_1x-m_0+m_1 $ if  $x < -1 $\n",
    " \n",
    " and $\\alpha$, $\\beta$, $m_0$, $m_1$ are constants.\n",
    " \n",
    " 1. Solve the Chua equations for $\\alpha = 10$, $\\beta = 16 $, $m_1=-\\frac{5}{7}$, $m_0 = -\\frac{8}{7}$ with initial condition $\\vec{y_0}(0) = (-0.1,0.5,0.5)$. Plot $y$ vs $x$, $z$ vs $y$ and $z$ vs $x$."
   ]
  },
  {
   "cell_type": "code",
   "execution_count": null,
   "metadata": {
    "scrolled": true
   },
   "outputs": [],
   "source": [
    "# Your code for part 1 here"
   ]
  },
  {
   "cell_type": "markdown",
   "metadata": {},
   "source": [
    "2. Repeat part 1 but change the values of $\\alpha$ to 5,8,9,12."
   ]
  },
  {
   "cell_type": "code",
   "execution_count": null,
   "metadata": {
    "scrolled": true
   },
   "outputs": [],
   "source": [
    "# Your code for part 2 here"
   ]
  },
  {
   "cell_type": "markdown",
   "metadata": {},
   "source": [
    "To explore the notion of chaos we define a distance between two trajectories.\n",
    "If $\\vec{y_1(t)}$ and $\\vec{y_2(t)}$ are two solutions to the Chua system, then we can define a distance between them as follows:\n",
    "$$\n",
    "d(\\vec{y_1},\\vec{y_2})=\\int_{t_0}^{t_f} | \\vec{y_1}(t)-\\vec{y_2}(t)| dt\n",
    "$$"
   ]
  },
  {
   "cell_type": "markdown",
   "metadata": {},
   "source": [
    "We can use the scipy.integrate function romb to calculate a definite integral from samples of a function:\n",
    "    import scipy.integrate as integrate\n",
    "    integrate.romb(y,dx=dt)\n",
    "Where y is the list containing the values of our function and we set dt to be the same as the time step in this list.\n",
    "\n",
    "3. Perturb the initial conditions by some small number $\\epsilon$ for $\\alpha = 10$ plot the function $| \\vec{y_0}(t)-\\vec{y_\\epsilon}(t)|$ and calculate the distance between them. Repeat this exercise for $\\alpha = 5,8,9$ and explain the differences that you see.  \n",
    "\n",
    "**Note**: romb requires that the list containing  the function being integrated has length $2^k + 1$   for some integer $k$ so you may need to change the structure of your list containing the time values."
   ]
  },
  {
   "cell_type": "code",
   "execution_count": null,
   "metadata": {
    "scrolled": true
   },
   "outputs": [],
   "source": [
    "import numpy as np\n",
    "import matplotlib.pyplot as plt\n",
    "import scipy.integrate as integ\n",
    "\n",
    "# Your code for part 3 here"
   ]
  },
  {
   "cell_type": "markdown",
   "metadata": {},
   "source": [
    "# That's All Folks "
   ]
  },
  {
   "cell_type": "markdown",
   "metadata": {},
   "source": [
    "## Resources\n",
    "[How to Think like a Computer Scientist](http://interactivepython.org/courselib/static/thinkcspy/index.html) - Excellent and free online textbook for learning Python  \n",
    "[Github Student Pack](https://education.github.com/pack) - Super nifty collection of free resources you can use as a student, including a [GitHub account](https://eu.udacity.com/course/how-to-use-git-and-github--ud775) with private repositories. Github can be used to manage your coding projects!"
   ]
  }
 ],
 "metadata": {
  "kernelspec": {
   "display_name": "Python 3",
   "language": "python",
   "name": "python3"
  },
  "language_info": {
   "codemirror_mode": {
    "name": "ipython",
    "version": 3
   },
   "file_extension": ".py",
   "mimetype": "text/x-python",
   "name": "python",
   "nbconvert_exporter": "python",
   "pygments_lexer": "ipython3",
   "version": "3.8.1"
  }
 },
 "nbformat": 4,
 "nbformat_minor": 2
}
