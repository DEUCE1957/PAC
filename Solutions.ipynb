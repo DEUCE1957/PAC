{
 "cells": [
  {
   "cell_type": "markdown",
   "metadata": {},
   "source": [
    "# <a name = \"intermediate\">Intermediate</a>\n"
   ]
  },
  {
   "cell_type": "markdown",
   "metadata": {},
   "source": [
    "# <a name = \"createArrays\"> 1. Create some arrays </a>\n",
    "\n",
    "Practice creating arrays. Use inbuilt NumPy functions to create the following:\n",
    "\n",
    "* A 4x4 matrix with every element being equal to pi.\n",
    "* A 1x2x5 tensor of all ones.\n",
    "* A 1D array with 10 elements, from 0-18 (inclusive), stepping by 2. \n",
    "* A 300 element long array filled with normally distributed random numbers.\n",
    "\n",
    "If you're not sure how to do it, check the documentation online. \n"
   ]
  },
  {
   "cell_type": "code",
   "execution_count": 2,
   "metadata": {},
   "outputs": [
    {
     "name": "stdout",
     "output_type": "stream",
     "text": [
      "4x4 matrix with every element equal to pi:\n",
      "[[3.14159265 3.14159265 3.14159265 3.14159265]\n",
      " [3.14159265 3.14159265 3.14159265 3.14159265]\n",
      " [3.14159265 3.14159265 3.14159265 3.14159265]\n",
      " [3.14159265 3.14159265 3.14159265 3.14159265]]\n"
     ]
    }
   ],
   "source": [
    "import numpy as np\n",
    "\n",
    "pies = np.full((4,4),np.pi)\n",
    "print(\"4x4 matrix with every element equal to pi:\\n{}\".format(pies))"
   ]
  },
  {
   "cell_type": "markdown",
   "metadata": {},
   "source": [
    "**Explanation**\n",
    "\n",
    "np.full creates an array filled with a specific value\n",
    "\n",
    "It accepts a shape, which is expressed as a N-dimensional tuple e.g. (3,4) is a 3x4 matrix\n",
    "\n",
    "It also accepts a value to fill the array with, e.g. np.pi for pi\n",
    "\n",
    "Finally, it returns an array of the specified shape and filled with the specified value"
   ]
  },
  {
   "cell_type": "code",
   "execution_count": 3,
   "metadata": {},
   "outputs": [
    {
     "name": "stdout",
     "output_type": "stream",
     "text": [
      "1x2x5 tensor of all ones:\n",
      "[[[1. 1. 1. 1. 1.]\n",
      "  [1. 1. 1. 1. 1.]]]\n"
     ]
    }
   ],
   "source": [
    "one_tensor = np.ones((1,2,5))\n",
    "print(\"1x2x5 tensor of all ones:\\n{}\".format(one_tensor))"
   ]
  },
  {
   "cell_type": "markdown",
   "metadata": {},
   "source": [
    "**Explanation**\n",
    "\n",
    "np.ones is a specialized version of np.full which creates an array of any shape and fills it with ones."
   ]
  },
  {
   "cell_type": "code",
   "execution_count": 4,
   "metadata": {},
   "outputs": [
    {
     "name": "stdout",
     "output_type": "stream",
     "text": [
      "1D array with 10 elements, from 0-18, stepping by 2:\n",
      "[ 0  2  4  6  8 10 12 14 16 18]\n"
     ]
    }
   ],
   "source": [
    "two_step_array = np.arange(0,19,2)\n",
    "print(\"1D array with 10 elements, from 0-18, stepping by 2:\\n{}\".format(two_step_array))"
   ]
  },
  {
   "cell_type": "markdown",
   "metadata": {},
   "source": [
    "**Explanation**\n",
    "\n",
    "np.arange accepts a START (default 0), END (mandatory, not inclusive) and STEP (default 1). In that order.\n",
    "\n",
    "It returns a 1D array starting at START and incrementing by STEP (can be negative to decrement) until \n",
    "END is reached\n"
   ]
  },
  {
   "cell_type": "code",
   "execution_count": 5,
   "metadata": {},
   "outputs": [
    {
     "name": "stdout",
     "output_type": "stream",
     "text": [
      "300 element long array filled with normally distributed random numbers:\n",
      "[-0.04813522 -1.23089871  0.85344201 -0.13762158  1.11450143]...[-1.33677278 -1.30977604 -1.92961916 -0.30244851  2.14485348]\n"
     ]
    }
   ],
   "source": [
    "three_hundred_array = np.random.normal(loc=0.0,scale=1.0,size=300)\n",
    "print(\"300 element long array filled with normally distributed random numbers:\\n{}...{}\".format(\n",
    "    three_hundred_array[0:5],three_hundred_array[-5:]))"
   ]
  },
  {
   "cell_type": "markdown",
   "metadata": {},
   "source": [
    "**Explanation:**\n",
    "\n",
    "Normally distributed values, when you sample infinitely many of them, form a perfect bell curve with\n",
    "standard deviation (scale) = 1.0 and centred at the mean (loc = 0.0). \n",
    "\n",
    "Using the np.random.normal function will randomly sample this normal distribution, if we do this enough times\n",
    "and plot the number of occurences of each value a bell curve shape should emerge. \n",
    "\n",
    "Below we attempt to illustrate this:"
   ]
  },
  {
   "cell_type": "code",
   "execution_count": 6,
   "metadata": {
    "scrolled": true
   },
   "outputs": [
    {
     "data": {
      "image/png": "[encoded data removed]",
      "text/plain": [
       "<Figure size 432x288 with 1 Axes>"
      ]
     },
     "metadata": {
      "needs_background": "light"
     },
     "output_type": "display_data"
    }
   ],
   "source": [
    "import matplotlib.pyplot as plt\n",
    "import scipy.stats as stats\n",
    "fig = plt.figure()\n",
    "x = np.linspace(min(three_hundred_array),max(three_hundred_array),1000)\n",
    "plt.title(\"Visualised: Randomly sampled normal distribution\")\n",
    "plt.hist(three_hundred_array,bins=30, density=True, label=\"300 rand values\")\n",
    "plt.plot(x,stats.norm.pdf(x,0.0,1.0),color='red', label='Bell curve')\n",
    "\n",
    "plt.xlabel('Location')\n",
    "plt.ylabel('Normalized Frequency')\n",
    "plt.legend(loc='upper right')\n",
    "\n",
    "plt.show()"
   ]
  },
  {
   "cell_type": "markdown",
   "metadata": {},
   "source": [
    "# <a name=\"iands\"> 2. Indexing and slicing </a>\n",
    "<a href = #intermediate style = \"color:purple\"> > Jump to Intermediate Section Content Table \\< </a>  \n",
    "    \n",
    "Scientists at the Zoology Department, The University of Adelaide have studied the best conditions to keep snails alive. They have recorded a dataset of observations of snail mortality under controlled conditions. This data set is in the file `data/snails.txt`.\n",
    "\n",
    "#### An excerpt from the data set description\n",
    ">Groups of 20 snails were held for periods of 1, 2, 3 or 4 weeks in carefully\n",
    "controlled conditions of temperature and relative humidity. There were two\n",
    "species of snail, 0 and 1. At the end of the exposure time the snails\n",
    "were tested to see if they had survived. \n",
    "\n",
    ">The data are unusual in that in most cases fatalities during the experiment\n",
    "were fairly small. [lucky snails!]\n",
    "\n",
    "### The task\n",
    "The data is a 2D array, and has six columns, with these definitions:\n",
    "\n",
    "     species(binary) exposure(weeks) humidity(%) temperature(deg. C) n_deaths n_snails\n",
    "    \n",
    "Each row represents one set of observations (i.e. one group of snails). You are to compute some basic properties of this data. Use NumPy operations to do the computations."
   ]
  },
  {
   "cell_type": "markdown",
   "metadata": {},
   "source": [
    "A. **Loading arrays** \n",
    "* Load this data as a NumPy array called `snails`. Note: use np,loadtxt to do this.\n",
    "* Print it out. Use this format to print out the results:\n",
    "    \n",
    "      print(\"snails\\n\", snails)"
   ]
  },
  {
   "cell_type": "code",
   "execution_count": 8,
   "metadata": {},
   "outputs": [
    {
     "ename": "OSError",
     "evalue": "data/snails.txt not found.",
     "output_type": "error",
     "traceback": [
      "\u001b[0;31m---------------------------------------------------------------------------\u001b[0m",
      "\u001b[0;31mOSError\u001b[0m                                   Traceback (most recent call last)",
      "\u001b[0;32m<ipython-input-8-693a4b4459fd>\u001b[0m in \u001b[0;36m<module>\u001b[0;34m\u001b[0m\n\u001b[0;32m----> 1\u001b[0;31m \u001b[0msnails\u001b[0m \u001b[0;34m=\u001b[0m  \u001b[0mnp\u001b[0m\u001b[0;34m.\u001b[0m\u001b[0mloadtxt\u001b[0m\u001b[0;34m(\u001b[0m\u001b[0;34m\"data/snails.txt\"\u001b[0m\u001b[0;34m)\u001b[0m\u001b[0;34m\u001b[0m\u001b[0;34m\u001b[0m\u001b[0m\n\u001b[0m",
      "\u001b[0;32m/usr/lib/python3.8/site-packages/numpy/lib/npyio.py\u001b[0m in \u001b[0;36mloadtxt\u001b[0;34m(fname, dtype, comments, delimiter, converters, skiprows, usecols, unpack, ndmin, encoding, max_rows)\u001b[0m\n\u001b[1;32m    979\u001b[0m             \u001b[0mfname\u001b[0m \u001b[0;34m=\u001b[0m \u001b[0mos_fspath\u001b[0m\u001b[0;34m(\u001b[0m\u001b[0mfname\u001b[0m\u001b[0;34m)\u001b[0m\u001b[0;34m\u001b[0m\u001b[0;34m\u001b[0m\u001b[0m\n\u001b[1;32m    980\u001b[0m         \u001b[0;32mif\u001b[0m \u001b[0m_is_string_like\u001b[0m\u001b[0;34m(\u001b[0m\u001b[0mfname\u001b[0m\u001b[0;34m)\u001b[0m\u001b[0;34m:\u001b[0m\u001b[0;34m\u001b[0m\u001b[0;34m\u001b[0m\u001b[0m\n\u001b[0;32m--> 981\u001b[0;31m             \u001b[0mfh\u001b[0m \u001b[0;34m=\u001b[0m \u001b[0mnp\u001b[0m\u001b[0;34m.\u001b[0m\u001b[0mlib\u001b[0m\u001b[0;34m.\u001b[0m\u001b[0m_datasource\u001b[0m\u001b[0;34m.\u001b[0m\u001b[0mopen\u001b[0m\u001b[0;34m(\u001b[0m\u001b[0mfname\u001b[0m\u001b[0;34m,\u001b[0m \u001b[0;34m'rt'\u001b[0m\u001b[0;34m,\u001b[0m \u001b[0mencoding\u001b[0m\u001b[0;34m=\u001b[0m\u001b[0mencoding\u001b[0m\u001b[0;34m)\u001b[0m\u001b[0;34m\u001b[0m\u001b[0;34m\u001b[0m\u001b[0m\n\u001b[0m\u001b[1;32m    982\u001b[0m             \u001b[0mfencoding\u001b[0m \u001b[0;34m=\u001b[0m \u001b[0mgetattr\u001b[0m\u001b[0;34m(\u001b[0m\u001b[0mfh\u001b[0m\u001b[0;34m,\u001b[0m \u001b[0;34m'encoding'\u001b[0m\u001b[0;34m,\u001b[0m \u001b[0;34m'latin1'\u001b[0m\u001b[0;34m)\u001b[0m\u001b[0;34m\u001b[0m\u001b[0;34m\u001b[0m\u001b[0m\n\u001b[1;32m    983\u001b[0m             \u001b[0mfh\u001b[0m \u001b[0;34m=\u001b[0m \u001b[0miter\u001b[0m\u001b[0;34m(\u001b[0m\u001b[0mfh\u001b[0m\u001b[0;34m)\u001b[0m\u001b[0;34m\u001b[0m\u001b[0;34m\u001b[0m\u001b[0m\n",
      "\u001b[0;32m/usr/lib/python3.8/site-packages/numpy/lib/_datasource.py\u001b[0m in \u001b[0;36mopen\u001b[0;34m(path, mode, destpath, encoding, newline)\u001b[0m\n\u001b[1;32m    267\u001b[0m \u001b[0;34m\u001b[0m\u001b[0m\n\u001b[1;32m    268\u001b[0m     \u001b[0mds\u001b[0m \u001b[0;34m=\u001b[0m \u001b[0mDataSource\u001b[0m\u001b[0;34m(\u001b[0m\u001b[0mdestpath\u001b[0m\u001b[0;34m)\u001b[0m\u001b[0;34m\u001b[0m\u001b[0;34m\u001b[0m\u001b[0m\n\u001b[0;32m--> 269\u001b[0;31m     \u001b[0;32mreturn\u001b[0m \u001b[0mds\u001b[0m\u001b[0;34m.\u001b[0m\u001b[0mopen\u001b[0m\u001b[0;34m(\u001b[0m\u001b[0mpath\u001b[0m\u001b[0;34m,\u001b[0m \u001b[0mmode\u001b[0m\u001b[0;34m,\u001b[0m \u001b[0mencoding\u001b[0m\u001b[0;34m=\u001b[0m\u001b[0mencoding\u001b[0m\u001b[0;34m,\u001b[0m \u001b[0mnewline\u001b[0m\u001b[0;34m=\u001b[0m\u001b[0mnewline\u001b[0m\u001b[0;34m)\u001b[0m\u001b[0;34m\u001b[0m\u001b[0;34m\u001b[0m\u001b[0m\n\u001b[0m\u001b[1;32m    270\u001b[0m \u001b[0;34m\u001b[0m\u001b[0m\n\u001b[1;32m    271\u001b[0m \u001b[0;34m\u001b[0m\u001b[0m\n",
      "\u001b[0;32m/usr/lib/python3.8/site-packages/numpy/lib/_datasource.py\u001b[0m in \u001b[0;36mopen\u001b[0;34m(self, path, mode, encoding, newline)\u001b[0m\n\u001b[1;32m    621\u001b[0m                                       encoding=encoding, newline=newline)\n\u001b[1;32m    622\u001b[0m         \u001b[0;32melse\u001b[0m\u001b[0;34m:\u001b[0m\u001b[0;34m\u001b[0m\u001b[0;34m\u001b[0m\u001b[0m\n\u001b[0;32m--> 623\u001b[0;31m             \u001b[0;32mraise\u001b[0m \u001b[0mIOError\u001b[0m\u001b[0;34m(\u001b[0m\u001b[0;34m\"%s not found.\"\u001b[0m \u001b[0;34m%\u001b[0m \u001b[0mpath\u001b[0m\u001b[0;34m)\u001b[0m\u001b[0;34m\u001b[0m\u001b[0;34m\u001b[0m\u001b[0m\n\u001b[0m\u001b[1;32m    624\u001b[0m \u001b[0;34m\u001b[0m\u001b[0m\n\u001b[1;32m    625\u001b[0m \u001b[0;34m\u001b[0m\u001b[0m\n",
      "\u001b[0;31mOSError\u001b[0m: data/snails.txt not found."
     ]
    }
   ],
   "source": [
    "snails =  np.loadtxt(\"data/snails.txt\")"
   ]
  },
  {
   "cell_type": "markdown",
   "metadata": {},
   "source": [
    "B. **Indexing and slicing**\n",
    "\n",
    "A reminder: NumPy arrays support the same sort of slicing and indexing operations that Python lists do:\n",
    "\n",
    "* Use square brackets to indicate an index or a slice. \n",
    "* Indexing starts from 0 as elsewhere in Python.\n",
    "* Separate the indexes for different axes with commas. For example, array[\n",
    "\n",
    "Compute the following results using the above techniques, storing the results in the variable specified and printing them out. Use the same printing format as A.\n",
    "\n",
    "* `hum_last` the humidity in the last entry in the table.\n",
    "* `temp_last` the temperature in the first entry in the table. \n",
    "* `weeks` the whole column of \"weeks exposure\".\n",
    "* `row_third` the third row of observations. (remember 0 indexing)\n"
   ]
  },
  {
   "cell_type": "code",
   "execution_count": null,
   "metadata": {},
   "outputs": [],
   "source": [
    "#YOUR CODE HERE"
   ]
  },
  {
   "cell_type": "markdown",
   "metadata": {},
   "source": [
    "C. **Aggregate functions** \n",
    "Compute the following results, storing the results in the variable specified and printing them out:\n",
    "\n",
    "* `total_deaths` total number of snails that died\n",
    "* `total_still_alive` total number of snails that survived the whole study\n",
    "* `mean_temp` mean temperature in the whole study\n",
    "* `max_humidity` highest humidity in the study\n",
    "* `average_death_rate` mean of the ratio of snail deaths to snails in the study\n",
    "* `snail_weeks` the total amount of snail effort that went into this study (number of snails times number of weeks)\n",
    "\n",
    "Check the documentation for appropriate functions. Each computation should be **a single line of code**."
   ]
  },
  {
   "cell_type": "code",
   "execution_count": null,
   "metadata": {
    "scrolled": true
   },
   "outputs": [],
   "source": [
    "#YOUR CODE HERE"
   ]
  },
  {
   "cell_type": "markdown",
   "metadata": {},
   "source": [
    "D. **Boolean indexing**\n",
    "In addition to normal list-style indexing, NumPy arrays support boolean indexing. Instead of using numbers, you can index using logical expressions. For example, `vector[x>5]` will pick out all the vector elements higher than 5. For further info consult the documentation.\n",
    "\n",
    "Compute the following results, storing the results in the variable specified and printing them out:\n",
    "\n",
    "* `species_0` and `species_1`: split the dataset into two arrays, one with the entries for species 0 and one with the entries for species 1.\n",
    "\n",
    "* `weakest_snail` the snail species (0 or 1) that had the highest average death rate"
   ]
  },
  {
   "cell_type": "code",
   "execution_count": null,
   "metadata": {},
   "outputs": [],
   "source": [
    "#YOUR CODE HERE"
   ]
  },
  {
   "cell_type": "markdown",
   "metadata": {},
   "source": [
    "E. **Arithmetic and ordering**\n",
    "Compute the following results, storing the results in the variable specified and printing them out:\n",
    "\n",
    "* `deg_f` each temperature in the study, but in degrees Fahrenheit. Use the knowledge that `0C = 32F, 100C = 212F`\n",
    "* `mean_cols` the mean of all the columns, as a 1D vector\n",
    "* `death_rate` the death rates, in sorted order, smallest first\n",
    "* `exposure_death_order` the exposure durations (in weeks), but in sorted in the order of death rates, smallest death rate first.\n",
    "\n",
    "* `best_temp`, `best_hum` the best temperature and humidity to keep a snail for four weeks without it dying. *Look only at the four week exposures, ignoring snails kept for less than this time.* \n",
    "\n",
    "Hint: For exposure_death_order, look at np.argsort."
   ]
  },
  {
   "cell_type": "code",
   "execution_count": null,
   "metadata": {},
   "outputs": [],
   "source": [
    "#YOUR CODE HERE"
   ]
  },
  {
   "cell_type": "markdown",
   "metadata": {},
   "source": [
    "# <a name=\"visualPlt\"> Visualizing data with Matplotlib </a>\n",
    "<a href = #intermediate style = \"color:purple\"> > Jump to Intermediate Section Content Table \\< </a>  \n",
    "\n",
    "Matplotlib is one of the main visualization packages you will be working with in Python. We will first go through a short tutorial to help you get used to the interface.\n",
    "\n",
    "In this example, the plotting commands are split up among notebook cells so that each step can be explained. In your code, just have all of the commands in one cell, to avoid having to scroll up and down as you make changes.\n",
    "\n",
    "## Some data\n",
    "This data is synthetic. It's a simple trigonometric function; the details don't particularly matter."
   ]
  },
  {
   "cell_type": "code",
   "execution_count": null,
   "metadata": {},
   "outputs": [],
   "source": [
    "#Import Matplotlib\n",
    "# make the plots look good inline\n",
    "%matplotlib notebook\n",
    "# Set up Matplotlib\n",
    "import matplotlib as mpl   \n",
    "import matplotlib.pyplot as plt"
   ]
  },
  {
   "cell_type": "code",
   "execution_count": null,
   "metadata": {},
   "outputs": [],
   "source": [
    "# a simple function, returns pulses with a shape determined by k\n",
    "def pulse(x, k):\n",
    "    return np.cos(x) * np.exp(np.cos(x) * k - k)\n",
    "\n",
    "## generate an x value to be transformed\n",
    "x = np.linspace(-3*np.pi, 3 * np.pi, 500)"
   ]
  },
  {
   "cell_type": "markdown",
   "metadata": {},
   "source": [
    "## <a name=\"figures\">Figures</a>\n",
    "To begin any plotting we must create a **figure**, which is a \"blank canvas\" onto which we can add visualisations. **Important: the visualisation will always appear in the output of whichever cell has the `plt.figure()` call.** As a consequence, all of the commands below will affect in the output of the cell below.\n",
    "\n",
    "When you go through the various steps below, scroll back up to this cell to see their effect. Note that usually all plotting commands go in *one* cell, so we don't end up scrolling about."
   ]
  },
  {
   "cell_type": "code",
   "execution_count": null,
   "metadata": {},
   "outputs": [],
   "source": [
    "fig = plt.figure()  # create a new figure. It will be blank.\n",
    "\n",
    "## If you want a different size of figure, you can use:\n",
    "# fig = plt.figure(figsize=(3,3)) # quite small\n",
    "# the default size set here is good for this exercise"
   ]
  },
  {
   "cell_type": "markdown",
   "metadata": {},
   "source": [
    "## <a name = \"axes\"> Axes </a>\n",
    "<a href = #intermediate style = \"color:purple\"> > Jump to Intermediate Section Content Table \\< </a>  \n",
    "To draw anything, we must define **axes**. Each axes is a facet of a plot. It has a coordinate system which can be used to draw data. \n",
    "\n",
    "The call to create a new axis is formatted `fig.add_subplot(rows, columns, index)` which will create a subplot in a matrix of axes indexed by the index. The index increases column-wise, then row-wise, and starts from *1* (not 0!)\n",
    "\n",
    "For example, we could create a 3x2 array of plots, and select the middle-left plot\n",
    "using `plt.add_subplot(3, 2, 3)`\n",
    "\n",
    "        --------\n",
    "       | 1 | 2 |\n",
    "       | 3 | 4 |\n",
    "       | 5 | 6 |\n",
    "       ---------\n",
    "\n",
    "Most of the time, though, we just want one axes that fills the figure and `fig.add_subplot(1,1,1)` does that. The object it returns is what we use for all subsequent plotting."
   ]
  },
  {
   "cell_type": "code",
   "execution_count": null,
   "metadata": {},
   "outputs": [],
   "source": [
    "ax = fig.add_subplot(1, 1, 1)  \n",
    "# create a new subplot, returning a set of axes\n",
    "# look above ^ ^ at the figure. You should see the axes appear"
   ]
  },
  {
   "cell_type": "markdown",
   "metadata": {},
   "source": [
    "We make a line plot of `x` against `f(x, k)` for a few fixed values of `k`.\n",
    "Each subsequent plot will be a new color, and all of the plots will be overlaid on the axes\n",
    "\n",
    "`ax.plot(x,y)` is the basic line plotting command. It is called on an axes object.\n",
    "\n",
    "Note that the `label=` gives a label that the `legend` command will use to label the graph afterwards. Always label plots if you want readers to be able to distinguish them."
   ]
  },
  {
   "cell_type": "code",
   "execution_count": null,
   "metadata": {},
   "outputs": [],
   "source": [
    "ax.cla()  # cla means to CLear Axes. \n",
    "# it does nothing the first time we run it, but it will clear the plot and redraw if\n",
    "# you run this cell multiple times. Try commenting it out and running this cell twice!\n",
    "\n",
    "\n",
    "ax.plot(x, pulse(x,1), label='k=1')\n",
    "ax.plot(x, pulse(x, 5), label='k=5')\n",
    "ax.plot(x, pulse(x, 100), label='k=100')\n",
    "\n",
    "# you can adjust the styling of the plot manually: \n",
    "#   here the color is black (\"k\") \n",
    "#   and the linestyle is dotted (\":\")\n",
    "ax.plot(x, pulse(x, 500), label='k=500', color='C', linestyle=':')\n",
    "\n",
    "## note that there are several built-in colors called\n",
    "# C0, C1, C2, C3, C4, C5, and C6\n",
    "# they will generally look good\n",
    "# try changing the 'k' above to 'C6'"
   ]
  },
  {
   "cell_type": "markdown",
   "metadata": {},
   "source": [
    "Now we can add **labels** to the plot. There should always be a label for the x-axis, y-axis and a title for the axes. We should also have a **legend** if multiple layers are used. `ax.legend()` will draw one. It can be configured in many ways, but the defaults are fine here."
   ]
  },
  {
   "cell_type": "code",
   "execution_count": null,
   "metadata": {},
   "outputs": [],
   "source": [
    "# label the plot \n",
    "ax.set_xlabel(\"Phase (radians)\")  # x-axis label\n",
    "ax.set_ylabel(\"Amplitude\")        # y-axis label\n",
    "ax.set_title(\"Pulse wave function for various $k$\")  # title of plot (appears above plot)\n",
    "\n",
    "# create a legend (key) for the plot, using the labels specified\n",
    "# in the ax.plot() calls, like ax.plot(x,y, label=\"xy\")\n",
    "ax.legend()"
   ]
  },
  {
   "cell_type": "markdown",
   "metadata": {},
   "source": [
    "By default, the scaling of the axis will be adjusted to fit the data. This isn't always a good idea, so you can adjust it manually. The axis limits are set by `ax.set_xlim(min,max)` and `ax.set_ylim(min,max)` and these adjust the scaling of the axes. This configures the **coords** used to draw data.\n",
    "\n",
    "You can try changing these to see different parts of the curve.\n",
    "\n",
    "**Note that you don't need to call the plot commands again when you update the axis limits.**"
   ]
  },
  {
   "cell_type": "markdown",
   "metadata": {},
   "source": [
    "### Tweaking\n",
    "\n",
    "We can tweak the plot in many ways. Try some of the below.\n"
   ]
  },
  {
   "cell_type": "code",
   "execution_count": null,
   "metadata": {},
   "outputs": [],
   "source": [
    "## set the limits of the plot\n",
    "# (if this is omitted, sensible autoscaling will be applied)\n",
    "ax.set_xlim(np.min(x), np.max(x))\n",
    "ax.set_ylim(-0.25, 1.2)"
   ]
  },
  {
   "cell_type": "code",
   "execution_count": null,
   "metadata": {},
   "outputs": [],
   "source": [
    "# grid \n",
    "ax.grid(True) # or False to turn it off"
   ]
  },
  {
   "cell_type": "code",
   "execution_count": null,
   "metadata": {},
   "outputs": [],
   "source": [
    "# frame\n",
    "ax.set_frame_on(False) # or True to turn it back on"
   ]
  },
  {
   "cell_type": "code",
   "execution_count": null,
   "metadata": {},
   "outputs": [],
   "source": [
    "ax.set_xticks([-10, -5, 0, 5, 10]) # Tick positions on the x axis\n",
    "ax.set_yticks([0,0.5,1.0]) # and on the y-axis"
   ]
  },
  {
   "cell_type": "code",
   "execution_count": null,
   "metadata": {},
   "outputs": [],
   "source": [
    "# this is a fancier tick adjustment\n",
    "# Tick positions on the x axis\n",
    "ax.set_xticks([-2*np.pi, -np.pi, 0, np.pi, 2*np.pi]) \n",
    "\n",
    "# we can relabel the ticks using the same order. \n",
    "# LaTeX formulae work if inside $ symbols\n",
    "ax.set_xticklabels([\"$-2\\pi$\", \"$-\\pi$\", \"0\", \"$\\pi$\", \"$2\\pi$\"])"
   ]
  },
  {
   "cell_type": "markdown",
   "metadata": {},
   "source": [
    "The standard colours in matplotlib are shown below (you can also specify custom colours)"
   ]
  },
  {
   "cell_type": "code",
   "execution_count": null,
   "metadata": {},
   "outputs": [],
   "source": [
    "## Standard colours\n",
    "fig = plt.figure(figsize=(10,2))\n",
    "ax = fig.add_subplot(1,1,1)\n",
    "fig.set_facecolor(\"#f0f0f0\")  # can always use Hex colors, or floating point arrays\n",
    "for i,col in enumerate([\"C0\", \"C1\", \"C2\", \"C3\", \"C4\", \"C5\", \"C6\", \"C7\", \n",
    "                        \"r\", \"g\", \"b\", \"c\", \"m\", \"y\", \"k\", \"w\"]):\n",
    "    \n",
    "    # plot, and add some simple text\n",
    "    ax.plot(i, 0.5, c=col, marker='s', markersize=20)\n",
    "    # alpha sets opacity of rendering\n",
    "    ax.text(i, 0.5+0.15, col, ha='center', color=col, alpha=0.5)\n",
    "    \n",
    "ax.set_ylim(0,1) # set axis limits    \n",
    "ax.axis(\"off\") # remove axis; there are no units to show"
   ]
  },
  {
   "cell_type": "markdown",
   "metadata": {},
   "source": [
    "# <a name = \"simplePlots\"> 1. Simple plots </a>\n",
    "<a href = #intermediate style = \"color:purple\"> > Jump to Intermediate Section Content Table \\< </a>  \n",
    "Let's try out Mastplotlib and take a look at some of the mathematical functions in NumPy.\n",
    "\n",
    "* Plot sine, cosine, and tangent functions for a chosen range of values.\n",
    "* Plot a normal distribution. Play around with the stdev parameter and see how it changes."
   ]
  },
  {
   "cell_type": "code",
   "execution_count": null,
   "metadata": {},
   "outputs": [],
   "source": [
    "#YOUR CODE HERE"
   ]
  },
  {
   "cell_type": "markdown",
   "metadata": {},
   "source": [
    "For these exercises, you need to plot graphs showing the data which is provided to you. \n",
    "    \n",
    "* choose the right kind of plot (line, scatter, bar, histogram). There may be more than one right choice.\n",
    "* plot the data correctly\n",
    "* make sure all the details are sensible (axes, labelling, etc.)\n",
    "* **write a short caption for the data in the cell provided.**\n",
    "\n",
    "You will get the name of the file with the data, along with a comment that explains the format of the data. You can use `np.loadtxt()` to load the datasets."
   ]
  },
  {
   "cell_type": "markdown",
   "metadata": {},
   "source": [
    "A)\n",
    "* Data file: `data/cherry_trees.txt`\n",
    "* Description: Height and volume of black cherry trees  measured in an orchard.\n",
    "* Columns:\n",
    "  \n",
    "       Height (ft)  Volume (ft^3)\n",
    "\n",
    "Note: plot your graph in **metric units**. 1 ft = 0.3048m"
   ]
  },
  {
   "cell_type": "code",
   "execution_count": null,
   "metadata": {
    "scrolled": true
   },
   "outputs": [],
   "source": [
    "#YOUR CODE HERE"
   ]
  },
  {
   "cell_type": "markdown",
   "metadata": {},
   "source": [
    "B)\n",
    "* Data file: `data/air_passengers.txt`\n",
    "* Description: The number of international air passengers, each month, 1949 to 1960.\n",
    "* Columns:\n",
    "\n",
    "      year   passenger_count"
   ]
  },
  {
   "cell_type": "code",
   "execution_count": null,
   "metadata": {},
   "outputs": [],
   "source": [
    "#YOUR CODE HERE"
   ]
  },
  {
   "cell_type": "markdown",
   "metadata": {},
   "source": [
    "C) \n",
    "* Data file: `data/rivers.txt`\n",
    "* Description: Length of major rivers in the United States (miles)\n",
    "* Columns:\n",
    "   \n",
    "       river_length"
   ]
  },
  {
   "cell_type": "code",
   "execution_count": null,
   "metadata": {},
   "outputs": [],
   "source": [
    "#YOUR CODE HERE"
   ]
  },
  {
   "cell_type": "markdown",
   "metadata": {},
   "source": [
    "# <a name = \"facetPlots\">2. Layered and faceted plots </a>\n",
    "<a href = #intermediate style = \"color:purple\"> > Jump to Intermediate Section Content Table \\< </a>  \n",
    "\n",
    "A **layered** plot has more than one set of markers overlaid on the same coordinate system. A **faceted** plot uses multiple coordinate systems to show different views of the data.\n",
    "\n",
    "For the dataset, appropriately use layering, faceting and reduction operations to show the dataset. "
   ]
  },
  {
   "cell_type": "markdown",
   "metadata": {},
   "source": [
    "* Data file `data/cake.txt`\n",
    "* Description: \n",
    ">Data on the breakage angle of chocolate cakes made with three different\n",
    "recipes and baked at six different temperatures. The angle of breakage is affected by the recipe and temperature. The experiment was repeated 15 times (replicates).\n",
    "\n",
    "* Columns:\n",
    "\n",
    "        replicate(1-15)    recipe(0-2)    temp(deg F)    angle(deg)\n",
    "\n",
    "Use this model:\n",
    "* Facet `recipes`\n",
    "* Layer `replicates`\n",
    "\n",
    "* Colour each replicate identically, and use lowered opacity.\n",
    "\n",
    "* As well as the layered replicates, clearly show the mean and standard deviation of the breakage angle in each facet as a line and a ribbon.\n",
    "\n",
    "* Convert Fahrenheit to Celsius before plotting. \n",
    "\n",
    "* `plt.tight_layout()` will fix layout of facets. Set a super-title across all facets using `fig.suptitle()`. \n",
    "\n",
    "* You will need one or more `for` loops (probably) to solve this problem.\n",
    "* Use Boolean arrays to perform `group by` like operations."
   ]
  },
  {
   "cell_type": "code",
   "execution_count": null,
   "metadata": {},
   "outputs": [],
   "source": [
    "#YOUR CODE HERE"
   ]
  },
  {
   "cell_type": "markdown",
   "metadata": {},
   "source": [
    "* Data file: `data/insects.txt`\n",
    "* Description: The counts of insects on each leaf of a plant in agricultural experimental units treated with different insecticides.\n",
    "* Columns:\n",
    "\n",
    "            insect_count spray_id (0-5)\n",
    "\n",
    "\n",
    "* Plot the data, on three separate figures, using:\n",
    "    * A simple bar chart of the mean insect counts (grouped by spray).\n",
    "    * A barchart showing the mean counts (grouped), and half a standard deviation above and below the mean. Find a way to show this interval (hint: look at the [`plt.bar` documentation](https://matplotlib.org/devdocs/api/_as_gen/matplotlib.pyplot.bar.html)). The standard deviation of an array can be computed by `np.std(x, axis)`, just like `np.mean()`.\n",
    "    * A Box plot of the insect counts.\n",
    "\n",
    "* Mark the ticks on the x axis using the names of the sprays.\n",
    "\n",
    "        0 = Insecticator\n",
    "        1 = Placebo\n",
    "        2 = BuzzNoMore\n",
    "        3 = Aprotex\n",
    "        4 = DieOff"
   ]
  },
  {
   "cell_type": "code",
   "execution_count": null,
   "metadata": {},
   "outputs": [],
   "source": [
    "#YOUR CODE HERE"
   ]
  },
  {
   "cell_type": "markdown",
   "metadata": {},
   "source": [
    "# References \n",
    "\n",
    "Huge thanks to Dr John H. Williamson for allowing us to use his teaching materials in this workshop, including most of the practical examples."
   ]
  },
  {
   "cell_type": "markdown",
   "metadata": {},
   "source": [
    "# <a name=\"advanced\">C: Advanced </a>\n",
    "\n",
    "* [Fire Away](#fire)\n",
    "* [The Doppler Problem](#doppler)  \n",
    "* [Solving ODEs](#odes)\n",
    "    * [Van der Pol Equation](#pol)\n",
    "    * [Wag the dog](#wag)\n",
    "    * [The Chua Equation](#chua)\n",
    "\n",
    "\n",
    "In this section we will assume you know how to use both **MatPlotLib** and **Numpy** (see Intermediate section) as well as a good understanding of Python's features (see Beginner section). \n",
    "\n",
    "Some of these problems will be quite challenging, use a pen and paper if you'd like and discuss with friends. If stuck, talk to a tutor for hints or explanations. "
   ]
  },
  {
   "cell_type": "markdown",
   "metadata": {},
   "source": [
    "## <a name = \"fire\"> Fire Away </a>\n",
    "\n",
    "You are an artillery officer under Napoleon Bonaparte - emperor of the French. To coordinate his grand battery he wishes you to develop a technique for targeting the Anglo-Allied forces with great accuracy. Unbeknownst to your commander you are actually in possession of a Mystical Python, capable of solving any problem for you using numerical methods. Employ your knowledge of projectile motion and Python programming to plot cannnon-ball \n",
    "trajectories.\n",
    "\n",
    "<img src=\"https://upload.wikimedia.org/wikipedia/commons/thumb/c/c3/Bonaparte_re%C3%A7oit_les_prisonniers_sur_le_champ_de_bataille%2C_1797.jpg/1024px-Bonaparte_re%C3%A7oit_les_prisonniers_sur_le_champ_de_bataille%2C_1797.jpg\" width=600px>\n",
    "\n",
    "Much like the standardization of French guns, in this series of tasks you will slowly extend your initial solution to generalize it to more complicated situations. This 'snowflake' approach is common when dealing with unknown problems. After all, diving head first into the most complicated, but also most general, case is likely going to bog you down with debugging.\n",
    "\n",
    "#### Task 1: Parabolic Paths\n",
    "Given $v_0$, gravity $g$ and an initial angle $\\theta$. Write a function to plot the trajectory of a cannonball  as:\n",
    "1. A function of time\n",
    "2. A function of distance\n",
    "You can assume your cannon is located at the origin (0,0) in 2D space and that your target is located to the right (positive x-direction). Unfortunately, you cannot fire a cannonball back in time.\n",
    "\n",
    "**Hint**: Try to work this out analytically using pen-and-paper then translate your solution to a general function one!\n",
    "\n",
    "**Hint 2**: If you get stuck on the kinematics, check out the Wikipedia Page on [Projectile Motion](https://en.wikipedia.org/wiki/Projectile_motion)\n",
    "\n",
    "<img src=\"https://i.imgur.com/NZYmVlJ.png\" alt=\"Basic Canon Ball Trajectory\" style=\"width:50vw\">"
   ]
  },
  {
   "cell_type": "code",
   "execution_count": 2,
   "metadata": {},
   "outputs": [],
   "source": [
    "import math\n",
    "import numpy as np\n",
    "import matplotlib.pyplot as plt\n",
    "\n",
    "def trajectory1(v0,g,theta):\n",
    "    # YOUR CODE GOES HERE\n",
    "    pass\n",
    "\n",
    "#Uncomment for example usage   \n",
    "#trajectory1(60.0,9.8,30.0)\n",
    "    "
   ]
  },
  {
   "cell_type": "markdown",
   "metadata": {},
   "source": [
    "#### Task 2: Height Offset\n",
    "Extend your previous projectile-plotters to account for:\n",
    "* An elevated starting position ($y_0$)\n",
    "\n",
    "<img src=\"https://i.imgur.com/GhV9tuX.png\" alt=\"Canon Ball Trajectory from height\" style=\"width:50vw\">"
   ]
  },
  {
   "cell_type": "code",
   "execution_count": 3,
   "metadata": {},
   "outputs": [],
   "source": [
    "import math\n",
    "import numpy as np\n",
    "import matplotlib.pyplot as plt\n",
    "\n",
    "def trajectory2(v0,g,theta, y0, tTotal=None):\n",
    "    # YOUR CODE HERE\n",
    "    # HINT: Copy in your code from trajectory1 and tweak it!\n",
    "    pass\n",
    "    \n",
    "#Uncomment for example usage  \n",
    "trajectory2(60.0,9.8,30.0, 30.0)"
   ]
  },
  {
   "cell_type": "markdown",
   "metadata": {},
   "source": [
    "#### Task 3: Aiming Cannon\n",
    "Find what angle $\\theta$ is needed to hit a target at distance $x$ and height $y$, plot the resulting path.\n",
    "\n",
    "**Hint**: Try to tweak your previous projectile trajectory plotter to work with your calculated angle $\\theta$\n",
    "\n",
    "**Hint 2**: Be careful to make sure your new range in time and distance stops when you reach the target rather than the ground.\n",
    "\n",
    "<img src=\"https://i.imgur.com/l8Te5B1.png\" alt=\"Canon Ball Trajectory to specific target\" style=\"width:50vw\">"
   ]
  },
  {
   "cell_type": "code",
   "execution_count": 5,
   "metadata": {},
   "outputs": [],
   "source": [
    "import math\n",
    "import numpy as np\n",
    "import matplotlib.pyplot as plt\n",
    "\n",
    "def find_angle(v0, x, y, g):\n",
    "    # YOUR CODE HERE\n",
    "    # Hint: Use your previous function to do the plotting!\n",
    "    pass\n",
    "\n",
    "# Uncomment for example use of function\n",
    "# print(\"Firing at {0:.2f} degrees\".format(find_angle(120, 1400, 50, 9.8)))\n",
    "    "
   ]
  },
  {
   "cell_type": "markdown",
   "metadata": {},
   "source": [
    "#### Task 4: Bring it all together\n",
    "Find what angle you must fire at from a starting position (x0,y0) to hit a target at (x,y) and plot the resulting trajectory.\n",
    "\n",
    "<img src=\"https://i.imgur.com/R6Yka1D.png\" alt=\"Canon Ball Trajectory to specific target\" style=\"width:50vw\">"
   ]
  },
  {
   "cell_type": "code",
   "execution_count": 6,
   "metadata": {},
   "outputs": [],
   "source": [
    "import math\n",
    "import numpy as np\n",
    "import matplotlib.pyplot as plt\n",
    "\n",
    "\n",
    "def mobile_canon(v0, x, y, x0, y0, g):\n",
    "    # YOUR CODE HERE\n",
    "    pass\n",
    "\n",
    "# Uncomment for example use\n",
    "# print(\"Fire at angle {0:.2f} to hit target\".format(mobile_angle(120.0,1400.0, 200.0, 200.0, 60.0, 9.8)))"
   ]
  },
  {
   "cell_type": "markdown",
   "metadata": {},
   "source": [
    "## <a name = \"doppler\"> The Doppler Problem </a>\n",
    "When a source of sound is moving toward an observer, the frequency of that sound is higher, and when a source of sound is moving away from an observer its frequency is lower. This is quite a common experience, for instance you may notice it with a passing firetruck and its blaring sirens.\n",
    "\n",
    "To wrap your head around this, think of one of the knights who say \"Ni\" and have them be at rest emitting sound at a constant frequency and in all directions. The velocity of the resulting wave will only depend on the medium it is travelling in. If the knight starts running though, in front of the knight they will be 'catching up' to the wave crests and so an observer in front of the source will observe more wave crests passing per second (a higher frequency). Conversely, an observer behind the knight the spacing between wave crests is larger than normal and so the frequency is lower. (Drawings definitely help here)"
   ]
  },
  {
   "cell_type": "markdown",
   "metadata": {},
   "source": [
    "![Doppler Shift Image](https://flypaper.soundfly.com/wp-content/uploads/2018/01/doppler-effect-header.jpg)\n",
    "**Source**:_FlyPaper SoundFly_\n",
    "\n",
    "To begin, we'll need to know whether the observer and the source are moving away from each other or towards each other. You may want to draw out the different situations using pen and paper. For convenience, let's define this as a function which returns True if they are moving towards each other and False if not.\n",
    "\n",
    "We will call this function _movingTowards_ and a template is defined below"
   ]
  },
  {
   "cell_type": "code",
   "execution_count": null,
   "metadata": {},
   "outputs": [],
   "source": [
    "def movingTowards(x_source, v_source,x_observer, v_observer):\n",
    "    # YOUR CODE HERE"
   ]
  },
  {
   "cell_type": "markdown",
   "metadata": {},
   "source": [
    "### Testing\n",
    "We have provided a suite of **tests** below to check your _movingTowards_ function returns the right output. Think carefully about how \n",
    "it evaluates each case."
   ]
  },
  {
   "cell_type": "code",
   "execution_count": null,
   "metadata": {},
   "outputs": [],
   "source": [
    "#Tests\n",
    "print( movingTowards(0,0,10,-4) )#TRUE : Observer > Source and Source is static, observer moving left\n",
    "print( movingTowards(0,5,10,-4) )#TRUE : Observer > Source and Source is moving right, observer moving left\n",
    "print( movingTowards(0,5,10,0)  )#TRUE : Observer > Source and Source is moving right, observer is static\n",
    "print( movingTowards(10,-5,0,0) )#TRUE : Source > Observer and Source is moving left, observer is static\n",
    "print( movingTowards(10,0,0,5)  )#TRUE : Source > Observer and Source is static, observer is moving right\n",
    "print( movingTowards(10,-5,0,0) )#TRUE : Source > Observer and Source is moving left, observer is static\n",
    "print( movingTowards(0,-5,10,0) )#FALSE : Observer > Source and Source is moving left, observer is static\n",
    "print( movingTowards(0,0,10,5)  )#FALSE : Observer > Source and Source is static, observer is moving right\n",
    "print( movingTowards(0,-5,10,5) )#FALSE : Observer > Source and Source is moving left, observer is moving right\n",
    "print( movingTowards(0,50,10,5) )#TRUE : Observer > Source and Source is moving right faster than observer"
   ]
  },
  {
   "cell_type": "markdown",
   "metadata": {},
   "source": [
    "## Observed Frequency\n",
    "Now let's do some Physicsing!  \n",
    "\n",
    "**Pen and Paper**\n",
    "Try to derive an equation for the frequency observed by the observer for the two sitations. One where the two entities are moving towards each other and one where they are moving away from each other. Once you have this, translate it to a beautiful function :3 \n",
    "(**Hint**: Start by thinking about the wavelength resulting from the change in spacing between the crests)\n",
    "\n",
    "Use the _movingTowards_ function you defined previously to check if they are moving towards or away from each other, this is the handiness of FUNCTIONAL programming :D . By following a functional programming mentality, you split up problems into parts and avoid a lot of repetition in your code.\n"
   ]
  },
  {
   "cell_type": "code",
   "execution_count": null,
   "metadata": {},
   "outputs": [],
   "source": [
    "def getObservedFrequency(x_source,v_source,fSource,x_observer,v_observer,v_wave):\n",
    "    #Your code here"
   ]
  },
  {
   "cell_type": "markdown",
   "metadata": {},
   "source": [
    "### Testing\n",
    "Run this suite of tests to check if your _getObservedFrequency_ function is returning the right output!"
   ]
  },
  {
   "cell_type": "code",
   "execution_count": null,
   "metadata": {},
   "outputs": [],
   "source": [
    "#Source starts at 0m and moving 10m/s right, \n",
    "#Observer at 100m and stationary\n",
    "#Wave travels at 30m/s and has a frequency of 500Hz\n",
    "print ( \"%.2f Hz\" % getObservedFrequency(0,10,500,100,0,30) ) #Should return a Higher Frequency\n",
    "\n",
    "#Source starts at 0m and moving 15m/s right, \n",
    "#Observer at 20m and moving 5m/s right,\n",
    "#Wave travels at 30m/s and has a frequency of 200Hz\n",
    "print ( \"%.2f Hz\" % getObservedFrequency(0,15,200,20,5,60) )#Should return a Higher Frequency\n",
    "\n",
    "#Source starts at 0m and moving 5m/s left, \n",
    "#Observer at 10m and moving 10m/s right,\n",
    "#Wave travels at 60m/s and has a frequency of 300Hz\n",
    "print ( \"%.2f Hz\" % getObservedFrequency(0,-5,300,10,10,30) ) #Should return a Lower Frequency\n",
    "\n",
    "\n",
    "#Source starts at 20m and moving 5m/s right, \n",
    "#Observer at 0 and moving 5m/s left,\n",
    "#Wave travels at 60m/s and has a frequency of 300Hz\n",
    "print ( \"%.2f Hz\" % getObservedFrequency(20,5,300,0,-5,30) )#Should return the SAME frequency\n",
    "\n",
    "# What if the wave velocity is equal to the source velocity? \n",
    "print ( getObservedFrequency(20,30,300,0,-5,30) ) # Should return an error, did you handle this?"
   ]
  },
  {
   "cell_type": "markdown",
   "metadata": {},
   "source": [
    "## Visualising the Doppler Effect\n",
    "You are given a source and an observer. The source has a certain starting position __x_source__ (along the x-axis) as well as a velocity __v_source__( + is to the right, - is to the left). The source is constantly emitting a sinusoidal signal at frequency __fSource__ which, given a certain medium, travels at __v_wave__. Similarly the observer has a starting position __x_observer__ and a velocity __v_observer__. These are values are passed as arguments to a function as: \n",
    "    \n",
    "    def doppler(x_source,v_source,fSource,x_observer,v_observer,duration,v_wave):\n",
    "        #Your code here\n",
    "\n",
    "\\[ Note that passsing this many arguments to a function is bad practise. The best way around this is to treat the source and the observer as objects with associated parameters, but this is way outside of the scope of this workshop (lookup Object-Oriented Programming :o , more info in Resources Section)\\]\n",
    "\n",
    "Using this information draw a plot that shows how the wave crests propagate from the source over time. For convenience, you can assume intervals of 1 second. \n",
    "\n",
    "For bonus points, this plot should also include:\n",
    "1. Markers for the observer and source\n",
    "2. A label with the source frequency and observed frequency (obtained using your handy little function from earlier) \n",
    "3. Automatic rescaling of the axes depending on the input parameters (will require some thought, at first you could just set it manually)\n",
    "\n"
   ]
  },
  {
   "cell_type": "code",
   "execution_count": null,
   "metadata": {},
   "outputs": [],
   "source": [
    "import matplotlib.pyplot as plt\n",
    "\n",
    "def doppler(x_source,v_source,fSource,x_observer,v_observer,duration,v_wave):\n",
    "    #Your code here\n",
    "    \n"
   ]
  },
  {
   "cell_type": "markdown",
   "metadata": {},
   "source": [
    "### Testing\n",
    "The next few cells include some (sensible) examples you might pass into the above function. Use them to test your visualisation."
   ]
  },
  {
   "cell_type": "code",
   "execution_count": null,
   "metadata": {},
   "outputs": [],
   "source": [
    "# Source starting at x=0 moving at 100m/s to the right \n",
    "# The source is emitting a sound at a frequency of 5000Hz\n",
    "# The observer is 1000m away and is stationary (v_observer=0m/s)\n",
    "# We want the waves to reach the observer, so 50 seconds is a good duration\n",
    "# Sound travels at about 340m/s in air\n",
    "doppler(0,100,5000,1000,0,50,340) "
   ]
  },
  {
   "cell_type": "code",
   "execution_count": null,
   "metadata": {},
   "outputs": [],
   "source": [
    "# Source starting at x=0 moving at 50m/s to the left\n",
    "# The source is emitting a sound at a frequency of 2500Hz\n",
    "# The observer is 1000m away and is stationary (v_observer=0m/s)\n",
    "# We want the waves to reach the observer, so 25 seconds is a good duration\n",
    "# Sound travels at about 340m/s in air\n",
    "doppler(0,-50,2500,1000,0,25,340)"
   ]
  },
  {
   "cell_type": "code",
   "execution_count": null,
   "metadata": {},
   "outputs": [],
   "source": [
    "# Source starting at x=0 moving at 50m/s to the left\n",
    "# The source is emitting a sound at a frequency of 2500Hz\n",
    "# The observer is 1000m away and is stationary (v_observer=0m/s)\n",
    "# We want the waves to reach the observer, so 25 seconds is a good duration\n",
    "# Sound travels at about 340m/s in air\n",
    "doppler(0,-50,2500,1000,0,25,340)"
   ]
  },
  {
   "cell_type": "markdown",
   "metadata": {},
   "source": [
    "# <a name = \"odes\"> Solving ODEs with numpy and scipy </a>\n",
    "<a href = #advanced style = \"color:purple\"> > Jump to Advanced Section Content Table \\< </a>  \n",
    "Many differential equations encountered in Physics are not analytically solvable and hence numerical methods must be employed to obtain solutions. The Scipy library has many integration functions which are designed for solving ODE's.\n",
    "\n",
    "## Using odeint\n",
    "Suppose we have the differential equation:  \n",
    "$\\frac{dy}{dt} = y^2 + t^2 $ where $y$ is some function of $t$.With the initial condition $y(0) = 1$.  \n",
    "\n",
    "We can solve this ode by using the following code:\n",
    "    \n",
    "    import scipy.integrate\n",
    "    import numpy as np\n",
    "    \n",
    "    #Takes as input y and t and returns the derivate dy/dt for those values\n",
    "    def diffeq(y,t):\n",
    "        x1 = y\n",
    "        dydt = [x1**2+t**2]\n",
    "        return dydt\n",
    "        \n",
    "    dt,tmin,tmax = 0.1,0,200\n",
    "    step = int((tmax-tmin)/dt)\n",
    "    t = np.linspace(tmin,tmax,step) #Start, Finish, No. of Steps\n",
    "    y0 = 1\n",
    "    sol = integrate.odeint(diffeq,y0,t) # diffeq : Model [returns derivs at requests y and t values], \n",
    "                                        # y0 : Initial Condition, t: Times to solve at\n",
    "    \n",
    "We need to define the function diffeq because we need to tell odeint what our differential equation we want to solve is. We also need to specify over what time interval we want the solution and the initial condition for our problem. To do this we pick a max and min time as well as the time step dt. Finally, sol will be a list of the same size as t which will contain the desired solution. Note that dydt in the diffeq funciton is in the format of a list, so one can use it to solve a system of ODEs by specifying x1,x2 and so on.  \n",
    "\n",
    "Example: say you wanted to solve:\n",
    "$\\frac{dy}{dt} = z+ zy ; \\frac{dz}{dt} = sin(z)*y$\n",
    "\n",
    "Then your diffeq function should look like:\n",
    "\n",
    "    def diffeq(y,t):\n",
    "    x1,x2 = y\n",
    "    dydt =[x2+x2*x1,np.sin(x2)*x1]\n",
    "    return dydt\n",
    "    "
   ]
  },
  {
   "cell_type": "markdown",
   "metadata": {},
   "source": [
    "## <a name=\"pol\">Exercise 1 Van der Pol Oscillator</a>\n",
    "<a href = #advanced style = \"color:purple\"> > Jump to Advanced Section Content Table \\< </a>  \n",
    "The Van der Pol equation describes certain non-linear oscillations in an electronic circuit known as \"relaxation-oscillations\".\n",
    "It obeys the following differential equation:\n",
    "$$\n",
    "\\frac{d^2y}{dt^2}-\\mu(1-y^2)\\frac{dy}{dt}+y=0\\, \\text{where} \\,\\mu\\, \\text{is some constant}.\n",
    "$$\n",
    "\n",
    "1) To start off, set $\\mu = 1$ and solve the Van der Pol equation. Make a plot of $y$ vs $t$ as well as $y$ vs $\\frac{dy}{dt}$  (Hint: how can you transform a second order ODE into two first order ODEs ?)"
   ]
  },
  {
   "cell_type": "code",
   "execution_count": null,
   "metadata": {},
   "outputs": [],
   "source": [
    "import scipy.integrate as integrate\n",
    "import numpy as np\n",
    "import matplotlib.pyplot as plt\n",
    "\n",
    "#Your Code Here\n"
   ]
  },
  {
   "cell_type": "markdown",
   "metadata": {},
   "source": [
    "2) Solve the equation for a range of values $ 0 < \\mu < 4$ (pick an appropriate step size) and show each $y$ vs $\\frac{dy}{dt}$ plot on the same figure."
   ]
  },
  {
   "cell_type": "code",
   "execution_count": null,
   "metadata": {},
   "outputs": [],
   "source": [
    "import scipy.integrate as integrate\n",
    "import numpy as np\n",
    "import matplotlib.pyplot as plt\n",
    "\n",
    "# Your Code Here"
   ]
  },
  {
   "cell_type": "markdown",
   "metadata": {},
   "source": [
    "## <a name = \"wag\"> Exercise 2 Wag the Dog </a>\n",
    "<a href = #advanced style = \"color:purple\"> > Jump to Advanced Section Content Table \\< </a>  \n",
    "In this exercise we explore a way to find the allowed energy values of a quantum mechanical operator.\n",
    "Consider the quantum mechanical harmonic oscillator it satisfies the time-independent Schrodinger equation:  \n",
    "$$\n",
    "-\\frac{\\hbar^2}{2m} \\frac{d^2\\psi}{dx^2} + \\frac{1}{2} m \\omega^2 x^2 \\psi = E \\psi.\n",
    "$$\n",
    "Introduce a variable change $\\zeta = \\sqrt{\\frac{m \\omega}{\\hbar}}x$, the equation then becomes:\n",
    "$$\n",
    "\\frac{d^2\\psi}{d\\zeta^2} = (\\zeta^2-K)\\psi \\, \\text{, where K is related to the energy by}\\, K =\\frac{2E}{\\hbar \\omega}.\n",
    "$$\n",
    "\n",
    "Hence if we find K we have found the energy of the system. We know that physically sensible solutions to this equation must be normalizable and hence cannot be unbounded as $\\zeta$ gets large. Therefore, if we guess a value of $K$, say $K_0$ and get a function going off to $+\\infty$ this cannot be the value of K. We guess again and pick another value $K_1$ until the function \"flips over\" and now goes off to $-\\infty$ instead. Therefore $K$ is somewhere in between $K_1$ and $K_0$. This process can be repeated to get closer and closer to the actual value of K.\n",
    "\n",
    "1. Use this method to obtain the energy of the ground state of the quantum harmonic oscillator (set $\\psi(0) = 1 , \\frac{d\\psi}{d\\zeta}(0) = 0$)."
   ]
  },
  {
   "cell_type": "code",
   "execution_count": null,
   "metadata": {},
   "outputs": [],
   "source": [
    "# Your code for part 1 here\n"
   ]
  },
  {
   "cell_type": "markdown",
   "metadata": {},
   "source": [
    "2. Find the energy of the first excited state using this method (set $\\psi(0) = 0$ and $\\frac{d\\psi}{d\\zeta}(0) = 1$)."
   ]
  },
  {
   "cell_type": "code",
   "execution_count": null,
   "metadata": {},
   "outputs": [],
   "source": [
    "# Your code for part 2 here"
   ]
  },
  {
   "cell_type": "markdown",
   "metadata": {},
   "source": [
    "3. Find the energy of the second excited state of the quantum harmonic oscillator (set $\\psi(0) = 1 , \\frac{d\\psi}{d\\zeta}(0) = 0$).\n"
   ]
  },
  {
   "cell_type": "code",
   "execution_count": null,
   "metadata": {},
   "outputs": [],
   "source": [
    "# Your code for part 3 here"
   ]
  },
  {
   "cell_type": "markdown",
   "metadata": {},
   "source": [
    "For all of these consider $-5 \\leq \\zeta \\leq 5$\n",
    "\n",
    "4. Find the ground state energy for this potential to 4 decimal places:\n",
    "$$\n",
    "\\frac{d^2\\psi}{d\\zeta^2} = (-\\frac{2}{(1+\\zeta^2)^\\frac{1}{2}}+K)\\psi.\n",
    "$$\n",
    "Consider $-10 \\leq \\zeta \\leq 10$ and set $\\psi(0) = 1 , \\frac{d\\psi}{d\\zeta}(0) = 0$."
   ]
  },
  {
   "cell_type": "code",
   "execution_count": null,
   "metadata": {},
   "outputs": [],
   "source": [
    "import numpy as np\n",
    "import matplotlib.pyplot as plt\n",
    "import scipy.integrate as integ\n",
    "\n",
    "# Your code for part 4 here"
   ]
  },
  {
   "cell_type": "markdown",
   "metadata": {},
   "source": [
    "## <a name = \"chua\"> Exercise 3 The Chua equations </a>\n",
    "<a href = #advanced style = \"color:purple\"> > Jump to Advanced Section Content Table \\< </a>  \n",
    "\n",
    "The Chua circuit is the simplest possible circuit that behaves chaotically, as in it has non-periodic, deterministic behaviour that is very dependent on initial conditions. It satisfies the following ODEs:\n",
    "$$\n",
    "\\frac{dx}{dt} = \\alpha(y-x-\\phi(x))\n",
    "$$\n",
    "$$\n",
    "\\frac{dy}{dt} = x-y+z \n",
    "$$\n",
    "$$\n",
    "\\frac{dz}{dt} = -\\beta y \n",
    "$$\n",
    "\n",
    "Where:  \n",
    " $\\phi(x) = m_1 x +m_0-m_1$ if  $x>1$\n",
    " \n",
    " $\\quad \\, \\, \\quad m_0x $ if  $-1 \\leq\\ x \\leq 1 $\n",
    " \n",
    " $\\quad \\, \\, \\quad m_1x-m_0+m_1 $ if  $x < -1 $\n",
    " \n",
    " and $\\alpha$, $\\beta$, $m_0$, $m_1$ are constants.\n",
    " \n",
    " 1. Solve the Chua equations for $\\alpha = 10$, $\\beta = 16 $, $m_1=-\\frac{5}{7}$, $m_0 = -\\frac{8}{7}$ with initial condition $\\vec{y_0}(0) = (-0.1,0.5,0.5)$. Plot $y$ vs $x$, $z$ vs $y$ and $z$ vs $x$."
   ]
  },
  {
   "cell_type": "code",
   "execution_count": null,
   "metadata": {},
   "outputs": [],
   "source": [
    "# Your code for part 1 here"
   ]
  },
  {
   "cell_type": "markdown",
   "metadata": {},
   "source": [
    "2. Repeat part 1 but change the values of $\\alpha$ to 5,8,9,12."
   ]
  },
  {
   "cell_type": "code",
   "execution_count": null,
   "metadata": {},
   "outputs": [],
   "source": [
    "# Your code for part 2 here"
   ]
  },
  {
   "cell_type": "markdown",
   "metadata": {},
   "source": [
    "To explore the notion of chaos we define a distance between two trajectories.\n",
    "If $\\vec{y_1(t)}$ and $\\vec{y_2(t)}$ are two solutions to the Chua system, then we can define a distance between them as follows:\n",
    "$$\n",
    "d(\\vec{y_1},\\vec{y_2})=\\int_{t_0}^{t_f} | \\vec{y_1}(t)-\\vec{y_2}(t)| dt\n",
    "$$"
   ]
  },
  {
   "cell_type": "markdown",
   "metadata": {},
   "source": [
    "We can use the scipy.integrate function romb to calculate a definite integral from samples of a function:\n",
    "    import scipy.integrate as integrate\n",
    "    integrate.romb(y,dx=dt)\n",
    "Where y is the list containing the values of our function and we set dt to be the same as the time step in this list.\n",
    "\n",
    "3. Perturb the initial conditions by some small number $\\epsilon$ for $\\alpha = 10$ plot the function $| \\vec{y_0}(t)-\\vec{y_\\epsilon}(t)|$ and calculate the distance between them. Repeat this exercise for $\\alpha = 5,8,9$ and explain the differences that you see.  \n",
    "\n",
    "**Note**: romb requires that the list containing  the function being integrated has length $2^k + 1$   for some integer $k$ so you may need to change the structure of your list containing the time values."
   ]
  },
  {
   "cell_type": "code",
   "execution_count": null,
   "metadata": {},
   "outputs": [],
   "source": [
    "import numpy as np\n",
    "import matplotlib.pyplot as plt\n",
    "import scipy.integrate as integ\n",
    "\n",
    "# Your code for part 3 here"
   ]
  },
  {
   "cell_type": "markdown",
   "metadata": {},
   "source": [
    "# That's All Folks "
   ]
  },
  {
   "cell_type": "markdown",
   "metadata": {},
   "source": [
    "## Resources\n",
    "[How to Think like a Computer Scientist](http://interactivepython.org/courselib/static/thinkcspy/index.html) - Excellent and free online textbook for learning Python  \n",
    "[Github Student Pack](https://education.github.com/pack) - Super nifty collection of free resources you can use as a student, including a [GitHub account](https://eu.udacity.com/course/how-to-use-git-and-github--ud775) with private repositories. Github can be used to manage your coding projects!"
   ]
  }
 ],
 "metadata": {
  "kernelspec": {
   "display_name": "Python 3",
   "language": "python",
   "name": "python3"
  },
  "language_info": {
   "codemirror_mode": {
    "name": "ipython",
    "version": 3
   },
   "file_extension": ".py",
   "mimetype": "text/x-python",
   "name": "python",
   "nbconvert_exporter": "python",
   "pygments_lexer": "ipython3",
   "version": "3.8.1"
  }
 },
 "nbformat": 4,
 "nbformat_minor": 2
}
