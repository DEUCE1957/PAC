{
 "cells": [
  {
   "cell_type": "markdown",
   "metadata": {},
   "source": [
    "### The Carnot Engine\n",
    "With the laws of ThermoDynamics at our fingertips, let us try to visualise a classic engine: the carnot engine. The carnot engine operates in a cycle using an ideal gas to produce work W in 4 stages:\n",
    "1.  Adiabatic Compression\n",
    "2.  Isothermal Expansion at T_h and with Qin\n",
    "3.  Adiabatic Expansion \n",
    "4.  Isothermal Compression at T_c and which releases Qout"
   ]
  },
  {
   "cell_type": "markdown",
   "metadata": {},
   "source": [
    "![The Carnot Cycle](http://hyperphysics.phy-astr.gsu.edu/hbase/thermo/imgheat/carnot.png)"
   ]
  },
  {
   "cell_type": "markdown",
   "metadata": {},
   "source": [
    "To begin, we can write a function that describes an IsoThermal Stage. Here we are given a reservoir temperature, an initial volume and a final volume and should return the work done. "
   ]
  },
  {
   "cell_type": "code",
   "execution_count": 2,
   "metadata": {},
   "outputs": [],
   "source": [
    "import math\n",
    "def W_Isotherm(T,n,v_i,v_f):\n",
    "    R = 8.3144598\n",
    "    work = -n*R*math.log(v_f/v_i)\n",
    "    return work\n",
    "\n"
   ]
  },
  {
   "cell_type": "code",
   "execution_count": null,
   "metadata": {},
   "outputs": [],
   "source": []
  }
 ],
 "metadata": {
  "kernelspec": {
   "display_name": "Python 3",
   "language": "python",
   "name": "python3"
  },
  "language_info": {
   "codemirror_mode": {
    "name": "ipython",
    "version": 3
   },
   "file_extension": ".py",
   "mimetype": "text/x-python",
   "name": "python",
   "nbconvert_exporter": "python",
   "pygments_lexer": "ipython3",
   "version": "3.6.5"
  }
 },
 "nbformat": 4,
 "nbformat_minor": 2
}
