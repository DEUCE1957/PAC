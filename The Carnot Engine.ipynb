{
 "cells": [
  {
   "attachments": {},
   "cell_type": "markdown",
   "metadata": {},
   "source": [
    "### The Carnot Engine\n",
    "With the laws of ThermoDynamics at our fingertips, let us try to visualise a classic engine: the carnot engine. The carnot engine operates in a cycle using an ideal gas to produce work W in 4 stages:\n",
    "1.  Adiabatic Compression\n",
    "2.  Isothermal Expansion at $T_h$ and with $Q_{in}$\n",
    "3.  Adiabatic Expansion \n",
    "4.  Isothermal Compression at $T_c$ and which releases $Q_{out}$\n",
    "\n",
    "![Image](https://upload.wikimedia.org/wikipedia/commons/thumb/0/06/Carnot_cycle_p-V_diagram.svg/800px-Carnot_cycle_p-V_diagram.svg.png)"
   ]
  },
  {
   "cell_type": "markdown",
   "metadata": {},
   "source": [
    "![The Carnot Cycle](http://hyperphysics.phy-astr.gsu.edu/hbase/thermo/imgheat/carnot.png)"
   ]
  },
  {
   "cell_type": "markdown",
   "metadata": {},
   "source": [
    "To begin, we can write a function that describes an IsoThermal Stage. Here we are given a reservoir temperature, an initial volume and a final volume and should return the work done. \n",
    "\n",
    "$W_{isotherm} = \\frac{nR}{\\gamma-1}log(\\frac{V_2}{V_1})$"
   ]
  },
  {
   "cell_type": "code",
   "execution_count": 4,
   "metadata": {},
   "outputs": [],
   "source": [
    "import math\n",
    "def W_Isotherm(n,V1,V2):\n",
    "    R = 8.3144598\n",
    "    work = n*R*math.log(V2/V1)\n",
    "    return work"
   ]
  },
  {
   "cell_type": "markdown",
   "metadata": {},
   "source": [
    "Next a similar function to calculate work done for an Adiabatic change, where no heat is exchanged. \n",
    "\n",
    "$W_{adiabatic }=\\frac{\\mu R}{\\gamma -1}(T_h-T_c)$"
   ]
  },
  {
   "cell_type": "code",
   "execution_count": 3,
   "metadata": {},
   "outputs": [],
   "source": [
    "def W_adiabatic(n, gamma, T2,T1):\n",
    "    work = (n * R * (T2 - T1))/(gamma - 1)\n",
    "    return work"
   ]
  },
  {
   "cell_type": "markdown",
   "metadata": {},
   "source": [
    "Merge your two functions into one that calculates the total work done in a cycle of the Carnot Engine."
   ]
  },
  {
   "cell_type": "code",
   "execution_count": null,
   "metadata": {},
   "outputs": [],
   "source": [
    "def W_done_classic(n,gamma,T1,T2,V1,V2,V3,V4):\n",
    "    # Adiabatic Compression\n",
    "    W1 = W_adiabatic(n, gamma, T2, T1)\n",
    "    # Isothermal Expansion\n",
    "    W2 = W_Isotherm(n, V1, V2)\n",
    "    # Adiabatic Expansion\n",
    "    W3 = W_adiabatic(n,gamma, T1, T2)\n",
    "    # Isothermal Expansion\n",
    "    W4 = W_Isotherm(n, V3, V4)\n",
    "    return W1 + W2 + W3 + W4\n"
   ]
  },
  {
   "cell_type": "markdown",
   "metadata": {},
   "source": [
    "Finding the numer of moles present in a system is tedious. An alternative approach is to evaluate the cycle in the Temperature-Entropy (T-S) domain:\n",
    "![image](https://upload.wikimedia.org/wikipedia/commons/thumb/0/09/Carnot_Cycle_T-S_diagram.svg/800px-Carnot_Cycle_T-S_diagram.svg.png)\n",
    "\n",
    "We can then define a loop integral to get the work done in a cycle:\n",
    "$W = \\oint PdV = \\oint TdS = (T2 - T1)(S2 - S1)$"
   ]
  },
  {
   "cell_type": "code",
   "execution_count": null,
   "metadata": {},
   "outputs": [],
   "source": [
    "def W_done_entropy(T_h,T_c,S_b,S_a):\n",
    "    return (T_h - T_c)*(S_b-S_a)\n"
   ]
  },
  {
   "cell_type": "markdown",
   "metadata": {},
   "source": [
    "Entropy S however is also notoriously difficult to measure. Instead we can deduce it by considering the transfer of energy into and out of the system.\n",
    "\n",
    "$Q_h = T_h(S_b - S_a)$\n",
    "\n",
    "$Q_c = T_c(S_b - S_a)$\n"
   ]
  },
  {
   "cell_type": "code",
   "execution_count": null,
   "metadata": {},
   "outputs": [],
   "source": [
    "def W_done_practical(Q_h,Q_c,T_h,T_c):\n",
    "    deltaS = Q_h / T_h\n",
    "    return (T_h - T_c)*deltaS"
   ]
  },
  {
   "cell_type": "markdown",
   "metadata": {},
   "source": [
    "Using the understanding you built in making your Work_done functions, plot any Carnot Engine cycle given $Q_h$, $Q_c$, $T_h$ and $T_c$. You may assume the gas is an ideal gas and that it has $f$ degrees of freedom.\n",
    "\n",
    "$n*R*math.log(V2/V1) + n*R*math.log(V1/V2) + (n * R * (T2 - T1))/(gamma - 1) + (n * R * (T1 - T2))/(gamma - 1)$"
   ]
  },
  {
   "cell_type": "code",
   "execution_count": null,
   "metadata": {},
   "outputs": [],
   "source": [
    "def carnot(Qh,Qc,Th,Tc,f):\n",
    "    W = W_done_practical(Qh,Qc,Th,Tc)\n",
    "    gamma = 1 + (2/f)\n",
    "    ratioV14 = math.pow(Tc/Th, 1/(gamma-1))\n",
    "    ratioV23 = math.pow(Th/Tc, 1/(gamma-1))\n",
    "    \n",
    "    \n",
    "    # ratioV12 = ???\n",
    "    # Th*V1**(gamma-1) = Tc*V4**(gamma-1)\n",
    "    # V1**(gamma-1)/V2**(gamma-1) = root[gamma-1](Tc/Th)\n",
    "    # n*R*math.log(V2/V1) + n**math.log(V1/V2) + (n * R * (T2 - T1))/(gamma - 1)\n",
    "    \n",
    "    # n*R*math.log(V2/V1)\n",
    "    # (n * R * (T2 - T1))/(gamma - 1)"
   ]
  }
 ],
 "metadata": {
  "kernelspec": {
   "display_name": "Python 3",
   "language": "python",
   "name": "python3"
  },
  "language_info": {
   "codemirror_mode": {
    "name": "ipython",
    "version": 3
   },
   "file_extension": ".py",
   "mimetype": "text/x-python",
   "name": "python",
   "nbconvert_exporter": "python",
   "pygments_lexer": "ipython3",
   "version": "3.7.4"
  }
 },
 "nbformat": 4,
 "nbformat_minor": 2
}
