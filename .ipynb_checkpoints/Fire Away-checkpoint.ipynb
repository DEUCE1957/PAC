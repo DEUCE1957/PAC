{
 "cells": [
  {
   "cell_type": "markdown",
   "metadata": {},
   "source": [
    "### Fire Away\n",
    "Given v0, gravity and an initial angle. Plot the trajectory of a cannonball."
   ]
  },
  {
   "cell_type": "code",
   "execution_count": 42,
   "metadata": {},
   "outputs": [
    {
     "ename": "SyntaxError",
     "evalue": "invalid syntax (<ipython-input-42-c7694ac1cf8d>, line 12)",
     "output_type": "error",
     "traceback": [
      "\u001b[1;36m  File \u001b[1;32m\"<ipython-input-42-c7694ac1cf8d>\"\u001b[1;36m, line \u001b[1;32m12\u001b[0m\n\u001b[1;33m    t = np.linspace(0,tTotal,(int) math.sqrt(tTotal))\u001b[0m\n\u001b[1;37m                                      ^\u001b[0m\n\u001b[1;31mSyntaxError\u001b[0m\u001b[1;31m:\u001b[0m invalid syntax\n"
     ]
    }
   ],
   "source": [
    "import math\n",
    "import numpy as np\n",
    "import matplotlib.pyplot as plt\n",
    "\n",
    "def projection(v0,g,theta):\n",
    "    x_velocity = v0 * math.cos(theta)\n",
    "    \n",
    "    tPeak = abs((math.sin(theta)*v0)/g)\n",
    "    tTotal = 2*tPeak\n",
    "    #xMax = x_velocity * tTotal\n",
    "    \n",
    "    t = np.linspace(0,tTotal,100)\n",
    "    y = ( v0 * math.sin(theta) )*t + (0.5)*g*(t**2)\n",
    "    x = t * x_velocity\n",
    "    #print(y)\n",
    "    plt.plot(x,y,color='red',marker='d')\n",
    "    plt.xlabel(\"Distance (m)\")\n",
    "    plt.ylabel(\"Height (m)\")\n",
    "        \n",
    "    #At peak y_velocity = 0, find time taken to get there\n",
    "    # y = yo + Vy * t + 1/2*g*t**2\n",
    "    # 0 = yPeak + 1/2 g * t**2\n",
    "    # t = sqrt ( yPeak / (1/2 * g) )\n",
    "    # v**2 = vo**2 + 2*g*t\n",
    "    # 0 = v0 * math.sin(theta) + 2 * g * t\n",
    "    # t = v0 * math.sin(theta) / (2*g)\n",
    "\n",
    "projection(30.0,-9.8,45.0)\n",
    "    "
   ]
  },
  {
   "cell_type": "code",
   "execution_count": null,
   "metadata": {},
   "outputs": [],
   "source": []
  }
 ],
 "metadata": {
  "kernelspec": {
   "display_name": "Python 3",
   "language": "python",
   "name": "python3"
  },
  "language_info": {
   "codemirror_mode": {
    "name": "ipython",
    "version": 3
   },
   "file_extension": ".py",
   "mimetype": "text/x-python",
   "name": "python",
   "nbconvert_exporter": "python",
   "pygments_lexer": "ipython3",
   "version": "3.6.5"
  }
 },
 "nbformat": 4,
 "nbformat_minor": 2
}
