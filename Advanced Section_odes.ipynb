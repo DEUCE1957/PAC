{
 "cells": [
  {
   "cell_type": "markdown",
   "metadata": {},
   "source": [
    "# Advanced:\n",
    "# Solving ODEs with numpy and scipy"
   ]
  },
  {
   "cell_type": "markdown",
   "metadata": {},
   "source": [
    "Many differential equations encountered in Physics are not analytically solvable and hence numerical methods must be employed to obtain solutions. The Scipy library has many integration functions which are designed for solving ODE's."
   ]
  },
  {
   "cell_type": "markdown",
   "metadata": {},
   "source": [
    "# Using odeint:\n"
   ]
  },
  {
   "cell_type": "markdown",
   "metadata": {},
   "source": [
    "Suppose we have the differential equation: \n",
    "$\\frac{dy}{dt} = y^2 + t^2 $ where $y$ is some function of $t$.With the initial condition $y(0) = 1$."
   ]
  },
  {
   "cell_type": "markdown",
   "metadata": {},
   "source": [
    "We can solve this ode by using the following code:"
   ]
  },
  {
   "cell_type": "markdown",
   "metadata": {},
   "source": [
    "    \n",
    "    import scipy.integrate as integrate\n",
    "    def diffeq(y,t):\n",
    "        x1 = y\n",
    "        dydt = [x1**2+t**2]\n",
    "        return dydt\n",
    "    dt,tmin,tmax = 0.1,0,200\n",
    "    step = int((tmax-tmin)/dt)\n",
    "    t = np.linspace(tmin,tmax,step)\n",
    "    y0 = 1\n",
    "    sol = integrate.odeint(diffeq,y0,t)\n",
    "    "
   ]
  },
  {
   "cell_type": "markdown",
   "metadata": {},
   "source": [
    "We need to define the function diffeq because we need to tell odeint what our differential equation we want to solve is. We also need to specify over what time interval we want the solution and the initial condition for our problem. To do this we pick a max and min time as well as the time step dt. Finally, sol will be a list of the same size as t which will contain the desired solution. Note that dydt in the diffeq funciton is in the format of a list, so one can use it to solve a system of ODEs by specifying x1,x2 and so on."
   ]
  },
  {
   "cell_type": "markdown",
   "metadata": {},
   "source": [
    "# Exercise 1 Van der Pol Oscillator"
   ]
  },
  {
   "cell_type": "markdown",
   "metadata": {},
   "source": [
    "The Van der Pol equation describes certain non-linear oscillations in an electronic circuit known as \"relaxation-oscillations\".\n",
    "It obeys the following differential equation:\n",
    "$$\n",
    "\\frac{d^2y}{dt^2}-\\mu(1-y^2)-\\frac{dy}{dt}+y=0\\, \\text{where} \\,\\mu\\, \\text{is some constant}.\n",
    "$$"
   ]
  },
  {
   "cell_type": "markdown",
   "metadata": {},
   "source": [
    "1) To start off, set $\\mu = 1$ and solve the Van der Pol equation. Make a plot of $y$ vs $t$ as well as $y$ vs $\\frac{dy}{dt}$  (Hint: how can you transform a second order ODE into two first order ODEs ?)"
   ]
  },
  {
   "cell_type": "markdown",
   "metadata": {},
   "source": [
    "2) Solve the equation for a range of values $ 0 < \\mu < 4$ (pick an appropriate step size) and show each $y$ vs $\\frac{dy}{dt}$ plot on the same figure."
   ]
  },
  {
   "cell_type": "markdown",
   "metadata": {},
   "source": [
    "# Exercise 2 Wag the Dog"
   ]
  },
  {
   "cell_type": "markdown",
   "metadata": {},
   "source": [
    "In this exercise we explore a way to find the allowed energy values of a quantum mechanical operator.\n",
    "Consider the quantum mechanical harmonic oscillator it satisfies the time-independent Schrodinger equation:\n",
    "$$\n",
    "-\\frac{\\hbar^2}{2m} \\frac{d^2\\psi}{dx^2} + \\frac{1}{2} m \\omega^2 x^2 \\psi = E \\psi.\n",
    "$$\n",
    "Introduce a variable change $\\zeta = \\sqrt{\\frac{m \\omega}{\\hbar}}x$, the equation then becomes:\n",
    "$$\n",
    "\\frac{d^2\\psi}{d\\zeta^2} = (\\zeta^2-K)\\psi \\, \\text{, where K is related to the energy by}\\, K =\\frac{2E}{\\hbar \\omega}.\n",
    "$$\n",
    "Hence if we find K we have found the energy of the system. We know that physically sensible solutions to this equation must be normalizable and hence cannot be unbounded as $\\zeta$ gets large. Therefore, if we guess a value of $K$, say $K_0$ and get a function going off to $+\\infty$ the real value of $K$ must have been smaller. We guess again and pick another value $K_1$ if the function now goes off to $-\\infty$ the real value of $K$ is in between $K_1$ and $K_0$. This process can be repeated to get closer and closer to the actual value of K.\n",
    "Use this method to obtain the energy of the ground state of the quantum harmonic oscillator (set $\\psi(0) = 0 , \\frac{d\\psi}{d\\zeta}(0) = 1$)."
   ]
  },
  {
   "cell_type": "markdown",
   "metadata": {},
   "source": [
    "# Exercise 3 The Chua equations"
   ]
  },
  {
   "cell_type": "markdown",
   "metadata": {},
   "source": [
    "The Chua circuit is the simplest possible circuit that behaves chaotically, as in it has non-periodic, deterministic behaviour that is very dependent on initial conditions. It satisfies the following ODEs:\n",
    "$$\n",
    "\\frac{dx}{dt} = \\alpha(y-x-\\phi(x))\n",
    "$$\n",
    "$$\n",
    "\\frac{dy}{dt} = x-y+z \n",
    "$$\n",
    "$$\n",
    "\\frac{dz}{dt} = -\\beta y \n",
    "$$"
   ]
  },
  {
   "cell_type": "markdown",
   "metadata": {},
   "source": [
    "Where:"
   ]
  },
  {
   "cell_type": "markdown",
   "metadata": {},
   "source": [
    " $\\phi(x) = m_1 x +m_0-m_1$ if  $x>1$"
   ]
  },
  {
   "cell_type": "markdown",
   "metadata": {},
   "source": [
    "$\\quad \\, \\, \\quad m_0x $ if  $-1 \\leq\\ x \\leq 1 $"
   ]
  },
  {
   "cell_type": "markdown",
   "metadata": {},
   "source": [
    "$\\quad \\, \\, \\quad m_1x-m_0+m_1 $ if  $x < -1 $"
   ]
  },
  {
   "cell_type": "markdown",
   "metadata": {},
   "source": [
    "and $\\alpha$, $\\beta$, $m_0$, $m_1$ are constants."
   ]
  },
  {
   "cell_type": "markdown",
   "metadata": {},
   "source": [
    "1) Solve the Chua equations for $\\alpha = 10$, $\\beta = 16 $, $m_1=-\\frac{5}{7}$, $m_0 = -\\frac{8}{7}$ with initial condition $\\vec{y_0}(0) = (-0.1,0.5,0.5)$. Plot $y$ vs $x$, $z$ vs $y$ and $z$ vs $x$."
   ]
  },
  {
   "cell_type": "markdown",
   "metadata": {},
   "source": [
    "2) Repeat part 1) but change the values of $\\alpha$ to 5,8,9,12."
   ]
  },
  {
   "cell_type": "markdown",
   "metadata": {},
   "source": [
    "To explore the notion of chaos we define a distance between two trajectories.\n",
    "If $\\vec{y_1(t)}$ and $\\vec{y_2(t)}$ are two solutions to the Chua system, then we can define a distance between them as follows:\n",
    "$$\n",
    "d(\\vec{y_1},\\vec{y_2})=\\int_{t_0}^{t_f} | \\vec{y_1}(t)-\\vec{y_2}(t)| dt\n",
    "$$"
   ]
  },
  {
   "cell_type": "markdown",
   "metadata": {},
   "source": [
    "We can use the scipy.integrate function romb to calculate a definite integral:\n",
    "    import scipy.integrate as integrate\n",
    "    integrate.romb(y,dx=dt)\n",
    "Where y is the list containing the values of our function and we set dt to be the same as the time step in this list."
   ]
  },
  {
   "cell_type": "markdown",
   "metadata": {},
   "source": [
    "3) Perturb the initial conditions by some small number $\\epsilon$ for $\\alpha = 10$ plot the function $| \\vec{y_0}(t)-\\vec{y_\\epsilon}(t)|$ and calculate the distance between them. Repeat this exercise for $\\alpha = 5,8,9$ and explain the differences that you see.\n",
    "Note: romb requires that the list containing function being integrated has length $2^k + 1$   for some integer $k$ so you may need to change the structure of your list containing the time values."
   ]
  },
  {
   "cell_type": "code",
   "execution_count": null,
   "metadata": {},
   "outputs": [],
   "source": []
  }
 ],
 "metadata": {
  "kernelspec": {
   "display_name": "Python 3",
   "language": "python",
   "name": "python3"
  },
  "language_info": {
   "codemirror_mode": {
    "name": "ipython",
    "version": 3
   },
   "file_extension": ".py",
   "mimetype": "text/x-python",
   "name": "python",
   "nbconvert_exporter": "python",
   "pygments_lexer": "ipython3",
   "version": "3.7.0"
  }
 },
 "nbformat": 4,
 "nbformat_minor": 2
}
