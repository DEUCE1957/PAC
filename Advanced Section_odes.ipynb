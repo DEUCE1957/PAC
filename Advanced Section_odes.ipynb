{
 "cells": [
  {
   "cell_type": "markdown",
   "metadata": {},
   "source": [
    "# Advanced:\n",
    "# Solving ODEs with numpy and scipy"
   ]
  },
  {
   "cell_type": "markdown",
   "metadata": {},
   "source": [
    "Many differential equations encountered in Physics are not analytically solvable and hence numerical methods must be employed to obtain solutions. The Scipy library has many integration functions which are designed for solving ODE's."
   ]
  },
  {
   "cell_type": "markdown",
   "metadata": {},
   "source": [
    "# Using odeint:\n"
   ]
  },
  {
   "cell_type": "markdown",
   "metadata": {},
   "source": [
    "Suppose we have the differential equation: \n",
    "$\\frac{dy}{dt} = y^2 + t^2 $ where $y$ is some function of $t$.With the initial condition $y(0) = 1$."
   ]
  },
  {
   "cell_type": "markdown",
   "metadata": {},
   "source": [
    "We can solve this ode by using the following code:"
   ]
  },
  {
   "cell_type": "markdown",
   "metadata": {},
   "source": [
    "    \n",
    "    import scipy.integrate
    "    import numpy as np\n",
    "    \n",
    "    #Takes as input y and t and returns the derivate dy/dt for those values\n",
    "    def diffeq(y,t):\n",
    "        x1 = y\n",
    "        dydt = [x1**2+t**2]\n",
    "        return dydt\n",
    "    dt,tmin,tmax = 0.1,0,200\n",
    "    step = int((tmax-tmin)/dt)\n",
    "    t = np.linspace(tmin,tmax,step) #Start, Finish, No. of Steps\n",
    "    y0 = 1\n",
    "    sol = integrate.odeint(diffeq,y0,t) # diffeq : Model [returns derivs at requests y and t values], \n",
    "                                        # y0 : Initial Condition, t: Times to solve at\n",
    "    "
   ]
  },
  {
   "cell_type": "markdown",
   "metadata": {},
   "source": [
    "We need to define the function diffeq because we need to tell odeint what our differential equation we want to solve is. We also need to specify over what time interval we want the solution and the initial condition for our problem. To do this we pick a max and min time as well as the time step dt. Finally, sol will be a list of the same size as t which will contain the desired solution. Note that dydt in the diffeq funciton is in the format of a list, so one can use it to solve a system of ODEs by specifying x1,x2 and so on."
   ]
  },
  {
   "cell_type": "markdown",
   "metadata": {},
   "source": [
    "# Exercise 1 Van der Pol Oscillator"
   ]
  },
  {
   "cell_type": "markdown",
   "metadata": {},
   "source": [
    "The Van der Pol equation describes certain non-linear oscillations in an electronic circuit known as \"relaxation-oscillations\".\n",
    "It obeys the following differential equation:\n",
    "$$\n",
    "\\frac{d^2y}{dt^2}-\\mu(1-y^2)\\frac{dy}{dt}+y=0\\, \\text{where} \\,\\mu\\, \\text{is some constant}.\n",
    "$$"
   ]
  },
  {
   "cell_type": "markdown",
   "metadata": {},
   "source": [
    "1) To start off, set $\\mu = 1$ and solve the Van der Pol equation. Make a plot of $y$ vs $t$ as well as $y$ vs $\\frac{dy}{dt}$  (Hint: how can you transform a second order ODE into two first order ODEs ?)"
   ]
  },
  {
   "cell_type": "code",
   "execution_count": 12,
   "metadata": {},
   "outputs": [
    {
     "name": "stdout",
     "output_type": "stream",
     "text": [
      "array([[ 1.],\n",
      "       [nan],\n",
      "       [nan],\n",
      "       ...,\n",
      "       [ 0.],\n",
      "       [ 0.],\n",
      "       [ 0.]])\n"
     ]
    },
    {
     "name": "stderr",
     "output_type": "stream",
     "text": [
      "C:\\Users\\Deuce\\Anaconda3\\lib\\site-packages\\ipykernel_launcher.py:18: RuntimeWarning: divide by zero encountered in true_divide\n",
      "C:\\Users\\Deuce\\Anaconda3\\lib\\site-packages\\ipykernel_launcher.py:24: RuntimeWarning: invalid value encountered in multiply\n",
      "C:\\Users\\Deuce\\Anaconda3\\lib\\site-packages\\scipy\\integrate\\odepack.py:236: ODEintWarning: Excess accuracy requested (tolerances too small). Run with full_output = 1 to get quantitative information.\n",
      "  warnings.warn(warning_msg, ODEintWarning)\n"
     ]
    },
    {
     "data": {
      "text/plain": [
       "[<matplotlib.lines.Line2D at 0x2146e0e4550>]"
      ]
     },
     "execution_count": 12,
     "metadata": {},
     "output_type": "execute_result"
    },
    {
     "data": {
      "image/png": "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\n",
      "text/plain": [
       "<Figure size 432x288 with 1 Axes>"
      ]
     },
     "metadata": {},
     "output_type": "display_data"
    }
   ],
   "source": [
    "import scipy.integrate\n",
    "import numpy as np\n",
    "import matplotlib.pyplot as plt\n",
    "import pprint as pp\n",
    "\n",
    "# So you have y'' - (1-y^2)y'+y=0\n",
    "# Then you have the first equation y'=z\n",
    "# Then\n",
    "# Z'-(1-y^2)z+y=0\n",
    "# So these are the two equations\n",
    "#z'' - (1-y^2)z + y = 0\n",
    "#z = dydt\n",
    "#function that returns dy/dt (which is z)\n",
    "\n",
    "# dy / dt = z\n",
    "# z'' - (1-y^2)z + y = 0\n",
    "def ymodel(y,t):\n",
    "    dydt = [y / t]\n",
    "    return dydt\n",
    "\n",
    "#function that returns dz/dt (which is d2y/dt2)\n",
    "def zmodel(y,t):\n",
    "    dzdt = [(1 - y**2) * ymodel(y,t) - y]\n",
    "    \n",
    "dt,tmin,tmax = 0.1,0,200\n",
    "step = int((tmax-tmin)/dt)\n",
    "t = np.linspace(tmin,tmax,step)\n",
    "y0 = 1 \n",
    "sol = scipy.integrate.odeint(zmodel,y0,t)\n",
    "pp.pprint(sol)\n",
    "plt.plot(t,sol)"
   ]
  },
  {
   "cell_type": "markdown",
   "metadata": {},
   "source": [
    "2) Solve the equation for a range of values $ 0 < \\mu < 4$ (pick an appropriate step size) and show each $y$ vs $\\frac{dy}{dt}$ plot on the same figure."
   ]
  },
  {
   "cell_type": "code",
   "execution_count": 29,
   "metadata": {},
   "outputs": [
    {
     "name": "stderr",
     "output_type": "stream",
     "text": [
      "C:\\Users\\Deuce\\Anaconda3\\lib\\site-packages\\scipy\\integrate\\odepack.py:236: ODEintWarning: Excess accuracy requested (tolerances too small). Run with full_output = 1 to get quantitative information.\n",
      "  warnings.warn(warning_msg, ODEintWarning)\n"
     ]
    },
    {
     "data": {
      "image/png": "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\n",
      "text/plain": [
       "<Figure size 432x288 with 3 Axes>"
      ]
     },
     "metadata": {},
     "output_type": "display_data"
    }
   ],
   "source": [
    "# dy / dt = z\n",
    "# z'' - (1-y^2)z + y = 0\n",
    "def ymodel(y,t):\n",
    "    dydt = [y / t]\n",
    "    return dydt\n",
    "\n",
    "#z0 = 0\n",
    "#function that returns dz/dt (which is d2y/dt2)\n",
    "def zmodel(y,t,mu):\n",
    "    dzdt = [mu*(1 - y**2) * ymodel(y,t) - y]\n",
    "    \n",
    "dt,tmin,tmax = 0.1,1,200\n",
    "step = int((tmax-tmin)/dt)\n",
    "t = np.linspace(tmin,tmax,step)\n",
    "y0 = 1 \n",
    "fig = plt.figure()\n",
    "for mu in range(1,4):\n",
    "    sol = scipy.integrate.odeint(zmodel,y0,t,args=(mu,))\n",
    "    ax = fig.add_subplot(2,2,mu)\n",
    "    ax.plot(t,sol)\n"
   ]
  },
  {
   "cell_type": "markdown",
   "metadata": {},
   "source": [
    "# Exercise 2 Wag the Dog"
   ]
  },
  {
   "cell_type": "markdown",
   "metadata": {},
   "source": [
    "In this exercise we explore a way to find the allowed energy values of a quantum mechanical operator.\n",
    "Consider the quantum mechanical harmonic oscillator it satisfies the time-independent Schrodinger equation:\n",
    "$$\n",
    "-\\frac{\\hbar^2}{2m} \\frac{d^2\\psi}{dx^2} + \\frac{1}{2} m \\omega^2 x^2 \\psi = E \\psi.\n",
    "$$\n",
    "Introduce a variable change $\\zeta = \\sqrt{\\frac{m \\omega}{\\hbar}}x$, the equation then becomes:\n",
    "$$\n",
    "\\frac{d^2\\psi}{d\\zeta^2} = (\\zeta^2-K)\\psi \\, \\text{, where K is related to the energy by}\\, K =\\frac{2E}{\\hbar \\omega}.\n",
    "$$\n",
    "Hence if we find K we have found the energy of the system. We know that physically sensible solutions to this equation must be normalizable and hence cannot be unbounded as $\\zeta$ gets large. Therefore, if we guess a value of $K$, say $K_0$ and get a function going off to $+\\infty$ the real value of $K$ must have been smaller. We guess again and pick another value $K_1$ if the function now goes off to $-\\infty$ the real value of $K$ is in between $K_1$ and $K_0$. This process can be repeated to get closer and closer to the actual value of K.\n",
    "Use this method to obtain the energy of the ground state of the quantum harmonic oscillator (set $\\psi(0) = 0 , \\frac{d\\psi}{d\\zeta}(0) = 1$)."
   ]
  },
  {
   "cell_type": "markdown",
   "metadata": {},
   "source": [
    "# Exercise 3 The Chua equations"
   ]
  },
  {
   "cell_type": "markdown",
   "metadata": {},
   "source": [
    "The Chua circuit is the simplest possible circuit that behaves chaotically, as in it has non-periodic, deterministic behaviour that is very dependent on initial conditions. It satisfies the following ODEs:\n",
    "$$\n",
    "\\frac{dx}{dt} = \\alpha(y-x-\\phi(x))\n",
    "$$\n",
    "$$\n",
    "\\frac{dy}{dt} = x-y+z \n",
    "$$\n",
    "$$\n",
    "\\frac{dz}{dt} = -\\beta y \n",
    "$$"
   ]
  },
  {
   "cell_type": "markdown",
   "metadata": {},
   "source": [
    "Where:"
   ]
  },
  {
   "cell_type": "markdown",
   "metadata": {},
   "source": [
    " $\\phi(x) = m_1 x +m_0-m_1$ if  $x>1$"
   ]
  },
  {
   "cell_type": "markdown",
   "metadata": {},
   "source": [
    "$\\quad \\, \\, \\quad m_0x $ if  $-1 \\leq\\ x \\leq 1 $"
   ]
  },
  {
   "cell_type": "markdown",
   "metadata": {},
   "source": [
    "$\\quad \\, \\, \\quad m_1x-m_0+m_1 $ if  $x < -1 $"
   ]
  },
  {
   "cell_type": "markdown",
   "metadata": {},
   "source": [
    "and $\\alpha$, $\\beta$, $m_0$, $m_1$ are constants."
   ]
  },
  {
   "cell_type": "markdown",
   "metadata": {},
   "source": [
    "1) Solve the Chua equations for $\\alpha = 10$, $\\beta = 16 $, $m_1=-\\frac{5}{7}$, $m_0 = -\\frac{8}{7}$ with initial condition $\\vec{y_0}(0) = (-0.1,0.5,0.5)$. Plot $y$ vs $x$, $z$ vs $y$ and $z$ vs $x$."
   ]
  },
  {
   "cell_type": "markdown",
   "metadata": {},
   "source": [
    "2) Repeat part 1) but change the values of $\\alpha$ to 5,8,9,12."
   ]
  },
  {
   "cell_type": "markdown",
   "metadata": {},
   "source": [
    "To explore the notion of chaos we define a distance between two trajectories.\n",
    "If $\\vec{y_1(t)}$ and $\\vec{y_2(t)}$ are two solutions to the Chua system, then we can define a distance between them as follows:\n",
    "$$\n",
    "d(\\vec{y_1},\\vec{y_2})=\\int_{t_0}^{t_f} | \\vec{y_1}(t)-\\vec{y_2}(t)| dt\n",
    "$$"
   ]
  },
  {
   "cell_type": "markdown",
   "metadata": {},
   "source": [
    "We can use the scipy.integrate function romb to calculate a definite integral:\n",
    "    import scipy.integrate as integrate\n",
    "    integrate.romb(y,dx=dt)\n",
    "Where y is the list containing the values of our function and we set dt to be the same as the time step in this list."
   ]
  },
  {
   "cell_type": "markdown",
   "metadata": {},
   "source": [
    "3) Perturb the initial conditions by some small number $\\epsilon$ for $\\alpha = 10$ plot the function $| \\vec{y_0}(t)-\\vec{y_\\epsilon}(t)|$ and calculate the distance between them. Repeat this exercise for $\\alpha = 5,8,9$ and explain the differences that you see.\n",
    "Note: romb requires that the list containing function being integrated has length $2^k + 1$   for some integer $k$ so you may need to change the structure of your list containing the time values."
   ]
  },
  {
   "cell_type": "code",
   "execution_count": null,
   "metadata": {},
   "outputs": [],
   "source": []
  }
 ],
 "metadata": {
  "kernelspec": {
   "display_name": "Python 3",
   "language": "python",
   "name": "python3"
  },
  "language_info": {
   "codemirror_mode": {
    "name": "ipython",
    "version": 3
   },
   "file_extension": ".py",
   "mimetype": "text/x-python",
   "name": "python",
   "nbconvert_exporter": "python",
   "pygments_lexer": "ipython3",
   "version": "3.6.5"
  }
 },
 "nbformat": 4,
 "nbformat_minor": 2
}
