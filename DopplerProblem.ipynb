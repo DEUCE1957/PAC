{
 "cells": [
  {
   "cell_type": "markdown",
   "metadata": {},
   "source": [
    "## C: Advanced\n",
    "In this section we will assume you know how to use both **MatPlotLib** and **Numpy** (see Intermediate section) as well as a good understanding of Python's features (see Beginner section). \n",
    "\n",
    "Some of these problems will be quite challenging, use a pen and paper if you'd like and discuss with friends. If stuck, talk to a tutor for hints or explanations. "
   ]
  },
  {
   "cell_type": "markdown",
   "metadata": {},
   "source": [
    "### The Doppler Problem\n",
    "When a source of sound is moving toward an observer, the frequency of that sound is higher, and when a source of sound is moving away from an observer its frequency is lower. This is quite a common experience, for instance you may notice it with a passing firetruck and its blaring sirens.\n",
    "\n",
    "To wrap your head around this, think of one of the knights who say \"Ni\" and have them be at rest emitting sound at a constant frequency and in all directions. The velocity of the resulting wave will only depend on the medium it is travelling in. If the knight starts running though, in front of the knight they will be 'catching up' to the wave crests and so an observer in front of the source will observe more wave crests passing per second (a higher frequency). Conversely, an observer behind the knight the spacing between wave crests is larger than normal and so the frequency is lower. (Drawings definitely help here)"
   ]
  },
  {
   "cell_type": "markdown",
   "metadata": {},
   "source": [
    "![Doppler Shift Image](https://flypaper.soundfly.com/wp-content/uploads/2018/01/doppler-effect-header.jpg)\n",
    "**Source**:_FlyPaper SoundFly_\n",
    "\n",
    "To begin, we'll need to know whether the observer and the source are moving away from each other or towards each other. You may want to draw out the different situations using pen and paper. For convenience, let's define this as a function which returns True if they are moving towards each other and False if not.\n",
    "\n",
    "We will call this function _movingTowards_ and a template is defined below"
   ]
  },
  {
   "cell_type": "code",
   "execution_count": null,
   "metadata": {},
   "outputs": [],
   "source": [
    "def movingTowards(x_source, v_source,x_observer, v_observer):\n",
    "    rightSourceDominant = False\n",
    "    leftSourceDominant = True\n",
    "    if v_source > 0 and v_observer > 0:\n",
    "        if v_source > v_observer:\n",
    "            rightSourceDominant = True\n",
    "    elif v_source < 0 and v_observer < 0:\n",
    "        if (v_source < v_observer):\n",
    "            leftSourceDominant = True\n",
    "            \n",
    "    if(v_source == v_observer):\n",
    "        return None\n",
    "    elif(x_source <= x_observer):\n",
    "        if (v_source >= 0 and v_observer < 0):\n",
    "            return True\n",
    "        elif (v_source > 0 and v_observer <= 0):\n",
    "            return True\n",
    "        elif(rightSourceDominant):\n",
    "            return True\n",
    "    else:\n",
    "        if(v_source <= 0 and v_observer > 0):\n",
    "            return True\n",
    "        elif(v_source < 0 and v_observer >= 0):\n",
    "            return True\n",
    "        elif(leftSourceDominant):\n",
    "            return True\n",
    "    return False"
   ]
  },
  {
   "cell_type": "markdown",
   "metadata": {},
   "source": [
    "We have provided a suite of **tests** below to check your _movingTowards_ function returns the right output. Think carefully about how \n",
    "it evaluates each case."
   ]
  },
  {
   "cell_type": "code",
   "execution_count": null,
   "metadata": {},
   "outputs": [],
   "source": [
    "#Tests\n",
    "print( movingTowards(0,0,10,-4) )#TRUE : Observer > Source and Source is static, observer moving left\n",
    "print( movingTowards(0,5,10,-4) )#TRUE : Observer > Source and Source is moving right, observer moving left\n",
    "print( movingTowards(0,5,10,0)  )#TRUE : Observer > Source and Source is moving right, observer is static\n",
    "print( movingTowards(10,-5,0,0) )#TRUE : Source > Observer and Source is moving left, observer is static\n",
    "print( movingTowards(10,0,0,5)  )#TRUE : Source > Observer and Source is static, observer is moving right\n",
    "print( movingTowards(10,-5,0,0) )#TRUE : Source > Observer and Source is moving left, observer is static\n",
    "print( movingTowards(0,-5,10,0) )#FALSE : Observer > Source and Source is moving left, observer is static\n",
    "print( movingTowards(0,0,10,5)  )#FALSE : Observer > Source and Source is static, observer is moving right\n",
    "print( movingTowards(0,-5,10,5) )#FALSE : Observer > Source and Source is moving left, observer is moving right\n",
    "print( movingTowards(0,50,10,5) )#TRUE : Observer > Source and Source is moving right faster than observer"
   ]
  },
  {
   "cell_type": "markdown",
   "metadata": {},
   "source": [
    "#### Observed Frequency\n",
    "Now let's do some Physicsing!  \n",
    "\n",
    "**Pen and Paper**\n",
    "Try to derive an equation for the frequency observed by the observer for the two sitations. One where the two entities are moving towards each other and one where they are moving away from each other. Once you have this, translate it to a beautiful function :3 \n",
    "(**Hint**: Start by thinking about the wavelength resulting from the change in spacing between the crests)\n",
    "\n",
    "Use the _movingTowards_ function you defined previously to check if they are moving towards or away from each other, this is the handiness of FUNCTIONAL programming :D . By following a functional programming mentality, you split up problems into parts and avoid a lot of repetition in your code.\n"
   ]
  },
  {
   "cell_type": "code",
   "execution_count": null,
   "metadata": {},
   "outputs": [],
   "source": [
    "def getObservedFrequency(x_source,v_source,fSource,x_observer,v_observer,v_wave):\n",
    "    if (v_wave == v_source):\n",
    "        return None #This is a sonic boom!\n",
    "    towards = movingTowards(x_source,v_source,x_observer,v_observer)\n",
    "    if towards:\n",
    "        return fSource * ( (v_wave + v_observer) / (v_wave - v_source) )\n",
    "    else:\n",
    "        return fSource * ( (v_wave - v_observer) / (v_wave + v_source) )\n",
    "    #Your code here"
   ]
  },
  {
   "cell_type": "markdown",
   "metadata": {},
   "source": [
    "##### Testing\n",
    "Run this suite of tests to check if your _getObservedFrequency_ function is returning the right output!"
   ]
  },
  {
   "cell_type": "code",
   "execution_count": null,
   "metadata": {},
   "outputs": [],
   "source": [
    "#Source starts at 0m and moving 10m/s right, \n",
    "#Observer at 100m and stationary\n",
    "#Wave travels at 30m/s and has a frequency of 500Hz\n",
    "print ( \"%.2f Hz\" % getObservedFrequency(0,10,500,100,0,30) ) #Should return a Higher Frequency\n",
    "\n",
    "#Source starts at 0m and moving 15m/s right, \n",
    "#Observer at 20m and moving 5m/s right,\n",
    "#Wave travels at 30m/s and has a frequency of 200Hz\n",
    "print ( \"%.2f Hz\" % getObservedFrequency(0,15,200,20,5,60) )#Should return a Higher Frequency\n",
    "\n",
    "#Source starts at 0m and moving 5m/s left, \n",
    "#Observer at 10m and moving 10m/s right,\n",
    "#Wave travels at 60m/s and has a frequency of 300Hz\n",
    "print ( \"%.2f Hz\" % getObservedFrequency(0,-5,300,10,10,30) ) #Should return a Lower Frequency\n",
    "\n",
    "\n",
    "#Source starts at 20m and moving 5m/s right, \n",
    "#Observer at 0 and moving 5m/s left,\n",
    "#Wave travels at 60m/s and has a frequency of 300Hz\n",
    "print ( \"%.2f Hz\" % getObservedFrequency(20,5,300,0,-5,30) )#Should return the SAME frequency\n",
    "\n",
    "# What if the wave velocity is equal to the source velocity? \n",
    "print ( getObservedFrequency(20,30,300,0,-5,30) ) # Should return an error, did you handle this?"
   ]
  },
  {
   "cell_type": "markdown",
   "metadata": {},
   "source": [
    "#### Visualising the Doppler Effect\n",
    "You are given a source and an observer. The source has a certain starting position __x_source__ (along the x-axis) as well as a velocity __v_source__( + is to the right, - is to the left). The source is constantly emitting a sinusoidal signal at frequency __fSource__ which, given a certain medium, travels at __v_wave__. Similarly the observer has a starting position __x_observer__ and a velocity __v_observer__. These are values are passed as arguments to a function as: \n",
    "    \n",
    "    def doppler(x_source,v_source,fSource,x_observer,v_observer,duration,v_wave):\n",
    "        #Your code here\n",
    "\n",
    "\\[ Note that passsing this many arguments to a function is bad practise. The best way around this is to treat the source and the observer as objects with associated parameters, but this is way outside of the scope of this workshop (lookup Object-Oriented Programming :o , more info in Resources Section)\\]\n",
    "\n",
    "Using this information draw a plot that shows how the wave crests propagate from the source over time. For convenience, you can assume intervals of 1 second. \n",
    "\n",
    "For bonus points, this plot should also include:\n",
    "1. Markers for the observer and source\n",
    "2. A label with the source frequency and observed frequency (obtained using your handy little function from earlier) \n",
    "3. Automatic rescaling of the axes depending on the input parameters (will require some thought, at first you could just set it manually)\n",
    "\n"
   ]
  },
  {
   "cell_type": "code",
   "execution_count": null,
   "metadata": {},
   "outputs": [],
   "source": [
    "import matplotlib.pyplot as plt\n",
    "\n",
    "def doppler(x_source,v_source,fSource,x_observer,v_observer,duration,v_wave):\n",
    "    \n",
    "    # Find the observed frequency\n",
    "    frequency = getObservedFrequency(x_source,v_source,fSource,x_observer,v_observer,v_wave)\n",
    "        \n",
    "    #Creates a figure and a plot. \n",
    "    # Note that plt.subplots() returns a tuple, we use parallel assignment to immediately unpack the tuple and \n",
    "    # Assign each of its (two) elements to a different variable name\n",
    "    fig, ax = plt.subplots()\n",
    "    \n",
    "    #Set automatic plot limits\n",
    "    xUpperLim = max(x_source,x_observer,x_source+v_source*duration,x_observer+v_observer*duration)\n",
    "    xLowerLim = min(x_source,x_observer,x_source+v_source*duration,x_observer+v_observer*duration)\n",
    "    ax.set_xlim(xLowerLim,xUpperLim)\n",
    "    ymax = +v_wave*duration/2 \n",
    "    ax.set_ylim(-ymax,ymax)\n",
    "        \n",
    "    # Annotate is a powerful function for labelling your graphs\n",
    "    # We select a x,y position on the plot as our place of interest (in this case the 1st marker)\n",
    "    # Then we place text at a different x,y position (usually offset from the place of interest)\n",
    "    # The arrowProps draws an arrow from xy to xytext, with an internal(face) color \n",
    "    # The choice of text position is dynamic to the size of the plot (ymax).\n",
    "    ax.annotate('Observer observes %.2fHz'%frequency, xy=(x_observer, 0), xytext=(x_observer+1, ymax/3),\n",
    "            arrowprops=dict(facecolor='red'))\n",
    "    ax.annotate('Source emitting at %.2fHz' % fSource, xy=(x_source, 0), xytext=(x_source+1, ymax/2),\n",
    "            arrowprops=dict(facecolor='blue')) \n",
    "    \n",
    "    for t in range(1,duration):\n",
    "        circle=plt.Circle((x_source,0),v_wave*(duration-t),color='black',fill=False)\n",
    "        point=ax.plot(x_source,0,'*',color='blue')\n",
    "        point2=ax.plot(x_observer,0,'d',color='red')\n",
    "        ax.add_artist(circle)\n",
    "            \n",
    "        x_source += v_source # * 1 second\n",
    "        x_observer += v_observer # * 1 second\n",
    "        \n",
    "    fig.savefig('plot.png')\n",
    "\n",
    "    #Your code here\n",
    "    \n"
   ]
  },
  {
   "cell_type": "markdown",
   "metadata": {},
   "source": [
    "The next few cells include some (sensible) examples you might pass into the above function. Use them to test your visualisation."
   ]
  },
  {
   "cell_type": "code",
   "execution_count": null,
   "metadata": {},
   "outputs": [],
   "source": [
    "# Source starting at x=0 moving at 100m/s to the right \n",
    "# The source is emitting a sound at a frequency of 5000Hz\n",
    "# The observer is 1000m away and is stationary (v_observer=0m/s)\n",
    "# We want the waves to reach the observer, so 50 seconds is a good duration\n",
    "# Sound travels at about 340m/s in air\n",
    "doppler(0,100,5000,1000,0,50,340) "
   ]
  },
  {
   "cell_type": "code",
   "execution_count": null,
   "metadata": {},
   "outputs": [],
   "source": [
    "# Source starting at x=0 moving at 50m/s to the left\n",
    "# The source is emitting a sound at a frequency of 2500Hz\n",
    "# The observer is 1000m away and is stationary (v_observer=0m/s)\n",
    "# We want the waves to reach the observer, so 25 seconds is a good duration\n",
    "# Sound travels at about 340m/s in air\n",
    "doppler(0,-50,2500,1000,0,25,340)"
   ]
  },
  {
   "cell_type": "code",
   "execution_count": null,
   "metadata": {},
   "outputs": [],
   "source": [
    "# Source starting at x=0 moving at 50m/s to the left\n",
    "# The source is emitting a sound at a frequency of 2500Hz\n",
    "# The observer is 1000m away and is stationary (v_observer=0m/s)\n",
    "# We want the waves to reach the observer, so 25 seconds is a good duration\n",
    "# Sound travels at about 340m/s in air\n",
    "doppler(0,-50,2500,1000,0,25,340)"
   ]
  },
  {
   "cell_type": "code",
   "execution_count": null,
   "metadata": {},
   "outputs": [],
   "source": []
  }
 ],
 "metadata": {
  "kernelspec": {
   "display_name": "Python 3",
   "language": "python",
   "name": "python3"
  },
  "language_info": {
   "codemirror_mode": {
    "name": "ipython",
    "version": 3
   },
   "file_extension": ".py",
   "mimetype": "text/x-python",
   "name": "python",
   "nbconvert_exporter": "python",
   "pygments_lexer": "ipython3",
   "version": "3.6.7"
  }
 },
 "nbformat": 4,
 "nbformat_minor": 2
}
