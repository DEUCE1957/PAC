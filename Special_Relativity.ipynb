{
 "cells": [
  {
   "cell_type": "markdown",
   "metadata": {},
   "source": [
    "## <a name = \"relativity\"> Tau Zero </a>\n",
    "<img src=\"https://upload.wikimedia.org/wikipedia/commons/7/7e/Xenon_ion_engine_prototype.png\" alt=\"Curious Engine\" width=20% style=\"padding:5px;float:left\">\n",
    "<br/>\n",
    "<p style=\"font-family:courier\">Your mad uncle takes you onboard a dingy old rustbucket. Before you step in you notice he's lobbed on a funny-looking engine to the back. It seems to be emitting a faint blue hue.</p> \n",
    "<pre style=\"font-family:courier\">Nevertheless, a niggling sense of curiosity spirs you forward into the depths of this \n",
    "strange craft. Before long your uncle exclaims, \n",
    "    \"So I think I've ironed out most of the kinks...\" \n",
    "As a small fire flares up beside him. Unperturbed he continues, while casually smothering the flame with his labcoat,</pre>\n",
    "<pre style=\"font-family:courier\">\n",
    "    \"So you better strap yourself in kid\". \n",
    "He pauses,\n",
    "    \"Also I hope you've caught up on those papers I gave you, it's quite critical!\"\n",
    "Before you get a chance to respond he yanks out a terminal from amid a slithery pile of cables. You lean \n",
    "over and see his fingers hastily pursue some unknown ambition:\n",
    "</pre>\n",
    "<code>import spaceship\n",
    "from engine import start\n",
    "leonora = spaceship.initialise()\n",
    "for component in leonora.parts:\n",
    "    check = component.run_diagnostics()\n",
    "    leonora.register_component(component,check)\n",
    "if len(leonora.parts) == len(leonora.valid_parts):\n",
    "    start()\n",
    "</code>\n",
    "<pre style=\"font-family:courier\">The blue hue roars into a plume and you find yourself thrown back with great force. Before long you've \n",
    "breached the atmosphere and are hurtling through the depths of space. Amid this rapid acceleration you hear your uncle murmur something about needing to pass through hydrogen rich nebulae...</pre>"
   ]
  },
  {
   "cell_type": "markdown",
   "metadata": {},
   "source": [
    "Thankfully for you, you're uncle isn't aware that you have access to your own machine - equipped with a state-of-the-art Python kernel. Use it wisely and you may just get out of this situation!\n",
    "\n",
    "Einstein's Theory of Special Relativity is founded on 2 postulates:\n",
    "1. The laws of physics are the same in all intertial reference frames\n",
    "2. The speed of light 'c' is constant\n",
    "Everything else follows.\n",
    "\n",
    "## A) Solving the Twin Paradox\n",
    "\n",
    "<img src=\"https://i.imgur.com/hu8h8VA.png\" alt=\"Diagram of Spaceship\" width=60% align=\"center\">\n",
    "\n",
    "As you are travelling away from Earth and reach the quiet void of interstellar space the ship ceases to accelerate and you enter a nice and comfortable cruising speed of 0.5c. You think back to the papers you read for your uncle and jump up from your seat...\n",
    "    Moving things experience time more slowly so, since your flying at a significant fraction of the speed of light, when you return (all going well) from your journey your friends back on Earth will expect you to be younger than them.\n",
    "    However from your reference frame the Earth is moving and you are static, so time will pass more slowly for your friends at home and you will be older than them.\n",
    "    \n",
    "How can you both be both younger and older as your friends at the same time? It seems we've stumbled across a paradox. To settle your nerves, you decide to take a crack at it by illustrating each situation seperately.\n",
    "\n",
    "Plot a Space-Time Diagram to describe this situation with the following constraints. With light years as units for your x-axis and years as units for your y-axis. You may assume that:\n",
    "1. The roundtrip takes 10 years (5 years there and then 5 years back)\n",
    "2. A speed of 0.5c \n",
    "3. Instantaneous acceleration from 0.5c to -0.5c (for the trip back)\n",
    "\n",
    "First sketch the situation from Earth's perspective, where the Earth is static and the rocket is moving away from it."
   ]
  },
  {
   "cell_type": "code",
   "execution_count": null,
   "metadata": {
    "scrolled": true
   },
   "outputs": [],
   "source": [
    "import matplotlib.pyplot as plt\n",
    "import numpy as np\n",
    "\n",
    "speed = 0.5\n",
    "t = np.arange(13)\n",
    "x = np.append(t[0:7]*0.5,t[5::-1]*0.5)\n",
    "plt.figure(figsize=(4,6))\n",
    "plt.plot(x,t)\n",
    "plt.xlabel('Light Years',fontsize=18)\n",
    "plt.ylabel('Years',fontsize=18)\n",
    "plt.xticks([0,1,2,3],fontsize=16)\n",
    "plt.yticks([0,2,4,6,8,10,12],fontsize=16)\n",
    "plt.show()"
   ]
  },
  {
   "cell_type": "markdown",
   "metadata": {},
   "source": [
    "From examining the diagram, how long would it take for the rocket to come back in the Earth's reference frame?\n",
    "\n",
    "$t'= \\frac{t}{\\sqrt{1-\\frac{v^2}{c^2}}}$"
   ]
  },
  {
   "cell_type": "markdown",
   "metadata": {},
   "source": [
    "* SpaceTime Diagram\n",
    "* Length Contraction\n"
   ]
  }
 ],
 "metadata": {
  "kernelspec": {
   "display_name": "Python 3",
   "language": "python",
   "name": "python3"
  },
  "language_info": {
   "codemirror_mode": {
    "name": "ipython",
    "version": 3
   },
   "file_extension": ".py",
   "mimetype": "text/x-python",
   "name": "python",
   "nbconvert_exporter": "python",
   "pygments_lexer": "ipython3",
   "version": "3.8.1"
  }
 },
 "nbformat": 4,
 "nbformat_minor": 2
}
