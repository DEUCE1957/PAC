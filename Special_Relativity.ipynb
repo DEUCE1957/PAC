{
 "cells": [
  {
   "cell_type": "markdown",
   "metadata": {},
   "source": [
    "## <a name = \"relativity\"> Tau Zero </a>\n",
    "<img src=\"https://upload.wikimedia.org/wikipedia/commons/7/7e/Xenon_ion_engine_prototype.png\" alt=\"Curious Engine\" width=20% style=\"padding:5px;float:left\">\n",
    "<br/>\n",
    "<p style=\"font-family:courier\">Your mad uncle takes you onboard a dingy old rustbucket. Before you step in you notice he's lobbed on a funny-looking engine to the back. It seems to be emitting a faint blue hue.</p> \n",
    "<pre style=\"font-family:courier\">Nevertheless, a niggling sense of curiosity spirs you forward into the depths of this \n",
    "strange craft. Before long your uncle exclaims, \n",
    "    \"So I think I've ironed out most of the kinks...\" \n",
    "As a small fire flares up beside him. Unperturbed he continues, while casually smothering the flame with his labcoat,</pre>\n",
    "<pre style=\"font-family:courier\">\n",
    "    \"So you better strap yourself in kid\". \n",
    "He pauses,\n",
    "    \"Also I hope you've caught up on those papers I gave you, it's quite critical!\"\n",
    "Before you get a chance to respond he yanks out a terminal from amid a slithery pile of cables. You lean \n",
    "over and see his fingers hastily pursue some unknown ambition:\n",
    "</pre>\n",
    "<code>import spaceship\n",
    "from engine import start\n",
    "leonora = spaceship.initialise()\n",
    "for component in leonora.parts:\n",
    "    check = component.run_diagnostics()\n",
    "    leonora.register_component(component,check)\n",
    "if len(leonora.parts) == len(leonora.valid_parts):\n",
    "    start()\n",
    "</code>\n",
    "<pre style=\"font-family:courier\">The blue hue roars into a plume and you find yourself thrown back with great force. Before long you've breached the atmosphere and are hurtling through the depths of space. Amid this rapid acceleration you hear your uncle murmur something about needing to pass through hydrogen rich nebulae.</pre>"
   ]
  },
  {
   "cell_type": "code",
   "execution_count": null,
   "metadata": {},
   "outputs": [],
   "source": []
  }
 ],
 "metadata": {
  "kernelspec": {
   "display_name": "Python 3",
   "language": "python",
   "name": "python3"
  },
  "language_info": {
   "codemirror_mode": {
    "name": "ipython",
    "version": 3
   },
   "file_extension": ".py",
   "mimetype": "text/x-python",
   "name": "python",
   "nbconvert_exporter": "python",
   "pygments_lexer": "ipython3",
   "version": "3.8.1"
  }
 },
 "nbformat": 4,
 "nbformat_minor": 2
}
