{
 "cells": [
  {
   "cell_type": "markdown",
   "metadata": {},
   "source": [
    "## Multidimensional arrays with numpy\n",
    "\n",
    "In this example we'll introduce the numpy array system. This is a very powerful and fast extension of basic Python lists, for handling of large, multidimensional, numerical data of the sort that physicists use all the time."
   ]
  },
  {
   "cell_type": "markdown",
   "metadata": {},
   "source": [
    "Numpy is automatically loaded as part of our usual `import pylab as pl` module import, but for this exercise let's be more explicit and load numpy by itself (this is what happens *inside* pylab):"
   ]
  },
  {
   "cell_type": "code",
   "execution_count": 3,
   "metadata": {},
   "outputs": [],
   "source": [
    "import numpy as np"
   ]
  },
  {
   "cell_type": "markdown",
   "metadata": {},
   "source": [
    "### Creating arrays and matrices"
   ]
  },
  {
   "cell_type": "markdown",
   "metadata": {},
   "source": [
    "Now let's create a 2D array, by passing a Python list-of-lists to the `np.array` constructor function:"
   ]
  },
  {
   "cell_type": "code",
   "execution_count": 4,
   "metadata": {},
   "outputs": [
    {
     "name": "stdout",
     "output_type": "stream",
     "text": [
      "[[1 2 3]\n",
      " [4 5 6]]\n"
     ]
    },
    {
     "data": {
      "text/plain": [
       "(2, 3)"
      ]
     },
     "execution_count": 4,
     "metadata": {},
     "output_type": "execute_result"
    }
   ],
   "source": [
    "a = np.array([[1,2,3],[4,5,6]])\n",
    "print(a)\n",
    "a.shape"
   ]
  },
  {
   "cell_type": "markdown",
   "metadata": {},
   "source": [
    "This is a 2x3 matrix, so presumably we can do matrixy things with it, like transposing?"
   ]
  },
  {
   "cell_type": "code",
   "execution_count": 9,
   "metadata": {},
   "outputs": [
    {
     "name": "stdout",
     "output_type": "stream",
     "text": [
      "[[1 4]\n",
      " [2 5]\n",
      " [3 6]]\n"
     ]
    },
    {
     "data": {
      "text/plain": [
       "(3, 2)"
      ]
     },
     "execution_count": 9,
     "metadata": {},
     "output_type": "execute_result"
    }
   ],
   "source": [
    "print(a.T)\n",
    "a.T.shape"
   ]
  },
  {
   "cell_type": "markdown",
   "metadata": {},
   "source": [
    "Yes, that gave us a 3x2 as expected. And multiplying by a scalar?"
   ]
  },
  {
   "cell_type": "code",
   "execution_count": 5,
   "metadata": {},
   "outputs": [
    {
     "data": {
      "text/plain": [
       "array([[ 5, 10, 15],\n",
       "       [20, 25, 30]])"
      ]
     },
     "execution_count": 5,
     "metadata": {},
     "output_type": "execute_result"
    }
   ],
   "source": [
    "5 * a"
   ]
  },
  {
   "cell_type": "markdown",
   "metadata": {},
   "source": [
    "Hurrah!\n",
    "\n",
    "### Matrix multiplication\n",
    "\n",
    "Ok, let's make another matrix (this time using the `np.ones` function, which makes a matrix full of 1 values, with the given shape), and multiply them together:"
   ]
  },
  {
   "cell_type": "code",
   "execution_count": 11,
   "metadata": {},
   "outputs": [
    {
     "name": "stdout",
     "output_type": "stream",
     "text": [
      "[[ 2.  2.  2.]\n",
      " [ 2.  2.  2.]]\n"
     ]
    },
    {
     "ename": "ValueError",
     "evalue": "operands could not be broadcast together with shapes (2,3) (3,2) ",
     "output_type": "error",
     "traceback": [
      "\u001b[0;31m---------------------------------------------------------------------------\u001b[0m",
      "\u001b[0;31mValueError\u001b[0m                                Traceback (most recent call last)",
      "\u001b[0;32m<ipython-input-11-bd55459df3e7>\u001b[0m in \u001b[0;36m<module>\u001b[0;34m()\u001b[0m\n\u001b[1;32m      1\u001b[0m \u001b[0mb\u001b[0m \u001b[0;34m=\u001b[0m \u001b[0;36m2\u001b[0m \u001b[0;34m*\u001b[0m \u001b[0mnp\u001b[0m\u001b[0;34m.\u001b[0m\u001b[0mones\u001b[0m\u001b[0;34m(\u001b[0m\u001b[0;34m[\u001b[0m\u001b[0;36m2\u001b[0m\u001b[0;34m,\u001b[0m\u001b[0;36m3\u001b[0m\u001b[0;34m]\u001b[0m\u001b[0;34m)\u001b[0m\u001b[0;34m\u001b[0m\u001b[0m\n\u001b[1;32m      2\u001b[0m \u001b[0mprint\u001b[0m\u001b[0;34m(\u001b[0m\u001b[0mb\u001b[0m\u001b[0;34m)\u001b[0m\u001b[0;34m\u001b[0m\u001b[0m\n\u001b[0;32m----> 3\u001b[0;31m \u001b[0ma\u001b[0m \u001b[0;34m*\u001b[0m \u001b[0mb\u001b[0m\u001b[0;34m.\u001b[0m\u001b[0mT\u001b[0m\u001b[0;34m\u001b[0m\u001b[0m\n\u001b[0m",
      "\u001b[0;31mValueError\u001b[0m: operands could not be broadcast together with shapes (2,3) (3,2) "
     ]
    }
   ],
   "source": [
    "b = 2 * np.ones([2,3])\n",
    "print(b)\n",
    "a * b.T"
   ]
  },
  {
   "cell_type": "markdown",
   "metadata": {},
   "source": [
    "What happened?! I tried to multiply a 2x3 matrix with a 3x2 matrix: that should have worked, right?\n",
    "\n",
    "An important thing to be aware of is that numpy's default multiply operator is element-wise, not linear-algebra multiplication. So this is complaining because element-wise multiplication fails if the two arrays are not the same shape. If you want to do \"normal\" matrix multiplication, you need to use the numpy `matmul` function.\n",
    "\n",
    "Let's see how matrix addition, element-wise multiplication, and linear-algebra multiplication work with our arrays: "
   ]
  },
  {
   "cell_type": "code",
   "execution_count": 19,
   "metadata": {},
   "outputs": [
    {
     "name": "stdout",
     "output_type": "stream",
     "text": [
      "[[ 3.  4.  5.]\n",
      " [ 6.  7.  8.]]\n",
      "[[  2.   4.   6.]\n",
      " [  8.  10.  12.]]\n",
      "[[ 12.  12.]\n",
      " [ 30.  30.]]\n"
     ]
    }
   ],
   "source": [
    "print(a + b)\n",
    "print(a * b)\n",
    "print(np.matmul(a,b.T))"
   ]
  },
  {
   "cell_type": "markdown",
   "metadata": {},
   "source": [
    "### Indexing and slicing"
   ]
  },
  {
   "cell_type": "markdown",
   "metadata": {},
   "source": [
    "Now for a very powerful numpy feature: *selection and slicing* of arrays. This may be familiar to you from simple Python lists, but numpy can handle arrays of any dimensionality and allows you to both select elements along each dimension, and to reduce the dimension.\n",
    "\n",
    "Let's make a 3D array for this, filled with random values:"
   ]
  },
  {
   "cell_type": "code",
   "execution_count": 21,
   "metadata": {},
   "outputs": [
    {
     "name": "stdout",
     "output_type": "stream",
     "text": [
      "[[[ 0.55883962  0.27399886  0.13089367]\n",
      "  [ 0.62924377  0.79254366  0.44239827]\n",
      "  [ 0.29282705  0.7963434   0.21239824]]\n",
      "\n",
      " [[ 0.56872608  0.73532074  0.07852019]\n",
      "  [ 0.24003302  0.87482845  0.584218  ]\n",
      "  [ 0.40533184  0.74168804  0.51498622]]\n",
      "\n",
      " [[ 0.54552254  0.10854666  0.62715629]\n",
      "  [ 0.29741373  0.97290016  0.21471381]\n",
      "  [ 0.21375278  0.73402014  0.48545872]]]\n"
     ]
    }
   ],
   "source": [
    "c = np.random.rand(3,3,3)\n",
    "print(c)"
   ]
  },
  {
   "cell_type": "markdown",
   "metadata": {},
   "source": [
    "If you look closely, you'll see that there are three sets of outer square brackets, and that this looks like three stacked 2D matrices: so this is a 3D array.\n",
    "\n",
    "First, let's just pick out the 1D array for which the first and third dimension indices are 0:"
   ]
  },
  {
   "cell_type": "code",
   "execution_count": 22,
   "metadata": {},
   "outputs": [
    {
     "data": {
      "text/plain": [
       "array([ 0.55883962,  0.62924377,  0.29282705])"
      ]
     },
     "execution_count": 22,
     "metadata": {},
     "output_type": "execute_result"
    }
   ],
   "source": [
    "c[0,:,0]"
   ]
  },
  {
   "cell_type": "markdown",
   "metadata": {},
   "source": [
    "Here, the square brackets are used for indexing as with simply Python arrays, but the indexing can be multidimensional with each dimension's indexing separated by a comma. The `:` without index numbers around it means \"select all elements in this direction\", which is much more convenient than writing `0:-1`.\n",
    "\n",
    "Note that here numpy has automatically reshaped the array to be one-dimensional, since our slicing reduced the first and third dimensions to only having one index each.\n",
    "\n",
    "Now, how about I allow the dimension indices to be 0 or 1 in the third dimension?"
   ]
  },
  {
   "cell_type": "code",
   "execution_count": 24,
   "metadata": {},
   "outputs": [
    {
     "name": "stdout",
     "output_type": "stream",
     "text": [
      "[[ 0.55883962  0.27399886]\n",
      " [ 0.62924377  0.79254366]\n",
      " [ 0.29282705  0.7963434 ]]\n"
     ]
    }
   ],
   "source": [
    "d = c[0,:,0:2]\n",
    "print(d)"
   ]
  },
  {
   "cell_type": "markdown",
   "metadata": {},
   "source": [
    "Cool. Numpy has now worked out that this is a 2D array (with two indices in the third dimension), and has reshaped accordingly."
   ]
  },
  {
   "cell_type": "markdown",
   "metadata": {},
   "source": [
    "### Logical indexing"
   ]
  },
  {
   "cell_type": "markdown",
   "metadata": {},
   "source": [
    "Time for one last demo in this short tutorial: logical indexing. You can use logical operations to identify and select elements:"
   ]
  },
  {
   "cell_type": "code",
   "execution_count": 28,
   "metadata": {},
   "outputs": [
    {
     "name": "stdout",
     "output_type": "stream",
     "text": [
      "[[ True False]\n",
      " [ True  True]\n",
      " [False  True]]\n",
      "[ 0.55883962  0.62924377  0.79254366  0.7963434 ]\n"
     ]
    }
   ],
   "source": [
    "print(d > 0.5)\n",
    "print(d[d > 0.5])"
   ]
  },
  {
   "cell_type": "markdown",
   "metadata": {},
   "source": [
    "Thanks for following this brief introduction to numpy array basics. You should now be able to create (multidimensional) arrays and manipulate them, which is the core skill of both data processing and linear algebra.\n",
    "\n",
    "Of course there is much more to numpy, not least a large library of functions that can operate on arrays for computing statistics, linear algebra, curve-fitting, optimisation, Fourier transforms, and much more. You will find documentation at the numpy website, e.g. https://docs.scipy.org/doc/numpy/reference/index.html . And there is even more, higher-level scientific functionality in the partner SciPy library."
   ]
  }
 ],
 "metadata": {
  "kernelspec": {
   "display_name": "Python 3",
   "language": "python",
   "name": "python3"
  },
  "language_info": {
   "codemirror_mode": {
    "name": "ipython",
    "version": 3
   },
   "file_extension": ".py",
   "mimetype": "text/x-python",
   "name": "python",
   "nbconvert_exporter": "python",
   "pygments_lexer": "ipython3",
   "version": "3.4.8"
  }
 },
 "nbformat": 4,
 "nbformat_minor": 2
}
